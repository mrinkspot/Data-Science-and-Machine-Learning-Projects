{
  "cells": [
    {
      "cell_type": "code",
      "execution_count": null,
      "metadata": {
        "id": "2c05KJtZQ0fn"
      },
      "outputs": [],
      "source": [
        "import numpy as np \n",
        "import pandas as pd\n",
        "import matplotlib.pyplot as plt\n",
        "import seaborn as sns\n",
        "\n",
        "#modelos y métricas\n",
        "# import sklearn as sk\n",
        "from sklearn.model_selection import train_test_split\n",
        "from sklearn.metrics import precision_score, recall_score, accuracy_score,f1_score#, precision_recall_curve, roc_curve,\n",
        "from sklearn.metrics import confusion_matrix, classification_report\n",
        "from sklearn import tree\n",
        "# preprocesamiento\n",
        "from sklearn.preprocessing import MinMaxScaler\n",
        "\n",
        "#configuración warnings\n",
        "import warnings\n",
        "warnings.simplefilter(action='ignore', category=FutureWarning)\n",
        "warnings.simplefilter(action='ignore', category=UserWarning)"
      ]
    },
    {
      "cell_type": "markdown",
      "metadata": {
        "id": "BNxK0W_NQ0fq"
      },
      "source": [
        "Creamos una copia del dataset para comenzar a trabajar."
      ]
    },
    {
      "cell_type": "code",
      "execution_count": null,
      "metadata": {
        "id": "y3V0S9FQQ0fs",
        "colab": {
          "base_uri": "https://localhost:8080/"
        },
        "outputId": "62e06a0b-6df9-424f-cba4-2c3070714d3f"
      },
      "outputs": [
        {
          "output_type": "stream",
          "name": "stderr",
          "text": [
            "<ipython-input-5-ca33618eff3f>:1: DtypeWarning: Columns (23) have mixed types. Specify dtype option on import or set low_memory=False.\n",
            "  ds_hotel=pd.read_csv('./hotels_train_filtrado2.csv')\n"
          ]
        }
      ],
      "source": [
        "ds_hotel=pd.read_csv('./hotels_train_filtrado2.csv')\n",
        "ds_trabajo = ds_hotel.copy()"
      ]
    },
    {
      "cell_type": "markdown",
      "metadata": {
        "id": "LIBjx8EUQ0fs"
      },
      "source": [
        "Para la detección de outliers en nuestro dataset, vamos a comenzar realizando un análisis univariado para cada una de sus columnas y decidiremos qué tratamiento darles a aquellos valores atípicos que encontremos."
      ]
    },
    {
      "cell_type": "code",
      "execution_count": null,
      "metadata": {
        "colab": {
          "base_uri": "https://localhost:8080/"
        },
        "id": "8JhMugcMQ0ft",
        "outputId": "61693407-b289-4466-ff25-5b8f019fe51f"
      },
      "outputs": [
        {
          "output_type": "execute_result",
          "data": {
            "text/plain": [
              "['hotel',\n",
              " 'lead_time',\n",
              " 'stays_in_weekend_nights',\n",
              " 'stays_in_week_nights',\n",
              " 'market_segment',\n",
              " 'distribution_channel',\n",
              " 'is_repeated_guest',\n",
              " 'previous_cancellations',\n",
              " 'previous_bookings_not_canceled',\n",
              " 'booking_changes',\n",
              " 'deposit_type',\n",
              " 'customer_type',\n",
              " 'adr',\n",
              " 'total_of_special_requests',\n",
              " 'reservation_status_date',\n",
              " 'id',\n",
              " 'is_canceled',\n",
              " 'arrival_date',\n",
              " 'region',\n",
              " 'agent_specified',\n",
              " 'total_guests',\n",
              " 'more_than_zero_days_in_waiting_list',\n",
              " 'season',\n",
              " 'room_type_match']"
            ]
          },
          "metadata": {},
          "execution_count": 6
        }
      ],
      "source": [
        "ds_trabajo.columns.to_list()"
      ]
    },
    {
      "cell_type": "markdown",
      "metadata": {
        "id": "KOQrO964Q0fu"
      },
      "source": [
        "En la notebook_1, analizamos las distribuciones de todas estas columnas y ya observamos que algunas de ellas no presentaban valores atípicos:\n",
        "- `hotel` no presenta valores atípicos. Analizamos anteriormente su distribución mediante un gráfico de torta y observamos que sus dos categorías presentan porcentajes considerables (siendo estos 68% y 32%)\n",
        "- `season` no presenta valores atípicos. Vimos en un barplot anteriormente que todas las categorías tienen frecuencias considerables\n",
        "- `is_repeated_guest`, `is_canceled`, `agent_specified`, `more_than_zero_days_in_waiting_list`, `room_type_match` son booleanas y no presentan valores atípicos"
      ]
    },
    {
      "cell_type": "markdown",
      "metadata": {
        "id": "XjoBAG3oQ0fv"
      },
      "source": [
        "En el caso de `lead_time`, habíamos analizado su distribución mediante un boxplot y presentaba outliers."
      ]
    },
    {
      "cell_type": "code",
      "execution_count": null,
      "metadata": {
        "id": "7S_n68APQ0fv",
        "outputId": "744b65a6-318a-4c4a-fdaa-7b540acfab58",
        "colab": {
          "base_uri": "https://localhost:8080/",
          "height": 472
        }
      },
      "outputs": [
        {
          "output_type": "display_data",
          "data": {
            "text/plain": [
              "<Figure size 640x480 with 1 Axes>"
            ],
            "image/png": "[encoded data removed]"
          },
          "metadata": {}
        }
      ],
      "source": [
        "sns.boxplot(x=ds_trabajo[\"lead_time\"])\n",
        "plt.xticks(range(0, 22, 2))\n",
        "plt.xlabel('Antelación de la Reserva en Meses')\n",
        "plt.ylabel('Frecuencia')\n",
        "plt.title('Distribución de la antelación en meses con la cual se hace una Reserva')\n",
        "plt.show()"
      ]
    },
    {
      "cell_type": "code",
      "execution_count": null,
      "metadata": {
        "id": "6XgsS2x3Q0fw",
        "outputId": "5d5be0b5-2a01-4cd5-ef22-7f38275224ea",
        "colab": {
          "base_uri": "https://localhost:8080/"
        }
      },
      "outputs": [
        {
          "output_type": "stream",
          "name": "stdout",
          "text": [
            "-6.683333333333334\n",
            "13.183333333333334\n"
          ]
        }
      ],
      "source": [
        "#Cuartiles\n",
        "Q1_lead_time=np.quantile(ds_trabajo.lead_time,0.25)\n",
        "Q3_lead_time=np.quantile(ds_trabajo.lead_time,0.75)\n",
        "\n",
        "#Rango intercuartil\n",
        "IQR_lead_time=Q3_lead_time-Q1_lead_time\n",
        "\n",
        "#Limite inferior Outliers\n",
        "out_inf=Q1_lead_time-1.5*IQR_lead_time\n",
        "out_sup=Q3_lead_time+1.5*IQR_lead_time\n",
        "print(out_inf)\n",
        "print(out_sup)"
      ]
    },
    {
      "cell_type": "markdown",
      "metadata": {
        "id": "SFi_K3qqQ0fx"
      },
      "source": [
        "Vamos a ver cuántos valores están 1.5 veces por debajo y por encima del IQR para `lead_time`."
      ]
    },
    {
      "cell_type": "code",
      "execution_count": null,
      "metadata": {
        "id": "JqNCW_3xQ0fx",
        "outputId": "299cb078-4b76-4d94-c49c-fb1643c23651",
        "colab": {
          "base_uri": "https://localhost:8080/"
        }
      },
      "outputs": [
        {
          "output_type": "stream",
          "name": "stdout",
          "text": [
            "Outliers inferiores: 0\n",
            "Outliers superiores: 968\n"
          ]
        }
      ],
      "source": [
        "outliers_inf = ds_trabajo[ds_trabajo['lead_time'] < out_inf]\n",
        "print(\"Outliers inferiores:\",outliers_inf[\"lead_time\"].count())\n",
        "outliers_sup = ds_trabajo[ds_trabajo['lead_time'] > out_sup]\n",
        "print(\"Outliers superiores:\",outliers_sup[\"lead_time\"].count())"
      ]
    },
    {
      "cell_type": "markdown",
      "metadata": {
        "id": "ntY2pR4lQ0fx"
      },
      "source": [
        "No tenemos negativos en esta columna al tratarse de una cantidad de meses, (ya habíamos hecho este análisis), por lo tanto no tendremos outliers por este lado. En cuanto a los outliers superiores, es una cantidad reducida de registros. Sin embargo, creemos que el tiempo de antelación con el cual se realiza una reserva puede ser un factor importante para determinar una cancelación. Además, en la notebook_1 habíamos hecho un scatter plot de `lead_time` junto con `is_canceled` y notamos que a partir de los 10 meses se cancelaba con mayor frecuencia. Por lo tanto vamos a conservar estos outliers."
      ]
    },
    {
      "cell_type": "markdown",
      "metadata": {
        "id": "RXZEGvmJQ0fx"
      },
      "source": [
        "En cuanto a `stays_in_weekend_nights` vemos en un boxplot que tenemos algunos valores atípicos."
      ]
    },
    {
      "cell_type": "code",
      "execution_count": null,
      "metadata": {
        "id": "XMvxCySFQ0fy",
        "outputId": "9cd3229c-8f55-405d-9ec3-dccd5ed8ae78",
        "colab": {
          "base_uri": "https://localhost:8080/",
          "height": 472
        }
      },
      "outputs": [
        {
          "output_type": "display_data",
          "data": {
            "text/plain": [
              "<Figure size 640x480 with 1 Axes>"
            ],
            "image/png": "[encoded data removed]"
          },
          "metadata": {}
        }
      ],
      "source": [
        "sns.boxplot(x=ds_trabajo[\"stays_in_weekend_nights\"])\n",
        "plt.xlabel('Noches de fin de semana reservadas')\n",
        "plt.ylabel('Frecuencia')\n",
        "plt.title('Distribución de la cantidad de Noches de fin de semana reservadas')\n",
        "plt.show()"
      ]
    },
    {
      "cell_type": "code",
      "execution_count": null,
      "metadata": {
        "id": "pCwn_zanQ0fy",
        "outputId": "0fa24b4f-3255-44b3-a9dc-8e58d8831641",
        "colab": {
          "base_uri": "https://localhost:8080/"
        }
      },
      "outputs": [
        {
          "output_type": "stream",
          "name": "stdout",
          "text": [
            "-3.0\n",
            "5.0\n"
          ]
        }
      ],
      "source": [
        "#Cuartiles\n",
        "Q1_stays_in_weekend_nights=np.quantile(ds_trabajo.stays_in_weekend_nights,0.25)\n",
        "Q3_stays_in_weekend_nights=np.quantile(ds_trabajo.stays_in_weekend_nights,0.75)\n",
        "\n",
        "#Rango intercuartil\n",
        "IQR_stays_in_weekend_nights=Q3_stays_in_weekend_nights-Q1_stays_in_weekend_nights\n",
        "\n",
        "#Limite inferior Outliers\n",
        "out_inf=Q1_stays_in_weekend_nights-1.5*IQR_stays_in_weekend_nights\n",
        "out_sup=Q3_stays_in_weekend_nights+1.5*IQR_stays_in_weekend_nights\n",
        "print(out_inf)\n",
        "print(out_sup)"
      ]
    },
    {
      "cell_type": "markdown",
      "metadata": {
        "id": "62PlDzU3Q0fy"
      },
      "source": [
        "Esta columna tampoco tiene outliers inferiores (es una cantidad), pero sí tiene algunos pocos superiores. Vamos a analizar la relación de aquellos registros con el target `is_canceled`."
      ]
    },
    {
      "cell_type": "code",
      "execution_count": null,
      "metadata": {
        "id": "cIUhZE1ZQ0fz",
        "outputId": "69a9dafa-dbec-4446-a772-f88a338599c9",
        "colab": {
          "base_uri": "https://localhost:8080/"
        }
      },
      "outputs": [
        {
          "output_type": "stream",
          "name": "stdout",
          "text": [
            "Outliers inferiores: 0\n",
            "Outliers superiores: 98\n"
          ]
        }
      ],
      "source": [
        "outliers_inf = ds_trabajo[ds_trabajo['stays_in_weekend_nights'] < out_inf]\n",
        "print(\"Outliers inferiores:\", outliers_inf[\"stays_in_weekend_nights\"].count())\n",
        "\n",
        "outliers_sup = ds_trabajo[ds_trabajo['stays_in_weekend_nights'] > out_sup]\n",
        "print(\"Outliers superiores:\", outliers_sup[\"stays_in_weekend_nights\"].count())"
      ]
    },
    {
      "cell_type": "code",
      "execution_count": null,
      "metadata": {
        "id": "5iNIMQQPQ0fz",
        "outputId": "795a39f3-1918-4098-f774-7be605518d5f",
        "colab": {
          "base_uri": "https://localhost:8080/"
        }
      },
      "outputs": [
        {
          "output_type": "execute_result",
          "data": {
            "text/plain": [
              "0        2016-09-05\n",
              "1        2015-10-31\n",
              "2        2016-10-13\n",
              "3        2016-12-12\n",
              "4        2017-03-19\n",
              "            ...    \n",
              "43088    2017-02-08\n",
              "43089    2016-04-09\n",
              "43090    2016-04-15\n",
              "43091    2016-08-02\n",
              "43092           NaN\n",
              "Name: arrival_date, Length: 43093, dtype: object"
            ]
          },
          "metadata": {},
          "execution_count": 13
        }
      ],
      "source": [
        "ds_trabajo['arrival_date']\n",
        "# q1 = ds_trabajo['reservation_status_date'].quantile(0.25)\n",
        "# q3 = ds_trabajo['reservation_status_date'].quantile(0.75)\n",
        "# iqr = q3 - q1\n",
        "# upper_bound = q3 + (1.5 * iqr)\n",
        "# lower_bound = q1 - (1.5 * iqr)\n",
        "# outliers = ds_trabajo[(ds_trabajo['reservation_status_date'] < lower_bound) | (ds_trabajo['reservation_status_date'] > upper_bound)]\n",
        "# outliers\n",
        "# # Creación del gráfico\n",
        "# ax = sns.displot(ds_trabajo['reservation_status_date'], kde=True)\n",
        "# ax = sns.scatterplot(data=outliers, x='reservation_status_date', y=[0]*len(outliers), color='red', marker='x', s=100)\n",
        "# ax.set(xlabel='Fecha', title='Distribución de Fechas con Outliers')\n",
        "\n",
        "# plt.show()\n"
      ]
    },
    {
      "cell_type": "markdown",
      "metadata": {
        "id": "FZB0i3tMQ0fz"
      },
      "source": [
        "Observamos que, si bien son pocos registros, cuando se reservan más de 5 noches de fin de semana hay una tendencia marcada a cancelar la reserva. Por este motivo, vamos a conservar estos outliers."
      ]
    },
    {
      "cell_type": "code",
      "execution_count": null,
      "metadata": {
        "id": "qV6q7FScQ0fz",
        "outputId": "e0820e33-0972-4a41-88fe-ea0448077b07",
        "colab": {
          "base_uri": "https://localhost:8080/",
          "height": 472
        }
      },
      "outputs": [
        {
          "output_type": "display_data",
          "data": {
            "text/plain": [
              "<Figure size 640x480 with 1 Axes>"
            ],
            "image/png": "[encoded data removed]"
          },
          "metadata": {}
        }
      ],
      "source": [
        "df = ds_trabajo.loc[ds_trabajo['stays_in_weekend_nights'] > 5]\n",
        "grafico = sns.countplot(x=df['stays_in_weekend_nights'], hue='is_canceled', data=ds_trabajo)\n",
        "\n",
        "plt.xlabel('Cantidad de Noches de Fin de Semana mayores a 5 Reservadas')\n",
        "plt.ylabel('Frecuencia')\n",
        "plt.title(\"Distribución de Cantidad de Noches de Fin de Semana mayores a 5 Reservadas según cancelación\")\n",
        "\n",
        "plt.show()"
      ]
    },
    {
      "cell_type": "markdown",
      "metadata": {
        "id": "yMvM2wyzQ0f0"
      },
      "source": [
        "En cuanto a `stays_in_week_nights`, sucede algo similar a `stays_in_weekend_nights`. Tenemos algunos valores atípicos superiores."
      ]
    },
    {
      "cell_type": "code",
      "execution_count": null,
      "metadata": {
        "id": "IzdRl-XtQ0f0",
        "outputId": "f94f3475-48c3-497e-f114-eb6db8fd755d",
        "colab": {
          "base_uri": "https://localhost:8080/",
          "height": 472
        }
      },
      "outputs": [
        {
          "output_type": "display_data",
          "data": {
            "text/plain": [
              "<Figure size 640x480 with 1 Axes>"
            ],
            "image/png": "[encoded data removed]"
          },
          "metadata": {}
        }
      ],
      "source": [
        "sns.boxplot(x=ds_trabajo[\"stays_in_week_nights\"])\n",
        "plt.xlabel('Noches de semana reservadas')\n",
        "plt.ylabel('Frecuencia')\n",
        "plt.title('Distribución de la cantidad de Noches de semana reservadas')\n",
        "plt.show()"
      ]
    },
    {
      "cell_type": "code",
      "execution_count": null,
      "metadata": {
        "id": "2nGpuaHSQ0f0",
        "outputId": "7c6c05c8-30ae-47a4-b45b-bea2aebc2f57",
        "colab": {
          "base_uri": "https://localhost:8080/"
        }
      },
      "outputs": [
        {
          "output_type": "stream",
          "name": "stdout",
          "text": [
            "-2.0\n",
            "6.0\n"
          ]
        }
      ],
      "source": [
        "#Cuartiles\n",
        "Q1_stays_in_week_nights=np.quantile(ds_trabajo.stays_in_week_nights,0.25)\n",
        "Q3_stays_in_week_nights=np.quantile(ds_trabajo.stays_in_week_nights,0.75)\n",
        "\n",
        "#Rango intercuartil\n",
        "IQR_stays_in_week_nights=Q3_stays_in_week_nights-Q1_stays_in_week_nights\n",
        "\n",
        "#Limite inferior Outliers\n",
        "out_inf=Q1_stays_in_week_nights-1.5*IQR_stays_in_week_nights\n",
        "out_sup=Q3_stays_in_week_nights+1.5*IQR_stays_in_week_nights\n",
        "print(out_inf)\n",
        "print(out_sup)"
      ]
    },
    {
      "cell_type": "code",
      "execution_count": null,
      "metadata": {
        "id": "RVaKQNFeQ0f0",
        "outputId": "1b226953-fdf6-40ab-80d7-5cb713314443",
        "colab": {
          "base_uri": "https://localhost:8080/"
        }
      },
      "outputs": [
        {
          "output_type": "stream",
          "name": "stdout",
          "text": [
            "Outliers inferiores: 0\n",
            "Outliers superiores: 1203\n"
          ]
        }
      ],
      "source": [
        "outliers_inf = ds_trabajo[ds_trabajo['stays_in_week_nights'] < out_inf]\n",
        "print(\"Outliers inferiores:\", outliers_inf[\"stays_in_week_nights\"].count())\n",
        "\n",
        "outliers_sup = ds_trabajo[ds_trabajo['stays_in_week_nights'] > out_sup]\n",
        "print(\"Outliers superiores:\",outliers_sup[\"stays_in_week_nights\"].count())"
      ]
    },
    {
      "cell_type": "markdown",
      "metadata": {
        "id": "WRrn6oRSQ0f0"
      },
      "source": [
        "Si bien son pocos outliers superiores, creemos que hay una variabilidad respecto al target `is_canceled` para estos registros. Por otro lado, creemos que podemos obtener información haciendo un análisis multivariado de `stays_in_week_nights`, `stays_in_weekend_nights` (ambas están correlacionadas) y el target `is_canceled`. TODO"
      ]
    },
    {
      "cell_type": "code",
      "execution_count": null,
      "metadata": {
        "id": "pSJ0rOw4Q0f1"
      },
      "outputs": [],
      "source": [
        "#Calulo el vector de medias\n",
        "vmedias=np.mean(ds_trabajo[['stays_in_week_nights','stays_in_weekend_nights']])\n",
        "\n",
        "#Calculo la diferencia entre las observaciones y el vector de medias\n",
        "x_dif = ds_trabajo[['stays_in_week_nights','stays_in_weekend_nights']] - vmedias\n",
        "\n",
        "#Calculo matriz de covarianza y su inversa\n",
        "cov=ds_trabajo[['stays_in_week_nights','stays_in_weekend_nights']].cov().values\n",
        "inv_cov = np.linalg.inv(cov)\n",
        "\n",
        "#Calculamos el cuadrado de la distancia de mahalanobis\n",
        "mahal =np.dot( np.dot(x_dif, inv_cov) , x_dif.T)\n",
        "\n",
        "ds_trabajo['mahalanobis']=mahal.diagonal()"
      ]
    },
    {
      "cell_type": "code",
      "execution_count": null,
      "metadata": {
        "id": "oG4GFBsLQ0f1"
      },
      "outputs": [],
      "source": [
        "sns.boxplot(y=ds_trabajo.mahalanobis)"
      ]
    },
    {
      "cell_type": "markdown",
      "metadata": {
        "id": "JkRg_SeeQ0f1"
      },
      "source": [
        "Tomamos un umbral de 95."
      ]
    },
    {
      "cell_type": "code",
      "execution_count": null,
      "metadata": {
        "id": "BZ62Ckk2Q0f1"
      },
      "outputs": [],
      "source": [
        "umbral=95\n",
        "\n",
        "#Observaciones anómalas\n",
        "ds_trabajo[ds_trabajo['mahalanobis']>umbral]"
      ]
    },
    {
      "cell_type": "markdown",
      "metadata": {
        "id": "CCPBRxl_Q0f1"
      },
      "source": [
        "Vemos que hay 46 registros outliers según Mahalanobis. Los vamos a visualizar en un scatter plot."
      ]
    },
    {
      "cell_type": "code",
      "execution_count": null,
      "metadata": {
        "id": "-al8fEMuQ0f1"
      },
      "outputs": [],
      "source": [
        "#Grafico scatter\n",
        "es_outlier = (ds_trabajo['mahalanobis'] > umbral)\n",
        "\n",
        "sns.scatterplot(x=ds_trabajo.stays_in_week_nights,y=ds_trabajo.stays_in_weekend_nights, hue=es_outlier)\n",
        "plt.legend(bbox_to_anchor=(1.05, 1), loc='upper left', borderaxespad=0, title=\"Outlier\")\n",
        "plt.title('Dispersograma stays_in_week_nights vs stays_in_weekend_nights')\n",
        "plt.show()\n",
        "\n",
        "ds_trabajo = ds_trabajo.drop('mahalanobis',axis=1)"
      ]
    },
    {
      "cell_type": "markdown",
      "metadata": {
        "id": "GQCRXqzQQ0f2"
      },
      "source": [
        "Viendo este gráfico observamos nuevamente que ambas variables están correlacionadas. Hay muy pocos outliers a partir de aproximadamente las 20 noches de semana reservadas.  Si bien son outliers porque no tienen una distribución similar a la regular, la tendencia es la misma: entre más noches de semana se reservan, más noches de fin de semana, lo cual parece lógico.\n",
        "Veremos su relación con el target."
      ]
    },
    {
      "cell_type": "code",
      "execution_count": null,
      "metadata": {
        "id": "F5OurqjrQ0f2"
      },
      "outputs": [],
      "source": [
        "#Calulo el vector de medias\n",
        "vmedias=np.mean(ds_trabajo[['stays_in_week_nights','stays_in_weekend_nights','is_canceled']])\n",
        "\n",
        "#Calculo la diferencia entre las observaciones y el vector de medias\n",
        "x_dif = ds_trabajo[['stays_in_week_nights','stays_in_weekend_nights','is_canceled']] - vmedias\n",
        "\n",
        "#Calculo matriz de covarianza y su inversa\n",
        "cov=ds_trabajo[['stays_in_week_nights','stays_in_weekend_nights','is_canceled']].cov().values\n",
        "inv_cov = np.linalg.inv(cov)\n",
        "\n",
        "#Calculamos el cuadrado de la distancia de mahalanobis\n",
        "mahal =np.dot( np.dot(x_dif, inv_cov) , x_dif.T)\n",
        "\n",
        "ds_trabajo['mahalanobis_2']=mahal.diagonal()"
      ]
    },
    {
      "cell_type": "code",
      "execution_count": null,
      "metadata": {
        "id": "gx2UBWiLQ0f2"
      },
      "outputs": [],
      "source": [
        "# #Ordeno las distancias de menor a mayor\n",
        "np.sort(ds_trabajo.mahalanobis_2)"
      ]
    },
    {
      "cell_type": "code",
      "execution_count": null,
      "metadata": {
        "id": "7n1VExtxQ0f2"
      },
      "outputs": [],
      "source": [
        "\n",
        "#Observacione anómalas\n",
        "ds_trabajo[ds_trabajo['mahalanobis_2']>umbral]"
      ]
    },
    {
      "cell_type": "code",
      "execution_count": null,
      "metadata": {
        "id": "XAASxeLmQ0f2"
      },
      "outputs": [],
      "source": [
        "#Gráfico 3D\n",
        "es_outlier = (ds_trabajo['mahalanobis_2'] > umbral)\n",
        "\n",
        "fig = plt.figure(figsize=(12, 12))\n",
        "ax = fig.add_subplot(projection='3d')\n",
        "\n",
        "color=[f\"C{n}\" for n in (es_outlier*1)]\n",
        "ax.scatter(ds_trabajo.stays_in_week_nights,ds_trabajo.stays_in_weekend_nights,ds_trabajo.is_canceled,c=color)\n",
        "ax.set_xlabel('stays_in_week_nights')\n",
        "ax.set_ylabel('stays_in_weekend_nights')\n",
        "ax.set_zlabel('is_canceled')\n",
        "plt.title('Dispersograma de Noches de Semana y Noches de Fin de Semana según cancelación de la reserva')\n",
        "plt.show()\n",
        "\n",
        "ds_trabajo = ds_trabajo.drop('mahalanobis_2',axis=1)"
      ]
    },
    {
      "cell_type": "markdown",
      "metadata": {
        "id": "iXWwmR0tQ0f2"
      },
      "source": [
        "La distribución de estos outliers es muy pareja, lo que indica que no hay valores extremos que influyan significativamente en la relación entre ellas."
      ]
    },
    {
      "cell_type": "code",
      "execution_count": null,
      "metadata": {
        "id": "zt9Gm9HLQ0f3"
      },
      "outputs": [],
      "source": [
        "ds_trabajo.loc[es_outlier, 'stays_in_weekend_nights'] = ds_trabajo['stays_in_weekend_nights'].mean()\n",
        "ds_trabajo.loc[es_outlier, 'stays_in_week_nights'] = ds_trabajo['stays_in_week_nights'].mean()"
      ]
    },
    {
      "cell_type": "markdown",
      "metadata": {
        "id": "Lps57mSxQ0f3"
      },
      "source": [
        "Para `previous_cancellations`, tenemos outliers superiores. En la notebook_1 habíamos analizado que la distribución de la variable respecto de `is_canceled` era muy variada, por lo tanto vamos a hacer un análisis más profundo de estos outliers para tomar una decisión."
      ]
    },
    {
      "cell_type": "code",
      "execution_count": null,
      "metadata": {
        "id": "j07LLxCKQ0f3"
      },
      "outputs": [],
      "source": [
        "sns.boxplot(x=ds_trabajo[\"previous_cancellations\"])\n",
        "plt.xlabel('Cancelaciones previas')\n",
        "plt.ylabel('Frecuencia')\n",
        "plt.title('Distribución de la cantidad de Cancelaciones previas')\n",
        "plt.show()"
      ]
    },
    {
      "cell_type": "code",
      "execution_count": null,
      "metadata": {
        "id": "tpL2o4s7Q0f3"
      },
      "outputs": [],
      "source": [
        "#Cuartiles\n",
        "Q1_previous_cancellations=np.quantile(ds_trabajo.previous_cancellations,0.25)\n",
        "Q3_previous_cancellations=np.quantile(ds_trabajo.previous_cancellations,0.75)\n",
        "\n",
        "#Rango intercuartil\n",
        "IQR_previous_cancellations=Q3_previous_cancellations-Q1_previous_cancellations\n",
        "\n",
        "#Limite inferior Outliers\n",
        "out_inf=Q1_previous_cancellations-1.5*IQR_previous_cancellations\n",
        "out_sup=Q3_previous_cancellations+1.5*IQR_previous_cancellations\n",
        "print(out_inf)\n",
        "print(out_sup)"
      ]
    },
    {
      "cell_type": "code",
      "execution_count": null,
      "metadata": {
        "id": "SZhw9VNtQ0f3"
      },
      "outputs": [],
      "source": [
        "outliers_inf = ds_trabajo[ds_trabajo['previous_cancellations'] < out_inf]\n",
        "print(\"Outliers inferiores:\", outliers_inf[\"previous_cancellations\"].count())\n",
        "\n",
        "outliers_sup = ds_trabajo[ds_trabajo['previous_cancellations'] > out_sup]\n",
        "print(\"Outliers superiores:\",outliers_sup[\"previous_cancellations\"].count())"
      ]
    },
    {
      "cell_type": "markdown",
      "metadata": {
        "id": "pkEgEzLYQ0f3"
      },
      "source": [
        "Observamos esta variabilidad respecto de `is_canceled` separando las cantidades en dos barplots para mejorar la legibilidad. La cantidad de cancelaciones previas podría estar relacionada a la antelación con la cual se hace una reserva. Creemos que será útil hacer un análisis multivariado de `previous_cancellations`, `lead_time` y el target `is_canceled`."
      ]
    },
    {
      "cell_type": "markdown",
      "metadata": {
        "id": "3p9E3fIlQ0f3"
      },
      "source": [
        "Vamos a analizar si hay outliers multivariados entre previous_cancellations y lead_time."
      ]
    },
    {
      "cell_type": "code",
      "execution_count": null,
      "metadata": {
        "id": "X56JasYfQ0f4"
      },
      "outputs": [],
      "source": [
        "#Scatter Plot\n",
        "plt.scatter(ds_trabajo.previous_cancellations,ds_trabajo.lead_time)\n",
        "plt.title('Dispersograma previous_cancellations vs lead_time')\n",
        "plt.xlabel('previous_cancellations')\n",
        "plt.ylabel('lead_time')\n",
        "plt.show()"
      ]
    },
    {
      "cell_type": "code",
      "execution_count": null,
      "metadata": {
        "id": "7pUayC6XQ0f4"
      },
      "outputs": [],
      "source": [
        "#Calulo el vector de medias\n",
        "vmedias=np.mean(ds_trabajo[['previous_cancellations','lead_time']])\n",
        "\n",
        "#Calculo la diferencia entre las observaciones y el vector de medias\n",
        "x_dif = ds_trabajo[['previous_cancellations','lead_time']] - vmedias\n",
        "\n",
        "#Calculo matriz de covarianza y su inversa\n",
        "cov=ds_trabajo[['previous_cancellations','lead_time']].cov().values\n",
        "inv_cov = np.linalg.inv(cov)\n",
        "\n",
        "#Calculamos el cuadrado de la distancia de mahalanobis\n",
        "mahal =np.dot( np.dot(x_dif, inv_cov) , x_dif.T)\n",
        "\n",
        "ds_trabajo['mahalanobis']=mahal.diagonal()"
      ]
    },
    {
      "cell_type": "code",
      "execution_count": null,
      "metadata": {
        "id": "tKvhYFDMQ0f4"
      },
      "outputs": [],
      "source": [
        "sns.boxplot(y=ds_trabajo.mahalanobis)"
      ]
    },
    {
      "cell_type": "markdown",
      "metadata": {
        "id": "HfGxO27cQ0f4"
      },
      "source": [
        "Vamos a definir un umbral de atípicos en 50."
      ]
    },
    {
      "cell_type": "code",
      "execution_count": null,
      "metadata": {
        "id": "yf6Wa5nhQ0f4"
      },
      "outputs": [],
      "source": [
        "umbral=50\n",
        "\n",
        "#Observaciones anómalas\n",
        "ds_trabajo[ds_trabajo['mahalanobis']>umbral]"
      ]
    },
    {
      "cell_type": "markdown",
      "metadata": {
        "id": "gyYnwfI3Q0f4"
      },
      "source": [
        "Vemos que hay 125 registros outliers según Mahalanobis. Los vamos a visualizar en un scatter plot."
      ]
    },
    {
      "cell_type": "code",
      "execution_count": null,
      "metadata": {
        "id": "zobJvvgJQ0f4"
      },
      "outputs": [],
      "source": [
        "#Grafico scatter\n",
        "es_outlier = (ds_trabajo['mahalanobis'] > umbral)\n",
        "\n",
        "sns.scatterplot(x=ds_trabajo.previous_cancellations,y=ds_trabajo.lead_time, hue=es_outlier)\n",
        "plt.legend(bbox_to_anchor=(1.05, 1), loc='upper left', borderaxespad=0, title=\"Outlier\")\n",
        "plt.title('Dispersograma previous_cancellations vs lead_time')\n",
        "plt.show()\n",
        "\n",
        "ds_trabajo = ds_trabajo.drop('mahalanobis',axis=1)"
      ]
    },
    {
      "cell_type": "markdown",
      "metadata": {
        "id": "Phw4ak0LQ0f4"
      },
      "source": [
        "Vemos que estos pocos outliers están comprendidos entre las 10 y poco más de 25 cancelaciones previas. Y también observamos que estos se distribuyen entre los 0 y 10 meses de antelación. Creemos que es anormal que una persona tenga tantas cancelaciones previas, lo que nos hace pensar que pueden ser errores de carga. Vamos a analizar el comportamiento respecto de `is_canceled`."
      ]
    },
    {
      "cell_type": "code",
      "execution_count": null,
      "metadata": {
        "id": "xARpm6MHQ0f5"
      },
      "outputs": [],
      "source": [
        "#Calulo el vector de medias\n",
        "vmedias=np.mean(ds_trabajo[['previous_cancellations','lead_time','is_canceled']])\n",
        "\n",
        "#Calculo la diferencia entre las observaciones y el vector de medias\n",
        "x_dif = ds_trabajo[['previous_cancellations','lead_time','is_canceled']] - vmedias\n",
        "\n",
        "#Calculo matriz de covarianza y su inversa\n",
        "cov=ds_trabajo[['previous_cancellations','lead_time','is_canceled']].cov().values\n",
        "inv_cov = np.linalg.inv(cov)\n",
        "\n",
        "#Calculamos el cuadrado de la distancia de mahalanobis\n",
        "mahal =np.dot( np.dot(x_dif, inv_cov) , x_dif.T)\n",
        "\n",
        "ds_trabajo['mahalanobis_2']=mahal.diagonal()"
      ]
    },
    {
      "cell_type": "code",
      "execution_count": null,
      "metadata": {
        "id": "uWl-xN-7Q0f5"
      },
      "outputs": [],
      "source": [
        "# #Ordeno las distancias de menor a mayor\n",
        "np.sort(ds_trabajo.mahalanobis_2)"
      ]
    },
    {
      "cell_type": "code",
      "execution_count": null,
      "metadata": {
        "id": "KPuyn20RQ0f5"
      },
      "outputs": [],
      "source": [
        "umbral=50\n",
        "\n",
        "#Observacione anómalas\n",
        "ds_trabajo[ds_trabajo['mahalanobis_2']>umbral]"
      ]
    },
    {
      "cell_type": "markdown",
      "metadata": {
        "id": "VbtvRG-6Q0f5"
      },
      "source": [
        "Parece que hay una relación compleja entre las tres variables. En particular, parece haber un patrón en el que hay una cantidad similar de cancelaciones previas en un rango específico de tiempo, pero las cancelaciones no están relacionadas con la antelación de la reserva. Por otro lado, hay una tendencia a cancelar después de un cierto número de cancelaciones previas, independientemente de la antelación de la reserva. Una de nuestras hipótesis, como dijimos, es que estos outliers pueden tratarse de un error en la carga de los datos."
      ]
    },
    {
      "cell_type": "markdown",
      "metadata": {
        "id": "s3l-HKBQQ0f5"
      },
      "source": [
        "Debido a lo poco probable que es que alguien cancele tantas veces una reserva, vamos a considerar estos valores como errores de carga. Vamos a corregirlos con la media."
      ]
    },
    {
      "cell_type": "code",
      "execution_count": null,
      "metadata": {
        "id": "FP-_AKESQ0f5"
      },
      "outputs": [],
      "source": [
        "media_columna = ds_trabajo.loc[es_outlier, 'previous_cancellations'].mean()\n",
        "ds_trabajo.loc[es_outlier, 'previous_cancellations'] = media_columna"
      ]
    },
    {
      "cell_type": "code",
      "execution_count": null,
      "metadata": {
        "id": "QCVRD9owQ0f5"
      },
      "outputs": [],
      "source": [
        "ds_trabajo = ds_trabajo.drop('mahalanobis_2', axis=1)"
      ]
    },
    {
      "cell_type": "code",
      "execution_count": null,
      "metadata": {
        "id": "Fzu2ODi-Q0f5"
      },
      "outputs": [],
      "source": [
        "df = ds_trabajo.loc[ds_trabajo['stays_in_week_nights'] > 8]\n",
        "grafico = sns.countplot(x=df['stays_in_week_nights'], hue='is_canceled', data=ds_trabajo)\n",
        "\n",
        "plt.xlabel('Cantidad de Noches de Semana mayores a 8 Reservadas')\n",
        "plt.ylabel('Frecuencia')\n",
        "plt.title(\"Distribución de Cantidad de Noches de Semana mayores a 8 Reservadas según cancelación\")\n",
        "\n",
        "plt.show()"
      ]
    },
    {
      "cell_type": "markdown",
      "metadata": {
        "id": "xhBWusj7Q0f6"
      },
      "source": [
        "Para `previous_cancellations`, tenemos outliers superiores. En la notebook_1 habíamos analizado que la distribución de la variable respecto de `is_canceled` era muy variada, por lo tanto vamos a hacer un análisis más profundo de estos outliers para tomar una decisión."
      ]
    },
    {
      "cell_type": "code",
      "execution_count": null,
      "metadata": {
        "id": "wEdJ7zopQ0f6"
      },
      "outputs": [],
      "source": [
        "sns.boxplot(x=ds_trabajo[\"previous_cancellations\"])\n",
        "plt.xlabel('Cancelaciones previas')\n",
        "plt.ylabel('Frecuencia')\n",
        "plt.title('Distribución de la cantidad de Cancelaciones previas')\n",
        "plt.show()"
      ]
    },
    {
      "cell_type": "code",
      "execution_count": null,
      "metadata": {
        "id": "qKhO1btLQ0f6"
      },
      "outputs": [],
      "source": [
        "#Cuartiles\n",
        "Q1_previous_cancellations=np.quantile(ds_trabajo.previous_cancellations,0.25)\n",
        "Q3_previous_cancellations=np.quantile(ds_trabajo.previous_cancellations,0.75)\n",
        "\n",
        "#Rango intercuartil\n",
        "IQR_previous_cancellations=Q3_previous_cancellations-Q1_previous_cancellations\n",
        "\n",
        "#Limite inferior Outliers\n",
        "out_inf=Q1_previous_cancellations-1.5*IQR_previous_cancellations\n",
        "out_sup=Q3_previous_cancellations+1.5*IQR_previous_cancellations\n",
        "print(out_inf)\n",
        "print(out_sup)"
      ]
    },
    {
      "cell_type": "code",
      "execution_count": null,
      "metadata": {
        "id": "xoc14obBQ0f6"
      },
      "outputs": [],
      "source": [
        "outliers_inf = ds_trabajo[ds_trabajo['previous_cancellations'] < out_inf]\n",
        "print(\"Outliers inferiores:\", outliers_inf[\"previous_cancellations\"].count())\n",
        "\n",
        "outliers_sup = ds_trabajo[ds_trabajo['previous_cancellations'] > out_sup]\n",
        "print(\"Outliers superiores:\",outliers_sup[\"previous_cancellations\"].count())"
      ]
    },
    {
      "cell_type": "markdown",
      "metadata": {
        "id": "6XLMNft5Q0f6"
      },
      "source": [
        "Observamos esta variabilidad respecto de `is_canceled` separando las cantidades en dos barplots para mejorar la legibilidad. La cantidad de cancelaciones previas podría estar relacionada a la antelación con la cual se hace una reserva. Creemos que será útil hacer un análisis multivariado de `previous_cancellations`, `lead_time` y el target `is_canceled`. TODO"
      ]
    },
    {
      "cell_type": "code",
      "execution_count": null,
      "metadata": {
        "id": "AkGDcVhbQ0f6"
      },
      "outputs": [],
      "source": [
        "df = ds_trabajo.loc[ds_trabajo['previous_cancellations'] <= 1]\n",
        "grafico = sns.countplot(x=df['previous_cancellations'], hue='is_canceled', data=ds_trabajo)\n",
        "\n",
        "plt.xlabel('Cantidad de cancelaciones de reservas previas (menores a 1)')\n",
        "plt.ylabel('Frecuencia')\n",
        "plt.title(\"Distribución de Cantidad de cancelaciones de reservas previas (menores a 1) según cancelación\")\n",
        "\n",
        "plt.show()"
      ]
    },
    {
      "cell_type": "code",
      "execution_count": null,
      "metadata": {
        "id": "oKLkEuG3Q0f6"
      },
      "outputs": [],
      "source": [
        "df = ds_trabajo.loc[ds_trabajo['previous_cancellations'] > 1]\n",
        "grafico = sns.countplot(x=df['previous_cancellations'], hue='is_canceled', data=ds_trabajo)\n",
        "\n",
        "plt.xlabel('Cantidad de cancelaciones de reservas previas (mayores a 1)')\n",
        "plt.ylabel('Frecuencia')\n",
        "plt.title(\"Distribución de Cantidad de cancelaciones de reservas previas (mayores a 1) según cancelación\")\n",
        "\n",
        "plt.show()"
      ]
    },
    {
      "cell_type": "markdown",
      "metadata": {
        "id": "vlEW4oaQQ0f7"
      },
      "source": [
        "En cuanto a la variable `previous_bookings_not_canceled`, habíamos visto en la notebook_1 que tiene un comportamiento inverso a `previous_cancellations`: entre más reservas no canceladas, menor posibilidad de cancelación."
      ]
    },
    {
      "cell_type": "code",
      "execution_count": null,
      "metadata": {
        "id": "ySBjD8UWQ0f7"
      },
      "outputs": [],
      "source": [
        "sns.boxplot(x=ds_trabajo[\"previous_bookings_not_canceled\"])\n",
        "plt.xlabel('Reservas previas no canceladas')\n",
        "plt.ylabel('Frecuencia')\n",
        "plt.title('Distribución de la cantidad de reservas previas no canceladas')\n",
        "plt.show()"
      ]
    },
    {
      "cell_type": "code",
      "execution_count": null,
      "metadata": {
        "id": "GldT5PjVQ0f7"
      },
      "outputs": [],
      "source": [
        "#Cuartiles\n",
        "Q1_previous_bookings_not_canceled=np.quantile(ds_trabajo.previous_bookings_not_canceled,0.25)\n",
        "Q3_previous_bookings_not_canceled=np.quantile(ds_trabajo.previous_bookings_not_canceled,0.75)\n",
        "\n",
        "#Rango intercuartil\n",
        "IQR_previous_bookings_not_canceled=Q3_previous_bookings_not_canceled-Q1_previous_bookings_not_canceled\n",
        "\n",
        "#Limite inferior Outliers\n",
        "out_inf=Q1_previous_bookings_not_canceled-1.5*IQR_previous_bookings_not_canceled\n",
        "out_sup=Q3_previous_bookings_not_canceled+1.5*IQR_previous_bookings_not_canceled\n",
        "print(out_inf)\n",
        "print(out_sup)"
      ]
    },
    {
      "cell_type": "code",
      "execution_count": null,
      "metadata": {
        "id": "23bVHNXOQ0f7"
      },
      "outputs": [],
      "source": [
        "outliers_inf = ds_trabajo[ds_trabajo['previous_bookings_not_canceled'] < out_inf]\n",
        "print(\"Outliers inferiores:\", outliers_inf[\"previous_bookings_not_canceled\"].count())\n",
        "\n",
        "outliers_sup = ds_trabajo[ds_trabajo['previous_bookings_not_canceled'] > out_sup]\n",
        "print(\"Outliers superiores:\",outliers_sup[\"previous_bookings_not_canceled\"].count())"
      ]
    },
    {
      "cell_type": "markdown",
      "metadata": {
        "id": "0X-6h6cgQ0f7"
      },
      "source": [
        "Hay pocos outliers. TODO: sumarla al analisis multivariado anterior."
      ]
    },
    {
      "cell_type": "markdown",
      "metadata": {
        "id": "LmMOGZgmQ0f7"
      },
      "source": [
        "Para `booking_changes`, observamos una cantidad más considerable de outliers superiores."
      ]
    },
    {
      "cell_type": "code",
      "execution_count": null,
      "metadata": {
        "id": "lBy211b9Q0f7"
      },
      "outputs": [],
      "source": [
        "sns.boxplot(x=ds_trabajo[\"booking_changes\"])\n",
        "plt.xlabel('Cantidad de cambios en la reserva')\n",
        "plt.ylabel('Frecuencia')\n",
        "plt.title('Distribución de la cantidad de cambios en la reserva')\n",
        "plt.show()"
      ]
    },
    {
      "cell_type": "code",
      "execution_count": null,
      "metadata": {
        "id": "8itYpGM0Q0f7"
      },
      "outputs": [],
      "source": [
        "#z-score modificado\n",
        "mediana_booking_changes=np.median(ds_trabajo.booking_changes)\n",
        "MAD=np.median(np.absolute(ds_trabajo.booking_changes-mediana_booking_changes))\n",
        "\n",
        "ds_trabajo['zm_booking_changes']=(ds_trabajo.booking_changes - mediana_booking_changes)*0.6745/MAD\n",
        "\n",
        "zm_booking_changes_inf = ds_trabajo[ds_trabajo['zm_booking_changes'] < 3.5]\n",
        "print(\"Cantidad de registros con z-score menor a 3.5:\", zm_booking_changes_inf[\"zm_booking_changes\"].count())\n",
        "\n",
        "zm_booking_changes_sup = ds_trabajo[ds_trabajo['zm_booking_changes'] > 3.5]\n",
        "print(\"Cantidad de registros con z-score mayor a 3.5:\", zm_booking_changes_sup[\"zm_booking_changes\"].count())\n",
        "\n",
        "# eliminamos la columna zm\n",
        "ds_trabajo = ds_trabajo.drop('zm_booking_changes', axis=1)"
      ]
    },
    {
      "cell_type": "markdown",
      "metadata": {
        "id": "a-fKXVEeQ0f8"
      },
      "source": [
        "Sin embargo, notamos que en todos los casos se cancela menos de lo que no. Creemos que esta columna podría no estar aportando información. Vamos a hacer un análisis multivariado. TODO"
      ]
    },
    {
      "cell_type": "code",
      "execution_count": null,
      "metadata": {
        "id": "SVPr8ebdQ0f8"
      },
      "outputs": [],
      "source": [
        "# df = ds_trabajo.loc[ds_trabajo['booking_changes'] > 0]\n",
        "# grafico = sns.countplot(x=df['booking_changes'], hue='is_canceled', data=ds_trabajo)\n",
        "\n",
        "# plt.xlabel('Cantidad de cambios en la reserva')\n",
        "# plt.ylabel('Frecuencia')\n",
        "# plt.title(\"Distribución de Cantidad de cambios en la reserva según cancelación\")\n",
        "\n",
        "# plt.show()"
      ]
    },
    {
      "cell_type": "code",
      "execution_count": null,
      "metadata": {
        "id": "fUkl-UfVQ0f8"
      },
      "outputs": [],
      "source": [
        "# from sklearn.neighbors import LocalOutlierFactor\n",
        "\n",
        "# sns.scatterplot(x=ds_trabajo['booking_changes'],y=ds_trabajo['previous_bookings_not_canceled'],hue=ds_trabajo['is_canceled'])\n",
        "# plt.title('Diagrama de Dispersión booking_changes vs previous_bookings_not_canceled')\n",
        "# plt.show()"
      ]
    },
    {
      "cell_type": "code",
      "execution_count": null,
      "metadata": {
        "id": "WFoM7r23Q0f8"
      },
      "outputs": [],
      "source": [
        "# #Conjunto de entrenamiento\n",
        "# X=ds_trabajo[['booking_changes','lead_time']].values\n",
        "\n",
        "# #Creo el clasificador\n",
        "# clf = LocalOutlierFactor(n_neighbors=20)\n",
        "\n",
        "# #Genero prediccion\n",
        "# y_pred = clf.fit_predict(X)\n",
        "\n",
        "# #Guardo los scores\n",
        "# ds_trabajo['scores']=clf.negative_outlier_factor_"
      ]
    },
    {
      "cell_type": "code",
      "execution_count": null,
      "metadata": {
        "id": "tzGMFb0GQ0f8"
      },
      "outputs": [],
      "source": [
        "# #Calculo radio para plotear score\n",
        "# radius = (ds_trabajo.scores.max() - ds_trabajo.scores) / (ds_trabajo.scores.max() - ds_trabajo.scores.min())\n",
        "\n",
        "# #Grafico LOF\n",
        "# plt.figure(figsize=(10,10))\n",
        "# plt.title(\"Local Outlier Factor (LOF)\")\n",
        "# plt.scatter(ds_trabajo.booking_changes.values,ds_trabajo.lead_time.values, edgecolor='grey', s=30, label='datos',facecolors='none')\n",
        "# plt.scatter(ds_trabajo.booking_changes.values,ds_trabajo.lead_time.values, s=1300 * radius, edgecolors='red',facecolors='none', label='Outlier scores')\n",
        "# legend = plt.legend(loc='upper left')\n",
        "# legend.legendHandles[0]._sizes = [10]\n",
        "# legend.legendHandles[1]._sizes = [20]\n",
        "# plt.show()"
      ]
    },
    {
      "cell_type": "markdown",
      "metadata": {
        "id": "OQFn0xiPQ0f8"
      },
      "source": [
        "Para `adr`"
      ]
    },
    {
      "cell_type": "code",
      "execution_count": null,
      "metadata": {
        "id": "H4grHG14Q0f8"
      },
      "outputs": [],
      "source": [
        "sns.boxplot(x=ds_trabajo[\"adr\"])\n",
        "plt.xlabel('Tarifa diaria promedio')\n",
        "plt.ylabel('Frecuencia')\n",
        "plt.title('Distribución de la tarifa diaria promedio')\n",
        "plt.show()"
      ]
    },
    {
      "cell_type": "code",
      "execution_count": null,
      "metadata": {
        "id": "2mTvnTAEQ0f8"
      },
      "outputs": [],
      "source": [
        "#Cuartiles\n",
        "Q1_adr =np.quantile(ds_trabajo.adr,0.25)\n",
        "Q3_adr =np.quantile(ds_trabajo.adr,0.75)\n",
        "IQR_adr=Q3_adr-Q1_adr\n",
        "out_inf=Q1_adr-1.5*IQR_adr\n",
        "out_sup=Q3_adr+1.5*IQR_adr\n",
        "print(out_inf)\n",
        "print(out_sup)\n",
        "print(IQR_adr)\n",
        "outliers_inf = ds_trabajo[ds_trabajo['adr'] < out_inf]\n",
        "print(\"Outliers inferiores:\", outliers_inf[\"adr\"].count())\n",
        "outliers_sup = ds_trabajo[ds_trabajo['adr'] > out_sup]\n",
        "print(\"Outliers superiores:\",outliers_sup[\"adr\"].count())"
      ]
    },
    {
      "cell_type": "code",
      "execution_count": null,
      "metadata": {
        "id": "UMWn8kreQ0f9"
      },
      "outputs": [],
      "source": [
        "\n",
        "ds_trabajo['adr_group'] = (ds_trabajo['adr'] // 10) * 10\n",
        "df = ds_trabajo.groupby('adr_group').filter(lambda x: len(x) > out_sup)\n",
        "grafico = sns.countplot(x=df['adr_group'], hue='is_canceled', data=ds_trabajo, palette='muted')\n",
        "plt.xlabel('Valor de adr (agrupado)')\n",
        "plt.ylabel('Frecuencia')\n",
        "plt.title(\"Distribución de adr respecto a is_canceled\")\n",
        "plt.show()"
      ]
    },
    {
      "cell_type": "markdown",
      "metadata": {
        "id": "X_b6Q4jXQ0f9"
      },
      "source": [
        "Podemos ver que apartir de los valores de adr con una media de 80 son muy aceptados, al haber poca taza de cancelados y que apartir de los mismos, el adr aumenta y su taza de cancelados se equipara.\""
      ]
    },
    {
      "cell_type": "markdown",
      "metadata": {
        "id": "cYZoxiopQ0f9"
      },
      "source": [
        "Para `total_of_special_requests`"
      ]
    },
    {
      "cell_type": "code",
      "execution_count": null,
      "metadata": {
        "id": "nQ0WETpfQ0f9"
      },
      "outputs": [],
      "source": [
        "sns.boxplot(x=ds_trabajo[\"total_of_special_requests\"])\n",
        "plt.xlabel('Cantidad de solicitudes especiales')\n",
        "plt.ylabel('Frecuencia')\n",
        "plt.title('Distribución de la Cantidad de solicitudes especiales')\n",
        "plt.show()"
      ]
    },
    {
      "cell_type": "code",
      "execution_count": null,
      "metadata": {
        "id": "rFp0eSHIQ0f9"
      },
      "outputs": [],
      "source": [
        "#Cuartiles\n",
        "Q1_total_of_special_requests =np.quantile(ds_trabajo.total_of_special_requests,0.25)\n",
        "Q3_total_of_special_requests =np.quantile(ds_trabajo.total_of_special_requests,0.75)\n",
        "IQR_total_of_special_requests=Q3_total_of_special_requests-Q1_total_of_special_requests\n",
        "out_inf=Q1_total_of_special_requests-1.5*IQR_total_of_special_requests\n",
        "out_sup=Q3_total_of_special_requests+1.5*IQR_total_of_special_requests\n",
        "print(out_inf)\n",
        "print(out_sup)\n",
        "print(IQR_total_of_special_requests)\n",
        "outliers_inf = ds_trabajo[ds_trabajo['total_of_special_requests'] < out_inf]\n",
        "print(\"Outliers inferiores:\", outliers_inf[\"total_of_special_requests\"].count())\n",
        "outliers_sup = ds_trabajo[ds_trabajo['total_of_special_requests'] > out_sup]\n",
        "print(\"Outliers superiores:\",outliers_sup[\"total_of_special_requests\"].count())"
      ]
    },
    {
      "cell_type": "markdown",
      "metadata": {
        "id": "lY56FpO4Q0f9"
      },
      "source": [
        "Para `total_guests`"
      ]
    },
    {
      "cell_type": "code",
      "execution_count": null,
      "metadata": {
        "id": "jAsU8rPsQ0f9"
      },
      "outputs": [],
      "source": [
        "sns.boxplot(x=ds_trabajo[\"total_guests\"])\n",
        "plt.xlabel('Cantidad de huespedes')\n",
        "plt.ylabel('Frecuencia')\n",
        "plt.title('Distribución de la Cantidad de huespedes')\n",
        "plt.show()"
      ]
    },
    {
      "cell_type": "code",
      "execution_count": null,
      "metadata": {
        "id": "yEWOBy72Q0f-"
      },
      "outputs": [],
      "source": [
        "#z-score modificado\n",
        "mediana_total_guests=np.median(ds_trabajo.total_guests)\n",
        "MAD=np.median(np.absolute(ds_trabajo.total_guests-mediana_total_guests))\n",
        "\n",
        "ds_trabajo['zm_total_guests']=(ds_trabajo.total_guests - mediana_total_guests)*0.6745/MAD\n",
        "\n",
        "zm_total_guests_inf = ds_trabajo[ds_trabajo['zm_total_guests'] < 3.5]\n",
        "print(\"Cantidad de registros con z-score menor a 3.5:\", zm_total_guests_inf[\"zm_total_guests\"].count())\n",
        "\n",
        "zm_total_guests = ds_trabajo[ds_trabajo['zm_total_guests'] > 3.5]\n",
        "print(\"Cantidad de registros con z-score mayor a 3.5:\", zm_total_guests[\"zm_total_guests\"].count())\n",
        "\n",
        "ds_trabajo = ds_trabajo.drop('zm_total_guests', axis=1)"
      ]
    },
    {
      "cell_type": "markdown",
      "source": [
        "Vamos a analizar si hay outliers multivariados entre total_guests y total_of_special_requests."
      ],
      "metadata": {
        "id": "xl53v_yRSb1U"
      }
    },
    {
      "cell_type": "code",
      "source": [
        "from sklearn.neighbors import LocalOutlierFactor\n",
        "\n",
        "sns.scatterplot(x=ds_trabajo['total_guests'],y=ds_trabajo['total_of_special_requests'],hue=ds_trabajo['is_canceled'])\n",
        "plt.title('Dispersograma total_guests vs total_of_special_requests')\n",
        "plt.show()"
      ],
      "metadata": {
        "id": "pYVtlRB-U9jH"
      },
      "execution_count": null,
      "outputs": []
    },
    {
      "cell_type": "code",
      "source": [
        " #Conjunto de entrenamiento\n",
        "x=ds_trabajo[['total_guests','total_of_special_requests']].values\n",
        "\n",
        "#Creo el clasificador\n",
        "clasif = LocalOutlierFactor(n_neighbors=20)\n",
        "\n",
        "#Genero prediccion\n",
        "y_pred = clasif.fit_predict(x)\n",
        "\n",
        "#Guardo los scores\n",
        "ds_trabajo['score']=clasif.negative_outlier_factor_"
      ],
      "metadata": {
        "id": "6KQM25eHYvxl"
      },
      "execution_count": null,
      "outputs": []
    },
    {
      "cell_type": "code",
      "source": [
        "#Calculo radio para plotear score\n",
        "radio = (ds_trabajo.score.max() - ds_trabajo.score) / (ds_trabajo.score.max() - ds_trabajo.score.min())\n",
        "\n",
        "#Grafico LOF\n",
        "plt.figure(figsize=(10,10))\n",
        "plt.title(\"Local Outlier Factor (LOF)\")\n",
        "plt.scatter(ds_trabajo.booking_changes.values,ds_trabajo.lead_time.values, edgecolor='grey', s=30, label='datos',facecolors='none')\n",
        "plt.scatter(ds_trabajo.total_guests.values,ds_trabajo.total_of_special_requests.values, s=1300 * radio, edgecolors='red',facecolors='none', label='Outlier scores')\n",
        "legend = plt.legend(loc='upper left')\n",
        "legend.legendHandles[0]._sizes = [10]\n",
        "legend.legendHandles[1]._sizes = [20]\n",
        "plt.show()"
      ],
      "metadata": {
        "id": "kixTPLzyhEjP"
      },
      "execution_count": null,
      "outputs": []
    },
    {
      "cell_type": "markdown",
      "source": [
        "\"\"Analisis del grafico de arriba\n"
      ],
      "metadata": {
        "id": "Vh9VmFlbjCQ8"
      }
    },
    {
      "cell_type": "markdown",
      "metadata": {
        "id": "Zd9cqBu2Q0f-"
      },
      "source": [
        "Para `market_segment`, notamos que hay algunas categorías con muy pocas frecuencias. Tomaremos un umbral de 3k registros (menos del 5% del total de datos) como categorías consideradas de baja frecuencia para unificarlas en una categoría `others`. Por otro lado, eliminaremos las undefined."
      ]
    },
    {
      "cell_type": "code",
      "execution_count": null,
      "metadata": {
        "id": "JS0R-fqIQ0f-"
      },
      "outputs": [],
      "source": [
        "frecuencia = ds_trabajo['market_segment'].value_counts()\n",
        "print(frecuencia)\n",
        "plt.xlabel('Segmento de Mercado')\n",
        "plt.ylabel('Frecuencia')\n",
        "plt.title('Distribución del Segmento de Mercado')\n",
        "frecuencia.plot(kind='bar')\n",
        "plt.show()"
      ]
    },
    {
      "cell_type": "code",
      "execution_count": null,
      "metadata": {
        "id": "iph-7xXpQ0f-"
      },
      "outputs": [],
      "source": [
        "ds_trabajo['market_segment'] = ds_trabajo['market_segment'].replace(['Corporate', 'Complementary', 'Aviation'], 'Others')"
      ]
    },
    {
      "cell_type": "code",
      "execution_count": null,
      "metadata": {
        "id": "eRPJLaNjQ0f-"
      },
      "outputs": [],
      "source": [
        "frecuencia = ds_trabajo['market_segment'].value_counts()\n",
        "print(frecuencia)\n",
        "plt.xlabel('Segmento de Mercado')\n",
        "plt.ylabel('Frecuencia')\n",
        "plt.title('Distribución del Segmento de Mercado')\n",
        "frecuencia.plot(kind='bar')\n",
        "plt.show()"
      ]
    },
    {
      "cell_type": "markdown",
      "metadata": {
        "id": "Cog8fXlkQ0f-"
      },
      "source": [
        "Para `deposit_type`, vemos que tenemos sólo dos categorías. No hay outliers, las conservamos tal como estan."
      ]
    },
    {
      "cell_type": "code",
      "execution_count": null,
      "metadata": {
        "id": "N-mtlSQoQ0f-"
      },
      "outputs": [],
      "source": [
        "frecuencia = ds_trabajo['deposit_type'].value_counts()\n",
        "print(frecuencia)\n",
        "\n",
        "plt.xlabel('Tipo de depósito')\n",
        "plt.ylabel('Frecuencia')\n",
        "plt.title('Distribución del Tipo de depósito')\n",
        "frecuencia.plot(kind='bar')\n",
        "plt.show()"
      ]
    },
    {
      "cell_type": "markdown",
      "metadata": {
        "id": "6FjQgljhQ0f-"
      },
      "source": [
        "Para `customer_type`, vemos que la mayor parte de los valores los concentra `Transient`, sin embargo decidimos dejar las 3 categorías ya que creemos que el tipo de cliente que hizo la reserva puede influir en la decisión de cancelación."
      ]
    },
    {
      "cell_type": "code",
      "execution_count": null,
      "metadata": {
        "id": "-TX7cvJHQ0f_"
      },
      "outputs": [],
      "source": [
        "frecuencia = ds_trabajo['customer_type'].value_counts()\n",
        "print(frecuencia)\n",
        "\n",
        "plt.xlabel('Tipo de cliente')\n",
        "plt.ylabel('Frecuencia')\n",
        "plt.title('Distribución del Tipo de cliente')\n",
        "frecuencia.plot(kind='bar')\n",
        "plt.show()"
      ]
    },
    {
      "cell_type": "markdown",
      "metadata": {
        "id": "aezn-myLQ0f_"
      },
      "source": [
        "Tras el análisis de outliers, haremos unos pequeños cambios más para pulir el dataset. Vamos a eliminar las columnas Undefined que vimos anteriormente."
      ]
    },
    {
      "cell_type": "code",
      "execution_count": null,
      "metadata": {
        "id": "JCxzQGk-Q0f_"
      },
      "outputs": [],
      "source": [
        "ds_trabajo = ds_trabajo.drop(ds_trabajo[ds_trabajo['distribution_channel'] == 'Undefined'].index)\n",
        "ds_trabajo = ds_trabajo.drop(ds_trabajo[ds_trabajo['market_segment'] == 'Undefined'].index)"
      ]
    },
    {
      "cell_type": "markdown",
      "metadata": {
        "id": "cDP8MzEeQ0f_"
      },
      "source": [
        "Vamos a pasar las fechas al formato adecuado para trabajarlas en la predicción."
      ]
    },
    {
      "cell_type": "code",
      "execution_count": null,
      "metadata": {
        "id": "JNyK68_CQ0f_"
      },
      "outputs": [],
      "source": [
        "ds_trabajo['reservation_status_date'] = pd.to_datetime(ds_trabajo.reservation_status_date)\n",
        "ds_trabajo.reservation_status_date = ds_trabajo.reservation_status_date.apply(lambda x: x.timestamp())\n",
        "ds_trabajo['arrival_date'] = pd.to_datetime(ds_trabajo.arrival_date)\n",
        "ds_trabajo.arrival_date = ds_trabajo.arrival_date.apply(lambda x: x.timestamp())\n",
        "\n"
      ]
    },
    {
      "cell_type": "markdown",
      "metadata": {
        "id": "4p9GPb1cQ0gA"
      },
      "source": [
        "Eliminaremos la columna `reservation_status_date` ya que filtra información para la predicción del target."
      ]
    },
    {
      "cell_type": "code",
      "execution_count": null,
      "metadata": {
        "id": "0JclWHG8Q0gA"
      },
      "outputs": [],
      "source": [
        "ds_trabajo = ds_trabajo.drop(\"reservation_status_date\",axis=1)\n",
        "# ds_trabajo = ds_trabajo.drop(\"adr_group\",axis=1)\n",
        "ds_trabajo = ds_trabajo.drop(\"id\",axis=1)"
      ]
    },
    {
      "cell_type": "markdown",
      "metadata": {
        "id": "SeeshBDoQ0gA"
      },
      "source": [
        "Vamos a realizar one hot enconding en las columnas categóricas para poder entrenar nuestro modelo."
      ]
    },
    {
      "cell_type": "code",
      "execution_count": null,
      "metadata": {
        "id": "dTNNswsLQ0gA"
      },
      "outputs": [],
      "source": [
        "# One hot encoding para variables categoricas\n",
        "ds_trabajo = pd.get_dummies(ds_trabajo, columns=['hotel',\n",
        "                                                 'market_segment',\n",
        "                                                 'distribution_channel',\n",
        "                                                 'is_repeated_guest',\n",
        "                                                 'deposit_type',\n",
        "                                                 'customer_type',\n",
        "                                                 'agent_specified',\n",
        "                                                 'more_than_zero_days_in_waiting_list',\n",
        "                                                 'season',\n",
        "                                                 'region',\n",
        "                                                 'room_type_match'], drop_first=True)\n",
        "ds_trabajo.head()\n"
      ]
    },
    {
      "cell_type": "markdown",
      "metadata": {
        "id": "OAOo5KzZQ0gA"
      },
      "source": [
        "Separamos el dataset de entrenamiento usando una proporción de 70%-30% y estratificando las columnas."
      ]
    },
    {
      "cell_type": "code",
      "execution_count": null,
      "metadata": {
        "id": "KjLnLJvZQ0gA"
      },
      "outputs": [],
      "source": [
        "#Creo un dataset con los features que voy a usar para clasificar\n",
        "ds_trabajo_x=ds_trabajo.drop(['is_canceled'], axis='columns', inplace=False)\n",
        "\n",
        "#Creo un dataset con la variable target\n",
        "ds_trabajo_y = ds_trabajo['is_canceled'].copy()\n",
        "\n",
        "#Genero los conjuntos de train y de test\n",
        "x_train, x_test, y_train, y_test = train_test_split(ds_trabajo_x,\n",
        "                                                    ds_trabajo_y, \n",
        "                                                    test_size=0.3,  #proporcion 70/30\n",
        "                                                    random_state=2) #semilla"
      ]
    },
    {
      "cell_type": "markdown",
      "metadata": {
        "id": "vLOh6CWSQ0gA"
      },
      "source": [
        "Vemos las proporciones de cancelado / no cancelado para revisar que estas categorías esten bien distirbuidas."
      ]
    },
    {
      "cell_type": "code",
      "execution_count": null,
      "metadata": {
        "id": "OKWrEu-oQ0gA"
      },
      "outputs": [],
      "source": [
        "num_cancelados = sum(y_train)\n",
        "num_no_cancelados = len(y_train) - num_cancelados\n",
        "prop_cancelados = num_cancelados / len(y_train)\n",
        "\n",
        "print(\"Número de cancelaciones:\", num_cancelados)\n",
        "print(\"Número de no cancelaciones:\", num_no_cancelados)\n",
        "print(\"Proporción de cancelaciones:\", prop_cancelados)\n"
      ]
    },
    {
      "cell_type": "markdown",
      "metadata": {
        "id": "5rLrmi-rQ0gB"
      },
      "source": [
        "Vamos a hacer un primer árbol de decisión simple, especificando una profundidad de 20, con criterio de entropía y con 10 como mínimo número de muestras por hoja."
      ]
    },
    {
      "cell_type": "code",
      "execution_count": null,
      "metadata": {
        "id": "cKD58c0gQ0gB"
      },
      "outputs": [],
      "source": [
        "#Creamos un clasificador con hiperparámetros \n",
        "tree_model = tree.DecisionTreeClassifier(criterion=\"entropy\",\n",
        "                                         max_depth = 20, \n",
        "                                         min_samples_leaf=10,\n",
        "                                         random_state=2) \n",
        "#Entrenamos el modelo\n",
        "model = tree_model.fit(X = x_train, y = y_train)"
      ]
    },
    {
      "cell_type": "markdown",
      "metadata": {
        "id": "l97PqvTnQ0gB"
      },
      "source": [
        "Realizamos una primera predicción sobre el set de test con este árbol."
      ]
    },
    {
      "cell_type": "code",
      "execution_count": null,
      "metadata": {
        "id": "Z8rutOefQ0gB"
      },
      "outputs": [],
      "source": [
        "y_pred = model.predict(x_test)\n",
        "#Valores Predichos\n",
        "y_pred"
      ]
    },
    {
      "cell_type": "markdown",
      "metadata": {
        "id": "bCxpMI_lQ0gB"
      },
      "source": [
        "Visualizamos su matriz de confusión."
      ]
    },
    {
      "cell_type": "code",
      "execution_count": null,
      "metadata": {
        "id": "uFie999PQ0gB"
      },
      "outputs": [],
      "source": [
        "tabla=confusion_matrix(y_test, y_pred)\n",
        "\n",
        "sns.heatmap(tabla,cmap='GnBu',annot=True,fmt='g')\n",
        "plt.title(\"Matriz de confusión de valores predichos por el modelo vs valores reales\")\n",
        "plt.xlabel('Predicho')\n",
        "plt.ylabel('Real')\n",
        "plt.show()"
      ]
    },
    {
      "cell_type": "markdown",
      "metadata": {
        "id": "MhfME33dQ0gB"
      },
      "source": [
        "Vamos a analizar sus métricas."
      ]
    },
    {
      "cell_type": "code",
      "execution_count": null,
      "metadata": {
        "id": "LhNU5KcAQ0gB"
      },
      "outputs": [],
      "source": [
        "#Calculo las métricas en el conjunto de evaluación\n",
        "accuracy=accuracy_score(y_test,y_pred)\n",
        "recall=recall_score(y_test,y_pred)\n",
        "f1=f1_score(y_test,y_pred,)\n",
        "precision=precision_score(y_test,y_pred)\n",
        "\n",
        "print(\"Accuracy: \"+str(accuracy))\n",
        "print(\"Recall: \"+str(recall))\n",
        "print(\"Precision: \"+str(precision))\n",
        "print(\"f1 score: \"+str(f1))"
      ]
    },
    {
      "cell_type": "markdown",
      "metadata": {
        "id": "OzOEfw4oQ0gC"
      },
      "source": [
        "Podemos ver que el modelo tiene una precisión del 80.2% y un recall de 79.4% aproximadamente. Por otro lado, el f1 score indica que el modelo está prediciendo correctamente el 80% de las observaciones positivas en el conjunto de datos, al mismo tiempo que mantiene un bajo número de falsos positivos. En el caso de predecir si una reserva será cancelada o no, creemos que una alta precisión es importante, ya que puede ser costoso y perjudicial para el negocio si se cancelan reservas que en realidad no lo necesitaban. Creemos entonces que es importante reducir la cantidad de falsos positivos, es decir, predecir que una reserva se cancelará cuando en realidad no lo hará. Por lo tanto, elegimos optimizar la métrica de precisión para reducir la cantidad de reservas que se cancelan innecesariamente."
      ]
    },
    {
      "cell_type": "markdown",
      "metadata": {
        "id": "cJlsERqNQ0gC"
      },
      "source": [
        "Vamos a buscar hiperparámetros por medio de Grid Search, optimizando la métrica de precisión. En esta iteración, vamos a buscar los mejores hiperparámetros con profundidades de 10, 20, 30 y 40, una cantidad mínima de muestras por hoja de 5, 10 y 15 y algunos valores para la poda. Probaremos esto con 5 folds y con el criterio de Gini."
      ]
    },
    {
      "cell_type": "code",
      "execution_count": null,
      "metadata": {
        "id": "QmUPVW0cQ0gC"
      },
      "outputs": [],
      "source": [
        "from sklearn.model_selection import GridSearchCV\n",
        "from sklearn.tree import DecisionTreeClassifier\n",
        "params = {'max_depth': [10, 20, 30, 40],\n",
        "          'min_samples_leaf': [5, 10, 15],\n",
        "          'ccp_alpha': [0.0, 0.001, 0.01, 0.1]}\n",
        "tree_model = DecisionTreeClassifier(criterion=\"gini\")\n",
        "grid_search = GridSearchCV(estimator=tree_model, \n",
        "                           param_grid=params, \n",
        "                           scoring='precision', \n",
        "                           cv=5)\n",
        "grid_search.fit(X=x_train, y=y_train)\n",
        "print(\"Best parameters:\", grid_search.best_params_)\n",
        "print(\"Best cross-validation score:\", grid_search.best_score_)\n"
      ]
    },
    {
      "cell_type": "markdown",
      "metadata": {
        "id": "fh157NfPQ0gC"
      },
      "source": [
        "Mostramos las métricas para nuestra iteración con la configuración de hiperparámetros mencionada anteriormente y hacemos su matriz de confusión."
      ]
    },
    {
      "cell_type": "code",
      "execution_count": null,
      "metadata": {
        "id": "5haqM1AXQ0gC"
      },
      "outputs": [],
      "source": [
        "from sklearn.metrics import accuracy_score, recall_score, precision_score, f1_score\n",
        "\n",
        "# Obtener el mejor modelo ajustado por GridSearchCV\n",
        "best_tree_model = grid_search.best_estimator_\n",
        "\n",
        "# Realizar predicciones sobre los datos de prueba\n",
        "y_pred = best_tree_model.predict(x_test)\n",
        "\n",
        "# Calcular las métricas de evaluación\n",
        "accuracy = accuracy_score(y_test, y_pred)\n",
        "recall = recall_score(y_test, y_pred)\n",
        "precision = precision_score(y_test, y_pred)\n",
        "f1 = f1_score(y_test, y_pred)\n",
        "\n",
        "# Imprimir las métricas de evaluación\n",
        "print(\"Accuracy:\", accuracy)\n",
        "print(\"Recall:\", recall)\n",
        "print(\"Precision:\", precision)\n",
        "print(\"f1 score:\", f1)\n"
      ]
    },
    {
      "cell_type": "code",
      "execution_count": null,
      "metadata": {
        "id": "5S0HjAIzQ0gC"
      },
      "outputs": [],
      "source": [
        "tabla=confusion_matrix(y_test, y_pred)\n",
        "\n",
        "sns.heatmap(tabla,cmap='GnBu',annot=True,fmt='g')\n",
        "plt.title(\"Matriz de confusión de valores predichos por el modelo vs valores reales\")\n",
        "plt.xlabel('Predicho')\n",
        "plt.ylabel('Real')\n",
        "plt.show()"
      ]
    },
    {
      "cell_type": "markdown",
      "metadata": {
        "id": "JEhCEiIBQ0gC"
      },
      "source": [
        "Vemos que en estas iteraciones mejoró mucho la precisión (aprox. 89%), que es lo que buscabamos, sin embargo, el recall ha disminuido considerablemente (aprox. 60%). Con estos hiperparámetros, el modelo tiene una alta probabilidad de acertar cuando clasifica una reserva como cancelada, pero es posible que no esté identificando todas las reservas que en realidad fueron canceladas. Puede ser que el modelo está identificando correctamente la mayoría de las cancelaciones importantes, pero puede estar perdiendo algunas cancelaciones importantes. Vamos a buscar otra configuración de hiperparámetros que mejore la precisión pero que no a costa de empeorar tanto nuestro recall."
      ]
    },
    {
      "cell_type": "markdown",
      "metadata": {
        "id": "QNEelND2Q0gC"
      },
      "source": [
        "Para estas nuevas iteraciones, vamos a cambiar el método a Random Search Cross Validation. Usaremos otros conjuntos de parámetros: criterio de Gini o de Entropía, mínima cantidad de muestras por hoja entre 1 y 15, máxima profundidad entre 20 y 40, entre otros especificados en el siguiente código. Por último, vamos a incrementar el número de folds a 7, ya que consideramos que tenemos una buena cantidad de datos de prueba para subdividirlo en 7 subconjuntos, y la complejidad del modelo lo amerita. Además, queremos mantener una evaluación precisa del rendimiento de nuestro modelo, por lo que 7 nos parece una cantidad adecuada para probar maximizar el uso de datos y reducir la variabilidad en la evaluación."
      ]
    },
    {
      "cell_type": "code",
      "execution_count": null,
      "metadata": {
        "id": "g25Vt31SQ0gD"
      },
      "outputs": [],
      "source": [
        "from sklearn.model_selection import StratifiedKFold, KFold,RandomizedSearchCV\n",
        "from sklearn.tree import DecisionTreeClassifier\n",
        "# from sklearn.metrics import make_scorer\n",
        "import sklearn.metrics as sk_metrics\n",
        "\n",
        "#Cantidad de combinaciones que quiero probar\n",
        "n=10\n",
        "\n",
        "#Conjunto de parámetros que quiero usar\n",
        "params_grid = {'criterion':['gini','entropy'],\n",
        "               'min_samples_leaf':list(range(1,20)),\n",
        "               'min_samples_split': list(range(2,20)),\n",
        "               'ccp_alpha':np.linspace(0,0.002,n), \n",
        "               'max_depth':list(range(20,40))}\n",
        "                \n",
        "#Cantidad de splits para el Cross Validation\n",
        "folds=7\n",
        "\n",
        "#Kfold estratificado\n",
        "kfoldcv = StratifiedKFold(n_splits=folds)\n",
        "\n",
        "#Clasificador\n",
        "base_tree = DecisionTreeClassifier() \n",
        "\n",
        "#Metrica que quiero optimizar F1 Score\n",
        "scorer_fn = sk_metrics.make_scorer(sk_metrics.precision_score)\n",
        "\n",
        "#Random Search Cross Validation\n",
        "randomcv = RandomizedSearchCV(estimator=base_tree,\n",
        "                              param_distributions = params_grid,\n",
        "                              scoring=scorer_fn,\n",
        "                              cv=kfoldcv,\n",
        "                              n_iter=n) \n",
        "\n",
        "#Busco los hiperparamtros que optimizan F1 Score\n",
        "randomcv.fit(x_train,y_train);\n",
        "\n",
        "print(\"Best parameters:\", randomcv.best_params_)\n",
        "print(\"Best cross-validation score:\", randomcv.best_score_)\n",
        "print(randomcv.best_estimator_)"
      ]
    },
    {
      "cell_type": "code",
      "execution_count": null,
      "metadata": {
        "id": "sdTYUSfhQ0gD"
      },
      "outputs": [],
      "source": [
        "from sklearn.metrics import accuracy_score, recall_score, precision_score, f1_score\n",
        "\n",
        "# Obtener el mejor modelo ajustado por GridSearchCV\n",
        "best_tree_model = randomcv.best_estimator_\n",
        "\n",
        "# Realizar predicciones sobre los datos de prueba\n",
        "y_pred = best_tree_model.predict(x_test)\n",
        "\n",
        "# Calcular las métricas de evaluación\n",
        "accuracy = accuracy_score(y_test, y_pred)\n",
        "recall = recall_score(y_test, y_pred)\n",
        "precision = precision_score(y_test, y_pred)\n",
        "f1 = f1_score(y_test, y_pred)\n",
        "\n",
        "# Imprimir las métricas de evaluación\n",
        "print(\"Accuracy:\", accuracy)\n",
        "print(\"Recall:\", recall)\n",
        "print(\"Precision:\", precision)\n",
        "print(\"f1 score:\", f1)\n"
      ]
    },
    {
      "cell_type": "code",
      "execution_count": null,
      "metadata": {
        "id": "44cV1DfuQ0gD"
      },
      "outputs": [],
      "source": [
        "tabla=confusion_matrix(y_test, y_pred)\n",
        "\n",
        "sns.heatmap(tabla,cmap='GnBu',annot=True,fmt='g')\n",
        "plt.title(\"Matriz de confusión de valores predichos por el modelo vs valores reales\")\n",
        "plt.xlabel('Predicho')\n",
        "plt.ylabel('Real')\n",
        "plt.show()"
      ]
    },
    {
      "cell_type": "markdown",
      "metadata": {
        "id": "V2uuRcZ8Q0gD"
      },
      "source": [
        "Tras varias iteraciones del Random Search con esta configuración de hiperparámetros, nos vamos a quedar con una que creemos, para nuestro enfoque, es de las mejores que conseguimos en esta tanda. La configuración de hiperparámetros es `min_samples_split`:8, `min_samples_leaf`:5, `max_depth`:24, `criterion`:gini, `ccp_alpha`:0.00022, `folds`:7. Vamos a hacer la predicción en particular para esos hiperparámetros para mostrar sus métricas y ver su matriz de confusión."
      ]
    },
    {
      "cell_type": "code",
      "execution_count": null,
      "metadata": {
        "id": "AoruCy8LQ0gD"
      },
      "outputs": [],
      "source": [
        "import pandas as pd\n",
        "from sklearn.tree import DecisionTreeClassifier\n",
        "from sklearn.model_selection import cross_val_score\n",
        "\n",
        "# tree = DecisionTreeClassifier(min_samples_leaf=13,min_samples_split=19,max_depth=27,criterion='entropy',ccp_alpha=0.0)\n",
        "# tree = DecisionTreeClassifier(max_depth=21, min_samples_leaf=18, min_samples_split=18, criterion='gini', random_state=2)\n",
        "best_tree = DecisionTreeClassifier(ccp_alpha=0.00022222222222222223, max_depth=24,\n",
        "                       min_samples_leaf=5, min_samples_split=8, random_state=2)\n",
        "best_tree.fit(X = x_train, y = y_train)\n",
        "\n",
        "y_pred = best_tree.predict(x_test)\n",
        "\n",
        "accuracy = accuracy_score(y_test, y_pred)\n",
        "recall = recall_score(y_test, y_pred)\n",
        "precision = precision_score(y_test, y_pred)\n",
        "f1 = f1_score(y_test, y_pred)\n",
        "\n",
        "print(\"Accuracy:\", accuracy)\n",
        "print(\"Recall:\", recall)\n",
        "print(\"Precision:\", precision)\n",
        "print(\"f1 score:\", f1)"
      ]
    },
    {
      "cell_type": "code",
      "execution_count": null,
      "metadata": {
        "id": "WmdalpaLQ0gD"
      },
      "outputs": [],
      "source": [
        "from sklearn.metrics import confusion_matrix, classification_report\n",
        "from sklearn.tree import DecisionTreeClassifier\n",
        "\n",
        "#Predicción sobre el set de evaluacion\n",
        "y_pred= best_tree.predict(x_test)\n",
        "\n",
        "#Reporte\n",
        "print(classification_report(y_test,y_pred))"
      ]
    },
    {
      "cell_type": "markdown",
      "metadata": {
        "id": "Ql7xGL8rQ0gE"
      },
      "source": [
        "Podemos ver que con esta configuración de hiperparámetros, nuestro modelo logra predecir correctamente el 82.8% de reservas realmente no canceladas y el 74.9% de las que se cancelan. Por otro lado, el accuracy nos dice que clasifica correctamente el 79.5% de las reservas. El f1 score sugiere que hay un buen equilibrio entre precisión y recall, siendo éste de 0.78. "
      ]
    },
    {
      "cell_type": "code",
      "execution_count": null,
      "metadata": {
        "id": "ZEKcyGwPQ0gE"
      },
      "outputs": [],
      "source": [
        "tabla=confusion_matrix(y_test, y_pred)\n",
        "\n",
        "sns.heatmap(tabla,cmap='GnBu',annot=True,fmt='g')\n",
        "plt.title(\"Matriz de confusión de valores predichos por el modelo vs valores reales\")\n",
        "plt.xlabel('Predicho')\n",
        "plt.ylabel('Real')\n",
        "plt.show()"
      ]
    },
    {
      "cell_type": "code",
      "execution_count": null,
      "metadata": {
        "id": "_wxWcCP6Q0gE"
      },
      "outputs": [],
      "source": [
        "from sklearn.metrics import roc_auc_score\n",
        "import pandas as pd\n",
        "y_pred_proba = pd.Series(best_tree.predict_proba(x_test)[:, 1])\n",
        "roc_auc = roc_auc_score(y_test, y_pred_proba)\n",
        "print('AUC-ROC:', roc_auc)\n"
      ]
    },
    {
      "cell_type": "markdown",
      "metadata": {
        "id": "7iYLDihgQ0gE"
      },
      "source": [
        "En cuanto al área bajo la curva ROC, vemos que es de 0.879 por lo que el modelo tiene una buena capacidad para distinguir entre reservas canceladas y no canceladas. Graficamos la curva ROC."
      ]
    },
    {
      "cell_type": "code",
      "execution_count": null,
      "metadata": {
        "id": "1wXsXcuxQ0gE"
      },
      "outputs": [],
      "source": [
        "from sklearn.metrics import roc_curve, roc_auc_score\n",
        "import matplotlib.pyplot as plt\n",
        "\n",
        "# Obtener las probabilidades de la clase positiva\n",
        "y_probs = best_tree.predict_proba(x_test)[:,1]\n",
        "\n",
        "# Calcular la curva ROC\n",
        "fpr, tpr, umbrales = roc_curve(y_test, y_probs)\n",
        "\n",
        "# Calcular el área bajo la curva ROC\n",
        "auc = roc_auc_score(y_test, y_probs)\n",
        "\n",
        "# Graficar la curva ROC\n",
        "plt.plot(fpr, tpr, label='AUC = %0.2f'% auc)\n",
        "plt.plot([0,1],[0,1],'r--')\n",
        "plt.xlim([-0.05,1.05])\n",
        "plt.ylim([-0.05,1.05])\n",
        "plt.xlabel('Tasa de Falsos Positivos')\n",
        "plt.ylabel('Tasa de Verdaderos Positivos')\n",
        "plt.title('Curva ROC')\n",
        "plt.legend(loc=\"lower right\")\n",
        "plt.show()\n"
      ]
    },
    {
      "cell_type": "markdown",
      "metadata": {
        "id": "FEzB_ni0Q0gE"
      },
      "source": [
        "Observemos la importancia de características. Nuestro modelo considera que el tipo de depósito es la característica más importante para clasificar. Seguido de este, es el tiempo de antelación con el que se hace una reserva y si el tipo de habitación reservado es el mismo que el asignado."
      ]
    },
    {
      "cell_type": "code",
      "execution_count": null,
      "metadata": {
        "id": "se31hJ3fQ0gE"
      },
      "outputs": [],
      "source": [
        "sorted(list(zip(ds_trabajo_x.columns.to_list(), best_tree.feature_importances_)), key=lambda x: -x[1])"
      ]
    },
    {
      "cell_type": "markdown",
      "metadata": {
        "id": "Kwt3vSYzQ0gE"
      },
      "source": [
        "Por último, vamos a graficar el árbol y a analizarlo. Graficaremos 4 niveles de profundidad ya que más de eso se vuelve ilegible."
      ]
    },
    {
      "cell_type": "code",
      "execution_count": null,
      "metadata": {
        "id": "CUG4eBzeQ0gF"
      },
      "outputs": [],
      "source": [
        "from sklearn.tree import plot_tree\n",
        "import matplotlib.pyplot as plt\n",
        "\n",
        "plt.figure(figsize=(20,10))\n",
        "plot_tree(best_tree, max_depth=4, filled=True, feature_names=x_train.columns, class_names=['No Cancelada', 'Cancelada'])\n",
        "plt.show()\n"
      ]
    },
    {
      "cell_type": "markdown",
      "metadata": {
        "id": "8VbMwra3Q0gF"
      },
      "source": [
        "Como mencionamos anteriormente, vemos que la característica más importante es `deposit_type`: la primera condición que evalúa es si se depositó para garantizar la reserva o no. En particular, vemos que si se depositó, ya la clasifica como cancelada con bastante seguridad. Pensamos que esto podría deberse a que no es usual que un cliente pague la totalidad de una reserva (normalmente se paga una seña, creemos que quienes pagan la totalidad pueden ser empresas o ciertas entidades adineradas). Por otro lado, si no se depositó, lo siguiente que evalúa es si el cuarto asignado es el mismo que el reservado, si no lo es vemos que la clasifica con bastante seguridad como no cancelada. A partir de acá, al menos en esta porción del gráfico, hará preguntas más precisas para ver cómo lo clasifica. Lo siguiente que preguntará es si el tiempo de antelación es menor que 4 meses si es que el cuarto no coincidió. Si lo es, indaga si es aún menor que 2.5 meses, y a partir de acá evalúa las cancelaciones previas cualquiera sea el caso. Si la antelación de la reserva es mayor a 4 meses, consultará por si el segmento de mercado es Online TA, caso afirmativo preguntará por la cantidad de peticiones especiales y caso contrario preguntará también por las cancelaciones previas. El árbol continua hasta los 24 niveles de profundidad, no los graficaremos porque no es legible."
      ]
    },
    {
      "cell_type": "markdown",
      "metadata": {
        "id": "rX7oySp7Q0gF"
      },
      "source": [
        "Exportamos el modelo en formato pickle."
      ]
    },
    {
      "cell_type": "code",
      "execution_count": null,
      "metadata": {
        "id": "61bi1G7VQ0gF"
      },
      "outputs": [],
      "source": [
        "import pickle\n",
        "\n",
        "with open('modelo_arbol_decision.pickle', 'wb') as archivo:\n",
        "    pickle.dump(best_tree, archivo)"
      ]
    },
    {
      "cell_type": "markdown",
      "source": [
        "Generamos un nuevo csv con el dataset actualizado"
      ],
      "metadata": {
        "id": "bY5yM8mgcKQR"
      }
    },
    {
      "cell_type": "code",
      "source": [
        "ds_trabajo.to_csv('hotels_train_filtrado3.csv', index=False)"
      ],
      "metadata": {
        "id": "ttibDYjZcSjK"
      },
      "execution_count": null,
      "outputs": []
    }
  ],
  "metadata": {
    "kernelspec": {
      "display_name": "Python 3.11.2 64-bit",
      "language": "python",
      "name": "python3"
    },
    "language_info": {
      "codemirror_mode": {
        "name": "ipython",
        "version": 3
      },
      "file_extension": ".py",
      "mimetype": "text/x-python",
      "name": "python",
      "nbconvert_exporter": "python",
      "pygments_lexer": "ipython3",
      "version": "3.11.2"
    },
    "vscode": {
      "interpreter": {
        "hash": "ae0944a860fa16acdf75a2e2acdd114c1b5055b7640fecd42984d96b9abbeafd"
      }
    },
    "colab": {
      "provenance": []
    }
  },
  "nbformat": 4,
  "nbformat_minor": 0
}