{
  "cells": [
    {
      "attachments": {},
      "cell_type": "markdown",
      "metadata": {
        "id": "yvJiPOB-2y18"
      },
      "source": [
        "# Importación de bibliotecas"
      ]
    },
    {
      "cell_type": "code",
      "execution_count": 1,
      "metadata": {
        "id": "3DeHptvs2y19"
      },
      "outputs": [],
      "source": [
        "import numpy as np \n",
        "import pandas as pd\n",
        "import matplotlib.pyplot as plt\n",
        "import seaborn as sns\n",
        "\n",
        "import sklearn as sk\n",
        "from sklearn.model_selection import train_test_split\n",
        "from sklearn.metrics import precision_score, recall_score, accuracy_score,f1_score\n",
        "from sklearn.metrics import confusion_matrix, classification_report\n",
        "from sklearn import tree\n",
        "\n",
        "# Preprocesamiento\n",
        "from sklearn import preprocessing\n",
        "from sklearn.preprocessing import MinMaxScaler\n",
        "\n",
        "# Configuración warnings\n",
        "import warnings\n",
        "warnings.simplefilter(action='ignore', category=FutureWarning)\n",
        "warnings.simplefilter(action='ignore', category=UserWarning)\n",
        "\n",
        "# Cross validation\n",
        "from sklearn.model_selection import RandomizedSearchCV\n",
        "from sklearn.model_selection import GridSearchCV\n",
        "\n",
        "from sklearn.model_selection import train_test_split\n",
        "from sklearn.metrics import accuracy_score\n",
        "from sklearn.model_selection import cross_val_score\n",
        "\n",
        "from sklearn.datasets import make_classification\n",
        "from sklearn.metrics import confusion_matrix, classification_report\n",
        "from sklearn.metrics import roc_auc_score\n",
        "\n",
        "# Modelo red neuronal\n",
        "import tensorflow as tf\n",
        "from tensorflow import keras"
      ]
    },
    {
      "attachments": {},
      "cell_type": "markdown",
      "metadata": {
        "id": "IL4urcTI2y1-"
      },
      "source": [
        "# Carga de datos y pasos previos al entrenamiento"
      ]
    },
    {
      "attachments": {},
      "cell_type": "markdown",
      "metadata": {
        "id": "AKz-36i72y1-"
      },
      "source": [
        "Importamos el dataset filtrado para comenzar a trabajar"
      ]
    },
    {
      "cell_type": "code",
      "execution_count": 2,
      "metadata": {
        "id": "ygMhg75S2y1-"
      },
      "outputs": [],
      "source": [
        "ds_hotel=pd.read_csv('./hotels_train_filtrado3.csv')\n",
        "ds_trabajo = ds_hotel.copy()"
      ]
    },
    {
      "attachments": {},
      "cell_type": "markdown",
      "metadata": {
        "id": "ZNymmfON2y1_"
      },
      "source": [
        "Aplicamos One-Hot Encoding para trabajar con las variables categóricas antes de entrenar nuestros modelos"
      ]
    },
    {
      "cell_type": "code",
      "execution_count": 3,
      "metadata": {
        "colab": {
          "base_uri": "https://localhost:8080/",
          "height": 299
        },
        "id": "9HctJ-oX2y1_",
        "outputId": "7086e26b-2bda-4971-c4d4-852a3c8e3430"
      },
      "outputs": [
        {
          "data": {
            "text/html": [
              "\n",
              "  <div id=\"df-7e98c48d-5d91-4aa7-b993-5a7aea6cb139\">\n",
              "    <div class=\"colab-df-container\">\n",
              "      <div>\n",
              "<style scoped>\n",
              "    .dataframe tbody tr th:only-of-type {\n",
              "        vertical-align: middle;\n",
              "    }\n",
              "\n",
              "    .dataframe tbody tr th {\n",
              "        vertical-align: top;\n",
              "    }\n",
              "\n",
              "    .dataframe thead th {\n",
              "        text-align: right;\n",
              "    }\n",
              "</style>\n",
              "<table border=\"1\" class=\"dataframe\">\n",
              "  <thead>\n",
              "    <tr style=\"text-align: right;\">\n",
              "      <th></th>\n",
              "      <th>lead_time</th>\n",
              "      <th>stays_in_weekend_nights</th>\n",
              "      <th>stays_in_week_nights</th>\n",
              "      <th>previous_cancellations</th>\n",
              "      <th>previous_bookings_not_canceled</th>\n",
              "      <th>booking_changes</th>\n",
              "      <th>adr</th>\n",
              "      <th>total_of_special_requests</th>\n",
              "      <th>is_canceled</th>\n",
              "      <th>arrival_date</th>\n",
              "      <th>...</th>\n",
              "      <th>agent_specified_1</th>\n",
              "      <th>more_than_zero_days_in_waiting_list_1</th>\n",
              "      <th>season_Spring</th>\n",
              "      <th>season_Summer</th>\n",
              "      <th>season_Winter</th>\n",
              "      <th>region_Americas</th>\n",
              "      <th>region_Asia</th>\n",
              "      <th>region_Europe</th>\n",
              "      <th>region_Oceania</th>\n",
              "      <th>room_type_match_True</th>\n",
              "    </tr>\n",
              "  </thead>\n",
              "  <tbody>\n",
              "    <tr>\n",
              "      <th>0</th>\n",
              "      <td>1.633333</td>\n",
              "      <td>1.0</td>\n",
              "      <td>2.0</td>\n",
              "      <td>0.0</td>\n",
              "      <td>0</td>\n",
              "      <td>0</td>\n",
              "      <td>115.5</td>\n",
              "      <td>1</td>\n",
              "      <td>1</td>\n",
              "      <td>1.473034e+09</td>\n",
              "      <td>...</td>\n",
              "      <td>1</td>\n",
              "      <td>0</td>\n",
              "      <td>0</td>\n",
              "      <td>1</td>\n",
              "      <td>0</td>\n",
              "      <td>1</td>\n",
              "      <td>0</td>\n",
              "      <td>0</td>\n",
              "      <td>0</td>\n",
              "      <td>1</td>\n",
              "    </tr>\n",
              "    <tr>\n",
              "      <th>1</th>\n",
              "      <td>0.133333</td>\n",
              "      <td>0.0</td>\n",
              "      <td>1.0</td>\n",
              "      <td>0.0</td>\n",
              "      <td>0</td>\n",
              "      <td>0</td>\n",
              "      <td>42.0</td>\n",
              "      <td>0</td>\n",
              "      <td>0</td>\n",
              "      <td>1.446250e+09</td>\n",
              "      <td>...</td>\n",
              "      <td>0</td>\n",
              "      <td>0</td>\n",
              "      <td>0</td>\n",
              "      <td>0</td>\n",
              "      <td>0</td>\n",
              "      <td>0</td>\n",
              "      <td>0</td>\n",
              "      <td>1</td>\n",
              "      <td>0</td>\n",
              "      <td>1</td>\n",
              "    </tr>\n",
              "    <tr>\n",
              "      <th>2</th>\n",
              "      <td>0.833333</td>\n",
              "      <td>0.0</td>\n",
              "      <td>1.0</td>\n",
              "      <td>0.0</td>\n",
              "      <td>0</td>\n",
              "      <td>0</td>\n",
              "      <td>229.0</td>\n",
              "      <td>2</td>\n",
              "      <td>0</td>\n",
              "      <td>1.476317e+09</td>\n",
              "      <td>...</td>\n",
              "      <td>1</td>\n",
              "      <td>0</td>\n",
              "      <td>0</td>\n",
              "      <td>0</td>\n",
              "      <td>0</td>\n",
              "      <td>0</td>\n",
              "      <td>0</td>\n",
              "      <td>1</td>\n",
              "      <td>0</td>\n",
              "      <td>1</td>\n",
              "    </tr>\n",
              "    <tr>\n",
              "      <th>3</th>\n",
              "      <td>0.866667</td>\n",
              "      <td>2.0</td>\n",
              "      <td>5.0</td>\n",
              "      <td>0.0</td>\n",
              "      <td>0</td>\n",
              "      <td>0</td>\n",
              "      <td>75.0</td>\n",
              "      <td>0</td>\n",
              "      <td>1</td>\n",
              "      <td>1.481501e+09</td>\n",
              "      <td>...</td>\n",
              "      <td>1</td>\n",
              "      <td>0</td>\n",
              "      <td>0</td>\n",
              "      <td>0</td>\n",
              "      <td>0</td>\n",
              "      <td>0</td>\n",
              "      <td>0</td>\n",
              "      <td>1</td>\n",
              "      <td>0</td>\n",
              "      <td>1</td>\n",
              "    </tr>\n",
              "    <tr>\n",
              "      <th>4</th>\n",
              "      <td>3.466667</td>\n",
              "      <td>2.0</td>\n",
              "      <td>5.0</td>\n",
              "      <td>0.0</td>\n",
              "      <td>0</td>\n",
              "      <td>0</td>\n",
              "      <td>75.0</td>\n",
              "      <td>1</td>\n",
              "      <td>0</td>\n",
              "      <td>1.489882e+09</td>\n",
              "      <td>...</td>\n",
              "      <td>1</td>\n",
              "      <td>0</td>\n",
              "      <td>0</td>\n",
              "      <td>0</td>\n",
              "      <td>1</td>\n",
              "      <td>0</td>\n",
              "      <td>0</td>\n",
              "      <td>1</td>\n",
              "      <td>0</td>\n",
              "      <td>1</td>\n",
              "    </tr>\n",
              "  </tbody>\n",
              "</table>\n",
              "<p>5 rows × 33 columns</p>\n",
              "</div>\n",
              "      <button class=\"colab-df-convert\" onclick=\"convertToInteractive('df-7e98c48d-5d91-4aa7-b993-5a7aea6cb139')\"\n",
              "              title=\"Convert this dataframe to an interactive table.\"\n",
              "              style=\"display:none;\">\n",
              "        \n",
              "  <svg xmlns=\"http://www.w3.org/2000/svg\" height=\"24px\"viewBox=\"0 0 24 24\"\n",
              "       width=\"24px\">\n",
              "    <path d=\"M0 0h24v24H0V0z\" fill=\"none\"/>\n",
              "    <path d=\"M18.56 5.44l.94 2.06.94-2.06 2.06-.94-2.06-.94-.94-2.06-.94 2.06-2.06.94zm-11 1L8.5 8.5l.94-2.06 2.06-.94-2.06-.94L8.5 2.5l-.94 2.06-2.06.94zm10 10l.94 2.06.94-2.06 2.06-.94-2.06-.94-.94-2.06-.94 2.06-2.06.94z\"/><path d=\"M17.41 7.96l-1.37-1.37c-.4-.4-.92-.59-1.43-.59-.52 0-1.04.2-1.43.59L10.3 9.45l-7.72 7.72c-.78.78-.78 2.05 0 2.83L4 21.41c.39.39.9.59 1.41.59.51 0 1.02-.2 1.41-.59l7.78-7.78 2.81-2.81c.8-.78.8-2.07 0-2.86zM5.41 20L4 18.59l7.72-7.72 1.47 1.35L5.41 20z\"/>\n",
              "  </svg>\n",
              "      </button>\n",
              "      \n",
              "  <style>\n",
              "    .colab-df-container {\n",
              "      display:flex;\n",
              "      flex-wrap:wrap;\n",
              "      gap: 12px;\n",
              "    }\n",
              "\n",
              "    .colab-df-convert {\n",
              "      background-color: #E8F0FE;\n",
              "      border: none;\n",
              "      border-radius: 50%;\n",
              "      cursor: pointer;\n",
              "      display: none;\n",
              "      fill: #1967D2;\n",
              "      height: 32px;\n",
              "      padding: 0 0 0 0;\n",
              "      width: 32px;\n",
              "    }\n",
              "\n",
              "    .colab-df-convert:hover {\n",
              "      background-color: #E2EBFA;\n",
              "      box-shadow: 0px 1px 2px rgba(60, 64, 67, 0.3), 0px 1px 3px 1px rgba(60, 64, 67, 0.15);\n",
              "      fill: #174EA6;\n",
              "    }\n",
              "\n",
              "    [theme=dark] .colab-df-convert {\n",
              "      background-color: #3B4455;\n",
              "      fill: #D2E3FC;\n",
              "    }\n",
              "\n",
              "    [theme=dark] .colab-df-convert:hover {\n",
              "      background-color: #434B5C;\n",
              "      box-shadow: 0px 1px 3px 1px rgba(0, 0, 0, 0.15);\n",
              "      filter: drop-shadow(0px 1px 2px rgba(0, 0, 0, 0.3));\n",
              "      fill: #FFFFFF;\n",
              "    }\n",
              "  </style>\n",
              "\n",
              "      <script>\n",
              "        const buttonEl =\n",
              "          document.querySelector('#df-7e98c48d-5d91-4aa7-b993-5a7aea6cb139 button.colab-df-convert');\n",
              "        buttonEl.style.display =\n",
              "          google.colab.kernel.accessAllowed ? 'block' : 'none';\n",
              "\n",
              "        async function convertToInteractive(key) {\n",
              "          const element = document.querySelector('#df-7e98c48d-5d91-4aa7-b993-5a7aea6cb139');\n",
              "          const dataTable =\n",
              "            await google.colab.kernel.invokeFunction('convertToInteractive',\n",
              "                                                     [key], {});\n",
              "          if (!dataTable) return;\n",
              "\n",
              "          const docLinkHtml = 'Like what you see? Visit the ' +\n",
              "            '<a target=\"_blank\" href=https://colab.research.google.com/notebooks/data_table.ipynb>data table notebook</a>'\n",
              "            + ' to learn more about interactive tables.';\n",
              "          element.innerHTML = '';\n",
              "          dataTable['output_type'] = 'display_data';\n",
              "          await google.colab.output.renderOutput(dataTable, element);\n",
              "          const docLink = document.createElement('div');\n",
              "          docLink.innerHTML = docLinkHtml;\n",
              "          element.appendChild(docLink);\n",
              "        }\n",
              "      </script>\n",
              "    </div>\n",
              "  </div>\n",
              "  "
            ],
            "text/plain": [
              "   lead_time  stays_in_weekend_nights  stays_in_week_nights  \\\n",
              "0   1.633333                      1.0                   2.0   \n",
              "1   0.133333                      0.0                   1.0   \n",
              "2   0.833333                      0.0                   1.0   \n",
              "3   0.866667                      2.0                   5.0   \n",
              "4   3.466667                      2.0                   5.0   \n",
              "\n",
              "   previous_cancellations  previous_bookings_not_canceled  booking_changes  \\\n",
              "0                     0.0                               0                0   \n",
              "1                     0.0                               0                0   \n",
              "2                     0.0                               0                0   \n",
              "3                     0.0                               0                0   \n",
              "4                     0.0                               0                0   \n",
              "\n",
              "     adr  total_of_special_requests  is_canceled  arrival_date  ...  \\\n",
              "0  115.5                          1            1  1.473034e+09  ...   \n",
              "1   42.0                          0            0  1.446250e+09  ...   \n",
              "2  229.0                          2            0  1.476317e+09  ...   \n",
              "3   75.0                          0            1  1.481501e+09  ...   \n",
              "4   75.0                          1            0  1.489882e+09  ...   \n",
              "\n",
              "   agent_specified_1  more_than_zero_days_in_waiting_list_1  season_Spring  \\\n",
              "0                  1                                      0              0   \n",
              "1                  0                                      0              0   \n",
              "2                  1                                      0              0   \n",
              "3                  1                                      0              0   \n",
              "4                  1                                      0              0   \n",
              "\n",
              "   season_Summer  season_Winter  region_Americas  region_Asia  region_Europe  \\\n",
              "0              1              0                1            0              0   \n",
              "1              0              0                0            0              1   \n",
              "2              0              0                0            0              1   \n",
              "3              0              0                0            0              1   \n",
              "4              0              1                0            0              1   \n",
              "\n",
              "   region_Oceania  room_type_match_True  \n",
              "0               0                     1  \n",
              "1               0                     1  \n",
              "2               0                     1  \n",
              "3               0                     1  \n",
              "4               0                     1  \n",
              "\n",
              "[5 rows x 33 columns]"
            ]
          },
          "execution_count": 3,
          "metadata": {},
          "output_type": "execute_result"
        }
      ],
      "source": [
        "# ONE HOT ENCODING ...\n",
        "ds_trabajo_encoded = pd.get_dummies(ds_trabajo, columns=['hotel',\n",
        "                                                 'market_segment',\n",
        "                                                 'distribution_channel',\n",
        "                                                 'is_repeated_guest',\n",
        "                                                 'deposit_type',\n",
        "                                                 'customer_type',\n",
        "                                                 'agent_specified',\n",
        "                                                 'more_than_zero_days_in_waiting_list',\n",
        "                                                 'season',\n",
        "                                                 'region',\n",
        "                                                 'room_type_match'], drop_first=True)\n",
        "ds_trabajo_encoded.head()"
      ]
    },
    {
      "cell_type": "code",
      "execution_count": 4,
      "metadata": {
        "colab": {
          "base_uri": "https://localhost:8080/"
        },
        "id": "pUNUL9Wk2y1_",
        "outputId": "73a5d44e-eb73-4ac4-e37a-39bc0a968801"
      },
      "outputs": [
        {
          "data": {
            "text/plain": [
              "Index(['lead_time', 'stays_in_weekend_nights', 'stays_in_week_nights',\n",
              "       'previous_cancellations', 'previous_bookings_not_canceled',\n",
              "       'booking_changes', 'adr', 'total_of_special_requests', 'is_canceled',\n",
              "       'arrival_date', 'total_guests', 'hotel_Resort Hotel',\n",
              "       'market_segment_Groups', 'market_segment_Offline TA/TO',\n",
              "       'market_segment_Online TA', 'market_segment_Others',\n",
              "       'distribution_channel_Direct', 'distribution_channel_GDS',\n",
              "       'distribution_channel_TA/TO', 'is_repeated_guest_1',\n",
              "       'deposit_type_Non Refund', 'customer_type_Transient',\n",
              "       'customer_type_Transient-Party', 'agent_specified_1',\n",
              "       'more_than_zero_days_in_waiting_list_1', 'season_Spring',\n",
              "       'season_Summer', 'season_Winter', 'region_Americas', 'region_Asia',\n",
              "       'region_Europe', 'region_Oceania', 'room_type_match_True'],\n",
              "      dtype='object')"
            ]
          },
          "execution_count": 4,
          "metadata": {},
          "output_type": "execute_result"
        }
      ],
      "source": [
        "ds_trabajo_encoded.columns"
      ]
    },
    {
      "attachments": {},
      "cell_type": "markdown",
      "metadata": {
        "id": "wuasiyvQ2y2A"
      },
      "source": [
        "Generamos el código para mostrar las métricas y la matriz de confusión de nuestras predicciones "
      ]
    },
    {
      "cell_type": "code",
      "execution_count": 5,
      "metadata": {
        "id": "SR3Xqc9a2y2A"
      },
      "outputs": [],
      "source": [
        "def mostrar_metricas(y_test, y_pred):\n",
        "  print(classification_report(y_test,y_pred))\n",
        "\n",
        "  # Calcular las métricas de evaluación\n",
        "  accuracy = accuracy_score(y_test, y_pred)\n",
        "  recall = recall_score(y_test, y_pred)\n",
        "  precision = precision_score(y_test, y_pred)\n",
        "  f1 = f1_score(y_test, y_pred)\n",
        "\n",
        "  # Imprimir las métricas de evaluación\n",
        "  print(\"Accuracy:\", accuracy)\n",
        "  print(\"Recall:\", recall)\n",
        "  print(\"Precision:\", precision)\n",
        "  print(\"f1 score:\", f1)\n",
        "\n",
        "  cm = confusion_matrix(y_test,y_pred)\n",
        "  sns.heatmap(cm, cmap='Blues',annot=True,fmt='g')\n",
        "  plt.xlabel('Predicted')\n",
        "  plt.ylabel('True')"
      ]
    },
    {
      "attachments": {},
      "cell_type": "markdown",
      "metadata": {
        "id": "_X46Tqw12y2A"
      },
      "source": [
        "Como Keras no tiene una métrica F1 score predefinida para  utilizar al momento de compilar redes neuronales, vamos a definir una función externa a la biblioteca que calcula el F1 score, basándonos en la implementación que se muestra en [este artículo](https://aakashgoel12.medium.com/how-to-add-user-defined-function-get-f1-score-in-keras-metrics-3013f979ce0d)."
      ]
    },
    {
      "cell_type": "code",
      "execution_count": 6,
      "metadata": {
        "id": "ACYY2PqR2y2A"
      },
      "outputs": [],
      "source": [
        "import keras.backend as K\n",
        "def get_f1(y_true, y_pred): # taken from old keras source code\n",
        "    true_positives = K.sum(K.round(K.clip(y_true * y_pred, 0, 1)))\n",
        "    possible_positives = K.sum(K.round(K.clip(y_true, 0, 1)))\n",
        "    predicted_positives = K.sum(K.round(K.clip(y_pred, 0, 1)))\n",
        "    precision = true_positives / (predicted_positives + K.epsilon())\n",
        "    recall = true_positives / (possible_positives + K.epsilon())\n",
        "    f1_val = 2*(precision*recall)/(precision+recall+K.epsilon())\n",
        "    return f1_val"
      ]
    },
    {
      "attachments": {},
      "cell_type": "markdown",
      "metadata": {
        "id": "s5i2vqL-2y2A"
      },
      "source": [
        "# Modelo de Redes Neuronales"
      ]
    },
    {
      "attachments": {},
      "cell_type": "markdown",
      "metadata": {
        "id": "mOYSXY8l2y2A"
      },
      "source": [
        "Vamos a normalizar los datos para que todas las características tengan una escala similar y no dominen unas sobre otras durante el entrenamiento de nuestras redes neuronales y para mejorar su rendimiento. Lo aplicamos luego de hacer la división train-test con proporción 70/30."
      ]
    },
    {
      "cell_type": "code",
      "execution_count": 8,
      "metadata": {
        "id": "rRwOHMX22y2B"
      },
      "outputs": [],
      "source": [
        "import pandas as pd\n",
        "from sklearn import preprocessing\n",
        "from sklearn.model_selection import train_test_split\n",
        "\n",
        "# Creo un dataset con los features que voy a usar para clasificar\n",
        "ds_trabajo_x = ds_trabajo_encoded.drop(['is_canceled'], axis='columns')\n",
        "\n",
        "# Creo un dataset con la variable target\n",
        "ds_trabajo_y = ds_trabajo_encoded['is_canceled'].copy()\n",
        "\n",
        "# Genero los conjuntos de train y de test\n",
        "x_train, x_test, y_train, y_test = train_test_split(ds_trabajo_x,\n",
        "                                                    ds_trabajo_y, \n",
        "                                                    test_size=0.3,\n",
        "                                                    random_state=2)\n",
        "\n",
        "# Armo una versión estandarizada\n",
        "stand_scaler = preprocessing.StandardScaler()\n",
        "x_train_norm = pd.DataFrame(stand_scaler.fit_transform(x_train), columns=x_train.columns)\n",
        "x_test_norm = pd.DataFrame(stand_scaler.transform(x_test), columns=x_test.columns)\n"
      ]
    },
    {
      "attachments": {},
      "cell_type": "markdown",
      "metadata": {
        "id": "TTz0AZzj2y2B"
      },
      "source": [
        "Y establecemos una semilla para lograr que los resultados sean reproducibles."
      ]
    },
    {
      "cell_type": "code",
      "execution_count": 9,
      "metadata": {
        "id": "0hPGWOa82y2B"
      },
      "outputs": [],
      "source": [
        "# Establecer una semilla\n",
        "seed_value = 2\n",
        "np.random.seed(seed_value)\n",
        "tf.random.set_seed(seed_value)"
      ]
    },
    {
      "attachments": {},
      "cell_type": "markdown",
      "metadata": {
        "id": "yOqqIUMi2y2B"
      },
      "source": [
        "## Modelo 1: capa de entrada, capa de salida, optimizador SGD"
      ]
    },
    {
      "attachments": {},
      "cell_type": "markdown",
      "metadata": {
        "id": "qHLj8wLM2y2B"
      },
      "source": [
        "Observamos que nuestra red neuronal tendrá 32 neuronas de entrada y dos clases para la salida."
      ]
    },
    {
      "cell_type": "code",
      "execution_count": null,
      "metadata": {
        "id": "pdz4s57K2y2B",
        "outputId": "8fa849f7-fbdc-4648-8f6f-8ae21839756a"
      },
      "outputs": [
        {
          "name": "stdout",
          "output_type": "stream",
          "text": [
            "Cantidad de neuronas de entrada: 32\n",
            "Cantidad de clases de salida: 2\n"
          ]
        }
      ],
      "source": [
        "# Cantidad de clases de salida\n",
        "cant_clases=len(np.unique(y_train))\n",
        "# Cantidad de columnas de entrada\n",
        "d_in=len(x_train_norm.columns)\n",
        "\n",
        "print(f\"Cantidad de neuronas de entrada: {d_in}\")\n",
        "print(f\"Cantidad de clases de salida: {cant_clases}\")"
      ]
    },
    {
      "attachments": {},
      "cell_type": "markdown",
      "metadata": {
        "id": "X0Lz9AO22y2B"
      },
      "source": [
        "Vamos a empezar entrenando una red neuronal densa simple que sólo tenga dos capas. La capa de entrada tendrá 32 neuronas (cantidad de columnas en nuestro dataset) y la de salida sólo 1 (por ser clasificación binaria). Usaremos la función sigmoide como función de activación para este modelo."
      ]
    },
    {
      "cell_type": "code",
      "execution_count": null,
      "metadata": {
        "id": "D1QkjSTn2y2B",
        "outputId": "6f0b2e39-a63c-47ba-c884-c1076494858d"
      },
      "outputs": [
        {
          "name": "stdout",
          "output_type": "stream",
          "text": [
            "Model: \"sequential\"\n",
            "_________________________________________________________________\n",
            " Layer (type)                Output Shape              Param #   \n",
            "=================================================================\n",
            " dense (Dense)               (None, 1)                 33        \n",
            "                                                                 \n",
            "=================================================================\n",
            "Total params: 33\n",
            "Trainable params: 33\n",
            "Non-trainable params: 0\n",
            "_________________________________________________________________\n"
          ]
        }
      ],
      "source": [
        "modelo_rn_1 = keras.Sequential([\n",
        "    keras.layers.Dense(1, activation='sigmoid', input_shape=(d_in,))\n",
        "])\n",
        "\n",
        "modelo_rn_1.summary()"
      ]
    },
    {
      "attachments": {},
      "cell_type": "markdown",
      "metadata": {
        "id": "vZWXRsdl2y2C"
      },
      "source": [
        "Compilamos el modelo. Vamos a usar el optimizador SGD con learning rate de 0.01 y la función de pérdida binary_crossentropy. La métrica a evaluar en el modelo será F1 score."
      ]
    },
    {
      "cell_type": "code",
      "execution_count": null,
      "metadata": {
        "id": "bpGE_ouV2y2C"
      },
      "outputs": [],
      "source": [
        "modelo_rn_1.compile(\n",
        "  optimizer=keras.optimizers.SGD(learning_rate=0.01), \n",
        "  loss='binary_crossentropy', \n",
        "  metrics=[get_f1], \n",
        ")"
      ]
    },
    {
      "attachments": {},
      "cell_type": "markdown",
      "metadata": {
        "id": "QRieIx1K2y2C"
      },
      "source": [
        "Y lo entrenamos. Vamos a definir un batch size de 32 y 12 épocas. Por lo tanto, se dividirán las 43336 muestras del dataset de train en lotes de 32 muestras, para cada una de las 12 épocas, resultando así 43336/32 = 1355 lotes por época (la implementación redondea la división hacia arriba). Dado que estamos usando SGD, que actualiza pesos después de cada lote procesado, se actualizarán los pesos 1355 veces por época, siendo así 1355*12 = 16260 actualizaciones en el entrenamiento total."
      ]
    },
    {
      "cell_type": "code",
      "execution_count": null,
      "metadata": {
        "id": "g2F45dE_2y2C",
        "outputId": "144b641f-539f-49bc-d200-c632115ce49f"
      },
      "outputs": [
        {
          "name": "stdout",
          "output_type": "stream",
          "text": [
            "Epoch 1/12\n",
            "1355/1355 [==============================] - 3s 2ms/step - loss: 0.5327 - get_f1: 0.7134 - val_loss: 0.4914 - val_get_f1: 0.7390\n",
            "Epoch 2/12\n",
            "1355/1355 [==============================] - 2s 2ms/step - loss: 0.4846 - get_f1: 0.7372 - val_loss: 0.4831 - val_get_f1: 0.7412\n",
            "Epoch 3/12\n",
            "1355/1355 [==============================] - 2s 2ms/step - loss: 0.4790 - get_f1: 0.7403 - val_loss: 0.4797 - val_get_f1: 0.7436\n",
            "Epoch 4/12\n",
            "1355/1355 [==============================] - 2s 2ms/step - loss: 0.4763 - get_f1: 0.7417 - val_loss: 0.4773 - val_get_f1: 0.7460\n",
            "Epoch 5/12\n",
            "1355/1355 [==============================] - 2s 2ms/step - loss: 0.4745 - get_f1: 0.7445 - val_loss: 0.4759 - val_get_f1: 0.7465\n",
            "Epoch 6/12\n",
            "1355/1355 [==============================] - 2s 2ms/step - loss: 0.4731 - get_f1: 0.7439 - val_loss: 0.4748 - val_get_f1: 0.7478\n",
            "Epoch 7/12\n",
            "1355/1355 [==============================] - 2s 2ms/step - loss: 0.4721 - get_f1: 0.7465 - val_loss: 0.4741 - val_get_f1: 0.7461\n",
            "Epoch 8/12\n",
            "1355/1355 [==============================] - 2s 2ms/step - loss: 0.4712 - get_f1: 0.7462 - val_loss: 0.4732 - val_get_f1: 0.7486\n",
            "Epoch 9/12\n",
            "1355/1355 [==============================] - 2s 2ms/step - loss: 0.4706 - get_f1: 0.7465 - val_loss: 0.4725 - val_get_f1: 0.7496\n",
            "Epoch 10/12\n",
            "1355/1355 [==============================] - 2s 2ms/step - loss: 0.4701 - get_f1: 0.7478 - val_loss: 0.4719 - val_get_f1: 0.7487\n",
            "Epoch 11/12\n",
            "1355/1355 [==============================] - 2s 2ms/step - loss: 0.4695 - get_f1: 0.7472 - val_loss: 0.4712 - val_get_f1: 0.7503\n",
            "Epoch 12/12\n",
            "1355/1355 [==============================] - 2s 2ms/step - loss: 0.4692 - get_f1: 0.7484 - val_loss: 0.4709 - val_get_f1: 0.7495\n"
          ]
        },
        {
          "data": {
            "text/plain": [
              "<keras.callbacks.History at 0x1b656228e90>"
            ]
          },
          "execution_count": 12,
          "metadata": {},
          "output_type": "execute_result"
        }
      ],
      "source": [
        "modelo_rn_1.fit(x_train_norm, y_train, batch_size=32, epochs=12, validation_data=(x_test_norm, y_test))"
      ]
    },
    {
      "attachments": {},
      "cell_type": "markdown",
      "metadata": {
        "id": "aepTC0sS2y2C"
      },
      "source": [
        "Hacemos la predicción, convirtiendo las salidas continuas en predicciones binarias utilizando un umbral. Dado que creemos que es importante reducir los falsos negativos en el problema de predecir el estado de cancelación de reservas (es decir, queremos minimizar la clasificación incorrecta de reservas que en realidad serían canceladas, vamos a definir este umbral por debajo de 0.5, siendo así el modelo más permisivo al clasificar las reservas como canceladas. Analizamos las métricas obtenidas para distintos valores del umbral y observamos que con 0.4 mantenemos un recall y un f1 score similares. "
      ]
    },
    {
      "cell_type": "code",
      "execution_count": null,
      "metadata": {
        "id": "NDIyj1i12y2C",
        "outputId": "19f675cf-e843-4b5f-f6d6-853e97610dbd"
      },
      "outputs": [
        {
          "name": "stdout",
          "output_type": "stream",
          "text": [
            "581/581 [==============================] - 1s 904us/step\n",
            "              precision    recall  f1-score   support\n",
            "\n",
            "           0       0.76      0.75      0.75      9195\n",
            "           1       0.76      0.76      0.76      9378\n",
            "\n",
            "    accuracy                           0.76     18573\n",
            "   macro avg       0.76      0.76      0.76     18573\n",
            "weighted avg       0.76      0.76      0.76     18573\n",
            "\n",
            "Accuracy: 0.7569051849458892\n",
            "Recall: 0.7644487097462146\n",
            "Precision: 0.756622691292876\n",
            "f1 score: 0.7605155678141411\n"
          ]
        },
        {
          "data": {
            "image/png": "[encoded data removed]",
            "text/plain": [
              "<Figure size 640x480 with 2 Axes>"
            ]
          },
          "metadata": {},
          "output_type": "display_data"
        }
      ],
      "source": [
        "y_pred_norm = modelo_rn_1.predict(x_test_norm)\n",
        "y_pred = np.where(y_pred_norm > 0.45, 1, 0)\n",
        "mostrar_metricas(y_test, y_pred)"
      ]
    },
    {
      "attachments": {},
      "cell_type": "markdown",
      "metadata": {
        "id": "07Ftqb5p2y2C"
      },
      "source": [
        "Obtuvimos métricas decentes con este modelo de red neuronal simple. Vamos a entrenar más modelos con arquitecturas distintas para lograr mejorar estas métricas e intentar llevarlas a valores superiores a los obtenidos con modelos anteriores."
      ]
    },
    {
      "attachments": {},
      "cell_type": "markdown",
      "metadata": {
        "id": "hWnr9CfI2y2D"
      },
      "source": [
        "## Modelos 2 y 3: una capa oculta, optimizador Adam"
      ]
    },
    {
      "attachments": {},
      "cell_type": "markdown",
      "metadata": {
        "id": "Ekn9d00d2y2D"
      },
      "source": [
        "Para nuestra segunda iteración, a la arquitectura de nuestra red neuronal densa le vamos a agregar una capa oculta con 20 neuronas y usará la función de activación ReLu. Para la capa de salida, usaremos la sigmoidea. "
      ]
    },
    {
      "cell_type": "code",
      "execution_count": null,
      "metadata": {
        "id": "6yH1LDWB2y2D"
      },
      "outputs": [],
      "source": [
        "modelo_rn_2 = keras.Sequential([\n",
        "    keras.layers.Dense(32, activation='relu', input_shape=(d_in,)),\n",
        "    keras.layers.Dense(20, activation='relu'),\n",
        "    keras.layers.Dense(1, activation='sigmoid')\n",
        "])"
      ]
    },
    {
      "attachments": {},
      "cell_type": "markdown",
      "metadata": {
        "id": "d14kSCcD2y2D"
      },
      "source": [
        "Esta vez vamos a compilar con el optimizador Adam y un learning rate de 0.001. Nuevamente vamos a elegir optimizar F1 score."
      ]
    },
    {
      "cell_type": "code",
      "execution_count": null,
      "metadata": {
        "id": "9W536yEv2y2D"
      },
      "outputs": [],
      "source": [
        "modelo_rn_2.compile(\n",
        "  optimizer=keras.optimizers.Adam(learning_rate=0.001), \n",
        "  loss='binary_crossentropy', \n",
        "  metrics=[get_f1], \n",
        ")"
      ]
    },
    {
      "attachments": {},
      "cell_type": "markdown",
      "metadata": {
        "id": "uCzk4s3u2y2D"
      },
      "source": [
        "Lo entrenamos con un batch size de 35 y 30 épocas."
      ]
    },
    {
      "cell_type": "code",
      "execution_count": null,
      "metadata": {
        "id": "Q7GJ9aUp2y2D",
        "outputId": "5ce1aaf2-0bbc-47cd-99db-ae924caa7771"
      },
      "outputs": [
        {
          "name": "stdout",
          "output_type": "stream",
          "text": [
            "Epoch 1/30\n",
            "1239/1239 [==============================] - 3s 2ms/step - loss: 0.4692 - get_f1: 0.7426 - val_loss: 0.4379 - val_get_f1: 0.7662\n",
            "Epoch 2/30\n",
            "1239/1239 [==============================] - 2s 2ms/step - loss: 0.4306 - get_f1: 0.7695 - val_loss: 0.4289 - val_get_f1: 0.7778\n",
            "Epoch 3/30\n",
            "1239/1239 [==============================] - 2s 2ms/step - loss: 0.4195 - get_f1: 0.7787 - val_loss: 0.4198 - val_get_f1: 0.7800\n",
            "Epoch 4/30\n",
            "1239/1239 [==============================] - 2s 2ms/step - loss: 0.4128 - get_f1: 0.7817 - val_loss: 0.4162 - val_get_f1: 0.7871\n",
            "Epoch 5/30\n",
            "1239/1239 [==============================] - 2s 2ms/step - loss: 0.4075 - get_f1: 0.7862 - val_loss: 0.4137 - val_get_f1: 0.7850\n",
            "Epoch 6/30\n",
            "1239/1239 [==============================] - 2s 2ms/step - loss: 0.4040 - get_f1: 0.7890 - val_loss: 0.4119 - val_get_f1: 0.7827\n",
            "Epoch 7/30\n",
            "1239/1239 [==============================] - 2s 2ms/step - loss: 0.4006 - get_f1: 0.7910 - val_loss: 0.4101 - val_get_f1: 0.7955\n",
            "Epoch 8/30\n",
            "1239/1239 [==============================] - 2s 2ms/step - loss: 0.3971 - get_f1: 0.7929 - val_loss: 0.4088 - val_get_f1: 0.7949\n",
            "Epoch 9/30\n",
            "1239/1239 [==============================] - 2s 2ms/step - loss: 0.3956 - get_f1: 0.7956 - val_loss: 0.4084 - val_get_f1: 0.7878\n",
            "Epoch 10/30\n",
            "1239/1239 [==============================] - 2s 2ms/step - loss: 0.3942 - get_f1: 0.7939 - val_loss: 0.4052 - val_get_f1: 0.7947\n",
            "Epoch 11/30\n",
            "1239/1239 [==============================] - 2s 2ms/step - loss: 0.3920 - get_f1: 0.7952 - val_loss: 0.4072 - val_get_f1: 0.7965\n",
            "Epoch 12/30\n",
            "1239/1239 [==============================] - 2s 2ms/step - loss: 0.3908 - get_f1: 0.7974 - val_loss: 0.4045 - val_get_f1: 0.7956\n",
            "Epoch 13/30\n",
            "1239/1239 [==============================] - 2s 2ms/step - loss: 0.3898 - get_f1: 0.7983 - val_loss: 0.4039 - val_get_f1: 0.7888\n",
            "Epoch 14/30\n",
            "1239/1239 [==============================] - 2s 2ms/step - loss: 0.3884 - get_f1: 0.7986 - val_loss: 0.4095 - val_get_f1: 0.7862\n",
            "Epoch 15/30\n",
            "1239/1239 [==============================] - 2s 2ms/step - loss: 0.3871 - get_f1: 0.8001 - val_loss: 0.4055 - val_get_f1: 0.7976\n",
            "Epoch 16/30\n",
            "1239/1239 [==============================] - 2s 2ms/step - loss: 0.3863 - get_f1: 0.7994 - val_loss: 0.4043 - val_get_f1: 0.7896\n",
            "Epoch 17/30\n",
            "1239/1239 [==============================] - 2s 2ms/step - loss: 0.3854 - get_f1: 0.7991 - val_loss: 0.4051 - val_get_f1: 0.7994\n",
            "Epoch 18/30\n",
            "1239/1239 [==============================] - 2s 2ms/step - loss: 0.3843 - get_f1: 0.8015 - val_loss: 0.4021 - val_get_f1: 0.8000\n",
            "Epoch 19/30\n",
            "1239/1239 [==============================] - 2s 2ms/step - loss: 0.3834 - get_f1: 0.8013 - val_loss: 0.4018 - val_get_f1: 0.7882\n",
            "Epoch 20/30\n",
            "1239/1239 [==============================] - 2s 2ms/step - loss: 0.3827 - get_f1: 0.8017 - val_loss: 0.4020 - val_get_f1: 0.7890\n",
            "Epoch 21/30\n",
            "1239/1239 [==============================] - 2s 2ms/step - loss: 0.3821 - get_f1: 0.8009 - val_loss: 0.4021 - val_get_f1: 0.7947\n",
            "Epoch 22/30\n",
            "1239/1239 [==============================] - 2s 2ms/step - loss: 0.3812 - get_f1: 0.8043 - val_loss: 0.4053 - val_get_f1: 0.7856\n",
            "Epoch 23/30\n",
            "1239/1239 [==============================] - 2s 2ms/step - loss: 0.3803 - get_f1: 0.8049 - val_loss: 0.4039 - val_get_f1: 0.7917\n",
            "Epoch 24/30\n",
            "1239/1239 [==============================] - 2s 2ms/step - loss: 0.3802 - get_f1: 0.8022 - val_loss: 0.4025 - val_get_f1: 0.7889\n",
            "Epoch 25/30\n",
            "1239/1239 [==============================] - 2s 2ms/step - loss: 0.3793 - get_f1: 0.8031 - val_loss: 0.4012 - val_get_f1: 0.7937\n",
            "Epoch 26/30\n",
            "1239/1239 [==============================] - 2s 2ms/step - loss: 0.3783 - get_f1: 0.8046 - val_loss: 0.4027 - val_get_f1: 0.7926\n",
            "Epoch 27/30\n",
            "1239/1239 [==============================] - 2s 2ms/step - loss: 0.3770 - get_f1: 0.8063 - val_loss: 0.4051 - val_get_f1: 0.7935\n",
            "Epoch 28/30\n",
            "1239/1239 [==============================] - 2s 2ms/step - loss: 0.3771 - get_f1: 0.8053 - val_loss: 0.4019 - val_get_f1: 0.7944\n",
            "Epoch 29/30\n",
            "1239/1239 [==============================] - 2s 2ms/step - loss: 0.3769 - get_f1: 0.8050 - val_loss: 0.4021 - val_get_f1: 0.8031\n",
            "Epoch 30/30\n",
            "1239/1239 [==============================] - 2s 2ms/step - loss: 0.3754 - get_f1: 0.8070 - val_loss: 0.4050 - val_get_f1: 0.7938\n"
          ]
        },
        {
          "data": {
            "text/plain": [
              "<keras.callbacks.History at 0x1b66485c9d0>"
            ]
          },
          "execution_count": 16,
          "metadata": {},
          "output_type": "execute_result"
        }
      ],
      "source": [
        "modelo_rn_2.fit(x_train_norm, y_train, batch_size=35, epochs=30, validation_data=(x_test_norm, y_test))"
      ]
    },
    {
      "attachments": {},
      "cell_type": "markdown",
      "metadata": {
        "id": "eScgCnVy2y2D"
      },
      "source": [
        "Observamos que se logra mejorar todas las métricas con esta nueva arquitectura. Agregar una capa oculta y modificar ligeramente otros valores resultó en que el modelo aprenda relaciones más complejas entre los datos."
      ]
    },
    {
      "cell_type": "code",
      "execution_count": null,
      "metadata": {
        "id": "DF2XtzWg2y2D",
        "outputId": "e6711270-6acb-4085-d035-afddf7726f5f"
      },
      "outputs": [
        {
          "name": "stdout",
          "output_type": "stream",
          "text": [
            "581/581 [==============================] - 1s 981us/step\n",
            "              precision    recall  f1-score   support\n",
            "\n",
            "           0       0.80      0.81      0.80      9195\n",
            "           1       0.81      0.80      0.80      9378\n",
            "\n",
            "    accuracy                           0.80     18573\n",
            "   macro avg       0.80      0.80      0.80     18573\n",
            "weighted avg       0.80      0.80      0.80     18573\n",
            "\n",
            "Accuracy: 0.8046088407903946\n",
            "Recall: 0.7955854126679462\n",
            "Precision: 0.8133653112395073\n",
            "f1 score: 0.8043771225270875\n"
          ]
        },
        {
          "data": {
            "image/png": "[encoded data removed]",
            "text/plain": [
              "<Figure size 640x480 with 2 Axes>"
            ]
          },
          "metadata": {},
          "output_type": "display_data"
        }
      ],
      "source": [
        "y_pred_norm = modelo_rn_2.predict(x_test_norm)\n",
        "y_pred = np.where(y_pred_norm > 0.45, 1, 0)\n",
        "mostrar_metricas(y_test, y_pred)"
      ]
    },
    {
      "attachments": {},
      "cell_type": "markdown",
      "metadata": {
        "id": "D3DPiqOZ2y2E"
      },
      "source": [
        "Exportamos este primer red neuronal con métricas por encima de 80% en formato pickle"
      ]
    },
    {
      "cell_type": "code",
      "execution_count": null,
      "metadata": {
        "id": "trJdjfb82y2E"
      },
      "outputs": [],
      "source": [
        "import pickle\n",
        "\n",
        "with open('models/rn/rn1_model.pickle', 'wb') as archivo:\n",
        "    pickle.dump(modelo_rn_2, archivo)"
      ]
    },
    {
      "attachments": {},
      "cell_type": "markdown",
      "metadata": {
        "id": "vLmb0fqC2y2E"
      },
      "source": [
        "Vamos a incrementar la cantidad de neuronas para que el modelo pueda aprender más patrones."
      ]
    },
    {
      "cell_type": "code",
      "execution_count": null,
      "metadata": {
        "id": "3af_2iHP2y2E"
      },
      "outputs": [],
      "source": [
        "modelo_rn_3 = keras.Sequential([\n",
        "    keras.layers.Dense(250, activation='relu', input_shape=(d_in,)),\n",
        "    keras.layers.Dense(150, activation='relu'),\n",
        "    keras.layers.Dense(1, activation='sigmoid')\n",
        "])"
      ]
    },
    {
      "cell_type": "code",
      "execution_count": null,
      "metadata": {
        "id": "2WJZec6m2y2E"
      },
      "outputs": [],
      "source": [
        "modelo_rn_3.compile(\n",
        "  optimizer=keras.optimizers.Adam(learning_rate=0.001), \n",
        "  loss='binary_crossentropy', \n",
        "  metrics=[get_f1], \n",
        ")"
      ]
    },
    {
      "attachments": {},
      "cell_type": "markdown",
      "metadata": {
        "id": "Jl-AZqn82y2H"
      },
      "source": [
        "Entrenaremos la red neuronal y analizaremos cómo evoluciona el modelo a través de las épocas a partir de un gráfico."
      ]
    },
    {
      "cell_type": "code",
      "execution_count": null,
      "metadata": {
        "id": "8ypun7Rb2y2H",
        "outputId": "fe941553-5c24-40b4-a23c-f21c95e3ed8f"
      },
      "outputs": [
        {
          "name": "stdout",
          "output_type": "stream",
          "text": [
            "Epoch 1/100\n",
            "678/678 [==============================] - 3s 3ms/step - loss: 0.4456 - get_f1: 0.7631 - val_loss: 0.4239 - val_get_f1: 0.7798\n",
            "Epoch 2/100\n",
            "678/678 [==============================] - 2s 3ms/step - loss: 0.4140 - get_f1: 0.7819 - val_loss: 0.4165 - val_get_f1: 0.7879\n",
            "Epoch 3/100\n",
            "678/678 [==============================] - 2s 3ms/step - loss: 0.4016 - get_f1: 0.7924 - val_loss: 0.4029 - val_get_f1: 0.7929\n",
            "Epoch 4/100\n",
            "678/678 [==============================] - 2s 3ms/step - loss: 0.3945 - get_f1: 0.7975 - val_loss: 0.4000 - val_get_f1: 0.7969\n",
            "Epoch 5/100\n",
            "678/678 [==============================] - 2s 3ms/step - loss: 0.3874 - get_f1: 0.8011 - val_loss: 0.3987 - val_get_f1: 0.7999\n",
            "Epoch 6/100\n",
            "678/678 [==============================] - 2s 3ms/step - loss: 0.3815 - get_f1: 0.8061 - val_loss: 0.3988 - val_get_f1: 0.7932\n",
            "Epoch 7/100\n",
            "678/678 [==============================] - 2s 3ms/step - loss: 0.3778 - get_f1: 0.8067 - val_loss: 0.3942 - val_get_f1: 0.8063\n",
            "Epoch 8/100\n",
            "678/678 [==============================] - 3s 4ms/step - loss: 0.3718 - get_f1: 0.8117 - val_loss: 0.3969 - val_get_f1: 0.8093\n",
            "Epoch 9/100\n",
            "678/678 [==============================] - 2s 4ms/step - loss: 0.3676 - get_f1: 0.8157 - val_loss: 0.3923 - val_get_f1: 0.8073\n",
            "Epoch 10/100\n",
            "678/678 [==============================] - 3s 4ms/step - loss: 0.3637 - get_f1: 0.8178 - val_loss: 0.3934 - val_get_f1: 0.8115\n",
            "Epoch 11/100\n",
            "678/678 [==============================] - 2s 4ms/step - loss: 0.3592 - get_f1: 0.8201 - val_loss: 0.3897 - val_get_f1: 0.8133\n",
            "Epoch 12/100\n",
            "678/678 [==============================] - 3s 4ms/step - loss: 0.3561 - get_f1: 0.8226 - val_loss: 0.3925 - val_get_f1: 0.8126\n",
            "Epoch 13/100\n",
            "678/678 [==============================] - 3s 4ms/step - loss: 0.3519 - get_f1: 0.8242 - val_loss: 0.3919 - val_get_f1: 0.8056\n",
            "Epoch 14/100\n",
            "678/678 [==============================] - 2s 4ms/step - loss: 0.3485 - get_f1: 0.8254 - val_loss: 0.3923 - val_get_f1: 0.8035\n",
            "Epoch 15/100\n",
            "678/678 [==============================] - 2s 3ms/step - loss: 0.3443 - get_f1: 0.8295 - val_loss: 0.3902 - val_get_f1: 0.8144\n",
            "Epoch 16/100\n",
            "678/678 [==============================] - 2s 3ms/step - loss: 0.3413 - get_f1: 0.8311 - val_loss: 0.3913 - val_get_f1: 0.8061\n",
            "Epoch 17/100\n",
            "678/678 [==============================] - 2s 3ms/step - loss: 0.3381 - get_f1: 0.8322 - val_loss: 0.3922 - val_get_f1: 0.8153\n",
            "Epoch 18/100\n",
            "678/678 [==============================] - 2s 3ms/step - loss: 0.3335 - get_f1: 0.8353 - val_loss: 0.3981 - val_get_f1: 0.8142\n",
            "Epoch 19/100\n",
            "678/678 [==============================] - 2s 3ms/step - loss: 0.3297 - get_f1: 0.8378 - val_loss: 0.3916 - val_get_f1: 0.8113\n",
            "Epoch 20/100\n",
            "678/678 [==============================] - 2s 3ms/step - loss: 0.3268 - get_f1: 0.8383 - val_loss: 0.3958 - val_get_f1: 0.8042\n",
            "Epoch 21/100\n",
            "678/678 [==============================] - 2s 3ms/step - loss: 0.3235 - get_f1: 0.8411 - val_loss: 0.3969 - val_get_f1: 0.8133\n",
            "Epoch 22/100\n",
            "678/678 [==============================] - 2s 3ms/step - loss: 0.3193 - get_f1: 0.8421 - val_loss: 0.4046 - val_get_f1: 0.8017\n",
            "Epoch 23/100\n",
            "678/678 [==============================] - 2s 3ms/step - loss: 0.3156 - get_f1: 0.8458 - val_loss: 0.4081 - val_get_f1: 0.8093\n",
            "Epoch 24/100\n",
            "678/678 [==============================] - 2s 3ms/step - loss: 0.3135 - get_f1: 0.8460 - val_loss: 0.4096 - val_get_f1: 0.8056\n",
            "Epoch 25/100\n",
            "678/678 [==============================] - 2s 3ms/step - loss: 0.3096 - get_f1: 0.8499 - val_loss: 0.4026 - val_get_f1: 0.8109\n",
            "Epoch 26/100\n",
            "678/678 [==============================] - 2s 3ms/step - loss: 0.3059 - get_f1: 0.8505 - val_loss: 0.4074 - val_get_f1: 0.8081\n",
            "Epoch 27/100\n",
            "678/678 [==============================] - 2s 3ms/step - loss: 0.3033 - get_f1: 0.8539 - val_loss: 0.4145 - val_get_f1: 0.8112\n",
            "Epoch 28/100\n",
            "678/678 [==============================] - 2s 4ms/step - loss: 0.2994 - get_f1: 0.8553 - val_loss: 0.4124 - val_get_f1: 0.8125\n",
            "Epoch 29/100\n",
            "678/678 [==============================] - 3s 4ms/step - loss: 0.2965 - get_f1: 0.8569 - val_loss: 0.4125 - val_get_f1: 0.8148\n",
            "Epoch 30/100\n",
            "678/678 [==============================] - 2s 3ms/step - loss: 0.2923 - get_f1: 0.8590 - val_loss: 0.4191 - val_get_f1: 0.8096\n",
            "Epoch 31/100\n",
            "678/678 [==============================] - 2s 3ms/step - loss: 0.2897 - get_f1: 0.8595 - val_loss: 0.4246 - val_get_f1: 0.8070\n",
            "Epoch 32/100\n",
            "678/678 [==============================] - 2s 4ms/step - loss: 0.2874 - get_f1: 0.8610 - val_loss: 0.4182 - val_get_f1: 0.8072\n",
            "Epoch 33/100\n",
            "678/678 [==============================] - 2s 3ms/step - loss: 0.2853 - get_f1: 0.8621 - val_loss: 0.4299 - val_get_f1: 0.8114\n",
            "Epoch 34/100\n",
            "678/678 [==============================] - 2s 3ms/step - loss: 0.2806 - get_f1: 0.8651 - val_loss: 0.4288 - val_get_f1: 0.8062\n",
            "Epoch 35/100\n",
            "678/678 [==============================] - 2s 3ms/step - loss: 0.2772 - get_f1: 0.8655 - val_loss: 0.4332 - val_get_f1: 0.8093\n",
            "Epoch 36/100\n",
            "678/678 [==============================] - 2s 4ms/step - loss: 0.2766 - get_f1: 0.8646 - val_loss: 0.4321 - val_get_f1: 0.8140\n",
            "Epoch 37/100\n",
            "678/678 [==============================] - 2s 3ms/step - loss: 0.2722 - get_f1: 0.8709 - val_loss: 0.4401 - val_get_f1: 0.8056\n",
            "Epoch 38/100\n",
            "678/678 [==============================] - 2s 3ms/step - loss: 0.2699 - get_f1: 0.8688 - val_loss: 0.4467 - val_get_f1: 0.8056\n",
            "Epoch 39/100\n",
            "678/678 [==============================] - 2s 3ms/step - loss: 0.2665 - get_f1: 0.8723 - val_loss: 0.4441 - val_get_f1: 0.8078\n",
            "Epoch 40/100\n",
            "678/678 [==============================] - 2s 3ms/step - loss: 0.2656 - get_f1: 0.8722 - val_loss: 0.4458 - val_get_f1: 0.8028\n",
            "Epoch 41/100\n",
            "678/678 [==============================] - 2s 3ms/step - loss: 0.2616 - get_f1: 0.8737 - val_loss: 0.4524 - val_get_f1: 0.8090\n",
            "Epoch 42/100\n",
            "678/678 [==============================] - 2s 3ms/step - loss: 0.2617 - get_f1: 0.8747 - val_loss: 0.4567 - val_get_f1: 0.8047\n",
            "Epoch 43/100\n",
            "678/678 [==============================] - 2s 3ms/step - loss: 0.2561 - get_f1: 0.8778 - val_loss: 0.4608 - val_get_f1: 0.8111\n",
            "Epoch 44/100\n",
            "678/678 [==============================] - 2s 4ms/step - loss: 0.2549 - get_f1: 0.8787 - val_loss: 0.4550 - val_get_f1: 0.8129\n",
            "Epoch 45/100\n",
            "678/678 [==============================] - 2s 3ms/step - loss: 0.2514 - get_f1: 0.8803 - val_loss: 0.4760 - val_get_f1: 0.8105\n",
            "Epoch 46/100\n",
            "678/678 [==============================] - 2s 3ms/step - loss: 0.2505 - get_f1: 0.8805 - val_loss: 0.4722 - val_get_f1: 0.8068\n",
            "Epoch 47/100\n",
            "678/678 [==============================] - 2s 3ms/step - loss: 0.2486 - get_f1: 0.8810 - val_loss: 0.4746 - val_get_f1: 0.8076\n",
            "Epoch 48/100\n",
            "678/678 [==============================] - 2s 4ms/step - loss: 0.2453 - get_f1: 0.8837 - val_loss: 0.4788 - val_get_f1: 0.7970\n",
            "Epoch 49/100\n",
            "678/678 [==============================] - 2s 3ms/step - loss: 0.2442 - get_f1: 0.8834 - val_loss: 0.4804 - val_get_f1: 0.8076\n",
            "Epoch 50/100\n",
            "678/678 [==============================] - 2s 3ms/step - loss: 0.2424 - get_f1: 0.8847 - val_loss: 0.4863 - val_get_f1: 0.8079\n",
            "Epoch 51/100\n",
            "678/678 [==============================] - 2s 4ms/step - loss: 0.2408 - get_f1: 0.8855 - val_loss: 0.4922 - val_get_f1: 0.8064\n",
            "Epoch 52/100\n",
            "678/678 [==============================] - 2s 4ms/step - loss: 0.2384 - get_f1: 0.8867 - val_loss: 0.4962 - val_get_f1: 0.8002\n",
            "Epoch 53/100\n",
            "678/678 [==============================] - 2s 3ms/step - loss: 0.2357 - get_f1: 0.8876 - val_loss: 0.4972 - val_get_f1: 0.8102\n",
            "Epoch 54/100\n",
            "678/678 [==============================] - 2s 3ms/step - loss: 0.2320 - get_f1: 0.8908 - val_loss: 0.5100 - val_get_f1: 0.8044\n",
            "Epoch 55/100\n",
            "678/678 [==============================] - 2s 3ms/step - loss: 0.2326 - get_f1: 0.8915 - val_loss: 0.5109 - val_get_f1: 0.7982\n",
            "Epoch 56/100\n",
            "678/678 [==============================] - 2s 3ms/step - loss: 0.2310 - get_f1: 0.8919 - val_loss: 0.5013 - val_get_f1: 0.8069\n",
            "Epoch 57/100\n",
            "678/678 [==============================] - 2s 4ms/step - loss: 0.2295 - get_f1: 0.8928 - val_loss: 0.5074 - val_get_f1: 0.8032\n",
            "Epoch 58/100\n",
            "678/678 [==============================] - 2s 3ms/step - loss: 0.2267 - get_f1: 0.8934 - val_loss: 0.5201 - val_get_f1: 0.8054\n",
            "Epoch 59/100\n",
            "678/678 [==============================] - 2s 4ms/step - loss: 0.2256 - get_f1: 0.8942 - val_loss: 0.5251 - val_get_f1: 0.8095\n",
            "Epoch 60/100\n",
            "678/678 [==============================] - 2s 3ms/step - loss: 0.2224 - get_f1: 0.8968 - val_loss: 0.5288 - val_get_f1: 0.8047\n",
            "Epoch 61/100\n",
            "678/678 [==============================] - 2s 3ms/step - loss: 0.2206 - get_f1: 0.8975 - val_loss: 0.5262 - val_get_f1: 0.8033\n",
            "Epoch 62/100\n",
            "678/678 [==============================] - 3s 4ms/step - loss: 0.2207 - get_f1: 0.8971 - val_loss: 0.5392 - val_get_f1: 0.8060\n",
            "Epoch 63/100\n",
            "678/678 [==============================] - 2s 3ms/step - loss: 0.2184 - get_f1: 0.8975 - val_loss: 0.5364 - val_get_f1: 0.8056\n",
            "Epoch 64/100\n",
            "678/678 [==============================] - 2s 3ms/step - loss: 0.2170 - get_f1: 0.8975 - val_loss: 0.5369 - val_get_f1: 0.8067\n",
            "Epoch 65/100\n",
            "678/678 [==============================] - 2s 3ms/step - loss: 0.2167 - get_f1: 0.8976 - val_loss: 0.5508 - val_get_f1: 0.7947\n",
            "Epoch 66/100\n",
            "678/678 [==============================] - 2s 3ms/step - loss: 0.2137 - get_f1: 0.9002 - val_loss: 0.5456 - val_get_f1: 0.8033\n",
            "Epoch 67/100\n",
            "678/678 [==============================] - 2s 3ms/step - loss: 0.2136 - get_f1: 0.8997 - val_loss: 0.5570 - val_get_f1: 0.8117\n",
            "Epoch 68/100\n",
            "678/678 [==============================] - 2s 3ms/step - loss: 0.2114 - get_f1: 0.9021 - val_loss: 0.5459 - val_get_f1: 0.8107\n",
            "Epoch 69/100\n",
            "678/678 [==============================] - 3s 4ms/step - loss: 0.2104 - get_f1: 0.9020 - val_loss: 0.5511 - val_get_f1: 0.8046\n",
            "Epoch 70/100\n",
            "678/678 [==============================] - 3s 4ms/step - loss: 0.2074 - get_f1: 0.9038 - val_loss: 0.5679 - val_get_f1: 0.8083\n",
            "Epoch 71/100\n",
            "678/678 [==============================] - 3s 4ms/step - loss: 0.2083 - get_f1: 0.9032 - val_loss: 0.5694 - val_get_f1: 0.8082\n",
            "Epoch 72/100\n",
            "678/678 [==============================] - 3s 4ms/step - loss: 0.2031 - get_f1: 0.9072 - val_loss: 0.5742 - val_get_f1: 0.8029\n",
            "Epoch 73/100\n",
            "678/678 [==============================] - 2s 4ms/step - loss: 0.2036 - get_f1: 0.9054 - val_loss: 0.5754 - val_get_f1: 0.8075\n",
            "Epoch 74/100\n",
            "678/678 [==============================] - 2s 3ms/step - loss: 0.2034 - get_f1: 0.9045 - val_loss: 0.5745 - val_get_f1: 0.8099\n",
            "Epoch 75/100\n",
            "678/678 [==============================] - 2s 3ms/step - loss: 0.2037 - get_f1: 0.9052 - val_loss: 0.5865 - val_get_f1: 0.7969\n",
            "Epoch 76/100\n",
            "678/678 [==============================] - 2s 3ms/step - loss: 0.1993 - get_f1: 0.9088 - val_loss: 0.5863 - val_get_f1: 0.8012\n",
            "Epoch 77/100\n",
            "678/678 [==============================] - 2s 3ms/step - loss: 0.1982 - get_f1: 0.9074 - val_loss: 0.5956 - val_get_f1: 0.7997\n",
            "Epoch 78/100\n",
            "678/678 [==============================] - 2s 3ms/step - loss: 0.1957 - get_f1: 0.9109 - val_loss: 0.5957 - val_get_f1: 0.8083\n",
            "Epoch 79/100\n",
            "678/678 [==============================] - 2s 3ms/step - loss: 0.1971 - get_f1: 0.9094 - val_loss: 0.6058 - val_get_f1: 0.8036\n",
            "Epoch 80/100\n",
            "678/678 [==============================] - 2s 3ms/step - loss: 0.1954 - get_f1: 0.9099 - val_loss: 0.6018 - val_get_f1: 0.8027\n",
            "Epoch 81/100\n",
            "678/678 [==============================] - 2s 3ms/step - loss: 0.1942 - get_f1: 0.9103 - val_loss: 0.6049 - val_get_f1: 0.8010\n",
            "Epoch 82/100\n",
            "678/678 [==============================] - 3s 4ms/step - loss: 0.1915 - get_f1: 0.9121 - val_loss: 0.6074 - val_get_f1: 0.8033\n",
            "Epoch 83/100\n",
            "678/678 [==============================] - 2s 3ms/step - loss: 0.1917 - get_f1: 0.9128 - val_loss: 0.6144 - val_get_f1: 0.7990\n",
            "Epoch 84/100\n",
            "678/678 [==============================] - 2s 3ms/step - loss: 0.1898 - get_f1: 0.9115 - val_loss: 0.6190 - val_get_f1: 0.8016\n",
            "Epoch 85/100\n",
            "678/678 [==============================] - 2s 4ms/step - loss: 0.1891 - get_f1: 0.9118 - val_loss: 0.6275 - val_get_f1: 0.7959\n",
            "Epoch 86/100\n",
            "678/678 [==============================] - 2s 4ms/step - loss: 0.1902 - get_f1: 0.9119 - val_loss: 0.6380 - val_get_f1: 0.8007\n",
            "Epoch 87/100\n",
            "678/678 [==============================] - 2s 4ms/step - loss: 0.1919 - get_f1: 0.9126 - val_loss: 0.6338 - val_get_f1: 0.8044\n",
            "Epoch 88/100\n",
            "678/678 [==============================] - 2s 4ms/step - loss: 0.1846 - get_f1: 0.9147 - val_loss: 0.6373 - val_get_f1: 0.8040\n",
            "Epoch 89/100\n",
            "678/678 [==============================] - 3s 4ms/step - loss: 0.1821 - get_f1: 0.9149 - val_loss: 0.6537 - val_get_f1: 0.8010\n",
            "Epoch 90/100\n",
            "678/678 [==============================] - 2s 3ms/step - loss: 0.1872 - get_f1: 0.9141 - val_loss: 0.6370 - val_get_f1: 0.8025\n",
            "Epoch 91/100\n",
            "678/678 [==============================] - 2s 3ms/step - loss: 0.1849 - get_f1: 0.9150 - val_loss: 0.6489 - val_get_f1: 0.8047\n",
            "Epoch 92/100\n",
            "678/678 [==============================] - 3s 4ms/step - loss: 0.1834 - get_f1: 0.9148 - val_loss: 0.6432 - val_get_f1: 0.8012\n",
            "Epoch 93/100\n",
            "678/678 [==============================] - 3s 4ms/step - loss: 0.1809 - get_f1: 0.9172 - val_loss: 0.6483 - val_get_f1: 0.8070\n",
            "Epoch 94/100\n",
            "678/678 [==============================] - 2s 3ms/step - loss: 0.1794 - get_f1: 0.9191 - val_loss: 0.6607 - val_get_f1: 0.8048\n",
            "Epoch 95/100\n",
            "678/678 [==============================] - 3s 4ms/step - loss: 0.1797 - get_f1: 0.9186 - val_loss: 0.6702 - val_get_f1: 0.8088\n",
            "Epoch 96/100\n",
            "678/678 [==============================] - 2s 4ms/step - loss: 0.1806 - get_f1: 0.9161 - val_loss: 0.6678 - val_get_f1: 0.7936\n",
            "Epoch 97/100\n",
            "678/678 [==============================] - 2s 3ms/step - loss: 0.1782 - get_f1: 0.9181 - val_loss: 0.6747 - val_get_f1: 0.8061\n",
            "Epoch 98/100\n",
            "678/678 [==============================] - 2s 3ms/step - loss: 0.1754 - get_f1: 0.9202 - val_loss: 0.6684 - val_get_f1: 0.7962\n",
            "Epoch 99/100\n",
            "678/678 [==============================] - 2s 4ms/step - loss: 0.1765 - get_f1: 0.9199 - val_loss: 0.6971 - val_get_f1: 0.8053\n",
            "Epoch 100/100\n",
            "678/678 [==============================] - 2s 3ms/step - loss: 0.1767 - get_f1: 0.9199 - val_loss: 0.6733 - val_get_f1: 0.8036\n"
          ]
        }
      ],
      "source": [
        "history_modelo_rn_3 = modelo_rn_3.fit(x_train_norm, y_train, batch_size=64, epochs=100, validation_data=(x_test_norm, y_test))"
      ]
    },
    {
      "cell_type": "code",
      "execution_count": null,
      "metadata": {
        "id": "x8oiKCrY2y2H",
        "outputId": "cb35788f-2133-44f6-ae06-269833c56c28"
      },
      "outputs": [
        {
          "name": "stdout",
          "output_type": "stream",
          "text": [
            "581/581 [==============================] - 1s 2ms/step\n",
            "              precision    recall  f1-score   support\n",
            "\n",
            "           0       0.81      0.78      0.80      9195\n",
            "           1       0.80      0.82      0.81      9378\n",
            "\n",
            "    accuracy                           0.80     18573\n",
            "   macro avg       0.80      0.80      0.80     18573\n",
            "weighted avg       0.80      0.80      0.80     18573\n",
            "\n",
            "Accuracy: 0.8033704840359662\n",
            "Recall: 0.8226700789080827\n",
            "Precision: 0.795032976092333\n",
            "f1 score: 0.8086154491143486\n"
          ]
        },
        {
          "data": {
            "image/png": "[encoded data removed]",
            "text/plain": [
              "<Figure size 640x480 with 2 Axes>"
            ]
          },
          "metadata": {},
          "output_type": "display_data"
        }
      ],
      "source": [
        "y_pred_norm = modelo_rn_3.predict(x_test_norm)\n",
        "y_pred = np.where(y_pred_norm > 0.45, 1, 0)\n",
        "mostrar_metricas(y_test, y_pred)"
      ]
    },
    {
      "attachments": {},
      "cell_type": "markdown",
      "metadata": {
        "id": "a-3INcDV2y2H"
      },
      "source": [
        "Analizando los gráficos de `get_f1` y `val_get_f1` (métrica en el conjunto de entrenamiento y métrica en el conjunto de validación respectivamente), podemos ver que, mientras en entrenamiento llega a métricas del 92%, en validación no supera el 81% aproximadamente. Esto se traduce en un problema de overfitting. Vemos que la red neuronal obtiene muy buen F1 score en entrenamiento, pero la métrica baja significativamente en validación. Esto es una clara señal de que el modelo tiene una alta varianza y está sobreajustando. "
      ]
    },
    {
      "cell_type": "code",
      "execution_count": null,
      "metadata": {
        "id": "yzhgtrsn2y2I",
        "outputId": "20d8e5d6-aecf-4c9d-b4f9-6f277e72d3ef"
      },
      "outputs": [
        {
          "data": {
            "image/png": "[encoded data removed]",
            "text/plain": [
              "<Figure size 1200x600 with 2 Axes>"
            ]
          },
          "metadata": {},
          "output_type": "display_data"
        }
      ],
      "source": [
        "import matplotlib.pyplot as plt\n",
        "epochs = range(100)\n",
        "fig, (ax1, ax2) = plt.subplots(1, 2, figsize=(12, 6))\n",
        "\n",
        "# Graficar el F1 score en el primer subplot\n",
        "ax1.plot(epochs, history_modelo_rn_3.history['get_f1'], color='purple', label='F1 Score en entrenamiento')\n",
        "ax1.set_xlabel(\"Epochs\")\n",
        "ax1.set_ylabel(\"F1 Score\")\n",
        "ax1.legend()\n",
        "\n",
        "# Graficar el historial del entrenamiento (loss) en el segundo subplot\n",
        "ax2.plot(epochs, history_modelo_rn_3.history['val_get_f1'], color='pink', label='F1 Score en validación')\n",
        "ax2.set_xlabel(\"Epochs\")\n",
        "ax2.set_ylabel(\"F1 Score\")\n",
        "ax2.legend()\n",
        "\n",
        "# Ajustar los espacios entre subplots\n",
        "plt.subplots_adjust(wspace=0.4)\n",
        "\n",
        "# Mostrar la figura\n",
        "plt.show()"
      ]
    },
    {
      "attachments": {},
      "cell_type": "markdown",
      "metadata": {
        "id": "LaOrBXd32y2I"
      },
      "source": [
        "Intentaremos solucionar este problema aplicando técnicas de regularización (como Early Stopping reduciendo las épocas cuando no notemos mejora y aplicando L2 en algunas capas) a los próximos modelos, para limitar la complejidad de nuestro modelo y evitar el overfitting."
      ]
    },
    {
      "attachments": {},
      "cell_type": "markdown",
      "metadata": {
        "id": "leq715Dz2y2I"
      },
      "source": [
        "## Modelo 4: dos capas ocultas, optimizador Nadam, parámetro de regularización L2"
      ]
    },
    {
      "attachments": {},
      "cell_type": "markdown",
      "metadata": {
        "id": "Z0ln8-jn2y2I"
      },
      "source": [
        "Este modelo tendrá 2 capas ocultas y una cantidad de neuronas mayor en cada una. Esta vez, vamos a introducir un parámetro de regularización L2 en una capa oculta para evitar este sobreajuste analizado en el apartado anterior."
      ]
    },
    {
      "cell_type": "code",
      "execution_count": null,
      "metadata": {
        "id": "FC-kTZAf2y2I"
      },
      "outputs": [],
      "source": [
        "modelo_rn_4 = keras.Sequential([\n",
        "    keras.layers.Dense(420, activation='relu', input_shape=(d_in,)),\n",
        "    keras.layers.Dense(264, activation='relu', kernel_regularizer=keras.regularizers.l2(0.001)),\n",
        "    keras.layers.Dense(64, activation='relu'),\n",
        "    keras.layers.Dense(1, activation='sigmoid')\n",
        "])"
      ]
    },
    {
      "attachments": {},
      "cell_type": "markdown",
      "metadata": {
        "id": "l25ASrPJ2y2I"
      },
      "source": [
        "Compilaremos con el optimizador Nadam y un learning rate de 0.001."
      ]
    },
    {
      "cell_type": "code",
      "execution_count": null,
      "metadata": {
        "id": "cwVFuEUJ2y2J"
      },
      "outputs": [],
      "source": [
        "modelo_rn_4.compile(\n",
        "  optimizer=keras.optimizers.Nadam(learning_rate=0.001), \n",
        "  loss='binary_crossentropy', \n",
        "  metrics=[get_f1], \n",
        ")"
      ]
    },
    {
      "attachments": {},
      "cell_type": "markdown",
      "metadata": {
        "id": "staBXNf82y2J"
      },
      "source": [
        "También aplicaremos Early Stopping al disminuir la cantidad de épocas de entrenamiento a 80."
      ]
    },
    {
      "cell_type": "code",
      "execution_count": null,
      "metadata": {
        "id": "Hu10eR392y2K",
        "outputId": "cc54b1b8-a23f-4a10-a686-f6c2e5dac448"
      },
      "outputs": [
        {
          "name": "stdout",
          "output_type": "stream",
          "text": [
            "Epoch 1/80\n",
            "1355/1355 [==============================] - 10s 6ms/step - loss: 0.5151 - get_f1: 0.7590 - val_loss: 0.4558 - val_get_f1: 0.7442\n",
            "Epoch 2/80\n",
            "1355/1355 [==============================] - 7s 5ms/step - loss: 0.4316 - get_f1: 0.7759 - val_loss: 0.4309 - val_get_f1: 0.7833\n",
            "Epoch 3/80\n",
            "1355/1355 [==============================] - 7s 5ms/step - loss: 0.4184 - get_f1: 0.7857 - val_loss: 0.4185 - val_get_f1: 0.7899\n",
            "Epoch 4/80\n",
            "1355/1355 [==============================] - 7s 5ms/step - loss: 0.4113 - get_f1: 0.7900 - val_loss: 0.4131 - val_get_f1: 0.7923\n",
            "Epoch 5/80\n",
            "1355/1355 [==============================] - 7s 5ms/step - loss: 0.4063 - get_f1: 0.7926 - val_loss: 0.4196 - val_get_f1: 0.7887\n",
            "Epoch 6/80\n",
            "1355/1355 [==============================] - 7s 5ms/step - loss: 0.4024 - get_f1: 0.7953 - val_loss: 0.4140 - val_get_f1: 0.7869\n",
            "Epoch 7/80\n",
            "1355/1355 [==============================] - 7s 5ms/step - loss: 0.3996 - get_f1: 0.7965 - val_loss: 0.4063 - val_get_f1: 0.7940\n",
            "Epoch 8/80\n",
            "1355/1355 [==============================] - 7s 5ms/step - loss: 0.3945 - get_f1: 0.8012 - val_loss: 0.4098 - val_get_f1: 0.8030\n",
            "Epoch 9/80\n",
            "1355/1355 [==============================] - 7s 5ms/step - loss: 0.3924 - get_f1: 0.8046 - val_loss: 0.4090 - val_get_f1: 0.7966\n",
            "Epoch 10/80\n",
            "1355/1355 [==============================] - 7s 5ms/step - loss: 0.3908 - get_f1: 0.8033 - val_loss: 0.4045 - val_get_f1: 0.8014\n",
            "Epoch 11/80\n",
            "1355/1355 [==============================] - 7s 5ms/step - loss: 0.3880 - get_f1: 0.8044 - val_loss: 0.4096 - val_get_f1: 0.8026\n",
            "Epoch 12/80\n",
            "1355/1355 [==============================] - 7s 5ms/step - loss: 0.3863 - get_f1: 0.8067 - val_loss: 0.4072 - val_get_f1: 0.8063\n",
            "Epoch 13/80\n",
            "1355/1355 [==============================] - 7s 5ms/step - loss: 0.3840 - get_f1: 0.8082 - val_loss: 0.4045 - val_get_f1: 0.7960\n",
            "Epoch 14/80\n",
            "1355/1355 [==============================] - 7s 5ms/step - loss: 0.3820 - get_f1: 0.8086 - val_loss: 0.4066 - val_get_f1: 0.7988\n",
            "Epoch 15/80\n",
            "1355/1355 [==============================] - 7s 5ms/step - loss: 0.3800 - get_f1: 0.8084 - val_loss: 0.4106 - val_get_f1: 0.8089\n",
            "Epoch 16/80\n",
            "1355/1355 [==============================] - 7s 5ms/step - loss: 0.3788 - get_f1: 0.8107 - val_loss: 0.4072 - val_get_f1: 0.7958\n",
            "Epoch 17/80\n",
            "1355/1355 [==============================] - 7s 5ms/step - loss: 0.3778 - get_f1: 0.8127 - val_loss: 0.4039 - val_get_f1: 0.8073\n",
            "Epoch 18/80\n",
            "1355/1355 [==============================] - 7s 5ms/step - loss: 0.3748 - get_f1: 0.8135 - val_loss: 0.4103 - val_get_f1: 0.8086\n",
            "Epoch 19/80\n",
            "1355/1355 [==============================] - 7s 5ms/step - loss: 0.3746 - get_f1: 0.8133 - val_loss: 0.4013 - val_get_f1: 0.7989\n",
            "Epoch 20/80\n",
            "1355/1355 [==============================] - 7s 5ms/step - loss: 0.3722 - get_f1: 0.8157 - val_loss: 0.4004 - val_get_f1: 0.8062\n",
            "Epoch 21/80\n",
            "1355/1355 [==============================] - 7s 5ms/step - loss: 0.3721 - get_f1: 0.8167 - val_loss: 0.4005 - val_get_f1: 0.8077\n",
            "Epoch 22/80\n",
            "1355/1355 [==============================] - 7s 5ms/step - loss: 0.3697 - get_f1: 0.8163 - val_loss: 0.4064 - val_get_f1: 0.7956\n",
            "Epoch 23/80\n",
            "1355/1355 [==============================] - 7s 5ms/step - loss: 0.3688 - get_f1: 0.8199 - val_loss: 0.4058 - val_get_f1: 0.8026\n",
            "Epoch 24/80\n",
            "1355/1355 [==============================] - 7s 5ms/step - loss: 0.3674 - get_f1: 0.8193 - val_loss: 0.4034 - val_get_f1: 0.7999\n",
            "Epoch 25/80\n",
            "1355/1355 [==============================] - 7s 5ms/step - loss: 0.3656 - get_f1: 0.8202 - val_loss: 0.4000 - val_get_f1: 0.8091\n",
            "Epoch 26/80\n",
            "1355/1355 [==============================] - 7s 5ms/step - loss: 0.3641 - get_f1: 0.8212 - val_loss: 0.4053 - val_get_f1: 0.8012\n",
            "Epoch 27/80\n",
            "1355/1355 [==============================] - 7s 5ms/step - loss: 0.3638 - get_f1: 0.8220 - val_loss: 0.4144 - val_get_f1: 0.8075\n",
            "Epoch 28/80\n",
            "1355/1355 [==============================] - 7s 5ms/step - loss: 0.3622 - get_f1: 0.8219 - val_loss: 0.4034 - val_get_f1: 0.8062\n",
            "Epoch 29/80\n",
            "1355/1355 [==============================] - 7s 5ms/step - loss: 0.3618 - get_f1: 0.8225 - val_loss: 0.4025 - val_get_f1: 0.8099\n",
            "Epoch 30/80\n",
            "1355/1355 [==============================] - 7s 5ms/step - loss: 0.3593 - get_f1: 0.8240 - val_loss: 0.4075 - val_get_f1: 0.8056\n",
            "Epoch 31/80\n",
            "1355/1355 [==============================] - 7s 5ms/step - loss: 0.3597 - get_f1: 0.8260 - val_loss: 0.4028 - val_get_f1: 0.8080\n",
            "Epoch 32/80\n",
            "1355/1355 [==============================] - 7s 5ms/step - loss: 0.3581 - get_f1: 0.8242 - val_loss: 0.4052 - val_get_f1: 0.8100\n",
            "Epoch 33/80\n",
            "1355/1355 [==============================] - 7s 5ms/step - loss: 0.3573 - get_f1: 0.8254 - val_loss: 0.4106 - val_get_f1: 0.8054\n",
            "Epoch 34/80\n",
            "1355/1355 [==============================] - 7s 5ms/step - loss: 0.3551 - get_f1: 0.8265 - val_loss: 0.4057 - val_get_f1: 0.8051\n",
            "Epoch 35/80\n",
            "1355/1355 [==============================] - 7s 5ms/step - loss: 0.3550 - get_f1: 0.8276 - val_loss: 0.4102 - val_get_f1: 0.8121\n",
            "Epoch 36/80\n",
            "1355/1355 [==============================] - 7s 5ms/step - loss: 0.3547 - get_f1: 0.8271 - val_loss: 0.4087 - val_get_f1: 0.8090\n",
            "Epoch 37/80\n",
            "1355/1355 [==============================] - 7s 5ms/step - loss: 0.3530 - get_f1: 0.8294 - val_loss: 0.4132 - val_get_f1: 0.8092\n",
            "Epoch 38/80\n",
            "1355/1355 [==============================] - 7s 5ms/step - loss: 0.3517 - get_f1: 0.8273 - val_loss: 0.4156 - val_get_f1: 0.8007\n",
            "Epoch 39/80\n",
            "1355/1355 [==============================] - 7s 5ms/step - loss: 0.3515 - get_f1: 0.8304 - val_loss: 0.4103 - val_get_f1: 0.8111\n",
            "Epoch 40/80\n",
            "1355/1355 [==============================] - 8s 6ms/step - loss: 0.3501 - get_f1: 0.8306 - val_loss: 0.4079 - val_get_f1: 0.8003\n",
            "Epoch 41/80\n",
            "1355/1355 [==============================] - 7s 5ms/step - loss: 0.3486 - get_f1: 0.8307 - val_loss: 0.4092 - val_get_f1: 0.8071\n",
            "Epoch 42/80\n",
            "1355/1355 [==============================] - 7s 5ms/step - loss: 0.3494 - get_f1: 0.8304 - val_loss: 0.4118 - val_get_f1: 0.8110\n",
            "Epoch 43/80\n",
            "1355/1355 [==============================] - 7s 5ms/step - loss: 0.3471 - get_f1: 0.8321 - val_loss: 0.4246 - val_get_f1: 0.8005\n",
            "Epoch 44/80\n",
            "1355/1355 [==============================] - 7s 5ms/step - loss: 0.3455 - get_f1: 0.8337 - val_loss: 0.4184 - val_get_f1: 0.8128\n",
            "Epoch 45/80\n",
            "1355/1355 [==============================] - 7s 5ms/step - loss: 0.3449 - get_f1: 0.8343 - val_loss: 0.4106 - val_get_f1: 0.8087\n",
            "Epoch 46/80\n",
            "1355/1355 [==============================] - 7s 5ms/step - loss: 0.3458 - get_f1: 0.8337 - val_loss: 0.4202 - val_get_f1: 0.8006\n",
            "Epoch 47/80\n",
            "1355/1355 [==============================] - 7s 5ms/step - loss: 0.3446 - get_f1: 0.8329 - val_loss: 0.4143 - val_get_f1: 0.8089\n",
            "Epoch 48/80\n",
            "1355/1355 [==============================] - 7s 5ms/step - loss: 0.3423 - get_f1: 0.8350 - val_loss: 0.4304 - val_get_f1: 0.7973\n",
            "Epoch 49/80\n",
            "1355/1355 [==============================] - 7s 5ms/step - loss: 0.3433 - get_f1: 0.8343 - val_loss: 0.4113 - val_get_f1: 0.8099\n",
            "Epoch 50/80\n",
            "1355/1355 [==============================] - 8s 6ms/step - loss: 0.3415 - get_f1: 0.8358 - val_loss: 0.4122 - val_get_f1: 0.8092\n",
            "Epoch 51/80\n",
            "1355/1355 [==============================] - 7s 5ms/step - loss: 0.3393 - get_f1: 0.8348 - val_loss: 0.4171 - val_get_f1: 0.8071\n",
            "Epoch 52/80\n",
            "1355/1355 [==============================] - 7s 5ms/step - loss: 0.3416 - get_f1: 0.8375 - val_loss: 0.4092 - val_get_f1: 0.8074\n",
            "Epoch 53/80\n",
            "1355/1355 [==============================] - 7s 5ms/step - loss: 0.3405 - get_f1: 0.8373 - val_loss: 0.4178 - val_get_f1: 0.8082\n",
            "Epoch 54/80\n",
            "1355/1355 [==============================] - 8s 6ms/step - loss: 0.3377 - get_f1: 0.8382 - val_loss: 0.4162 - val_get_f1: 0.8062\n",
            "Epoch 55/80\n",
            "1355/1355 [==============================] - 8s 6ms/step - loss: 0.3371 - get_f1: 0.8373 - val_loss: 0.4195 - val_get_f1: 0.8023\n",
            "Epoch 56/80\n",
            "1355/1355 [==============================] - 7s 5ms/step - loss: 0.3371 - get_f1: 0.8386 - val_loss: 0.4210 - val_get_f1: 0.8086\n",
            "Epoch 57/80\n",
            "1355/1355 [==============================] - 7s 5ms/step - loss: 0.3366 - get_f1: 0.8394 - val_loss: 0.4266 - val_get_f1: 0.8039\n",
            "Epoch 58/80\n",
            "1355/1355 [==============================] - 7s 5ms/step - loss: 0.3362 - get_f1: 0.8398 - val_loss: 0.4195 - val_get_f1: 0.8103\n",
            "Epoch 59/80\n",
            "1355/1355 [==============================] - 7s 5ms/step - loss: 0.3355 - get_f1: 0.8395 - val_loss: 0.4253 - val_get_f1: 0.8056\n",
            "Epoch 60/80\n",
            "1355/1355 [==============================] - 7s 5ms/step - loss: 0.3344 - get_f1: 0.8404 - val_loss: 0.4343 - val_get_f1: 0.8049\n",
            "Epoch 61/80\n",
            "1355/1355 [==============================] - 7s 5ms/step - loss: 0.3354 - get_f1: 0.8411 - val_loss: 0.4201 - val_get_f1: 0.8104\n",
            "Epoch 62/80\n",
            "1355/1355 [==============================] - 7s 5ms/step - loss: 0.3326 - get_f1: 0.8414 - val_loss: 0.4318 - val_get_f1: 0.8080\n",
            "Epoch 63/80\n",
            "1355/1355 [==============================] - 7s 5ms/step - loss: 0.3323 - get_f1: 0.8419 - val_loss: 0.4230 - val_get_f1: 0.8110\n",
            "Epoch 64/80\n",
            "1355/1355 [==============================] - 7s 5ms/step - loss: 0.3315 - get_f1: 0.8425 - val_loss: 0.4199 - val_get_f1: 0.8111\n",
            "Epoch 65/80\n",
            "1355/1355 [==============================] - 7s 5ms/step - loss: 0.3319 - get_f1: 0.8406 - val_loss: 0.4276 - val_get_f1: 0.7990\n",
            "Epoch 66/80\n",
            "1355/1355 [==============================] - 7s 5ms/step - loss: 0.3299 - get_f1: 0.8424 - val_loss: 0.4221 - val_get_f1: 0.8077\n",
            "Epoch 67/80\n",
            "1355/1355 [==============================] - 7s 5ms/step - loss: 0.3316 - get_f1: 0.8427 - val_loss: 0.4336 - val_get_f1: 0.8091\n",
            "Epoch 68/80\n",
            "1355/1355 [==============================] - 7s 5ms/step - loss: 0.3313 - get_f1: 0.8427 - val_loss: 0.4259 - val_get_f1: 0.8156\n",
            "Epoch 69/80\n",
            "1355/1355 [==============================] - 7s 5ms/step - loss: 0.3299 - get_f1: 0.8421 - val_loss: 0.4257 - val_get_f1: 0.8056\n",
            "Epoch 70/80\n",
            "1355/1355 [==============================] - 7s 5ms/step - loss: 0.3285 - get_f1: 0.8438 - val_loss: 0.4381 - val_get_f1: 0.8132\n",
            "Epoch 71/80\n",
            "1355/1355 [==============================] - 7s 5ms/step - loss: 0.3289 - get_f1: 0.8448 - val_loss: 0.4286 - val_get_f1: 0.8065\n",
            "Epoch 72/80\n",
            "1355/1355 [==============================] - 7s 5ms/step - loss: 0.3273 - get_f1: 0.8447 - val_loss: 0.4274 - val_get_f1: 0.8091\n",
            "Epoch 73/80\n",
            "1355/1355 [==============================] - 7s 5ms/step - loss: 0.3281 - get_f1: 0.8426 - val_loss: 0.4356 - val_get_f1: 0.8123\n",
            "Epoch 74/80\n",
            "1355/1355 [==============================] - 7s 5ms/step - loss: 0.3269 - get_f1: 0.8441 - val_loss: 0.4250 - val_get_f1: 0.8120\n",
            "Epoch 75/80\n",
            "1355/1355 [==============================] - 7s 5ms/step - loss: 0.3255 - get_f1: 0.8445 - val_loss: 0.4484 - val_get_f1: 0.8001\n",
            "Epoch 76/80\n",
            "1355/1355 [==============================] - 7s 5ms/step - loss: 0.3264 - get_f1: 0.8442 - val_loss: 0.4404 - val_get_f1: 0.8024\n",
            "Epoch 77/80\n",
            "1355/1355 [==============================] - 7s 5ms/step - loss: 0.3232 - get_f1: 0.8467 - val_loss: 0.4458 - val_get_f1: 0.8057\n",
            "Epoch 78/80\n",
            "1355/1355 [==============================] - 7s 5ms/step - loss: 0.3247 - get_f1: 0.8441 - val_loss: 0.4364 - val_get_f1: 0.8148\n",
            "Epoch 79/80\n",
            "1355/1355 [==============================] - 7s 5ms/step - loss: 0.3214 - get_f1: 0.8474 - val_loss: 0.4350 - val_get_f1: 0.8154\n",
            "Epoch 80/80\n",
            "1355/1355 [==============================] - 7s 5ms/step - loss: 0.3236 - get_f1: 0.8467 - val_loss: 0.4327 - val_get_f1: 0.8145\n"
          ]
        }
      ],
      "source": [
        "history_modelo_rn_4 = modelo_rn_4.fit(x_train_norm, y_train, batch_size=32, epochs=80, validation_data=(x_test_norm, y_test))"
      ]
    },
    {
      "attachments": {},
      "cell_type": "markdown",
      "metadata": {
        "id": "Gxl4kaU_2y2K"
      },
      "source": [
        "Vamos a observar cómo evoluciona el modelo a través de las épocas habiendo incrementado la cantidad de capas ligeramente y luego de introducir regularización."
      ]
    },
    {
      "cell_type": "code",
      "execution_count": null,
      "metadata": {
        "id": "KLS7z00b2y2K",
        "outputId": "f992ef30-e20e-4687-ca43-9d668f66b4c3"
      },
      "outputs": [
        {
          "data": {
            "image/png": "[encoded data removed]",
            "text/plain": [
              "<Figure size 1200x600 with 2 Axes>"
            ]
          },
          "metadata": {},
          "output_type": "display_data"
        }
      ],
      "source": [
        "import matplotlib.pyplot as plt\n",
        "epochs = range(80)\n",
        "fig, (ax1, ax2) = plt.subplots(1, 2, figsize=(12, 6))\n",
        "\n",
        "# Graficar el F1 score en el primer subplot\n",
        "ax1.plot(epochs, history_modelo_rn_4.history['get_f1'], color='purple', label='F1 Score en entrenamiento')\n",
        "ax1.set_xlabel(\"Epochs\")\n",
        "ax1.set_ylabel(\"F1 Score\")\n",
        "ax1.legend()\n",
        "\n",
        "# Graficar el historial del entrenamiento (loss) en el segundo subplot\n",
        "ax2.plot(epochs, history_modelo_rn_4.history['val_get_f1'], color='pink', label='F1 Score en validación')\n",
        "ax2.set_xlabel(\"Epochs\")\n",
        "ax2.set_ylabel(\"F1 Score\")\n",
        "ax2.legend()\n",
        "\n",
        "# Ajustar los espacios entre subplots\n",
        "plt.subplots_adjust(wspace=0.4)\n",
        "\n",
        "# Mostrar la figura\n",
        "plt.show()"
      ]
    },
    {
      "attachments": {},
      "cell_type": "markdown",
      "metadata": {
        "id": "VJhtdhb_2y2K"
      },
      "source": [
        "Podemos observar que, gracias a la regularización, ahora no se produce overfitting (hay diferencia de aproximadamente 3 puntos porcentuales entre el score de entrenamiento y el de test). Obtuvimos ahora una métrica F1 score de 82% aproximadamente."
      ]
    },
    {
      "cell_type": "code",
      "execution_count": null,
      "metadata": {
        "id": "ILcZifrH2y2L",
        "outputId": "11f3ce56-25d1-4055-d5c8-cd88a852d9a2"
      },
      "outputs": [
        {
          "name": "stdout",
          "output_type": "stream",
          "text": [
            "581/581 [==============================] - 1s 2ms/step\n",
            "              precision    recall  f1-score   support\n",
            "\n",
            "           0       0.82      0.80      0.81      9195\n",
            "           1       0.81      0.83      0.82      9378\n",
            "\n",
            "    accuracy                           0.81     18573\n",
            "   macro avg       0.81      0.81      0.81     18573\n",
            "weighted avg       0.81      0.81      0.81     18573\n",
            "\n",
            "Accuracy: 0.8143003284337479\n",
            "Recall: 0.8331200682448283\n",
            "Precision: 0.8057131071465402\n",
            "f1 score: 0.8191874180865006\n"
          ]
        },
        {
          "data": {
            "image/png": "[encoded data removed]",
            "text/plain": [
              "<Figure size 640x480 with 2 Axes>"
            ]
          },
          "metadata": {},
          "output_type": "display_data"
        }
      ],
      "source": [
        "y_pred_norm = modelo_rn_4.predict(x_test_norm)\n",
        "y_pred = np.where(y_pred_norm > 0.5, 1, 0)\n",
        "mostrar_metricas(y_test, y_pred)"
      ]
    },
    {
      "attachments": {},
      "cell_type": "markdown",
      "metadata": {
        "id": "Nu4sHt2q3iRt"
      },
      "source": [
        "## Modelo 5: optimizador Nesterov\n"
      ]
    },
    {
      "attachments": {},
      "cell_type": "markdown",
      "metadata": {
        "id": "HLukJ0Q2AQVm"
      },
      "source": [
        "Entrenamos una red neuronal densa simple que sólo tenga dos capas. La capa de entrada tendrá 32 neuronas (cantidad de columnas en nuestro dataset) y la de salida sólo 1 (por ser clasificación binaria). Usaremos la función sigmoid como función de activación para este modelo."
      ]
    },
    {
      "cell_type": "code",
      "execution_count": 32,
      "metadata": {
        "colab": {
          "base_uri": "https://localhost:8080/"
        },
        "id": "T-FrJlNo4VHm",
        "outputId": "608d849b-1a80-4e21-9e37-67586524bb34"
      },
      "outputs": [
        {
          "name": "stdout",
          "output_type": "stream",
          "text": [
            "Model: \"sequential_4\"\n",
            "_________________________________________________________________\n",
            " Layer (type)                Output Shape              Param #   \n",
            "=================================================================\n",
            " dense_7 (Dense)             (None, 1)                 33        \n",
            "                                                                 \n",
            "=================================================================\n",
            "Total params: 33\n",
            "Trainable params: 33\n",
            "Non-trainable params: 0\n",
            "_________________________________________________________________\n"
          ]
        }
      ],
      "source": [
        "modelo_rn_5= keras.Sequential([\n",
        "    keras.layers.Dense(1,input_shape=(d_in,), activation='sigmoid',kernel_initializer='uniform')])\n",
        "\n",
        "modelo_rn_5.summary()"
      ]
    },
    {
      "attachments": {},
      "cell_type": "markdown",
      "metadata": {
        "id": "l79g_d2fA0r_"
      },
      "source": [
        "Compilamos el modelo. Vamos a usar el optimizador SGD con learning rate de 0.01, momentum de 0.2 y nesterov = True, y la función de pérdida binary_crossentropy. La métrica a evaluar en el modelo será F1 score."
      ]
    },
    {
      "cell_type": "code",
      "execution_count": 61,
      "metadata": {
        "id": "b3NST5SJ46lk"
      },
      "outputs": [],
      "source": [
        "modelo_rn_5.compile(\n",
        "  optimizer=keras.optimizers.SGD(learning_rate=0.01,momentum = 0.7, nesterov = True), \n",
        "  loss='binary_crossentropy', \n",
        "  metrics=[get_f1], \n",
        ")"
      ]
    },
    {
      "attachments": {},
      "cell_type": "markdown",
      "metadata": {
        "id": "MQUJ4BSfBHvg"
      },
      "source": [
        "Entrenamos el modelo"
      ]
    },
    {
      "cell_type": "code",
      "execution_count": 67,
      "metadata": {
        "colab": {
          "base_uri": "https://localhost:8080/"
        },
        "id": "Vqsb2odo5GDc",
        "outputId": "44569f1e-d9e3-41c0-d68e-b8544f294f4b"
      },
      "outputs": [
        {
          "name": "stdout",
          "output_type": "stream",
          "text": [
            "Epoch 1/12\n",
            "1355/1355 [==============================] - 3s 2ms/step - loss: 0.4678 - get_f1: 0.7516 - val_loss: 0.4688 - val_get_f1: 0.7525\n",
            "Epoch 2/12\n",
            "1355/1355 [==============================] - 3s 2ms/step - loss: 0.4676 - get_f1: 0.7494 - val_loss: 0.4694 - val_get_f1: 0.7532\n",
            "Epoch 3/12\n",
            "1355/1355 [==============================] - 3s 2ms/step - loss: 0.4676 - get_f1: 0.7509 - val_loss: 0.4688 - val_get_f1: 0.7505\n",
            "Epoch 4/12\n",
            "1355/1355 [==============================] - 3s 3ms/step - loss: 0.4678 - get_f1: 0.7501 - val_loss: 0.4686 - val_get_f1: 0.7521\n",
            "Epoch 5/12\n",
            "1355/1355 [==============================] - 3s 2ms/step - loss: 0.4677 - get_f1: 0.7517 - val_loss: 0.4688 - val_get_f1: 0.7551\n",
            "Epoch 6/12\n",
            "1355/1355 [==============================] - 3s 2ms/step - loss: 0.4677 - get_f1: 0.7505 - val_loss: 0.4690 - val_get_f1: 0.7515\n",
            "Epoch 7/12\n",
            "1355/1355 [==============================] - 3s 2ms/step - loss: 0.4675 - get_f1: 0.7501 - val_loss: 0.4698 - val_get_f1: 0.7478\n",
            "Epoch 8/12\n",
            "1355/1355 [==============================] - 4s 3ms/step - loss: 0.4675 - get_f1: 0.7514 - val_loss: 0.4685 - val_get_f1: 0.7542\n",
            "Epoch 9/12\n",
            "1355/1355 [==============================] - 3s 2ms/step - loss: 0.4677 - get_f1: 0.7509 - val_loss: 0.4687 - val_get_f1: 0.7534\n",
            "Epoch 10/12\n",
            "1355/1355 [==============================] - 3s 2ms/step - loss: 0.4677 - get_f1: 0.7513 - val_loss: 0.4686 - val_get_f1: 0.7516\n",
            "Epoch 11/12\n",
            "1355/1355 [==============================] - 3s 2ms/step - loss: 0.4675 - get_f1: 0.7510 - val_loss: 0.4686 - val_get_f1: 0.7551\n",
            "Epoch 12/12\n",
            "1355/1355 [==============================] - 3s 2ms/step - loss: 0.4676 - get_f1: 0.7516 - val_loss: 0.4684 - val_get_f1: 0.7523\n"
          ]
        },
        {
          "data": {
            "text/plain": [
              "<keras.callbacks.History at 0x7fefc86c24d0>"
            ]
          },
          "execution_count": 67,
          "metadata": {},
          "output_type": "execute_result"
        }
      ],
      "source": [
        "modelo_rn_5.fit(x_train_norm, y_train, batch_size=32, epochs=12, validation_data=(x_test_norm, y_test))"
      ]
    },
    {
      "attachments": {},
      "cell_type": "markdown",
      "metadata": {
        "id": "-CA4CFbfBNUb"
      },
      "source": [
        "Hacemos la predicción, convirtiendo las salidas continuas en predicciones binarias utilizando un umbral."
      ]
    },
    {
      "cell_type": "code",
      "execution_count": 68,
      "metadata": {
        "colab": {
          "base_uri": "https://localhost:8080/",
          "height": 692
        },
        "id": "MT_ORvHO5Zmp",
        "outputId": "5675c866-fefb-4fca-b041-dab0e4b294b7"
      },
      "outputs": [
        {
          "name": "stdout",
          "output_type": "stream",
          "text": [
            "581/581 [==============================] - 1s 1ms/step\n",
            "              precision    recall  f1-score   support\n",
            "\n",
            "           0       0.74      0.83      0.78      9195\n",
            "           1       0.81      0.71      0.76      9378\n",
            "\n",
            "    accuracy                           0.77     18573\n",
            "   macro avg       0.77      0.77      0.77     18573\n",
            "weighted avg       0.77      0.77      0.77     18573\n",
            "\n",
            "Accuracy: 0.7703655844505465\n",
            "Recall: 0.7142247814032843\n",
            "Precision: 0.8086442110346492\n",
            "f1 score: 0.7585074457844969\n"
          ]
        },
        {
          "data": {
            "image/png": "[encoded data removed]",
            "text/plain": [
              "<Figure size 640x480 with 2 Axes>"
            ]
          },
          "metadata": {},
          "output_type": "display_data"
        }
      ],
      "source": [
        "y_pred_norm = modelo_rn_5.predict(x_test_norm)\n",
        "y_pred = np.where(y_pred_norm > 0.5, 1, 0)\n",
        "mostrar_metricas(y_test, y_pred)"
      ]
    }
  ],
  "metadata": {
    "colab": {
      "collapsed_sections": [
        "yvJiPOB-2y18",
        "IL4urcTI2y1-"
      ],
      "provenance": []
    },
    "kernelspec": {
      "display_name": "Python 3.11.2 64-bit",
      "language": "python",
      "name": "python3"
    },
    "language_info": {
      "codemirror_mode": {
        "name": "ipython",
        "version": 3
      },
      "file_extension": ".py",
      "mimetype": "text/x-python",
      "name": "python",
      "nbconvert_exporter": "python",
      "pygments_lexer": "ipython3",
      "version": "3.11.1"
    },
    "orig_nbformat": 4,
    "vscode": {
      "interpreter": {
        "hash": "ae0944a860fa16acdf75a2e2acdd114c1b5055b7640fecd42984d96b9abbeafd"
      }
    }
  },
  "nbformat": 4,
  "nbformat_minor": 0
}
