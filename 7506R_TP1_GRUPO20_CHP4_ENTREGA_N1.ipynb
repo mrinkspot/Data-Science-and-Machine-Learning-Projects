{
 "cells": [
  {
   "cell_type": "markdown",
   "metadata": {},
   "source": [
    "# Importación de bibliotecas"
   ]
  },
  {
   "cell_type": "code",
   "execution_count": 58,
   "metadata": {},
   "outputs": [],
   "source": [
    "import numpy as np \n",
    "import pandas as pd\n",
    "import matplotlib.pyplot as plt\n",
    "import seaborn as sns\n",
    "\n",
    "import sklearn as sk\n",
    "from sklearn.model_selection import train_test_split\n",
    "from sklearn.metrics import precision_score, recall_score, accuracy_score,f1_score\n",
    "from sklearn.metrics import confusion_matrix, classification_report\n",
    "from sklearn import tree\n",
    "\n",
    "# Preprocesamiento\n",
    "from sklearn import preprocessing\n",
    "from sklearn.preprocessing import MinMaxScaler\n",
    "\n",
    "# Configuración warnings\n",
    "import warnings\n",
    "warnings.simplefilter(action='ignore', category=FutureWarning)\n",
    "warnings.simplefilter(action='ignore', category=UserWarning)\n",
    "\n",
    "# Cross validation\n",
    "from sklearn.model_selection import RandomizedSearchCV\n",
    "from sklearn.model_selection import GridSearchCV\n",
    "\n",
    "from sklearn.model_selection import train_test_split\n",
    "from sklearn.metrics import accuracy_score\n",
    "from sklearn.model_selection import cross_val_score\n",
    "\n",
    "from sklearn.datasets import make_classification\n",
    "from sklearn.metrics import confusion_matrix, classification_report\n",
    "from sklearn.metrics import roc_auc_score\n",
    "\n",
    "# Modelo red neuronal\n",
    "import tensorflow as tf\n",
    "from tensorflow import keras"
   ]
  },
  {
   "cell_type": "markdown",
   "metadata": {},
   "source": [
    "# Carga de datos y pasos previos al entrenamiento"
   ]
  },
  {
   "cell_type": "markdown",
   "metadata": {},
   "source": [
    "Importamos el dataset filtrado para comenzar a trabajar"
   ]
  },
  {
   "cell_type": "code",
   "execution_count": 59,
   "metadata": {},
   "outputs": [],
   "source": [
    "ds_hotel=pd.read_csv('./hotels_train_filtrado3.csv')\n",
    "ds_trabajo = ds_hotel.copy()"
   ]
  },
  {
   "cell_type": "markdown",
   "metadata": {},
   "source": [
    "Aplicamos One-Hot Encoding para trabajar con las variables categóricas antes de entrenar nuestros modelos"
   ]
  },
  {
   "cell_type": "code",
   "execution_count": 60,
   "metadata": {},
   "outputs": [
    {
     "data": {
      "text/html": [
       "<div>\n",
       "<style scoped>\n",
       "    .dataframe tbody tr th:only-of-type {\n",
       "        vertical-align: middle;\n",
       "    }\n",
       "\n",
       "    .dataframe tbody tr th {\n",
       "        vertical-align: top;\n",
       "    }\n",
       "\n",
       "    .dataframe thead th {\n",
       "        text-align: right;\n",
       "    }\n",
       "</style>\n",
       "<table border=\"1\" class=\"dataframe\">\n",
       "  <thead>\n",
       "    <tr style=\"text-align: right;\">\n",
       "      <th></th>\n",
       "      <th>lead_time</th>\n",
       "      <th>stays_in_weekend_nights</th>\n",
       "      <th>stays_in_week_nights</th>\n",
       "      <th>previous_cancellations</th>\n",
       "      <th>previous_bookings_not_canceled</th>\n",
       "      <th>booking_changes</th>\n",
       "      <th>adr</th>\n",
       "      <th>total_of_special_requests</th>\n",
       "      <th>is_canceled</th>\n",
       "      <th>arrival_date</th>\n",
       "      <th>...</th>\n",
       "      <th>agent_specified_1</th>\n",
       "      <th>more_than_zero_days_in_waiting_list_1</th>\n",
       "      <th>season_Spring</th>\n",
       "      <th>season_Summer</th>\n",
       "      <th>season_Winter</th>\n",
       "      <th>region_Americas</th>\n",
       "      <th>region_Asia</th>\n",
       "      <th>region_Europe</th>\n",
       "      <th>region_Oceania</th>\n",
       "      <th>room_type_match_True</th>\n",
       "    </tr>\n",
       "  </thead>\n",
       "  <tbody>\n",
       "    <tr>\n",
       "      <th>0</th>\n",
       "      <td>1.633333</td>\n",
       "      <td>1.0</td>\n",
       "      <td>2.0</td>\n",
       "      <td>0.0</td>\n",
       "      <td>0</td>\n",
       "      <td>0</td>\n",
       "      <td>115.5</td>\n",
       "      <td>1</td>\n",
       "      <td>1</td>\n",
       "      <td>1.473034e+09</td>\n",
       "      <td>...</td>\n",
       "      <td>1</td>\n",
       "      <td>0</td>\n",
       "      <td>0</td>\n",
       "      <td>1</td>\n",
       "      <td>0</td>\n",
       "      <td>1</td>\n",
       "      <td>0</td>\n",
       "      <td>0</td>\n",
       "      <td>0</td>\n",
       "      <td>1</td>\n",
       "    </tr>\n",
       "    <tr>\n",
       "      <th>1</th>\n",
       "      <td>0.133333</td>\n",
       "      <td>0.0</td>\n",
       "      <td>1.0</td>\n",
       "      <td>0.0</td>\n",
       "      <td>0</td>\n",
       "      <td>0</td>\n",
       "      <td>42.0</td>\n",
       "      <td>0</td>\n",
       "      <td>0</td>\n",
       "      <td>1.446250e+09</td>\n",
       "      <td>...</td>\n",
       "      <td>0</td>\n",
       "      <td>0</td>\n",
       "      <td>0</td>\n",
       "      <td>0</td>\n",
       "      <td>0</td>\n",
       "      <td>0</td>\n",
       "      <td>0</td>\n",
       "      <td>1</td>\n",
       "      <td>0</td>\n",
       "      <td>1</td>\n",
       "    </tr>\n",
       "    <tr>\n",
       "      <th>2</th>\n",
       "      <td>0.833333</td>\n",
       "      <td>0.0</td>\n",
       "      <td>1.0</td>\n",
       "      <td>0.0</td>\n",
       "      <td>0</td>\n",
       "      <td>0</td>\n",
       "      <td>229.0</td>\n",
       "      <td>2</td>\n",
       "      <td>0</td>\n",
       "      <td>1.476317e+09</td>\n",
       "      <td>...</td>\n",
       "      <td>1</td>\n",
       "      <td>0</td>\n",
       "      <td>0</td>\n",
       "      <td>0</td>\n",
       "      <td>0</td>\n",
       "      <td>0</td>\n",
       "      <td>0</td>\n",
       "      <td>1</td>\n",
       "      <td>0</td>\n",
       "      <td>1</td>\n",
       "    </tr>\n",
       "    <tr>\n",
       "      <th>3</th>\n",
       "      <td>0.866667</td>\n",
       "      <td>2.0</td>\n",
       "      <td>5.0</td>\n",
       "      <td>0.0</td>\n",
       "      <td>0</td>\n",
       "      <td>0</td>\n",
       "      <td>75.0</td>\n",
       "      <td>0</td>\n",
       "      <td>1</td>\n",
       "      <td>1.481501e+09</td>\n",
       "      <td>...</td>\n",
       "      <td>1</td>\n",
       "      <td>0</td>\n",
       "      <td>0</td>\n",
       "      <td>0</td>\n",
       "      <td>0</td>\n",
       "      <td>0</td>\n",
       "      <td>0</td>\n",
       "      <td>1</td>\n",
       "      <td>0</td>\n",
       "      <td>1</td>\n",
       "    </tr>\n",
       "    <tr>\n",
       "      <th>4</th>\n",
       "      <td>3.466667</td>\n",
       "      <td>2.0</td>\n",
       "      <td>5.0</td>\n",
       "      <td>0.0</td>\n",
       "      <td>0</td>\n",
       "      <td>0</td>\n",
       "      <td>75.0</td>\n",
       "      <td>1</td>\n",
       "      <td>0</td>\n",
       "      <td>1.489882e+09</td>\n",
       "      <td>...</td>\n",
       "      <td>1</td>\n",
       "      <td>0</td>\n",
       "      <td>0</td>\n",
       "      <td>0</td>\n",
       "      <td>1</td>\n",
       "      <td>0</td>\n",
       "      <td>0</td>\n",
       "      <td>1</td>\n",
       "      <td>0</td>\n",
       "      <td>1</td>\n",
       "    </tr>\n",
       "  </tbody>\n",
       "</table>\n",
       "<p>5 rows × 33 columns</p>\n",
       "</div>"
      ],
      "text/plain": [
       "   lead_time  stays_in_weekend_nights  stays_in_week_nights  \\\n",
       "0   1.633333                      1.0                   2.0   \n",
       "1   0.133333                      0.0                   1.0   \n",
       "2   0.833333                      0.0                   1.0   \n",
       "3   0.866667                      2.0                   5.0   \n",
       "4   3.466667                      2.0                   5.0   \n",
       "\n",
       "   previous_cancellations  previous_bookings_not_canceled  booking_changes  \\\n",
       "0                     0.0                               0                0   \n",
       "1                     0.0                               0                0   \n",
       "2                     0.0                               0                0   \n",
       "3                     0.0                               0                0   \n",
       "4                     0.0                               0                0   \n",
       "\n",
       "     adr  total_of_special_requests  is_canceled  arrival_date  ...  \\\n",
       "0  115.5                          1            1  1.473034e+09  ...   \n",
       "1   42.0                          0            0  1.446250e+09  ...   \n",
       "2  229.0                          2            0  1.476317e+09  ...   \n",
       "3   75.0                          0            1  1.481501e+09  ...   \n",
       "4   75.0                          1            0  1.489882e+09  ...   \n",
       "\n",
       "   agent_specified_1  more_than_zero_days_in_waiting_list_1  season_Spring  \\\n",
       "0                  1                                      0              0   \n",
       "1                  0                                      0              0   \n",
       "2                  1                                      0              0   \n",
       "3                  1                                      0              0   \n",
       "4                  1                                      0              0   \n",
       "\n",
       "   season_Summer  season_Winter  region_Americas  region_Asia  region_Europe  \\\n",
       "0              1              0                1            0              0   \n",
       "1              0              0                0            0              1   \n",
       "2              0              0                0            0              1   \n",
       "3              0              0                0            0              1   \n",
       "4              0              1                0            0              1   \n",
       "\n",
       "   region_Oceania  room_type_match_True  \n",
       "0               0                     1  \n",
       "1               0                     1  \n",
       "2               0                     1  \n",
       "3               0                     1  \n",
       "4               0                     1  \n",
       "\n",
       "[5 rows x 33 columns]"
      ]
     },
     "execution_count": 60,
     "metadata": {},
     "output_type": "execute_result"
    }
   ],
   "source": [
    "# ONE HOT ENCODING ...\n",
    "ds_trabajo_encoded = pd.get_dummies(ds_trabajo, columns=['hotel',\n",
    "                                                 'market_segment',\n",
    "                                                 'distribution_channel',\n",
    "                                                 'is_repeated_guest',\n",
    "                                                 'deposit_type',\n",
    "                                                 'customer_type',\n",
    "                                                 'agent_specified',\n",
    "                                                 'more_than_zero_days_in_waiting_list',\n",
    "                                                 'season',\n",
    "                                                 'region',\n",
    "                                                 'room_type_match'], drop_first=True)\n",
    "ds_trabajo_encoded.head()"
   ]
  },
  {
   "cell_type": "code",
   "execution_count": 61,
   "metadata": {},
   "outputs": [
    {
     "data": {
      "text/plain": [
       "Index(['lead_time', 'stays_in_weekend_nights', 'stays_in_week_nights',\n",
       "       'previous_cancellations', 'previous_bookings_not_canceled',\n",
       "       'booking_changes', 'adr', 'total_of_special_requests', 'is_canceled',\n",
       "       'arrival_date', 'total_guests', 'hotel_Resort Hotel',\n",
       "       'market_segment_Groups', 'market_segment_Offline TA/TO',\n",
       "       'market_segment_Online TA', 'market_segment_Others',\n",
       "       'distribution_channel_Direct', 'distribution_channel_GDS',\n",
       "       'distribution_channel_TA/TO', 'is_repeated_guest_1',\n",
       "       'deposit_type_Non Refund', 'customer_type_Transient',\n",
       "       'customer_type_Transient-Party', 'agent_specified_1',\n",
       "       'more_than_zero_days_in_waiting_list_1', 'season_Spring',\n",
       "       'season_Summer', 'season_Winter', 'region_Americas', 'region_Asia',\n",
       "       'region_Europe', 'region_Oceania', 'room_type_match_True'],\n",
       "      dtype='object')"
      ]
     },
     "execution_count": 61,
     "metadata": {},
     "output_type": "execute_result"
    }
   ],
   "source": [
    "ds_trabajo_encoded.columns"
   ]
  },
  {
   "cell_type": "markdown",
   "metadata": {},
   "source": [
    "Generamos el código para mostrar las métricas y la matriz de confusión de nuestras predicciones "
   ]
  },
  {
   "cell_type": "code",
   "execution_count": 62,
   "metadata": {},
   "outputs": [],
   "source": [
    "def mostrar_metricas(y_test, y_pred):\n",
    "  print(classification_report(y_test,y_pred))\n",
    "\n",
    "  # Calcular las métricas de evaluación\n",
    "  accuracy = accuracy_score(y_test, y_pred)\n",
    "  recall = recall_score(y_test, y_pred)\n",
    "  precision = precision_score(y_test, y_pred)\n",
    "  f1 = f1_score(y_test, y_pred)\n",
    "\n",
    "  # Imprimir las métricas de evaluación\n",
    "  print(\"Accuracy:\", accuracy)\n",
    "  print(\"Recall:\", recall)\n",
    "  print(\"Precision:\", precision)\n",
    "  print(\"f1 score:\", f1)\n",
    "\n",
    "  cm = confusion_matrix(y_test,y_pred)\n",
    "  sns.heatmap(cm, cmap='Blues',annot=True,fmt='g')\n",
    "  plt.xlabel('Predicted')\n",
    "  plt.ylabel('True')"
   ]
  },
  {
   "cell_type": "markdown",
   "metadata": {},
   "source": [
    "Como Keras no tiene una métrica F1 score predefinida para  utilizar al momento de compilar redes neuronales, vamos a definir una función externa a la biblioteca que calcula el F1 score, basándonos en la implementación que se muestra en [este artículo](https://aakashgoel12.medium.com/how-to-add-user-defined-function-get-f1-score-in-keras-metrics-3013f979ce0d)."
   ]
  },
  {
   "cell_type": "code",
   "execution_count": 63,
   "metadata": {},
   "outputs": [],
   "source": [
    "import keras.backend as K\n",
    "def get_f1(y_true, y_pred): # taken from old keras source code\n",
    "    true_positives = K.sum(K.round(K.clip(y_true * y_pred, 0, 1)))\n",
    "    possible_positives = K.sum(K.round(K.clip(y_true, 0, 1)))\n",
    "    predicted_positives = K.sum(K.round(K.clip(y_pred, 0, 1)))\n",
    "    precision = true_positives / (predicted_positives + K.epsilon())\n",
    "    recall = true_positives / (possible_positives + K.epsilon())\n",
    "    f1_val = 2*(precision*recall)/(precision+recall+K.epsilon())\n",
    "    return f1_val"
   ]
  },
  {
   "cell_type": "markdown",
   "metadata": {},
   "source": [
    "# Modelo de Redes Neuronales"
   ]
  },
  {
   "cell_type": "markdown",
   "metadata": {},
   "source": [
    "Vamos a normalizar los datos para que todas las características tengan una escala similar y no dominen unas sobre otras durante el entrenamiento de nuestras redes neuronales y para mejorar su rendimiento. Lo aplicamos luego de hacer la división train-test con proporción 70/30."
   ]
  },
  {
   "cell_type": "code",
   "execution_count": 64,
   "metadata": {},
   "outputs": [],
   "source": [
    "import pandas as pd\n",
    "from sklearn import preprocessing\n",
    "from sklearn.model_selection import train_test_split\n",
    "\n",
    "# Creo un dataset con los features que voy a usar para clasificar\n",
    "ds_trabajo_x = ds_trabajo_encoded.drop(['is_canceled'], axis='columns')\n",
    "\n",
    "# Creo un dataset con la variable target\n",
    "ds_trabajo_y = ds_trabajo_encoded['is_canceled'].copy()\n",
    "\n",
    "# Genero los conjuntos de train y de test\n",
    "x_train, x_test, y_train, y_test = train_test_split(ds_trabajo_x,\n",
    "                                                    ds_trabajo_y, \n",
    "                                                    test_size=0.3,\n",
    "                                                    random_state=2)\n",
    "\n",
    "# Armo una versión estandarizada\n",
    "stand_scaler = preprocessing.StandardScaler()\n",
    "x_train_norm = pd.DataFrame(stand_scaler.fit_transform(x_train), columns=x_train.columns)\n",
    "x_test_norm = pd.DataFrame(stand_scaler.transform(x_test), columns=x_test.columns)\n"
   ]
  },
  {
   "cell_type": "markdown",
   "metadata": {},
   "source": [
    "Y establecemos una semilla para lograr que los resultados sean reproducibles."
   ]
  },
  {
   "cell_type": "code",
   "execution_count": 65,
   "metadata": {},
   "outputs": [],
   "source": [
    "# Establecer una semilla\n",
    "seed_value = 2\n",
    "np.random.seed(seed_value)\n",
    "tf.random.set_seed(seed_value)"
   ]
  },
  {
   "cell_type": "markdown",
   "metadata": {},
   "source": [
    "## Modelo 1: capa de entrada, capa de salida, optimizador SGD"
   ]
  },
  {
   "cell_type": "markdown",
   "metadata": {},
   "source": [
    "Observamos que nuestra red neuronal tendrá 32 neuronas de entrada y dos clases para la salida."
   ]
  },
  {
   "cell_type": "code",
   "execution_count": 66,
   "metadata": {},
   "outputs": [
    {
     "name": "stdout",
     "output_type": "stream",
     "text": [
      "Cantidad de neuronas de entrada: 32\n",
      "Cantidad de clases de salida: 2\n"
     ]
    }
   ],
   "source": [
    "# Cantidad de clases de salida\n",
    "cant_clases=len(np.unique(y_train))\n",
    "# Cantidad de columnas de entrada\n",
    "d_in=len(x_train_norm.columns)\n",
    "\n",
    "print(f\"Cantidad de neuronas de entrada: {d_in}\")\n",
    "print(f\"Cantidad de clases de salida: {cant_clases}\")"
   ]
  },
  {
   "cell_type": "markdown",
   "metadata": {},
   "source": [
    "Vamos a empezar entrenando una red neuronal densa simple que sólo tenga dos capas. La capa de entrada tendrá 32 neuronas (cantidad de columnas en nuestro dataset) y la de salida sólo 1 (por ser clasificación binaria). Usaremos la función sigmoide como función de activación para este modelo."
   ]
  },
  {
   "cell_type": "code",
   "execution_count": 67,
   "metadata": {},
   "outputs": [
    {
     "name": "stdout",
     "output_type": "stream",
     "text": [
      "Model: \"sequential_2\"\n",
      "_________________________________________________________________\n",
      " Layer (type)                Output Shape              Param #   \n",
      "=================================================================\n",
      " dense_8 (Dense)             (None, 1)                 33        \n",
      "                                                                 \n",
      "=================================================================\n",
      "Total params: 33\n",
      "Trainable params: 33\n",
      "Non-trainable params: 0\n",
      "_________________________________________________________________\n"
     ]
    }
   ],
   "source": [
    "modelo_rn_1 = keras.Sequential([\n",
    "    keras.layers.Dense(1, activation='sigmoid', input_shape=(d_in,))\n",
    "])\n",
    "\n",
    "modelo_rn_1.summary()"
   ]
  },
  {
   "cell_type": "markdown",
   "metadata": {},
   "source": [
    "Compilamos el modelo. Vamos a usar el optimizador SGD con learning rate de 0.01 y la función de pérdida binary_crossentropy. La métrica a evaluar en el modelo será F1 score."
   ]
  },
  {
   "cell_type": "code",
   "execution_count": 68,
   "metadata": {},
   "outputs": [],
   "source": [
    "modelo_rn_1.compile(\n",
    "  optimizer=keras.optimizers.SGD(learning_rate=0.01), \n",
    "  loss='binary_crossentropy', \n",
    "  metrics=[get_f1], \n",
    ")"
   ]
  },
  {
   "cell_type": "markdown",
   "metadata": {},
   "source": [
    "Y lo entrenamos. Vamos a definir un batch size de 32 y 12 épocas. Por lo tanto, se dividirán las 43336 muestras del dataset de train en lotes de 32 muestras, para cada una de las 12 épocas, resultando así 43336/32 = 1355 lotes por época (la implementación redondea la división hacia arriba). Dado que estamos usando SGD, que actualiza pesos después de cada lote procesado, se actualizarán los pesos 1355 veces por época, siendo así 1355*12 = 16260 actualizaciones en el entrenamiento total."
   ]
  },
  {
   "cell_type": "code",
   "execution_count": 69,
   "metadata": {},
   "outputs": [
    {
     "name": "stdout",
     "output_type": "stream",
     "text": [
      "Epoch 1/12\n",
      "1355/1355 [==============================] - 4s 3ms/step - loss: 0.5536 - get_f1: 0.6907 - val_loss: 0.4957 - val_get_f1: 0.7390\n",
      "Epoch 2/12\n",
      "1355/1355 [==============================] - 3s 2ms/step - loss: 0.4854 - get_f1: 0.7405 - val_loss: 0.4834 - val_get_f1: 0.7434\n",
      "Epoch 3/12\n",
      "1355/1355 [==============================] - 3s 2ms/step - loss: 0.4782 - get_f1: 0.7447 - val_loss: 0.4790 - val_get_f1: 0.7461\n",
      "Epoch 4/12\n",
      "1355/1355 [==============================] - 3s 2ms/step - loss: 0.4751 - get_f1: 0.7461 - val_loss: 0.4764 - val_get_f1: 0.7497\n",
      "Epoch 5/12\n",
      "1355/1355 [==============================] - 3s 2ms/step - loss: 0.4733 - get_f1: 0.7476 - val_loss: 0.4750 - val_get_f1: 0.7505\n",
      "Epoch 6/12\n",
      "1355/1355 [==============================] - 3s 2ms/step - loss: 0.4720 - get_f1: 0.7466 - val_loss: 0.4740 - val_get_f1: 0.7505\n",
      "Epoch 7/12\n",
      "1355/1355 [==============================] - 3s 2ms/step - loss: 0.4711 - get_f1: 0.7483 - val_loss: 0.4734 - val_get_f1: 0.7472\n",
      "Epoch 8/12\n",
      "1355/1355 [==============================] - 3s 2ms/step - loss: 0.4704 - get_f1: 0.7487 - val_loss: 0.4726 - val_get_f1: 0.7497\n",
      "Epoch 9/12\n",
      "1355/1355 [==============================] - 3s 2ms/step - loss: 0.4699 - get_f1: 0.7483 - val_loss: 0.4720 - val_get_f1: 0.7495\n",
      "Epoch 10/12\n",
      "1355/1355 [==============================] - 3s 2ms/step - loss: 0.4695 - get_f1: 0.7489 - val_loss: 0.4714 - val_get_f1: 0.7502\n",
      "Epoch 11/12\n",
      "1355/1355 [==============================] - 3s 2ms/step - loss: 0.4690 - get_f1: 0.7488 - val_loss: 0.4709 - val_get_f1: 0.7523\n",
      "Epoch 12/12\n",
      "1355/1355 [==============================] - 3s 2ms/step - loss: 0.4687 - get_f1: 0.7497 - val_loss: 0.4706 - val_get_f1: 0.7515\n"
     ]
    },
    {
     "data": {
      "text/plain": [
       "<keras.callbacks.History at 0x1e241536990>"
      ]
     },
     "execution_count": 69,
     "metadata": {},
     "output_type": "execute_result"
    }
   ],
   "source": [
    "modelo_rn_1.fit(x_train_norm, y_train, batch_size=32, epochs=12, validation_data=(x_test_norm, y_test))"
   ]
  },
  {
   "cell_type": "markdown",
   "metadata": {},
   "source": [
    "Hacemos la predicción, convirtiendo las salidas continuas en predicciones binarias utilizando un umbral. Dado que creemos que es importante reducir los falsos negativos en el problema de predecir el estado de cancelación de reservas (es decir, queremos minimizar la clasificación incorrecta de reservas que en realidad serían canceladas, vamos a definir este umbral por debajo de 0.5, siendo así el modelo más permisivo al clasificar las reservas como canceladas. Analizamos las métricas obtenidas para distintos valores del umbral y observamos que con 0.4 mantenemos un recall y un f1 score similares. "
   ]
  },
  {
   "cell_type": "code",
   "execution_count": 70,
   "metadata": {},
   "outputs": [
    {
     "name": "stdout",
     "output_type": "stream",
     "text": [
      "581/581 [==============================] - 1s 1ms/step\n",
      "              precision    recall  f1-score   support\n",
      "\n",
      "           0       0.76      0.75      0.75      9195\n",
      "           1       0.76      0.77      0.76      9378\n",
      "\n",
      "    accuracy                           0.76     18573\n",
      "   macro avg       0.76      0.76      0.76     18573\n",
      "weighted avg       0.76      0.76      0.76     18573\n",
      "\n",
      "Accuracy: 0.7579820169062618\n",
      "Recall: 0.7654084026444871\n",
      "Precision: 0.7577325029029874\n",
      "f1 score: 0.7615511113468781\n"
     ]
    },
    {
     "data": {
      "image/png": "[encoded data removed]",
      "text/plain": [
       "<Figure size 640x480 with 2 Axes>"
      ]
     },
     "metadata": {},
     "output_type": "display_data"
    }
   ],
   "source": [
    "y_pred_norm = modelo_rn_1.predict(x_test_norm)\n",
    "y_pred = np.where(y_pred_norm > 0.45, 1, 0)\n",
    "mostrar_metricas(y_test, y_pred)"
   ]
  },
  {
   "cell_type": "markdown",
   "metadata": {},
   "source": [
    "Obtuvimos métricas decentes con este modelo de red neuronal simple. Vamos a entrenar más modelos con arquitecturas distintas para lograr mejorar estas métricas e intentar llevarlas a valores superiores a los obtenidos con modelos anteriores."
   ]
  },
  {
   "cell_type": "markdown",
   "metadata": {},
   "source": [
    "## Modelo 2: una capa oculta, optimizador Adam"
   ]
  },
  {
   "cell_type": "markdown",
   "metadata": {},
   "source": [
    "Para nuestra segunda iteración, a la arquitectura de nuestra red neuronal densa le vamos a agregar una capa oculta con 20 neuronas y usará la función de activación ReLu. Para la capa de salida, usaremos la sigmoidea. "
   ]
  },
  {
   "cell_type": "code",
   "execution_count": 71,
   "metadata": {},
   "outputs": [],
   "source": [
    "modelo_rn_2 = keras.Sequential([\n",
    "    keras.layers.Dense(32, activation='relu', input_shape=(d_in,)),\n",
    "    keras.layers.Dense(20, activation='relu'),\n",
    "    keras.layers.Dense(1, activation='sigmoid')\n",
    "])"
   ]
  },
  {
   "cell_type": "markdown",
   "metadata": {},
   "source": [
    "Esta vez vamos a compilar con el optimizador Adam y un learning rate de 0.001. Nuevamente vamos a elegir optimizar F1 score."
   ]
  },
  {
   "cell_type": "code",
   "execution_count": 72,
   "metadata": {},
   "outputs": [],
   "source": [
    "modelo_rn_2.compile(\n",
    "  optimizer=keras.optimizers.Adam(learning_rate=0.001), \n",
    "  loss='binary_crossentropy', \n",
    "  metrics=[get_f1], \n",
    ")"
   ]
  },
  {
   "cell_type": "markdown",
   "metadata": {},
   "source": [
    "Lo entrenamos con un batch size de 35 y 30 épocas."
   ]
  },
  {
   "cell_type": "code",
   "execution_count": 73,
   "metadata": {},
   "outputs": [
    {
     "name": "stdout",
     "output_type": "stream",
     "text": [
      "Epoch 1/30\n",
      "1239/1239 [==============================] - 4s 3ms/step - loss: 0.4733 - get_f1: 0.7392 - val_loss: 0.4442 - val_get_f1: 0.7652\n",
      "Epoch 2/30\n",
      "1239/1239 [==============================] - 3s 3ms/step - loss: 0.4340 - get_f1: 0.7648 - val_loss: 0.4327 - val_get_f1: 0.7674\n",
      "Epoch 3/30\n",
      "1239/1239 [==============================] - 4s 3ms/step - loss: 0.4223 - get_f1: 0.7742 - val_loss: 0.4227 - val_get_f1: 0.7786\n",
      "Epoch 4/30\n",
      "1239/1239 [==============================] - 3s 2ms/step - loss: 0.4159 - get_f1: 0.7781 - val_loss: 0.4187 - val_get_f1: 0.7850\n",
      "Epoch 5/30\n",
      "1239/1239 [==============================] - 3s 3ms/step - loss: 0.4099 - get_f1: 0.7843 - val_loss: 0.4160 - val_get_f1: 0.7812\n",
      "Epoch 6/30\n",
      "1239/1239 [==============================] - 4s 3ms/step - loss: 0.4061 - get_f1: 0.7868 - val_loss: 0.4135 - val_get_f1: 0.7815\n",
      "Epoch 7/30\n",
      "1239/1239 [==============================] - 4s 3ms/step - loss: 0.4021 - get_f1: 0.7894 - val_loss: 0.4106 - val_get_f1: 0.7910\n",
      "Epoch 8/30\n",
      "1239/1239 [==============================] - 4s 3ms/step - loss: 0.3985 - get_f1: 0.7922 - val_loss: 0.4076 - val_get_f1: 0.7916\n",
      "Epoch 9/30\n",
      "1239/1239 [==============================] - 3s 3ms/step - loss: 0.3963 - get_f1: 0.7921 - val_loss: 0.4077 - val_get_f1: 0.7860\n",
      "Epoch 10/30\n",
      "1239/1239 [==============================] - 3s 3ms/step - loss: 0.3940 - get_f1: 0.7955 - val_loss: 0.4067 - val_get_f1: 0.7958\n",
      "Epoch 11/30\n",
      "1239/1239 [==============================] - 3s 2ms/step - loss: 0.3921 - get_f1: 0.7969 - val_loss: 0.4077 - val_get_f1: 0.7965\n",
      "Epoch 12/30\n",
      "1239/1239 [==============================] - 3s 2ms/step - loss: 0.3903 - get_f1: 0.7980 - val_loss: 0.4033 - val_get_f1: 0.7985\n",
      "Epoch 13/30\n",
      "1239/1239 [==============================] - 3s 2ms/step - loss: 0.3888 - get_f1: 0.8001 - val_loss: 0.4034 - val_get_f1: 0.7879\n",
      "Epoch 14/30\n",
      "1239/1239 [==============================] - 3s 2ms/step - loss: 0.3868 - get_f1: 0.8008 - val_loss: 0.4036 - val_get_f1: 0.7946\n",
      "Epoch 15/30\n",
      "1239/1239 [==============================] - 3s 2ms/step - loss: 0.3855 - get_f1: 0.8010 - val_loss: 0.4046 - val_get_f1: 0.8018\n",
      "Epoch 16/30\n",
      "1239/1239 [==============================] - 3s 2ms/step - loss: 0.3841 - get_f1: 0.8014 - val_loss: 0.4033 - val_get_f1: 0.7887\n",
      "Epoch 17/30\n",
      "1239/1239 [==============================] - 3s 2ms/step - loss: 0.3829 - get_f1: 0.8011 - val_loss: 0.4073 - val_get_f1: 0.8011\n",
      "Epoch 18/30\n",
      "1239/1239 [==============================] - 3s 2ms/step - loss: 0.3813 - get_f1: 0.8037 - val_loss: 0.4009 - val_get_f1: 0.8021\n",
      "Epoch 19/30\n",
      "1239/1239 [==============================] - 3s 2ms/step - loss: 0.3800 - get_f1: 0.8059 - val_loss: 0.4021 - val_get_f1: 0.7970\n",
      "Epoch 20/30\n",
      "1239/1239 [==============================] - 3s 2ms/step - loss: 0.3788 - get_f1: 0.8050 - val_loss: 0.4015 - val_get_f1: 0.7995\n",
      "Epoch 21/30\n",
      "1239/1239 [==============================] - 3s 2ms/step - loss: 0.3787 - get_f1: 0.8061 - val_loss: 0.4016 - val_get_f1: 0.7985\n",
      "Epoch 22/30\n",
      "1239/1239 [==============================] - 3s 2ms/step - loss: 0.3775 - get_f1: 0.8081 - val_loss: 0.4038 - val_get_f1: 0.7898\n",
      "Epoch 23/30\n",
      "1239/1239 [==============================] - 3s 2ms/step - loss: 0.3768 - get_f1: 0.8075 - val_loss: 0.4033 - val_get_f1: 0.7971\n",
      "Epoch 24/30\n",
      "1239/1239 [==============================] - 3s 2ms/step - loss: 0.3763 - get_f1: 0.8084 - val_loss: 0.4032 - val_get_f1: 0.7926\n",
      "Epoch 25/30\n",
      "1239/1239 [==============================] - 3s 2ms/step - loss: 0.3752 - get_f1: 0.8084 - val_loss: 0.4008 - val_get_f1: 0.7981\n",
      "Epoch 26/30\n",
      "1239/1239 [==============================] - 4s 3ms/step - loss: 0.3743 - get_f1: 0.8096 - val_loss: 0.4023 - val_get_f1: 0.7971\n",
      "Epoch 27/30\n",
      "1239/1239 [==============================] - 4s 3ms/step - loss: 0.3738 - get_f1: 0.8122 - val_loss: 0.4038 - val_get_f1: 0.7987\n",
      "Epoch 28/30\n",
      "1239/1239 [==============================] - 4s 3ms/step - loss: 0.3733 - get_f1: 0.8092 - val_loss: 0.4011 - val_get_f1: 0.8001\n",
      "Epoch 29/30\n",
      "1239/1239 [==============================] - 3s 3ms/step - loss: 0.3730 - get_f1: 0.8106 - val_loss: 0.4008 - val_get_f1: 0.8037\n",
      "Epoch 30/30\n",
      "1239/1239 [==============================] - 3s 3ms/step - loss: 0.3721 - get_f1: 0.8108 - val_loss: 0.4060 - val_get_f1: 0.7927\n"
     ]
    },
    {
     "data": {
      "text/plain": [
       "<keras.callbacks.History at 0x1e2259637d0>"
      ]
     },
     "execution_count": 73,
     "metadata": {},
     "output_type": "execute_result"
    }
   ],
   "source": [
    "modelo_rn_2.fit(x_train_norm, y_train, batch_size=35, epochs=30, validation_data=(x_test_norm, y_test))"
   ]
  },
  {
   "cell_type": "markdown",
   "metadata": {},
   "source": [
    "Observamos que se logra mejorar todas las métricas con esta nueva arquitectura. Agregar una capa oculta y modificar ligeramente otros valores resultó en que el modelo aprenda relaciones más complejas entre los datos."
   ]
  },
  {
   "cell_type": "code",
   "execution_count": 74,
   "metadata": {},
   "outputs": [
    {
     "name": "stdout",
     "output_type": "stream",
     "text": [
      "581/581 [==============================] - 1s 2ms/step\n",
      "              precision    recall  f1-score   support\n",
      "\n",
      "           0       0.80      0.82      0.81      9195\n",
      "           1       0.82      0.80      0.81      9378\n",
      "\n",
      "    accuracy                           0.81     18573\n",
      "   macro avg       0.81      0.81      0.81     18573\n",
      "weighted avg       0.81      0.81      0.81     18573\n",
      "\n",
      "Accuracy: 0.8084315942497173\n",
      "Recall: 0.7989976540840265\n",
      "Precision: 0.8174776347370718\n",
      "f1 score: 0.8081320103537533\n"
     ]
    },
    {
     "data": {
      "image/png": "[encoded data removed]",
      "text/plain": [
       "<Figure size 640x480 with 2 Axes>"
      ]
     },
     "metadata": {},
     "output_type": "display_data"
    }
   ],
   "source": [
    "y_pred_norm = modelo_rn_2.predict(x_test_norm)\n",
    "y_pred = np.where(y_pred_norm > 0.45, 1, 0)\n",
    "mostrar_metricas(y_test, y_pred)"
   ]
  },
  {
   "cell_type": "markdown",
   "metadata": {},
   "source": [
    "Exportamos este primer red neuronal con métricas por encima de 80% en formato pickle"
   ]
  },
  {
   "cell_type": "code",
   "execution_count": 75,
   "metadata": {},
   "outputs": [],
   "source": [
    "import pickle\n",
    "\n",
    "with open('models/rn/rn1_model.pickle', 'wb') as archivo:\n",
    "    pickle.dump(modelo_rn_2, archivo)"
   ]
  },
  {
   "cell_type": "markdown",
   "metadata": {},
   "source": [
    "## Modelo 3: cuatro capas ocultas, optimizador Adam"
   ]
  },
  {
   "cell_type": "markdown",
   "metadata": {},
   "source": [
    "Vamos a agregar cuatro capas ocultas, con entre 256 y 64 neuronas, cada una usará la función de activación ReLu. Para la capa de salida, usaremos la sigmoidea. "
   ]
  },
  {
   "cell_type": "code",
   "execution_count": 95,
   "metadata": {},
   "outputs": [],
   "source": [
    "modelo_rn_3 = keras.Sequential([\n",
    "    keras.layers.Dense(256, activation='relu', input_shape=(d_in,)),\n",
    "    keras.layers.Dense(256, activation='relu'),\n",
    "    keras.layers.Dense(128, activation='relu'),\n",
    "    keras.layers.Dense(64, activation='relu'),\n",
    "    keras.layers.Dense(1, activation='sigmoid')\n",
    "])\n"
   ]
  },
  {
   "cell_type": "markdown",
   "metadata": {},
   "source": [
    "Compilaremos con el optimizador Adam y un learning rate de 0.001."
   ]
  },
  {
   "cell_type": "code",
   "execution_count": 99,
   "metadata": {},
   "outputs": [],
   "source": [
    "modelo_rn_3.compile(\n",
    "  optimizer=keras.optimizers.Adam(learning_rate=0.001), \n",
    "  loss='binary_crossentropy', \n",
    "  metrics=[get_f1], \n",
    ")"
   ]
  },
  {
   "cell_type": "markdown",
   "metadata": {},
   "source": [
    "Vamos también a aumentar la cantidad de épocas y el batch size."
   ]
  },
  {
   "cell_type": "code",
   "execution_count": 108,
   "metadata": {},
   "outputs": [
    {
     "name": "stdout",
     "output_type": "stream",
     "text": [
      "Epoch 1/50\n",
      "678/678 [==============================] - 3s 5ms/step - loss: 0.3195 - get_f1: 0.8487 - val_loss: 0.5668 - val_get_f1: 0.8172\n",
      "Epoch 2/50\n",
      "678/678 [==============================] - 3s 4ms/step - loss: 0.3192 - get_f1: 0.8490 - val_loss: 0.5894 - val_get_f1: 0.8159\n",
      "Epoch 3/50\n",
      "678/678 [==============================] - 3s 5ms/step - loss: 0.3185 - get_f1: 0.8498 - val_loss: 0.5974 - val_get_f1: 0.8166\n",
      "Epoch 4/50\n",
      "678/678 [==============================] - 3s 4ms/step - loss: 0.3170 - get_f1: 0.8494 - val_loss: 0.6277 - val_get_f1: 0.8181\n",
      "Epoch 5/50\n",
      "678/678 [==============================] - 3s 4ms/step - loss: 0.3203 - get_f1: 0.8513 - val_loss: 0.5149 - val_get_f1: 0.8130\n",
      "Epoch 6/50\n",
      "678/678 [==============================] - 3s 4ms/step - loss: 0.3168 - get_f1: 0.8500 - val_loss: 0.5698 - val_get_f1: 0.8175\n",
      "Epoch 7/50\n",
      "678/678 [==============================] - 4s 6ms/step - loss: 0.3156 - get_f1: 0.8511 - val_loss: 0.4642 - val_get_f1: 0.8169\n",
      "Epoch 8/50\n",
      "678/678 [==============================] - 3s 5ms/step - loss: 0.3172 - get_f1: 0.8516 - val_loss: 0.5046 - val_get_f1: 0.8148\n",
      "Epoch 9/50\n",
      "678/678 [==============================] - 3s 4ms/step - loss: 0.3137 - get_f1: 0.8514 - val_loss: 0.5248 - val_get_f1: 0.8165\n",
      "Epoch 10/50\n",
      "678/678 [==============================] - 3s 5ms/step - loss: 0.3123 - get_f1: 0.8529 - val_loss: 0.5550 - val_get_f1: 0.8178\n",
      "Epoch 11/50\n",
      "678/678 [==============================] - 3s 5ms/step - loss: 0.3114 - get_f1: 0.8535 - val_loss: 0.5425 - val_get_f1: 0.8178\n",
      "Epoch 12/50\n",
      "678/678 [==============================] - 3s 4ms/step - loss: 0.3109 - get_f1: 0.8533 - val_loss: 0.5804 - val_get_f1: 0.8150\n",
      "Epoch 13/50\n",
      "678/678 [==============================] - 3s 4ms/step - loss: 0.3130 - get_f1: 0.8527 - val_loss: 0.5745 - val_get_f1: 0.8117\n",
      "Epoch 14/50\n",
      "678/678 [==============================] - 4s 6ms/step - loss: 0.3102 - get_f1: 0.8530 - val_loss: 0.5718 - val_get_f1: 0.8186\n",
      "Epoch 15/50\n",
      "678/678 [==============================] - 3s 5ms/step - loss: 0.3081 - get_f1: 0.8550 - val_loss: 0.5814 - val_get_f1: 0.8174\n",
      "Epoch 16/50\n",
      "678/678 [==============================] - 4s 6ms/step - loss: 0.3077 - get_f1: 0.8566 - val_loss: 0.6218 - val_get_f1: 0.8130\n",
      "Epoch 17/50\n",
      "678/678 [==============================] - 3s 5ms/step - loss: 0.3070 - get_f1: 0.8559 - val_loss: 0.5840 - val_get_f1: 0.8185\n",
      "Epoch 18/50\n",
      "678/678 [==============================] - 3s 5ms/step - loss: 0.3061 - get_f1: 0.8567 - val_loss: 0.5807 - val_get_f1: 0.8169\n",
      "Epoch 19/50\n",
      "678/678 [==============================] - 3s 5ms/step - loss: 0.3054 - get_f1: 0.8575 - val_loss: 0.5490 - val_get_f1: 0.8147\n",
      "Epoch 20/50\n",
      "678/678 [==============================] - 3s 5ms/step - loss: 0.3049 - get_f1: 0.8570 - val_loss: 0.5456 - val_get_f1: 0.8154\n",
      "Epoch 21/50\n",
      "678/678 [==============================] - 3s 5ms/step - loss: 0.3043 - get_f1: 0.8571 - val_loss: 0.5791 - val_get_f1: 0.8168\n",
      "Epoch 22/50\n",
      "678/678 [==============================] - 3s 5ms/step - loss: 0.3025 - get_f1: 0.8601 - val_loss: 0.5742 - val_get_f1: 0.8168\n",
      "Epoch 23/50\n",
      "678/678 [==============================] - 3s 5ms/step - loss: 0.3022 - get_f1: 0.8585 - val_loss: 0.5248 - val_get_f1: 0.8146\n",
      "Epoch 24/50\n",
      "678/678 [==============================] - 3s 4ms/step - loss: 0.3011 - get_f1: 0.8591 - val_loss: 0.5487 - val_get_f1: 0.8156\n",
      "Epoch 25/50\n",
      "678/678 [==============================] - 4s 5ms/step - loss: 0.3010 - get_f1: 0.8604 - val_loss: 0.5695 - val_get_f1: 0.8156\n",
      "Epoch 26/50\n",
      "678/678 [==============================] - 4s 6ms/step - loss: 0.3004 - get_f1: 0.8610 - val_loss: 0.5609 - val_get_f1: 0.8179\n",
      "Epoch 27/50\n",
      "678/678 [==============================] - 3s 5ms/step - loss: 0.2978 - get_f1: 0.8622 - val_loss: 0.5635 - val_get_f1: 0.8169\n",
      "Epoch 28/50\n",
      "678/678 [==============================] - 3s 5ms/step - loss: 0.2971 - get_f1: 0.8628 - val_loss: 0.6042 - val_get_f1: 0.8161\n",
      "Epoch 29/50\n",
      "678/678 [==============================] - 3s 4ms/step - loss: 0.2971 - get_f1: 0.8634 - val_loss: 0.5751 - val_get_f1: 0.8178\n",
      "Epoch 30/50\n",
      "678/678 [==============================] - 3s 4ms/step - loss: 0.2955 - get_f1: 0.8629 - val_loss: 0.5893 - val_get_f1: 0.8152\n",
      "Epoch 31/50\n",
      "678/678 [==============================] - 3s 4ms/step - loss: 0.2980 - get_f1: 0.8625 - val_loss: 0.6039 - val_get_f1: 0.8143\n",
      "Epoch 32/50\n",
      "678/678 [==============================] - 3s 4ms/step - loss: 0.2951 - get_f1: 0.8635 - val_loss: 0.6188 - val_get_f1: 0.8132\n",
      "Epoch 33/50\n",
      "678/678 [==============================] - 3s 4ms/step - loss: 0.2939 - get_f1: 0.8643 - val_loss: 0.6176 - val_get_f1: 0.8158\n",
      "Epoch 34/50\n",
      "678/678 [==============================] - 3s 4ms/step - loss: 0.2950 - get_f1: 0.8640 - val_loss: 0.5696 - val_get_f1: 0.8178\n",
      "Epoch 35/50\n",
      "678/678 [==============================] - 3s 4ms/step - loss: 0.2922 - get_f1: 0.8655 - val_loss: 0.6065 - val_get_f1: 0.8148\n",
      "Epoch 36/50\n",
      "678/678 [==============================] - 3s 4ms/step - loss: 0.2923 - get_f1: 0.8661 - val_loss: 0.6016 - val_get_f1: 0.8165\n",
      "Epoch 37/50\n",
      "678/678 [==============================] - 3s 4ms/step - loss: 0.2910 - get_f1: 0.8669 - val_loss: 0.6022 - val_get_f1: 0.8148\n",
      "Epoch 38/50\n",
      "678/678 [==============================] - 3s 4ms/step - loss: 0.2907 - get_f1: 0.8667 - val_loss: 0.6373 - val_get_f1: 0.8165\n",
      "Epoch 39/50\n",
      "678/678 [==============================] - 3s 4ms/step - loss: 0.2893 - get_f1: 0.8672 - val_loss: 0.6172 - val_get_f1: 0.8162\n",
      "Epoch 40/50\n",
      "678/678 [==============================] - 3s 4ms/step - loss: 0.2895 - get_f1: 0.8668 - val_loss: 0.6384 - val_get_f1: 0.8151\n",
      "Epoch 41/50\n",
      "678/678 [==============================] - 3s 4ms/step - loss: 0.2888 - get_f1: 0.8663 - val_loss: 0.6413 - val_get_f1: 0.8158\n",
      "Epoch 42/50\n",
      "678/678 [==============================] - 3s 4ms/step - loss: 0.2884 - get_f1: 0.8677 - val_loss: 0.6589 - val_get_f1: 0.8145\n",
      "Epoch 43/50\n",
      "678/678 [==============================] - 3s 4ms/step - loss: 0.2870 - get_f1: 0.8687 - val_loss: 0.6466 - val_get_f1: 0.8152\n",
      "Epoch 44/50\n",
      "678/678 [==============================] - 3s 4ms/step - loss: 0.2870 - get_f1: 0.8689 - val_loss: 0.6027 - val_get_f1: 0.8145\n",
      "Epoch 45/50\n",
      "678/678 [==============================] - 3s 4ms/step - loss: 0.2862 - get_f1: 0.8694 - val_loss: 0.6198 - val_get_f1: 0.8147\n",
      "Epoch 46/50\n",
      "678/678 [==============================] - 3s 4ms/step - loss: 0.2844 - get_f1: 0.8693 - val_loss: 0.6284 - val_get_f1: 0.8137\n",
      "Epoch 47/50\n",
      "678/678 [==============================] - 3s 4ms/step - loss: 0.2837 - get_f1: 0.8697 - val_loss: 0.6369 - val_get_f1: 0.8164\n",
      "Epoch 48/50\n",
      "678/678 [==============================] - 3s 4ms/step - loss: 0.2832 - get_f1: 0.8714 - val_loss: 0.6711 - val_get_f1: 0.8138\n",
      "Epoch 49/50\n",
      "678/678 [==============================] - 3s 4ms/step - loss: 0.2825 - get_f1: 0.8702 - val_loss: 0.6485 - val_get_f1: 0.8146\n",
      "Epoch 50/50\n",
      "678/678 [==============================] - 3s 4ms/step - loss: 0.2818 - get_f1: 0.8703 - val_loss: 0.6609 - val_get_f1: 0.8150\n"
     ]
    },
    {
     "data": {
      "text/plain": [
       "<keras.callbacks.History at 0x1e24d961510>"
      ]
     },
     "execution_count": 108,
     "metadata": {},
     "output_type": "execute_result"
    }
   ],
   "source": [
    "modelo_rn_3.fit(x_train_norm, y_train, batch_size=64, epochs=50, validation_data=(x_test_norm, y_test))"
   ]
  },
  {
   "cell_type": "markdown",
   "metadata": {},
   "source": [
    "No observamos mejorías muy significativas respecto de la arquitectura anterior."
   ]
  },
  {
   "cell_type": "code",
   "execution_count": 111,
   "metadata": {},
   "outputs": [
    {
     "name": "stdout",
     "output_type": "stream",
     "text": [
      "581/581 [==============================] - 1s 2ms/step\n",
      "              precision    recall  f1-score   support\n",
      "\n",
      "           0       0.83      0.78      0.80      9195\n",
      "           1       0.80      0.84      0.82      9378\n",
      "\n",
      "    accuracy                           0.81     18573\n",
      "   macro avg       0.81      0.81      0.81     18573\n",
      "weighted avg       0.81      0.81      0.81     18573\n",
      "\n",
      "Accuracy: 0.810800624562537\n",
      "Recall: 0.8417573043292813\n",
      "Precision: 0.7954453849254333\n",
      "f1 score: 0.8179463268055124\n"
     ]
    },
    {
     "data": {
      "image/png": "[encoded data removed]",
      "text/plain": [
       "<Figure size 640x480 with 2 Axes>"
      ]
     },
     "metadata": {},
     "output_type": "display_data"
    }
   ],
   "source": [
    "y_pred_norm = modelo_rn_3.predict(x_test_norm)\n",
    "y_pred = np.where(y_pred_norm > 0.45, 1, 0)\n",
    "mostrar_metricas(y_test, y_pred)"
   ]
  }
 ],
 "metadata": {
  "kernelspec": {
   "display_name": "Python 3.11.2 64-bit",
   "language": "python",
   "name": "python3"
  },
  "language_info": {
   "codemirror_mode": {
    "name": "ipython",
    "version": 3
   },
   "file_extension": ".py",
   "mimetype": "text/x-python",
   "name": "python",
   "nbconvert_exporter": "python",
   "pygments_lexer": "ipython3",
   "version": "3.11.2"
  },
  "orig_nbformat": 4,
  "vscode": {
   "interpreter": {
    "hash": "ae0944a860fa16acdf75a2e2acdd114c1b5055b7640fecd42984d96b9abbeafd"
   }
  }
 },
 "nbformat": 4,
 "nbformat_minor": 2
}
