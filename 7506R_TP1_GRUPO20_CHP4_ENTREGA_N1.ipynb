{
 "cells": [
  {
   "cell_type": "markdown",
   "metadata": {},
   "source": [
    "# Importación de bibliotecas"
   ]
  },
  {
   "cell_type": "code",
   "execution_count": 1,
   "metadata": {},
   "outputs": [],
   "source": [
    "import numpy as np \n",
    "import pandas as pd\n",
    "import matplotlib.pyplot as plt\n",
    "import seaborn as sns\n",
    "\n",
    "import sklearn as sk\n",
    "from sklearn.model_selection import train_test_split\n",
    "from sklearn.metrics import precision_score, recall_score, accuracy_score,f1_score\n",
    "from sklearn.metrics import confusion_matrix, classification_report\n",
    "from sklearn import tree\n",
    "\n",
    "# Preprocesamiento\n",
    "from sklearn import preprocessing\n",
    "from sklearn.preprocessing import MinMaxScaler\n",
    "\n",
    "# Configuración warnings\n",
    "import warnings\n",
    "warnings.simplefilter(action='ignore', category=FutureWarning)\n",
    "warnings.simplefilter(action='ignore', category=UserWarning)\n",
    "\n",
    "# Cross validation\n",
    "from sklearn.model_selection import RandomizedSearchCV\n",
    "from sklearn.model_selection import GridSearchCV\n",
    "\n",
    "from sklearn.model_selection import train_test_split\n",
    "from sklearn.metrics import accuracy_score\n",
    "from sklearn.model_selection import cross_val_score\n",
    "\n",
    "from sklearn.datasets import make_classification\n",
    "from sklearn.metrics import confusion_matrix, classification_report\n",
    "from sklearn.metrics import roc_auc_score\n",
    "\n",
    "# Modelo red neuronal\n",
    "from tensorflow import keras"
   ]
  },
  {
   "cell_type": "markdown",
   "metadata": {},
   "source": [
    "# Carga de datos"
   ]
  },
  {
   "cell_type": "markdown",
   "metadata": {},
   "source": [
    "Importamos el dataset filtrado para comenzar a trabajar"
   ]
  },
  {
   "cell_type": "code",
   "execution_count": 2,
   "metadata": {},
   "outputs": [],
   "source": [
    "ds_hotel=pd.read_csv('./hotels_train_filtrado3.csv')\n",
    "ds_trabajo = ds_hotel.copy()"
   ]
  },
  {
   "cell_type": "markdown",
   "metadata": {},
   "source": [
    "Aplicamos One-Hot Encoding para trabajar con las variables categóricas antes de entrenar nuestros modelos"
   ]
  },
  {
   "cell_type": "code",
   "execution_count": 3,
   "metadata": {},
   "outputs": [
    {
     "data": {
      "text/html": [
       "<div>\n",
       "<style scoped>\n",
       "    .dataframe tbody tr th:only-of-type {\n",
       "        vertical-align: middle;\n",
       "    }\n",
       "\n",
       "    .dataframe tbody tr th {\n",
       "        vertical-align: top;\n",
       "    }\n",
       "\n",
       "    .dataframe thead th {\n",
       "        text-align: right;\n",
       "    }\n",
       "</style>\n",
       "<table border=\"1\" class=\"dataframe\">\n",
       "  <thead>\n",
       "    <tr style=\"text-align: right;\">\n",
       "      <th></th>\n",
       "      <th>lead_time</th>\n",
       "      <th>stays_in_weekend_nights</th>\n",
       "      <th>stays_in_week_nights</th>\n",
       "      <th>previous_cancellations</th>\n",
       "      <th>previous_bookings_not_canceled</th>\n",
       "      <th>booking_changes</th>\n",
       "      <th>adr</th>\n",
       "      <th>total_of_special_requests</th>\n",
       "      <th>is_canceled</th>\n",
       "      <th>arrival_date</th>\n",
       "      <th>...</th>\n",
       "      <th>agent_specified_1</th>\n",
       "      <th>more_than_zero_days_in_waiting_list_1</th>\n",
       "      <th>season_Spring</th>\n",
       "      <th>season_Summer</th>\n",
       "      <th>season_Winter</th>\n",
       "      <th>region_Americas</th>\n",
       "      <th>region_Asia</th>\n",
       "      <th>region_Europe</th>\n",
       "      <th>region_Oceania</th>\n",
       "      <th>room_type_match_True</th>\n",
       "    </tr>\n",
       "  </thead>\n",
       "  <tbody>\n",
       "    <tr>\n",
       "      <th>0</th>\n",
       "      <td>1.633333</td>\n",
       "      <td>1.0</td>\n",
       "      <td>2.0</td>\n",
       "      <td>0.0</td>\n",
       "      <td>0</td>\n",
       "      <td>0</td>\n",
       "      <td>115.5</td>\n",
       "      <td>1</td>\n",
       "      <td>1</td>\n",
       "      <td>1.473034e+09</td>\n",
       "      <td>...</td>\n",
       "      <td>1</td>\n",
       "      <td>0</td>\n",
       "      <td>0</td>\n",
       "      <td>1</td>\n",
       "      <td>0</td>\n",
       "      <td>1</td>\n",
       "      <td>0</td>\n",
       "      <td>0</td>\n",
       "      <td>0</td>\n",
       "      <td>1</td>\n",
       "    </tr>\n",
       "    <tr>\n",
       "      <th>1</th>\n",
       "      <td>0.133333</td>\n",
       "      <td>0.0</td>\n",
       "      <td>1.0</td>\n",
       "      <td>0.0</td>\n",
       "      <td>0</td>\n",
       "      <td>0</td>\n",
       "      <td>42.0</td>\n",
       "      <td>0</td>\n",
       "      <td>0</td>\n",
       "      <td>1.446250e+09</td>\n",
       "      <td>...</td>\n",
       "      <td>0</td>\n",
       "      <td>0</td>\n",
       "      <td>0</td>\n",
       "      <td>0</td>\n",
       "      <td>0</td>\n",
       "      <td>0</td>\n",
       "      <td>0</td>\n",
       "      <td>1</td>\n",
       "      <td>0</td>\n",
       "      <td>1</td>\n",
       "    </tr>\n",
       "    <tr>\n",
       "      <th>2</th>\n",
       "      <td>0.833333</td>\n",
       "      <td>0.0</td>\n",
       "      <td>1.0</td>\n",
       "      <td>0.0</td>\n",
       "      <td>0</td>\n",
       "      <td>0</td>\n",
       "      <td>229.0</td>\n",
       "      <td>2</td>\n",
       "      <td>0</td>\n",
       "      <td>1.476317e+09</td>\n",
       "      <td>...</td>\n",
       "      <td>1</td>\n",
       "      <td>0</td>\n",
       "      <td>0</td>\n",
       "      <td>0</td>\n",
       "      <td>0</td>\n",
       "      <td>0</td>\n",
       "      <td>0</td>\n",
       "      <td>1</td>\n",
       "      <td>0</td>\n",
       "      <td>1</td>\n",
       "    </tr>\n",
       "    <tr>\n",
       "      <th>3</th>\n",
       "      <td>0.866667</td>\n",
       "      <td>2.0</td>\n",
       "      <td>5.0</td>\n",
       "      <td>0.0</td>\n",
       "      <td>0</td>\n",
       "      <td>0</td>\n",
       "      <td>75.0</td>\n",
       "      <td>0</td>\n",
       "      <td>1</td>\n",
       "      <td>1.481501e+09</td>\n",
       "      <td>...</td>\n",
       "      <td>1</td>\n",
       "      <td>0</td>\n",
       "      <td>0</td>\n",
       "      <td>0</td>\n",
       "      <td>0</td>\n",
       "      <td>0</td>\n",
       "      <td>0</td>\n",
       "      <td>1</td>\n",
       "      <td>0</td>\n",
       "      <td>1</td>\n",
       "    </tr>\n",
       "    <tr>\n",
       "      <th>4</th>\n",
       "      <td>3.466667</td>\n",
       "      <td>2.0</td>\n",
       "      <td>5.0</td>\n",
       "      <td>0.0</td>\n",
       "      <td>0</td>\n",
       "      <td>0</td>\n",
       "      <td>75.0</td>\n",
       "      <td>1</td>\n",
       "      <td>0</td>\n",
       "      <td>1.489882e+09</td>\n",
       "      <td>...</td>\n",
       "      <td>1</td>\n",
       "      <td>0</td>\n",
       "      <td>0</td>\n",
       "      <td>0</td>\n",
       "      <td>1</td>\n",
       "      <td>0</td>\n",
       "      <td>0</td>\n",
       "      <td>1</td>\n",
       "      <td>0</td>\n",
       "      <td>1</td>\n",
       "    </tr>\n",
       "  </tbody>\n",
       "</table>\n",
       "<p>5 rows × 33 columns</p>\n",
       "</div>"
      ],
      "text/plain": [
       "   lead_time  stays_in_weekend_nights  stays_in_week_nights  \\\n",
       "0   1.633333                      1.0                   2.0   \n",
       "1   0.133333                      0.0                   1.0   \n",
       "2   0.833333                      0.0                   1.0   \n",
       "3   0.866667                      2.0                   5.0   \n",
       "4   3.466667                      2.0                   5.0   \n",
       "\n",
       "   previous_cancellations  previous_bookings_not_canceled  booking_changes  \\\n",
       "0                     0.0                               0                0   \n",
       "1                     0.0                               0                0   \n",
       "2                     0.0                               0                0   \n",
       "3                     0.0                               0                0   \n",
       "4                     0.0                               0                0   \n",
       "\n",
       "     adr  total_of_special_requests  is_canceled  arrival_date  ...  \\\n",
       "0  115.5                          1            1  1.473034e+09  ...   \n",
       "1   42.0                          0            0  1.446250e+09  ...   \n",
       "2  229.0                          2            0  1.476317e+09  ...   \n",
       "3   75.0                          0            1  1.481501e+09  ...   \n",
       "4   75.0                          1            0  1.489882e+09  ...   \n",
       "\n",
       "   agent_specified_1  more_than_zero_days_in_waiting_list_1  season_Spring  \\\n",
       "0                  1                                      0              0   \n",
       "1                  0                                      0              0   \n",
       "2                  1                                      0              0   \n",
       "3                  1                                      0              0   \n",
       "4                  1                                      0              0   \n",
       "\n",
       "   season_Summer  season_Winter  region_Americas  region_Asia  region_Europe  \\\n",
       "0              1              0                1            0              0   \n",
       "1              0              0                0            0              1   \n",
       "2              0              0                0            0              1   \n",
       "3              0              0                0            0              1   \n",
       "4              0              1                0            0              1   \n",
       "\n",
       "   region_Oceania  room_type_match_True  \n",
       "0               0                     1  \n",
       "1               0                     1  \n",
       "2               0                     1  \n",
       "3               0                     1  \n",
       "4               0                     1  \n",
       "\n",
       "[5 rows x 33 columns]"
      ]
     },
     "execution_count": 3,
     "metadata": {},
     "output_type": "execute_result"
    }
   ],
   "source": [
    "# ONE HOT ENCODING ...\n",
    "ds_trabajo_encoded = pd.get_dummies(ds_trabajo, columns=['hotel',\n",
    "                                                 'market_segment',\n",
    "                                                 'distribution_channel',\n",
    "                                                 'is_repeated_guest',\n",
    "                                                 'deposit_type',\n",
    "                                                 'customer_type',\n",
    "                                                 'agent_specified',\n",
    "                                                 'more_than_zero_days_in_waiting_list',\n",
    "                                                 'season',\n",
    "                                                 'region',\n",
    "                                                 'room_type_match'], drop_first=True)\n",
    "ds_trabajo_encoded.head()"
   ]
  },
  {
   "cell_type": "code",
   "execution_count": 4,
   "metadata": {},
   "outputs": [
    {
     "data": {
      "text/plain": [
       "Index(['lead_time', 'stays_in_weekend_nights', 'stays_in_week_nights',\n",
       "       'previous_cancellations', 'previous_bookings_not_canceled',\n",
       "       'booking_changes', 'adr', 'total_of_special_requests', 'is_canceled',\n",
       "       'arrival_date', 'total_guests', 'hotel_Resort Hotel',\n",
       "       'market_segment_Groups', 'market_segment_Offline TA/TO',\n",
       "       'market_segment_Online TA', 'market_segment_Others',\n",
       "       'distribution_channel_Direct', 'distribution_channel_GDS',\n",
       "       'distribution_channel_TA/TO', 'is_repeated_guest_1',\n",
       "       'deposit_type_Non Refund', 'customer_type_Transient',\n",
       "       'customer_type_Transient-Party', 'agent_specified_1',\n",
       "       'more_than_zero_days_in_waiting_list_1', 'season_Spring',\n",
       "       'season_Summer', 'season_Winter', 'region_Americas', 'region_Asia',\n",
       "       'region_Europe', 'region_Oceania', 'room_type_match_True'],\n",
       "      dtype='object')"
      ]
     },
     "execution_count": 4,
     "metadata": {},
     "output_type": "execute_result"
    }
   ],
   "source": [
    "ds_trabajo_encoded.columns"
   ]
  },
  {
   "cell_type": "markdown",
   "metadata": {},
   "source": [
    "Generamos el código para mostrar las métricas y la matriz de confusión de nuestras predicciones "
   ]
  },
  {
   "cell_type": "code",
   "execution_count": 5,
   "metadata": {},
   "outputs": [],
   "source": [
    "def mostrar_metricas(y_test, y_pred):\n",
    "  print(classification_report(y_test,y_pred))\n",
    "\n",
    "  # Calcular las métricas de evaluación\n",
    "  accuracy = accuracy_score(y_test, y_pred)\n",
    "  recall = recall_score(y_test, y_pred)\n",
    "  precision = precision_score(y_test, y_pred)\n",
    "  f1 = f1_score(y_test, y_pred)\n",
    "\n",
    "  # Imprimir las métricas de evaluación\n",
    "  print(\"Accuracy:\", accuracy)\n",
    "  print(\"Recall:\", recall)\n",
    "  print(\"Precision:\", precision)\n",
    "  print(\"f1 score:\", f1)\n",
    "\n",
    "  cm = confusion_matrix(y_test,y_pred)\n",
    "  sns.heatmap(cm, cmap='Blues',annot=True,fmt='g')\n",
    "  plt.xlabel('Predicted')\n",
    "  plt.ylabel('True')"
   ]
  },
  {
   "cell_type": "markdown",
   "metadata": {},
   "source": [
    "# Modelo de Redes Neuronales"
   ]
  },
  {
   "cell_type": "markdown",
   "metadata": {},
   "source": [
    "Vamos a normalizar los datos para que todas las características tengan una escala similar y no dominen unas sobre otras durante el entrenamiento de nuestras redes neuronales y para mejorar su rendimiento. Lo aplicamos luego de hacer la división train-test con proporción 70/30."
   ]
  },
  {
   "cell_type": "code",
   "execution_count": 6,
   "metadata": {},
   "outputs": [],
   "source": [
    "import pandas as pd\n",
    "from sklearn import preprocessing\n",
    "from sklearn.model_selection import train_test_split\n",
    "\n",
    "# Creo un dataset con los features que voy a usar para clasificar\n",
    "ds_trabajo_x = ds_trabajo_encoded.drop(['is_canceled'], axis='columns')\n",
    "\n",
    "# Creo un dataset con la variable target\n",
    "ds_trabajo_y = ds_trabajo_encoded['is_canceled'].copy()\n",
    "\n",
    "# Genero los conjuntos de train y de test\n",
    "x_train, x_test, y_train, y_test = train_test_split(ds_trabajo_x,\n",
    "                                                    ds_trabajo_y, \n",
    "                                                    test_size=0.3,\n",
    "                                                    random_state=2)\n",
    "\n",
    "# Armo una versión estandarizada\n",
    "stand_scaler = preprocessing.StandardScaler()\n",
    "x_train_norm = pd.DataFrame(stand_scaler.fit_transform(x_train), columns=x_train.columns)\n",
    "x_test_norm = pd.DataFrame(stand_scaler.transform(x_test), columns=x_test.columns)\n"
   ]
  },
  {
   "cell_type": "markdown",
   "metadata": {},
   "source": [
    "## Modelo 1: (breve descripción de la arquitectura)"
   ]
  },
  {
   "cell_type": "markdown",
   "metadata": {},
   "source": [
    "Observamos que nuestra red neuronal tendrá 32 neuronas de entrada y dos clases para la salida."
   ]
  },
  {
   "cell_type": "code",
   "execution_count": 7,
   "metadata": {},
   "outputs": [
    {
     "name": "stdout",
     "output_type": "stream",
     "text": [
      "Cantidad de neuronas de entrada: 32\n",
      "Cantidad de clases de salida: 2\n"
     ]
    }
   ],
   "source": [
    "# Cantidad de clases de salida\n",
    "cant_clases=len(np.unique(y_train))\n",
    "# Cantidad de columnas de entrada\n",
    "d_in=len(x_train_norm.columns)\n",
    "\n",
    "print(f\"Cantidad de neuronas de entrada: {d_in}\")\n",
    "print(f\"Cantidad de clases de salida: {cant_clases}\")"
   ]
  },
  {
   "cell_type": "markdown",
   "metadata": {},
   "source": [
    "Vamos a empezar entrenando una red neuronal densa simple que sólo tenga dos capas: la de entrada y la de salida."
   ]
  },
  {
   "cell_type": "code",
   "execution_count": 8,
   "metadata": {},
   "outputs": [
    {
     "name": "stdout",
     "output_type": "stream",
     "text": [
      "Model: \"sequential\"\n",
      "_________________________________________________________________\n",
      " Layer (type)                Output Shape              Param #   \n",
      "=================================================================\n",
      " dense (Dense)               (None, 1)                 33        \n",
      "                                                                 \n",
      "=================================================================\n",
      "Total params: 33\n",
      "Trainable params: 33\n",
      "Non-trainable params: 0\n",
      "_________________________________________________________________\n"
     ]
    }
   ],
   "source": [
    "modelo_rn_1 = keras.Sequential([\n",
    "    keras.layers.Dense(1, activation='sigmoid', input_shape=(d_in,))\n",
    "])\n",
    "\n",
    "modelo_rn_1.summary()"
   ]
  },
  {
   "cell_type": "markdown",
   "metadata": {},
   "source": [
    "Compilamos el modelo."
   ]
  },
  {
   "cell_type": "code",
   "execution_count": 25,
   "metadata": {},
   "outputs": [],
   "source": [
    "import keras.backend as K\n",
    "def get_f1(y_true, y_pred): #taken from old keras source code\n",
    "    true_positives = K.sum(K.round(K.clip(y_true * y_pred, 0, 1)))\n",
    "    possible_positives = K.sum(K.round(K.clip(y_true, 0, 1)))\n",
    "    predicted_positives = K.sum(K.round(K.clip(y_pred, 0, 1)))\n",
    "    precision = true_positives / (predicted_positives + K.epsilon())\n",
    "    recall = true_positives / (possible_positives + K.epsilon())\n",
    "    f1_val = 2*(precision*recall)/(precision+recall+K.epsilon())\n",
    "    return f1_val"
   ]
  },
  {
   "cell_type": "code",
   "execution_count": 26,
   "metadata": {},
   "outputs": [],
   "source": [
    "modelo_rn_1.compile(\n",
    "  optimizer=keras.optimizers.SGD(learning_rate=0.01), \n",
    "  loss='binary_crossentropy', \n",
    "  metrics=[get_f1], \n",
    ")"
   ]
  },
  {
   "cell_type": "markdown",
   "metadata": {},
   "source": [
    "Y lo entrenamos."
   ]
  },
  {
   "cell_type": "code",
   "execution_count": 27,
   "metadata": {},
   "outputs": [
    {
     "name": "stdout",
     "output_type": "stream",
     "text": [
      "Epoch 1/10\n",
      "1355/1355 [==============================] - 3s 2ms/step - loss: 0.4672 - get_f1: 0.7496 - val_loss: 0.4688 - val_get_f1: 0.7520\n",
      "Epoch 2/10\n",
      "1355/1355 [==============================] - 3s 2ms/step - loss: 0.4671 - get_f1: 0.7497 - val_loss: 0.4688 - val_get_f1: 0.7514\n",
      "Epoch 3/10\n",
      "1355/1355 [==============================] - 3s 2ms/step - loss: 0.4671 - get_f1: 0.7506 - val_loss: 0.4689 - val_get_f1: 0.7513\n",
      "Epoch 4/10\n",
      "1355/1355 [==============================] - 2s 2ms/step - loss: 0.4670 - get_f1: 0.7503 - val_loss: 0.4688 - val_get_f1: 0.7507\n",
      "Epoch 5/10\n",
      "1355/1355 [==============================] - 3s 2ms/step - loss: 0.4671 - get_f1: 0.7501 - val_loss: 0.4688 - val_get_f1: 0.7516\n",
      "Epoch 6/10\n",
      "1355/1355 [==============================] - 3s 2ms/step - loss: 0.4670 - get_f1: 0.7505 - val_loss: 0.4689 - val_get_f1: 0.7515\n",
      "Epoch 7/10\n",
      "1355/1355 [==============================] - 3s 2ms/step - loss: 0.4670 - get_f1: 0.7505 - val_loss: 0.4685 - val_get_f1: 0.7529\n",
      "Epoch 8/10\n",
      "1355/1355 [==============================] - 3s 2ms/step - loss: 0.4669 - get_f1: 0.7507 - val_loss: 0.4688 - val_get_f1: 0.7515\n",
      "Epoch 9/10\n",
      "1355/1355 [==============================] - 3s 2ms/step - loss: 0.4669 - get_f1: 0.7507 - val_loss: 0.4687 - val_get_f1: 0.7522\n",
      "Epoch 10/10\n",
      "1355/1355 [==============================] - 2s 2ms/step - loss: 0.4669 - get_f1: 0.7501 - val_loss: 0.4685 - val_get_f1: 0.7528\n"
     ]
    },
    {
     "data": {
      "text/plain": [
       "<keras.callbacks.History at 0x1f48f815750>"
      ]
     },
     "execution_count": 27,
     "metadata": {},
     "output_type": "execute_result"
    }
   ],
   "source": [
    "modelo_rn_1.fit(x_train_norm, y_train, batch_size=32, epochs=10, validation_data=(x_test_norm, y_test))"
   ]
  },
  {
   "cell_type": "markdown",
   "metadata": {},
   "source": [
    "Hacemos la predicción, convirtiendo las salidas continuas en predicciones binarias utilizando un umbral. Dado que creemos que es importante reducir los falsos negativos en el problema de predecir el estado de cancelación de reservas (es decir, queremos minimizar la clasificación incorrecta de reservas que en realidad serían canceladas, vamos a definir este umbral por debajo de 0.5, siendo así el modelo más permisivo al clasificar las reservas como canceladas. Analizamos las métricas obtenidas para distintos valores del umbral y observamos que con 0.4 mantenemos un recall y un f1 score similares."
   ]
  },
  {
   "cell_type": "code",
   "execution_count": 28,
   "metadata": {},
   "outputs": [
    {
     "name": "stdout",
     "output_type": "stream",
     "text": [
      "581/581 [==============================] - 1s 949us/step\n",
      "              precision    recall  f1-score   support\n",
      "\n",
      "           0       0.76      0.75      0.75      9195\n",
      "           1       0.76      0.77      0.76      9378\n",
      "\n",
      "    accuracy                           0.76     18573\n",
      "   macro avg       0.76      0.76      0.76     18573\n",
      "weighted avg       0.76      0.76      0.76     18573\n",
      "\n",
      "Accuracy: 0.758681957680504\n",
      "Recall: 0.7703134996801023\n",
      "Precision: 0.7562814070351759\n",
      "f1 score: 0.7632329635499207\n"
     ]
    },
    {
     "data": {
      "image/png": "[encoded data removed]",
      "text/plain": [
       "<Figure size 640x480 with 2 Axes>"
      ]
     },
     "metadata": {},
     "output_type": "display_data"
    }
   ],
   "source": [
    "y_pred_norm = modelo_rn_1.predict(x_test_norm)\n",
    "y_pred = np.where(y_pred_norm > 0.45, 1, 0)\n",
    "mostrar_metricas(y_test, y_pred)"
   ]
  }
 ],
 "metadata": {
  "kernelspec": {
   "display_name": "Python 3.11.2 64-bit",
   "language": "python",
   "name": "python3"
  },
  "language_info": {
   "codemirror_mode": {
    "name": "ipython",
    "version": 3
   },
   "file_extension": ".py",
   "mimetype": "text/x-python",
   "name": "python",
   "nbconvert_exporter": "python",
   "pygments_lexer": "ipython3",
   "version": "3.11.2"
  },
  "orig_nbformat": 4,
  "vscode": {
   "interpreter": {
    "hash": "ae0944a860fa16acdf75a2e2acdd114c1b5055b7640fecd42984d96b9abbeafd"
   }
  }
 },
 "nbformat": 4,
 "nbformat_minor": 2
}
