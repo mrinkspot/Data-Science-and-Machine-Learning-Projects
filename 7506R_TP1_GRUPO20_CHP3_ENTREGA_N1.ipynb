{
  "cells": [
    {
      "cell_type": "markdown",
      "metadata": {
        "id": "0s9eLJBbf72f"
      },
      "source": [
        "# Importacion de bibliotecas"
      ]
    },
    {
      "cell_type": "code",
      "execution_count": 1,
      "metadata": {
        "id": "1ZJ9XywBfNFI"
      },
      "outputs": [],
      "source": [
        "import numpy as np \n",
        "import pandas as pd\n",
        "import matplotlib.pyplot as plt\n",
        "import seaborn as sns\n",
        "\n",
        "#modelos y métricas\n",
        "# import sklearn as sk\n",
        "from sklearn.model_selection import train_test_split\n",
        "from sklearn.metrics import precision_score, recall_score, accuracy_score,f1_score#, precision_recall_curve, roc_curve,\n",
        "from sklearn.metrics import confusion_matrix, classification_report\n",
        "from sklearn import tree\n",
        "# preprocesamiento\n",
        "from sklearn.preprocessing import MinMaxScaler\n",
        "\n",
        "#configuración warnings\n",
        "import warnings\n",
        "warnings.simplefilter(action='ignore', category=FutureWarning)\n",
        "warnings.simplefilter(action='ignore', category=UserWarning)\n",
        "\n",
        "#Cross validation\n",
        "from sklearn.model_selection import RandomizedSearchCV\n",
        "from sklearn.model_selection import GridSearchCV\n",
        "\n",
        "\n",
        "#Modelado\n",
        "from sklearn.model_selection import train_test_split\n",
        "from sklearn.neighbors import KNeighborsClassifier\n",
        "from sklearn.metrics import accuracy_score\n",
        "from sklearn.model_selection import cross_val_score\n",
        "from sklearn.ensemble import RandomForestClassifier\n",
        "\n",
        "from sklearn.svm import SVC\n",
        "from sklearn.datasets import make_classification\n",
        "from sklearn.metrics import confusion_matrix, classification_report\n",
        "from sklearn import preprocessing"
      ]
    },
    {
      "cell_type": "markdown",
      "metadata": {
        "id": "c7-Szk27huMD"
      },
      "source": [
        "# Carga de datos"
      ]
    },
    {
      "cell_type": "markdown",
      "metadata": {
        "id": "BNxK0W_NQ0fq"
      },
      "source": [
        "Creamos una copia del dataset para comenzar a trabajar"
      ]
    },
    {
      "cell_type": "code",
      "execution_count": 2,
      "metadata": {
        "id": "LxW23Xz7ggW4"
      },
      "outputs": [],
      "source": [
        "ds_hotel=pd.read_csv('./hotels_train_filtrado3.csv')\n",
        "# ds_hotel = pd.read_csv(\"https://drive.google.com/uc?id=17TNcgVnEWVsnc5lwM8lFXJx2nVJHlnQpPpDZkdLSi9g\")\n",
        "# ds_hotel = pd.read_csv(\"https://drive.google.com/file/d/1YZv9nXnHTNsbhZNym-mYPxlUXMoTHcYe/view?usp=sharing\")\n",
        "#https://drive.google.com/file/d/1YZv9nXnHTNsbhZNym-mYPxlUXMoTHcYe/view?usp=sharing\n",
        "ds_trabajo = ds_hotel.copy()"
      ]
    },
    {
      "cell_type": "code",
      "execution_count": 3,
      "metadata": {
        "id": "oXMaus0YO7II"
      },
      "outputs": [],
      "source": [
        "ds_trabajo = ds_trabajo.drop('adr_group',axis=1)\n",
        "ds_trabajo = ds_trabajo.drop('score',axis=1)"
      ]
    },
    {
      "cell_type": "code",
      "execution_count": 4,
      "metadata": {
        "colab": {
          "base_uri": "https://localhost:8080/",
          "height": 0
        },
        "id": "3d5Yiyj7Kh73",
        "outputId": "d9c0a7d7-8a61-476d-c98b-4cdfd0ea349b"
      },
      "outputs": [
        {
          "data": {
            "text/html": [
              "<div>\n",
              "<style scoped>\n",
              "    .dataframe tbody tr th:only-of-type {\n",
              "        vertical-align: middle;\n",
              "    }\n",
              "\n",
              "    .dataframe tbody tr th {\n",
              "        vertical-align: top;\n",
              "    }\n",
              "\n",
              "    .dataframe thead th {\n",
              "        text-align: right;\n",
              "    }\n",
              "</style>\n",
              "<table border=\"1\" class=\"dataframe\">\n",
              "  <thead>\n",
              "    <tr style=\"text-align: right;\">\n",
              "      <th></th>\n",
              "      <th>lead_time</th>\n",
              "      <th>stays_in_weekend_nights</th>\n",
              "      <th>stays_in_week_nights</th>\n",
              "      <th>previous_cancellations</th>\n",
              "      <th>previous_bookings_not_canceled</th>\n",
              "      <th>booking_changes</th>\n",
              "      <th>adr</th>\n",
              "      <th>total_of_special_requests</th>\n",
              "      <th>is_canceled</th>\n",
              "      <th>arrival_date</th>\n",
              "      <th>...</th>\n",
              "      <th>agent_specified_1</th>\n",
              "      <th>more_than_zero_days_in_waiting_list_1</th>\n",
              "      <th>season_Spring</th>\n",
              "      <th>season_Summer</th>\n",
              "      <th>season_Winter</th>\n",
              "      <th>region_Americas</th>\n",
              "      <th>region_Asia</th>\n",
              "      <th>region_Europe</th>\n",
              "      <th>region_Oceania</th>\n",
              "      <th>room_type_match_True</th>\n",
              "    </tr>\n",
              "  </thead>\n",
              "  <tbody>\n",
              "    <tr>\n",
              "      <th>0</th>\n",
              "      <td>1.633333</td>\n",
              "      <td>1.0</td>\n",
              "      <td>2.0</td>\n",
              "      <td>0.0</td>\n",
              "      <td>0</td>\n",
              "      <td>0</td>\n",
              "      <td>115.5</td>\n",
              "      <td>1</td>\n",
              "      <td>1</td>\n",
              "      <td>1.473034e+09</td>\n",
              "      <td>...</td>\n",
              "      <td>1</td>\n",
              "      <td>0</td>\n",
              "      <td>0</td>\n",
              "      <td>1</td>\n",
              "      <td>0</td>\n",
              "      <td>1</td>\n",
              "      <td>0</td>\n",
              "      <td>0</td>\n",
              "      <td>0</td>\n",
              "      <td>1</td>\n",
              "    </tr>\n",
              "    <tr>\n",
              "      <th>1</th>\n",
              "      <td>0.133333</td>\n",
              "      <td>0.0</td>\n",
              "      <td>1.0</td>\n",
              "      <td>0.0</td>\n",
              "      <td>0</td>\n",
              "      <td>0</td>\n",
              "      <td>42.0</td>\n",
              "      <td>0</td>\n",
              "      <td>0</td>\n",
              "      <td>1.446250e+09</td>\n",
              "      <td>...</td>\n",
              "      <td>0</td>\n",
              "      <td>0</td>\n",
              "      <td>0</td>\n",
              "      <td>0</td>\n",
              "      <td>0</td>\n",
              "      <td>0</td>\n",
              "      <td>0</td>\n",
              "      <td>1</td>\n",
              "      <td>0</td>\n",
              "      <td>1</td>\n",
              "    </tr>\n",
              "    <tr>\n",
              "      <th>2</th>\n",
              "      <td>0.833333</td>\n",
              "      <td>0.0</td>\n",
              "      <td>1.0</td>\n",
              "      <td>0.0</td>\n",
              "      <td>0</td>\n",
              "      <td>0</td>\n",
              "      <td>229.0</td>\n",
              "      <td>2</td>\n",
              "      <td>0</td>\n",
              "      <td>1.476317e+09</td>\n",
              "      <td>...</td>\n",
              "      <td>1</td>\n",
              "      <td>0</td>\n",
              "      <td>0</td>\n",
              "      <td>0</td>\n",
              "      <td>0</td>\n",
              "      <td>0</td>\n",
              "      <td>0</td>\n",
              "      <td>1</td>\n",
              "      <td>0</td>\n",
              "      <td>1</td>\n",
              "    </tr>\n",
              "    <tr>\n",
              "      <th>3</th>\n",
              "      <td>0.866667</td>\n",
              "      <td>2.0</td>\n",
              "      <td>5.0</td>\n",
              "      <td>0.0</td>\n",
              "      <td>0</td>\n",
              "      <td>0</td>\n",
              "      <td>75.0</td>\n",
              "      <td>0</td>\n",
              "      <td>1</td>\n",
              "      <td>1.481501e+09</td>\n",
              "      <td>...</td>\n",
              "      <td>1</td>\n",
              "      <td>0</td>\n",
              "      <td>0</td>\n",
              "      <td>0</td>\n",
              "      <td>0</td>\n",
              "      <td>0</td>\n",
              "      <td>0</td>\n",
              "      <td>1</td>\n",
              "      <td>0</td>\n",
              "      <td>1</td>\n",
              "    </tr>\n",
              "    <tr>\n",
              "      <th>4</th>\n",
              "      <td>3.466667</td>\n",
              "      <td>2.0</td>\n",
              "      <td>5.0</td>\n",
              "      <td>0.0</td>\n",
              "      <td>0</td>\n",
              "      <td>0</td>\n",
              "      <td>75.0</td>\n",
              "      <td>1</td>\n",
              "      <td>0</td>\n",
              "      <td>1.489882e+09</td>\n",
              "      <td>...</td>\n",
              "      <td>1</td>\n",
              "      <td>0</td>\n",
              "      <td>0</td>\n",
              "      <td>0</td>\n",
              "      <td>1</td>\n",
              "      <td>0</td>\n",
              "      <td>0</td>\n",
              "      <td>1</td>\n",
              "      <td>0</td>\n",
              "      <td>1</td>\n",
              "    </tr>\n",
              "  </tbody>\n",
              "</table>\n",
              "<p>5 rows × 33 columns</p>\n",
              "</div>"
            ],
            "text/plain": [
              "   lead_time  stays_in_weekend_nights  stays_in_week_nights  \\\n",
              "0   1.633333                      1.0                   2.0   \n",
              "1   0.133333                      0.0                   1.0   \n",
              "2   0.833333                      0.0                   1.0   \n",
              "3   0.866667                      2.0                   5.0   \n",
              "4   3.466667                      2.0                   5.0   \n",
              "\n",
              "   previous_cancellations  previous_bookings_not_canceled  booking_changes  \\\n",
              "0                     0.0                               0                0   \n",
              "1                     0.0                               0                0   \n",
              "2                     0.0                               0                0   \n",
              "3                     0.0                               0                0   \n",
              "4                     0.0                               0                0   \n",
              "\n",
              "     adr  total_of_special_requests  is_canceled  arrival_date  ...  \\\n",
              "0  115.5                          1            1  1.473034e+09  ...   \n",
              "1   42.0                          0            0  1.446250e+09  ...   \n",
              "2  229.0                          2            0  1.476317e+09  ...   \n",
              "3   75.0                          0            1  1.481501e+09  ...   \n",
              "4   75.0                          1            0  1.489882e+09  ...   \n",
              "\n",
              "   agent_specified_1  more_than_zero_days_in_waiting_list_1  season_Spring  \\\n",
              "0                  1                                      0              0   \n",
              "1                  0                                      0              0   \n",
              "2                  1                                      0              0   \n",
              "3                  1                                      0              0   \n",
              "4                  1                                      0              0   \n",
              "\n",
              "   season_Summer  season_Winter  region_Americas  region_Asia  region_Europe  \\\n",
              "0              1              0                1            0              0   \n",
              "1              0              0                0            0              1   \n",
              "2              0              0                0            0              1   \n",
              "3              0              0                0            0              1   \n",
              "4              0              1                0            0              1   \n",
              "\n",
              "   region_Oceania  room_type_match_True  \n",
              "0               0                     1  \n",
              "1               0                     1  \n",
              "2               0                     1  \n",
              "3               0                     1  \n",
              "4               0                     1  \n",
              "\n",
              "[5 rows x 33 columns]"
            ]
          },
          "execution_count": 4,
          "metadata": {},
          "output_type": "execute_result"
        }
      ],
      "source": [
        "# ONE HOT ENCODING ...\n",
        "ds_trabajo_encoded = pd.get_dummies(ds_trabajo, columns=['hotel',\n",
        "                                                 'market_segment',\n",
        "                                                 'distribution_channel',\n",
        "                                                 'is_repeated_guest',\n",
        "                                                 'deposit_type',\n",
        "                                                 'customer_type',\n",
        "                                                 'agent_specified',\n",
        "                                                 'more_than_zero_days_in_waiting_list',\n",
        "                                                 'season',\n",
        "                                                 'region',\n",
        "                                                 'room_type_match'], drop_first=True)\n",
        "ds_trabajo_encoded.head()"
      ]
    },
    {
      "cell_type": "markdown",
      "metadata": {
        "id": "y4vGHNUYTFB-"
      },
      "source": [
        "Armamos una función para mostrar las métricas y la matriz de confusión de nuestas predicciones."
      ]
    },
    {
      "cell_type": "code",
      "execution_count": 5,
      "metadata": {
        "id": "EYMxX79uTI1e"
      },
      "outputs": [],
      "source": [
        "def mostrar_metricas(y_test, y_pred):\n",
        "  print(classification_report(y_test,y_pred))\n",
        "\n",
        "  # Calcular las métricas de evaluación\n",
        "  accuracy = accuracy_score(y_test, y_pred)\n",
        "  recall = recall_score(y_test, y_pred)\n",
        "  precision = precision_score(y_test, y_pred)\n",
        "  f1 = f1_score(y_test, y_pred)\n",
        "\n",
        "  # Imprimir las métricas de evaluación\n",
        "  print(\"Accuracy:\", accuracy)\n",
        "  print(\"Recall:\", recall)\n",
        "  print(\"Precision:\", precision)\n",
        "  print(\"f1 score:\", f1)\n",
        "\n",
        "  cm = confusion_matrix(y_test,y_pred)\n",
        "  sns.heatmap(cm, cmap='Blues',annot=True,fmt='g')\n",
        "  plt.xlabel('Predicted')\n",
        "  plt.ylabel('True')"
      ]
    },
    {
      "cell_type": "markdown",
      "metadata": {
        "id": "siQJrbD9LkuD"
      },
      "source": [
        "# Modelo KNN"
      ]
    },
    {
      "cell_type": "markdown",
      "metadata": {
        "id": "gtnWJjMbj8l7"
      },
      "source": [
        "## Construcción de clasificador KNN\n"
      ]
    },
    {
      "cell_type": "code",
      "execution_count": null,
      "metadata": {
        "colab": {
          "base_uri": "https://localhost:8080/"
        },
        "id": "gG9oYz3RpnIE",
        "outputId": "0abc6d04-44e8-4512-8a85-b319a1e3a61c"
      },
      "outputs": [
        {
          "data": {
            "text/plain": [
              "Index(['hotel', 'lead_time', 'stays_in_weekend_nights', 'stays_in_week_nights',\n",
              "       'market_segment', 'distribution_channel', 'is_repeated_guest',\n",
              "       'previous_cancellations', 'previous_bookings_not_canceled',\n",
              "       'booking_changes', 'deposit_type', 'customer_type', 'adr',\n",
              "       'total_of_special_requests', 'is_canceled', 'arrival_date', 'region',\n",
              "       'agent_specified', 'total_guests',\n",
              "       'more_than_zero_days_in_waiting_list', 'season', 'room_type_match',\n",
              "       'adr_group', 'score'],\n",
              "      dtype='object')"
            ]
          },
          "execution_count": 5,
          "metadata": {},
          "output_type": "execute_result"
        }
      ],
      "source": [
        "ds_trabajo_encoded.columns"
      ]
    },
    {
      "cell_type": "code",
      "execution_count": null,
      "metadata": {
        "id": "xqYByTWHox8A"
      },
      "outputs": [],
      "source": [
        "#Creo un dataset con los features que voy a usar para clasificar\n",
        "ds_trabajo_x=ds_trabajo_encoded.drop(['is_canceled'], axis='columns')\n",
        "\n",
        "#Creo un dataset con la variable target\n",
        "ds_trabajo_y = ds_trabajo_encoded['is_canceled'].copy()\n",
        "\n",
        "#Genero los conjuntos de train y de test\n",
        "x_train, x_test, y_train, y_test = train_test_split(ds_trabajo_x,\n",
        "                                                    ds_trabajo_y, \n",
        "                                                    test_size=0.3,  #proporcion 70/30\n",
        "                                                    random_state=2) #semilla"
      ]
    },
    {
      "cell_type": "code",
      "execution_count": null,
      "metadata": {
        "colab": {
          "base_uri": "https://localhost:8080/"
        },
        "id": "t4ZxL-WnmqN3",
        "outputId": "a85d02b1-14e0-4c03-a5bf-120899c9e39b"
      },
      "outputs": [
        {
          "data": {
            "text/plain": [
              "{'algorithm': 'auto',\n",
              " 'leaf_size': 30,\n",
              " 'metric': 'minkowski',\n",
              " 'metric_params': None,\n",
              " 'n_jobs': None,\n",
              " 'n_neighbors': 5,\n",
              " 'p': 2,\n",
              " 'weights': 'uniform'}"
            ]
          },
          "execution_count": 25,
          "metadata": {},
          "output_type": "execute_result"
        }
      ],
      "source": [
        "# Establecer una semilla para reproducibilidad\n",
        "np.random.seed(42)\n",
        "\n",
        "\n",
        "#Crear el modelo\n",
        "KNN_Classifier = KNeighborsClassifier(n_neighbors=5)\n",
        "#vemos sus parámetros\n",
        "KNN_Classifier.get_params()"
      ]
    },
    {
      "cell_type": "code",
      "execution_count": null,
      "metadata": {
        "id": "cCK9e-qKpc0H"
      },
      "outputs": [],
      "source": [
        "#Entrenar el modelo\n",
        "KNN_Classifier.fit(x_train, y_train)\n",
        "\n",
        "#Predicción sobre test\n",
        "y_pred = KNN_Classifier.predict(x_test)"
      ]
    },
    {
      "cell_type": "code",
      "execution_count": null,
      "metadata": {
        "colab": {
          "base_uri": "https://localhost:8080/"
        },
        "id": "1mxfiGEKpdxl",
        "outputId": "e1d4e4f7-4143-4f2d-d918-8d384e0632cd"
      },
      "outputs": [
        {
          "name": "stdout",
          "output_type": "stream",
          "text": [
            "correctas:  12195\n",
            "total:  18573\n"
          ]
        }
      ],
      "source": [
        "#Cantidad de aciertos\n",
        "print('correctas: ', np.sum(y_test == y_pred))\n",
        "print('total: ', len(y_test))"
      ]
    },
    {
      "cell_type": "code",
      "execution_count": null,
      "metadata": {
        "colab": {
          "base_uri": "https://localhost:8080/"
        },
        "id": "dXFzNWTsperu",
        "outputId": "4ecf0a19-86a6-49b1-cfc7-d624cdef7569"
      },
      "outputs": [
        {
          "data": {
            "text/plain": [
              "0.656598287837183"
            ]
          },
          "execution_count": 28,
          "metadata": {},
          "output_type": "execute_result"
        }
      ],
      "source": [
        "accuracy_score(y_test,y_pred)"
      ]
    },
    {
      "cell_type": "markdown",
      "metadata": {
        "id": "28wHuMsEItp5"
      },
      "source": [
        "Vamos a observar distintos rangos para k vecinos y observar su comportamiento respecto del accuracy."
      ]
    },
    {
      "cell_type": "code",
      "execution_count": null,
      "metadata": {
        "id": "vwwmkKcyxnPN"
      },
      "outputs": [],
      "source": [
        "# from sklearn.model_selection import cross_val_score\n",
        "\n",
        "# k_range=range(1,100) #cantidad de vecinos a probar\n",
        "\n",
        "# k_scores=[] # accuracy para cada K utilizado\n",
        "\n",
        "# for k in k_range:\n",
        "#     #clasificador Knn\n",
        "#     knn=KNeighborsClassifier(n_neighbors=k)\n",
        "#     #uso 10 folds\n",
        "#     scores=cross_val_score(knn,x_train,y_train,cv=10,scoring='accuracy')\n",
        "#     #promedio las 10 métricas\n",
        "#     k_scores.append(scores.mean())"
      ]
    },
    {
      "cell_type": "code",
      "execution_count": null,
      "metadata": {
        "id": "QqWuM-5Cz2z0"
      },
      "outputs": [],
      "source": [
        "# plt.plot(k_range, k_scores)\n",
        "# plt.xlabel('Cantidad de Vecinos')\n",
        "# plt.xticks(range(1,101,5))\n",
        "# plt.ylabel('Cross Validation Accuracy')\n",
        "# plt.title('Accuracy vs Cantidad de Vecinos')\n",
        "# plt.show()"
      ]
    },
    {
      "cell_type": "markdown",
      "metadata": {
        "id": "cGT5pdC6JeRx"
      },
      "source": [
        "Nota: corrimos el código de arriba con distintos rangos para k, probamos valores en el rango de 0 a 2000 en distintas ejecuciones y notamos que las precisiones que se obtienen a mayor k son cercanas a 55% para todos estos casos. Por una cuestión de tiempos de ejecución elevados, decidimos dejar de probar valores para k más altos. Por el mismo motivo, dejaremos comentado el código (tarda en ejecutarse aprox. 13 minutos) y, en su lugar, dejaremos el gráfico de precisión vs accuracy para k entre 1 y 100 (en esta iteración hallamos el k más preciso) y las conclusiones pertinentes.\n",
        "\n",
        "Podemos observar en el gráfico que el pico de precisión se alcanza cuando se observan entre 5 y 10 vecinos más cercanos. Tomaremos este rango para optimizar el hiperparámetro k."
      ]
    },
    {
      "cell_type": "markdown",
      "metadata": {
        "id": "kX66JrPhJF0e"
      },
      "source": [
        "![accuracy_vs_cantidad_vecinos.png](data:image/png;base64,iVBORw0KGgoAAAANSUhEUgAAAkAAAAHHCAYAAABXx+fLAAAAOXRFWHRTb2Z0d2FyZQBNYXRwbG90bGliIHZlcnNpb24zLjcuMSwgaHR0cHM6Ly9tYXRwbG90bGliLm9yZy/bCgiHAAAACXBIWXMAAA9hAAAPYQGoP6dpAACP9UlEQVR4nOzdeVhUZfvA8e8wMMMim7IvgrgrgoqKaC6lZmpmWWnm+7qV9RqmSYtaP7VVK1ts8dWyXHqztEjTcstwz33BXRFFQWURkV1ZZs7vD2JqAoVhcVjuz3XNlZzznGfuc3Ca22dVKYqiIIQQQghRj1iYOwAhhBBCiLtNEiAhhBBC1DuSAAkhhBCi3pEESAghhBD1jiRAQgghhKh3JAESQgghRL0jCZAQQggh6h1JgIQQQghR70gCJIQQQoh6RxIgIYT4h969e9O7d+8yy23btg2VSsW2bduq7L3HjBmDv79/ha/39/dnzJgxVRaPOVTHcxXinyQBEnXef//7X1QqFaGhoeYORZTi/PnzPPvsswQEBGBtbY2DgwPdu3fnk08+4ebNm9X2vqdOneL111/n4sWL1fYetVlKSgqWlpb861//um2ZrKwsbGxsGDp06F2MTIiqYWnuAISobsuXL8ff35/9+/cTGxtLs2bNzB2S+NO6det4/PHH0Wq1jBo1isDAQPLz89m1axcvv/wyJ0+e5Msvv6yW9z516hRvvPEGvXv3LtHi8ttvv1XLe9Ymbm5u9OvXjzVr1pCbm4utrW2JMqtWreLWrVt3TJIqomfPnty8eRONRlOl9Qrxd9ICJOq0uLg4du/ezUcffYSrqyvLly83d0i3lZOTY+4Q7qq4uDieeOIJ/Pz8OHXqFJ988gnjx48nPDyc77//nlOnTtG2bVuzxKbRaOTLFxg5ciTZ2dmsXbu21PPfffcdjo6ODBo0qErf18LCAmtrayws5CtKVB/52yXqtOXLl+Ps7MygQYN47LHHbpsApaenM2XKFPz9/dFqtfj4+DBq1ChSU1MNZW7dusXrr79OixYtsLa2xtPTk6FDh3L+/Hng9uMWLl68iEqlYunSpYZjY8aMoUGDBpw/f56BAwdib2/PyJEjAdi5cyePP/44jRs3RqvV4uvry5QpU0rtDjpz5gzDhg3D1dUVGxsbWrZsyWuvvQbA1q1bUalUrF69usR13333HSqVij179pT6PA4ePIhKpWLZsmUlzm3atAmVSsWvv/4KFHWDvPDCC4ZnV9xycPjw4VLrLvb++++TnZ3N119/jaenZ4nzzZo1Y/LkyYaflyxZwn333YebmxtarZY2bdqwYMGCEtf5+/vz4IMPsmvXLrp06YK1tTUBAQF88803hjJLly7l8ccfB+Dee+9FpVIZ/e5KGwN0+fJlHn74Yezs7HBzc2PKlCnk5eWVeH9Tfn8///wzgYGBWFtbExgYWOrv6nYUReHtt9/Gx8cHW1tb7r33Xk6ePFlq2fT0dF544QV8fX3RarU0a9aM9957D71ef8f3eOSRR7Czs+O7774rcS4lJYWoqCgee+wxtFotAPv27eOBBx7A0dERW1tbevXqxR9//FHi2itXrvDUU0/h5eWFVqulSZMmTJgwgfz8fKD0z1Lv3r0JDAzk1KlT3Hvvvdja2uLt7c37779famxPPfUU7u7uWFtbExwcXOrf5RUrVhASEoK9vT0ODg60a9eOTz755I7PRNQd0gUm6rTly5czdOhQNBoNI0aMYMGCBRw4cIDOnTsbymRnZ9OjRw9Onz7NuHHj6NixI6mpqaxdu5bLly/j4uKCTqfjwQcfJCoqiieeeILJkyeTlZXF5s2bOXHiBE2bNjU5tsLCQvr3788999zDBx98YOhi+PHHH8nNzWXChAk0atSI/fv389lnn3H58mV+/PFHw/XHjh2jR48eWFlZ8cwzz+Dv78/58+f55ZdfeOedd+jduze+vr4sX76cRx55pMRzadq0KWFhYaXG1qlTJwICAvjhhx8YPXq00bmVK1fi7OxM//79AfjPf/5DZGQkEydOpE2bNly/fp1du3Zx+vRpOnbseNv7/+WXXwgICKBbt27lel4LFiygbdu2PPTQQ1haWvLLL7/w3HPPodfrCQ8PNyobGxvLY489xlNPPcXo0aNZvHgxY8aMISQkhLZt29KzZ08mTZrEp59+yquvvkrr1q0BDP/9p5s3b9KnTx/i4+OZNGkSXl5e/O9//2PLli0lypb39/fbb7/x6KOP0qZNG+bMmcP169cZO3YsPj4+5XoeM2fO5O2332bgwIEMHDiQw4cPc//99xuSiGK5ubn06tWLK1eu8Oyzz9K4cWN2797N9OnTSUxMZN68ebd9Dzs7O4YMGUJkZCRpaWk0bNjQcG7lypXodDpD4r5lyxYGDBhASEgIs2bNwsLCwpC07ty5ky5dugBw9epVunTpQnp6Os888wytWrXiypUrREZGkpube8eWtxs3bvDAAw8wdOhQhg0bRmRkJFOnTqVdu3YMGDAAKPpd9e7dm9jYWCZOnEiTJk348ccfGTNmDOnp6YakevPmzYwYMYI+ffrw3nvvAXD69Gn++OMPo8Rb1GGKEHXUwYMHFUDZvHmzoiiKotfrFR8fH2Xy5MlG5WbOnKkAyqpVq0rUodfrFUVRlMWLFyuA8tFHH922zNatWxVA2bp1q9H5uLg4BVCWLFliODZ69GgFUKZNm1aivtzc3BLH5syZo6hUKuXSpUuGYz179lTs7e2Njv09HkVRlOnTpytarVZJT083HEtJSVEsLS2VWbNmlXifv5s+fbpiZWWlpKWlGY7l5eUpTk5Oyrhx4wzHHB0dlfDw8DvW9U8ZGRkKoAwZMqTc15T2XPr3768EBAQYHfPz81MAZceOHYZjKSkpilarVV588UXDsR9//LHU35eiKEqvXr2UXr16GX6eN2+eAig//PCD4VhOTo7SrFmzEnWU9/fXvn17xdPT0+h389tvvymA4ufnV+oz+Pv9aDQaZdCgQUa/71dffVUBlNGjRxuOvfXWW4qdnZ0SExNjVMe0adMUtVqtxMfH3/G91q1bpwDKF198YXS8a9euire3t6LT6RS9Xq80b95c6d+/v1E8ubm5SpMmTZR+/foZjo0aNUqxsLBQDhw4UOK97vRZ6tWrlwIo33zzjeFYXl6e4uHhoTz66KOGY8W/q2+//dZwLD8/XwkLC1MaNGigZGZmKoqiKJMnT1YcHByUwsLCO96/qLukC0zUWcuXL8fd3Z17770XAJVKxfDhw1mxYgU6nc5Q7qeffiI4OLhEK0nxNcVlXFxceP75529bpiImTJhQ4piNjY3hzzk5OaSmptKtWzcUReHIkSMAXLt2jR07djBu3DgaN25823hGjRpFXl4ekZGRhmMrV66ksLCwzIGrw4cPp6CggFWrVhmO/fbbb6SnpzN8+HDDMScnJ/bt28fVq1fLedeQmZkJgL29fbmv+ftzycjIIDU1lV69enHhwgUyMjKMyrZp04YePXoYfnZ1daVly5ZcuHCh3O/3d+vXr8fT05PHHnvMcMzW1pZnnnnmjnHe7veXmJhIdHQ0o0ePxtHR0VC+X79+tGnTpsx4fv/9d/Lz83n++eeNft8vvPBCibI//vgjPXr0wNnZmdTUVMOrb9++6HQ6duzYccf3uv/++3F1dTXqBouLi2Pv3r2MGDECCwsLoqOjOXfuHE8++STXr183vEdOTg59+vRhx44d6PV69Ho9P//8M4MHD6ZTp04l3qusz1KDBg2M/t5qNBq6dOli9Htdv349Hh4ejBgxwnDMysqKSZMmkZ2dzfbt24Giv7c5OTls3rz5ju8p6i5JgESdpNPpWLFiBffeey9xcXHExsYSGxtLaGgoycnJREVFGcqeP3+ewMDAO9Z3/vx5WrZsiaVl1fUaW1paltrdER8fz5gxY2jYsCENGjTA1dWVXr16ARi+6Iv/h19W3K1ataJz585GY5+WL19O165dy5wNFxwcTKtWrVi5cqXh2MqVK3FxceG+++4zHHv//fc5ceIEvr6+dOnShddff73MRMPBwQEoGj9UXn/88Qd9+/bFzs4OJycnXF1defXVVwFKJED/TAoBnJ2duXHjRrnf7+8uXbpEs2bNSnxBt2zZskTZ8vz+Ll26BEDz5s1LXF9anaXFU9r1rq6uODs7Gx07d+4cGzduxNXV1ejVt29foGi8zJ1YWloyfPhwdu7cyZUrVwAMyVBx99e5c+cAGD16dIn3+eqrr8jLyyMjI4Nr166RmZlZ5t/b2/Hx8SnxO/jn7/XSpUs0b968xADq4u7N4mf33HPP0aJFCwYMGICPjw/jxo1j48aNFYpL1E4yBkjUSVu2bCExMZEVK1awYsWKEueXL1/O/fffX6Xvebt/vf69tenvtFptif9J63Q6+vXrR1paGlOnTqVVq1bY2dlx5coVxowZU+ag1dKMGjWKyZMnc/nyZfLy8ti7dy+ff/55ua4dPnw477zzDqmpqdjb27N27VpGjBhhlAgOGzaMHj16sHr1an777Tfmzp3Le++9x6pVqwzjMv7JwcEBLy8vTpw4Ua44zp8/T58+fWjVqhUfffQRvr6+aDQa1q9fz8cff1ziuajV6lLrURSlXO9XUdXx+6ssvV5Pv379eOWVV0o936JFizLr+Ne//sXnn3/O999/z0svvcT3339PmzZtaN++veE9AObOnWs49k8NGjQgLS2tQvdQrCp/r25ubkRHR7Np0yY2bNjAhg0bWLJkCaNGjSp1wLSoeyQBEnXS8uXLcXNzY/78+SXOrVq1itWrV7Nw4UJsbGxo2rRpmV/ETZs2Zd++fRQUFGBlZVVqmeJ/eaenpxsdL/4XZ3kcP36cmJgYli1bxqhRowzH/9lMHxAQAFCuBOKJJ54gIiKC77//nps3b2JlZWXUhXUnw4cP54033uCnn37C3d2dzMxMnnjiiRLlPD09ee6553juuedISUmhY8eOvPPOO7dNgAAefPBBvvzyS/bs2XPbwdjFfvnlF/Ly8li7dq1R687WrVvLdR+lMaXr0s/PjxMnTqAoitF1Z8+eNSpX3t+fn58f8FfLyd/9s87bxVN8ffHfBSjqGv1nK1fTpk3Jzs42tPhURGhoKE2bNuW7776jX79+nDx5knfeecfoPaAosb3T+7i6uuLg4FDuxLci/Pz8OHbsGHq93ugfGGfOnDGcL6bRaBg8eDCDBw9Gr9fz3HPP8cUXXzBjxgxZL6wekC4wUefcvHmTVatW8eCDD/LYY4+VeE2cOJGsrCzD2iaPPvooR48eLXUKcvG/LB999FFSU1NLbTkpLuPn54darS4xpuK///1vuWMv/hfu3/9FqyhKiam5rq6u9OzZk8WLFxMfH19qPMVcXFwYMGAA3377LcuXL+eBBx7AxcWlXPG0bt2adu3asXLlSlauXImnpyc9e/Y0nNfpdCW6n9zc3PDy8ip1ivjfvfLKK9jZ2fH000+TnJxc4vz58+cN913ac8nIyGDJkiXluo/S2NnZASUT1tIMHDiQq1evGo2lys3NLbFIY3l/f56enrRv355ly5YZPb/Nmzdz6tSpMuPp27cvVlZWfPbZZ0bvVdqMrmHDhrFnzx42bdpU4lx6ejqFhYVlvh8UdXcdOXKEWbNmoVKpePLJJw3nQkJCaNq0KR988AHZ2dklrr127RpQtL7Pww8/zC+//MLBgwdLlKuKFrqBAweSlJRk1HVbWFjIZ599RoMGDQzdkdevXze6zsLCgqCgIIAy/+6KukFagESds3btWrKysnjooYdKPd+1a1fDoojDhw/n5ZdfJjIykscff5xx48YREhJCWloaa9euZeHChQQHBzNq1Ci++eYbIiIi2L9/Pz169CAnJ4fff/+d5557jiFDhuDo6Mjjjz/OZ599hkqlomnTpvz6669ljrH4u1atWtG0aVNeeuklrly5goODAz/99FOpY1c+/fRT7rnnHjp27MgzzzxDkyZNuHjxIuvWrSM6Otqo7KhRowwDeN96663yP0yKWoFmzpyJtbU1Tz31lNG/qrOysvDx8eGxxx4jODiYBg0a8Pvvv3PgwAE+/PDDO9Zb3KIwfPhwWrdubbQS9O7duw1Tl6FoIG7xv9afffZZsrOzWbRoEW5ubiQmJpp0P8Xat2+PWq3mvffeIyMjA61Wa1hn6J/Gjx/P559/zqhRozh06BCenp7873//K7E6sim/vzlz5jBo0CDuuecexo0bR1paGp999hlt27YtNYn4O1dXV1566SXmzJnDgw8+yMCBAzly5AgbNmwokdy+/PLLrF27lgcffNCwFEBOTg7Hjx8nMjKSixcvlish/te//sWbb77JmjVr6N69u9Hq2RYWFnz11VcMGDCAtm3bMnbsWLy9vbly5Qpbt27FwcGBX375BYDZs2fz22+/0atXL5555hlat25NYmIiP/74I7t27cLJyanMWO7kmWee4YsvvmDMmDEcOnQIf39/IiMj+eOPP5g3b55h4P3TTz9NWloa9913Hz4+Ply6dInPPvuM9u3b33Y5BFHHmGHmmRDVavDgwYq1tbWSk5Nz2zJjxoxRrKyslNTUVEVRFOX69evKxIkTFW9vb0Wj0Sg+Pj7K6NGjDecVpWhK72uvvaY0adJEsbKyUjw8PJTHHntMOX/+vKHMtWvXlEcffVSxtbVVnJ2dlWeffVY5ceJEqdPg7ezsSo3t1KlTSt++fZUGDRooLi4uyvjx45WjR4+WqENRFOXEiRPKI488ojg5OSnW1tZKy5YtlRkzZpSoMy8vT3F2dlYcHR2VmzdvlucxGpw7d04BFEDZtWtXiXpffvllJTg4WLG3t1fs7OyU4OBg5b///W+564+JiVHGjx+v+Pv7KxqNRrG3t1e6d++ufPbZZ8qtW7cM5dauXasEBQUp1tbWir+/v/Lee+8ZlieIi4szlPPz81MGDRpU4n3+ObVdURRl0aJFSkBAgKJWq42mXZdW9tKlS8pDDz2k2NraKi4uLsrkyZOVjRs3lpiubcrv76efflJat26taLVapU2bNsqqVauU0aNHlzkNXlEURafTKW+88Ybi6emp2NjYKL1791ZOnDih+Pn5GU2DVxRFycrKUqZPn640a9ZM0Wg0iouLi9KtWzflgw8+UPLz88t8r2KdO3dWgNv+fo8cOaIMHTpUadSokaLVahU/Pz9l2LBhSlRUlFG5S5cuKaNGjVJcXV0VrVarBAQEKOHh4UpeXp6iKLefBt+2bdsS71na80pOTlbGjh2ruLi4KBqNRmnXrl2JZx8ZGancf//9ipubm6LRaJTGjRsrzz77rJKYmFju5yFqN5WiVPOoQCGE2RUWFuLl5cXgwYP5+uuvzR2OEEKYnYwBEqIe+Pnnn7l27ZrRwFwhhKjPpAVIiDps3759HDt2jLfeegsXF5cy9+cSQoj6QlqAhKjDFixYwIQJE3BzczPaDFQIIeo7aQESQgghRL0jLUBCCCGEqHckARJCCCFEvWP2hRDnz5/P3LlzSUpKIjg4mM8++4wuXbrctnx6ejqvvfYaq1atIi0tDT8/P+bNm8fAgQMNZa5cucLUqVPZsGEDubm5NGvWjCVLlpS6+3Bp9Ho9V69exd7evlI7fQshhBDi7lEUhaysLLy8vErstfhPZk2AVq5cSUREBAsXLiQ0NJR58+bRv39/zp49W+pqrPn5+fTr1w83NzciIyPx9vbm0qVLRiuH3rhxg+7du3PvvfeyYcMGXF1dOXfuXIkdku/k6tWr+Pr6VsUtCiGEEOIuS0hIwMfH545lzDoIOjQ0lM6dOxv2V9Lr9fj6+vL8888zbdq0EuUXLlzI3LlzOXPmzG03pJw2bRp//PEHO3furHBcGRkZODk5kZCQgIODQ4XrEUIIIcTdk5mZia+vL+np6Tg6Ot6xrNkSoPz8fGxtbYmMjOThhx82HB89ejTp6emsWbOmxDUDBw6kYcOG2NrasmbNGlxdXXnyySeZOnWqYRPCNm3a0L9/fy5fvsz27dvx9vbmueeeY/z48beNJS8vz2jzu+IHmJGRIQmQEEIIUUtkZmbi6OhYru9vsw2CTk1NRafT4e7ubnTc3d2dpKSkUq+5cOECkZGR6HQ61q9fz4wZM/jwww95++23jcosWLCA5s2bs2nTJiZMmMCkSZNYtmzZbWOZM2cOjo6Ohpd0fwkhhBB1m9kHQZtCr9fj5ubGl19+iVqtJiQkhCtXrjB37lxmzZplKNOpUydmz54NQIcOHThx4gQLFy5k9OjRpdY7ffp0IiIiDD8XtwAJIYQQom4yWwLk4uKCWq0mOTnZ6HhycjIeHh6lXuPp6YmVlZWhuwugdevWJCUlkZ+fj0ajwdPTkzZt2hhd17p1a3766afbxqLVatFqtZW4GyGEEELUJmbrAtNoNISEhBAVFWU4ptfriYqKIiwsrNRrunfvTmxsLHq93nAsJiYGT09PNBqNoczZs2eNrouJicHPz68a7kIIIYQQtZFZF0KMiIhg0aJFLFu2jNOnTzNhwgRycnIYO3YsAKNGjWL69OmG8hMmTCAtLY3JkycTExPDunXrmD17NuHh4YYyU6ZMYe/evcyePZvY2Fi+++47vvzyS6MyQgghhKjfzDoGaPjw4Vy7do2ZM2eSlJRE+/bt2bhxo2FgdHx8vNFCRr6+vmzatIkpU6YQFBSEt7c3kydPZurUqYYynTt3ZvXq1UyfPp0333yTJk2aMG/ePEaOHHnX708IIYQQNZNshloKU6bRCSGEEKJmqBXT4IUQQgghzEUSICGEEELUO5IACSGEEKLekQRICCGEEPWOJEBCCCGEqHckAapnbhXo0Otl4p8QQoj6TRKgeuRMUibd393C41/sMXcoQgghhFnVqs1QRcVdSb/J6MX7uZ6Tz/WcfC7fyMXH2dbcYQkhhBBmIS1A9UBGbgFjFu8nOTPPcGx/XJoZIxJCCCHMSxKgOu5WgY7x/zvIuZRsPByseSjYC5AESAghRP0mCVAdptcrRPwQzf64NOy1liwd15kh7SUBEkIIIWQMUB2l1yvMXHuC9ceTsFKr+GJUCK08HPB0tEGlggupOaRk3sLNwdrcoQohhBB3nbQA1UF6vcKrq4/z7d54VCr44PFgujV1AcDRxorWHkUbxO2/KK1AQggh6idJgOqYQp2el348yooDCVio4IPHghnS3tuoTJcmDQHYd6H0BEinV2StICGEEHWaJEB1SIFOzwsro1l15ApqCxWfPNGBR0N8SpTrGlCUAJU2DkhRFEZ+tZdu724h81ZBtccshBBCmIMkQHVEoU7PxO8O8+uxRKzUKuY/2ZHBf874+qfO/kUJ0NnkLG7k5Bud+yP2OnsvpJGUeYvdsderPW4hhBDCHCQBqiPWHU9k08lkNJYWfPHvEB4I9Lht2UYNtDR3awCUHAe0bM9Fw5/3xUkCJIQQom6SBKiO2HImBYBx3ZtwXyv3MssXjwP6ezdYQlouUaeTDT/LVHkhhBB1lSRAdYBOr7Aj5hoA97Z0Ldc1hoHQf2vl+XbfJfQKtPEsmiV2KjFTxgEJIYSokyQBqgNOXMngRm4BDbSWdPRzLtc1oU0aAXDqalGSc6tAx8oDCQBM6dcC/0a2KAoclKnyQggh6iBJgOqA4tafbk0bYaUu36/Uw9Eav0a26BU4dOkGa6KvkJ5bgI+zDfe1cjMkSPukG0wIIUQdJAlQHbD9zwSoVzm7v4qF/m09oGW7LwHw765+qC1UpY4REkIIIeoKSYBquYybBRxJSAegZ3PTEqAuf7byrDwQz6nETLSWFgzv7PvnuaIE6PjlDHLzC6suYCGEEKIGkASoltsdm4pOr9DU1Q7fhrYmXVvcAnQjt2ig88PtvXGy1QDg29AWbycbCvUKhy+lV2nMQgghhLlJAlTLFXd/9WxhWusPgI+zDV6Of22GOqqbn9H50maKCSGEEHWBJEC1mKIof43/qUACpFKpCA0o6gbr7O9MWy9Ho/OGMUIyDkgIIUQdY2nuAETFxaZkk5hxC62lBV3/TGRM9XSPJiRn3mLagFYlzhW3AEUnpHOrQIe1lbpS8QohhBA1hbQA1WLFrT9dmjSscHLS1suR78Z3JcjHqcS5Ji52uNpryS/Uc/TPgdZCCCFEXSAJUC1Wme6v8lCpZDq8EEKIukkSoFrqZr7OMDant4nr/5iiq4wDEkIIUQdJAlRL7Y27Tn6hHm8nG5q6Nqi29yleK+jQpRsU6PTV9j5CCCHE3SQJUC21/Wzx9HcXVCpVtb1Pc7cGONtacbNAx4krGdzM1/HzkSv8++t99PtoO5dv5FbbewshhBDVRWaB1VI7zlXv+J9iFhYqOvs35LdTyfzfzye4dD2X7Ly/VoZee/Qqz/VuVq0xCCGEEFWtRrQAzZ8/H39/f6ytrQkNDWX//v13LJ+enk54eDienp5otVpatGjB+vXrDedff/11VCqV0atVq5LTvGurjJsFXLiWA1Dh6e+mKF4r6OTVTLLzCvFtaEPYn8dklWghhBC1kdlbgFauXElERAQLFy4kNDSUefPm0b9/f86ePYubm1uJ8vn5+fTr1w83NzciIyPx9vbm0qVLODk5GZVr27Ytv//+u+FnS0uz32qVOXU1EwBvJxvD1hXV6ZEO3uyIuYarvZbHQnzo4t+QIwk3eHTBHqITbqAoSrV2wwkhhBBVzexZwUcffcT48eMZO3YsAAsXLmTdunUsXryYadOmlSi/ePFi0tLS2L17N1ZWVgD4+/uXKGdpaYmHh0e1xm4upxKLEqA2Xg535f0a2mlYNq6L0bG2Xo5YqVWkZueTkHaTxo1M24dMCCGEMCezdoHl5+dz6NAh+vbtazhmYWFB37592bNnT6nXrF27lrCwMMLDw3F3dycwMJDZs2ej0+mMyp07dw4vLy8CAgIYOXIk8fHxt40jLy+PzMxMo1dNdvJqBgBt71ICVBprKzVt/tw643D8DbPFIYQQQlSEWROg1NRUdDod7u7uRsfd3d1JSkoq9ZoLFy4QGRmJTqdj/fr1zJgxgw8//JC3337bUCY0NJSlS5eyceNGFixYQFxcHD169CArK6vUOufMmYOjo6Ph5evrW3U3WQ2Ku8D+uXfX3daxsRMARyQBEkIIUcvUiEHQptDr9bi5ufHll18SEhLC8OHDee2111i4cKGhzIABA3j88ccJCgqif//+rF+/nvT0dH744YdS65w+fToZGRmGV0JCwt26HZPlFeqITckG7l4X2O10bOwMwOH4dLPGIYQQQpjKrGOAXFxcUKvVJCcnGx1PTk6+7fgdT09PrKysUKv/2vuqdevWJCUlkZ+fj0ZTclCwk5MTLVq0IDY2ttQ6tVotWq22Endy95xLzqZQr+Bka4WXo7VZY+nwZwvQ6cRMbubrsNHIZqlCCCFqB7O2AGk0GkJCQoiKijIc0+v1REVFERYWVuo13bt3JzY2Fr3+r1WJY2Ji8PT0LDX5AcjOzub8+fN4enpW7Q2YQfH4nzaeDmafeeXtZIObvZZCvcLxKxlmjUUIIYQwhdm7wCIiIli0aBHLli3j9OnTTJgwgZycHMOssFGjRjF9+nRD+QkTJpCWlsbkyZOJiYlh3bp1zJ49m/DwcEOZl156ie3bt3Px4kV2797NI488glqtZsSIEXf9/qraX+N/zNv9BUWbpf7VDSbjgIQQQtQeZp8GP3z4cK5du8bMmTNJSkqiffv2bNy40TAwOj4+HguLv/I0X19fNm3axJQpUwgKCsLb25vJkyczdepUQ5nLly8zYsQIrl+/jqurK/fccw979+7F1bV6V02+G05evbtT4MvSobETG08mcfiSJEBCCCFqD5WiKIq5g6hpMjMzcXR0JCMjAweHmpFoAOj1Cu1e30ROvo7fpvSkhbu9uUPiwMU0Hl+4B1d7Lftf7WP2bjkhhBD1lynf32bvAhPldyktl5x8HVpLCwJc7MwdDgDtvB2xtFBxLSuPyzdumjscIYQQolwkAapFigdAt/Kwx1JdM351RQsiFmXZMg5ICCFEbVEzvkVFuZwyjP8x7wKI/1Q8EPqIrAckhBCilpAEqBapaQOgi3WQFaGFEELUMpIA1SLFm6DWhCnwf1fcAnTyaia3CnRllBZCCCHMTxKgWiIl6xbXsvJQqYrGANUkPs42uDQoWhDxhCyIKIQQohaQBKiWKB7/E+Bih63G7Ms3GSlaENEJkIHQQgghagdJgGqJkzVkB/jb6VC8IvSldPMGIoQQQpSDJEC1RPH4n5o2ALpYcQvQ1rMpvPHLSeKv55o3ICGEEOIOJAGqJWrSHmClad/YiWAfR/IK9Sz54yK9P9jKs/87yIGLaeYOTQghhChBEqBaIDuvkLjUHKBoF/iaSGup5ufw7iwb14WeLVzRK7DpZDKPL9zDDwcSzB2eEEIIYUQSoFrgzJ/dXx4O1jRqoDVzNLenUqno1cKVb8Z14bcpPRkQ6AHAkt0XzRuYEEII8Q+SANUCNXUBxDtp4W7P7EfaYWmh4nRiJuevZZs7JCGEEMJAEqBaoHhtnZo6/ud2nO00dG/mAsC6Y4lmjkYIIYT4iyRAtcDxPxOgdt41cwr8nTwY5AnAr8eumjkSIYQQ4i+SANVwtwp0nEsp6j5q51P7EqD723hgpVYRk5xNTHKWucMRQgghAEmAarxTiZno9AouDTR4OFibOxyTOdpa0bO5KwC/SjeYEEKIGkISoBruxN+6v1QqlZmjqZgHg//qBlMUxczRCCGEEJIA1XjHL9fe8T/F+rZ2R2NpwYVrOZxOlG4wIYQQ5icJUA1XPAA6sBYnQPbWVvRuUdQNtu64DIYWQghhfpIA1WA38/8aAB3k42TeYCrpwWAvoGgckHSDCSGEMDdJgGqwvwZAa3F3qLkrQJdHn1ZuWFtZcOl6LieuZJo7HCGEEPWcJEA12F8DoB1q7QDoYnZaS/q0cgfg1+NXyckrZP3xRKasjKb7u1tYtOOCmSMUQghRn1iaOwBxe4YFEGt591exQUGerDueyP/2XGLJHxfJL9Qbzi3Yfp5x9zRBbVG7Ez0hhBC1g7QA1WB1YQbY393b0o0GWkty83XkF+rxa2TL+B5NcLSxIi0nnyPxN8wdohBCiHpCWoBqqKIB0EVTxutKAmSjUfP16E4cv5JBzxauNHdrgEql4lpWHj9HX2Xz6WQ6+Tc0d5hCCCHqAWkBqqFOJWaiV8DVvvYPgP670IBGPN0jgBbu9oZxTX3bFI0N+v1UsjlDE0IIUY9IAlRDHb+cDtTuFaDLq2cLV6zUKs5fy+HCtWxzhyOEEKIekASohjr+51TxutL9dScO1lZ0DWgEQNTpFDNHI4QQoj6QBKiGOn4lHagfCRAUbZcBsPm0dIMJIYSofpIA1UC5+YXE/rkCdDuf+pEA9WntBsDBi2ncyMk3czRCCCHqOkmAaqDTfw6AdrPX4u5gbe5w7gofZ1taezqgV2DrWekGE0IIUb0kAaqBjtWx9X/Kq9+frUC/SzeYEEKIalYjEqD58+fj7++PtbU1oaGh7N+//47l09PTCQ8Px9PTE61WS4sWLVi/fn2pZd99911UKhUvvPBCNURePerCDvAVUTwdfvvZa+QV6swcjRBCiLrM7AnQypUriYiIYNasWRw+fJjg4GD69+9PSkrp3SD5+fn069ePixcvEhkZydmzZ1m0aBHe3t4lyh44cIAvvviCoKCg6r6NKlW8AnRQPRn/UyzQyxF3By05+Tr2XkgzdzhCCCHqMLMnQB999BHjx49n7NixtGnThoULF2Jra8vixYtLLb948WLS0tL4+eef6d69O/7+/vTq1Yvg4GCjctnZ2YwcOZJFixbh7Ox8N26lSuTmF3L+z7Vw6lsXmIWFij6tZVFEIYQQ1c+sCVB+fj6HDh2ib9++hmMWFhb07duXPXv2lHrN2rVrCQsLIzw8HHd3dwIDA5k9ezY6nXGXSXh4OIMGDTKq+3by8vLIzMw0epnL5Rs30SvgYG2JWz0ZAP13/YoToNPJKIpi5miEEELUVWZNgFJTU9HpdLi7uxsdd3d3JykpqdRrLly4QGRkJDqdjvXr1zNjxgw+/PBD3n77bUOZFStWcPjwYebMmVOuOObMmYOjo6Ph5evrW/GbqqSsW4UAONpamS0Gcwpr2ggbKzWJGbeIPHRZkiAhhBDVwuxdYKbS6/W4ubnx5ZdfEhISwvDhw3nttddYuHAhAAkJCUyePJnly5djbV2+FpTp06eTkZFheCUkJFTnLdxR1q0CABpo62cCZG2lZlCQJwAvRx7jiS/3cvJqhpmjEkIIUdeYdTd4FxcX1Go1ycnG4z2Sk5Px8PAo9RpPT0+srKxQq9WGY61btyYpKcnQpZaSkkLHjh0N53U6HTt27ODzzz8nLy/P6FoArVaLVlszNhwtbgGytzbrr8as3hoSiJeTDV9sP8++uDQe/GwXwzv58lL/lrg0qBm/JyGEELWbWVuANBoNISEhREVFGY7p9XqioqIICwsr9Zru3bsTGxuLXq83HIuJicHT0xONRkOfPn04fvw40dHRhlenTp0YOXIk0dHRJZKfmiY7rygBcqjHCZCNRk1EvxZseak3g4O9UBRYcSCBf321T7rEhBBCVAmzd4FFRESwaNEili1bxunTp5kwYQI5OTmMHTsWgFGjRjF9+nRD+QkTJpCWlsbkyZOJiYlh3bp1zJ49m/DwcADs7e0JDAw0etnZ2dGoUSMCAwPNco+m+KsLrP4mQMW8nWz4bEQHIv8ThsbSgjNJWVy8nmvusIQQQtQBZv+WHT58ONeuXWPmzJkkJSXRvn17Nm7caBgYHR8fj4XFX3mar68vmzZtYsqUKQQFBeHt7c3kyZOZOnWquW6hSv3VBVY/xwCVppN/Q4J9HDlw8QYH4tJo4mJn7pCEEELUciYnQLNmzWLcuHH4+flVWRATJ05k4sSJpZ7btm1biWNhYWHs3bu33PWXVkdNJWOAStfZvyEHLt5g/8U0hnU23yw9IYQQdYPJXWBr1qyhadOm9OnTh++++468vLzqiKvekhag0nX2bwgU7RYvhBBCVJbJCVB0dDQHDhygbdu2TJ48GQ8PDyZMmMCBAweqI756xzAGSFqAjHT0c0algovXc0nJumXucIQQQtRyFRoE3aFDBz799FOuXr3K119/zeXLl+nevTtBQUF88sknZGTIui0VJbPASudoY0UrDwcADsTdMHM0QgghartKzQJTFIWCggLy8/NRFAVnZ2c+//xzfH19WblyZVXFWK/IGKDb6+JftKfbAekGE0IIUUkVSoAOHTrExIkT8fT0ZMqUKXTo0IHTp0+zfft2zp07xzvvvMOkSZOqOtZ6ob6vBH0nnZsUjQPaHycJkBBCiMoxOQFq164dXbt2JS4ujq+//pqEhATeffddmjVrZigzYsQIrl27VqWB1hfFXWDSAlRS8UDoM0mZZP6ZKAohhBAVYfK37LBhwxg3bhze3t63LePi4mK0UrMov0zpArstdwdrGje0JT4tl8OXbtC7pZu5QxJCCFFLmdwCNGPGjDsmP6Li8gp15BcWJY720gVWquJWIBkHJIQQojJMToAeffRR3nvvvRLH33//fR5//PEqCaq+yv6z9QdkGvztdGny50BomQkmhBCiEkxOgHbs2MHAgQNLHB8wYAA7duyokqDqq+IZYHYaNWoLlZmjqZmKW4CiL6eTV6gzczRCCCFqK5MToOzsbDQaTYnjVlZWZGZmVklQ9VVxAiStP7fXxMUOlwYa8gv1HL8s600JIYSomArNAittjZ8VK1bQpk2bKgmqvsrKK5rZJNtg3J5KpaKT35/T4WUckBBCiAoyualhxowZDB06lPPnz3PfffcBEBUVxffff8+PP/5Y5QHWJ7IIYvl0btKQjSeTOBCXBr3NHY0QQojayORv2sGDB/Pzzz8ze/ZsIiMjsbGxISgoiN9//51evXpVR4z1hqELTCsJ0J10Kd4Y9dINdHrFMF5KURRUKhk7JYQQomwV+qYdNGgQgwYNqupY6r3sPxf3c5AusDtq7WmPnUZN1q1Ctp5JITU7j12xqew+fx1HGyvWTuwu3YhCCCHuSJoaahDpAisfS7UFHf2c2Xkulae/OWh0Li0nnz3nr3N/Ww8zRSeEEKI2MHkQtE6n44MPPqBLly54eHjQsGFDo5eouKw86QIrr/vbuANgaaGik58zk/s0575WRStDH7wkawQJIYS4M5O/ad944w2++uorXnzxRf7v//6P1157jYsXL/Lzzz8zc+bM6oix3virBUi6b8oyMtSPLk0a4e1sY0gYVx2+zJYzKbJZqhBCiDKZ3AK0fPlyFi1axIsvvoilpSUjRozgq6++YubMmezdu7c6Yqw3ineCly6wsllYqGjpYW/UWla8SOKJKxnczJdFEoUQQtyeyQlQUlIS7dq1A6BBgwZkZBQtRvfggw+ybt26qo2unpGFECvHx9kGDwdrCvUKRxKkG0wIIcTtmZwA+fj4kJiYCEDTpk357bffADhw4ABarbZqo6tnsv8cA+QgCVCFqFQqOjf5c4r8RUmAhBBC3J7JCdAjjzxCVFQUAM8//zwzZsygefPmjBo1inHjxlV5gPXJX11gMgaoojr7/7lZqqwSLYQQ4g5Mbmp49913DX8ePnw4fn5+7N69m+bNmzN48OAqDa6+kWnwlVc8DujwpRsU6vRYqk3O8YUQQtQDJn07FBQUMG7cOOLi4gzHunbtSkREhCQ/VSBbVoKutBbu9thbW5KTr+N0Ypa5wxFCCFFDmZQAWVlZ8dNPP1VXLPWaXq+QnS/T4CtL/ee6QCDdYEIIIW7P5P6Bhx9+mJ9//rkaQqnfsvMLUZSiP0sXWOV0+rMbTBIgIYQQt2PyN23z5s158803+eOPPwgJCcHOzs7o/KRJk6osuPqkuPvLSq1CaynjViqjS5PiBOiGbJAqhBCiVCYnQF9//TVOTk4cOnSIQ4cOGZ1TqVSSAFXQ31eBli/symnn7YhGbUFqdh6Xrufi72JX9kVCCCHqFZMToL8PgBZVR1aBrjrWVmqCfR05cPEG+y+mSQIkhBCiBOlrqSFkI9SqVTwO6KCMAxJCCFEKk79ty1rscPHixRUOpj6TNYCqVhf/hizgPAdkRWghhBClMPnb9sYN4y+UgoICTpw4QXp6Ovfdd1+VBVbfyCrQVaujnzMqFcSl5nAtKw9Xe9mmRQghxF9MToBWr15d4pher2fChAk0bdq0SoKqjwwtQNIFViUcbaxo6W7PmaQsDl5MY0A7T3OHJIQQogapkjFAFhYWRERE8PHHH1fo+vnz5+Pv74+1tTWhoaHs37//juXT09MJDw/H09MTrVZLixYtWL9+veH8ggULCAoKwsHBAQcHB8LCwtiwYUOFYrtbsqULrMp19v9rOrwQQgjxd1U2CPr8+fMUFhaafN3KlSuJiIhg1qxZHD58mODgYPr3709KSkqp5fPz8+nXrx8XL14kMjKSs2fPsmjRIry9vQ1lfHx8ePfddzl06BAHDx7kvvvuY8iQIZw8ebLC91fdpAus6hWvB7Tu+FVy8kz/uymEEKLuMrm5ISIiwuhnRVFITExk3bp1jB492uQAPvroI8aPH8/YsWMBWLhwIevWrWPx4sVMmzatRPnFixeTlpbG7t27sbIqShb8/f2NyvxzX7J33nmHBQsWsHfvXtq2bWtyjHdDcRdYA2kBqjL92rjj29CGhLSbLNx+nhfvb2nukIQQQtQQJrcAHTlyxOh17NgxAD788EPmzZtnUl35+fkcOnSIvn37/hWQhQV9+/Zlz549pV6zdu1awsLCCA8Px93dncDAQGbPno1Opyu1vE6nY8WKFeTk5BAWFlZqmby8PDIzM41ed1vxNHjpAqs61lZqXhvYGoAvd1zg8o1cM0ckhBCipjD523br1q1V9uapqanodDrc3d2Njru7u3PmzJlSr7lw4QJbtmxh5MiRrF+/ntjYWJ577jkKCgqYNWuWodzx48cJCwvj1q1bNGjQgNWrV9OmTZtS65wzZw5vvPFGld1XRUgXWPXo39aDrgEN2XshjTkbzjD/yY7mDkkIIUQNYHILUFxcHOfOnStx/Ny5c1y8eLEqYrojvV6Pm5sbX375JSEhIQwfPpzXXnuNhQsXGpVr2bIl0dHR7Nu3jwkTJjB69GhOnTpVap3Tp08nIyPD8EpISKj2+/gnmQVWPVQqFTMfbIuFCtYdS2R/nCyMKIQQogIJ0JgxY9i9e3eJ4/v27WPMmDEm1eXi4oJarSY5OdnoeHJyMh4eHqVe4+npSYsWLVCr1YZjrVu3Jikpifz8fMMxjUZDs2bNCAkJYc6cOQQHB/PJJ5+UWqdWqzXMGCt+3W3Z0gVWbdp4OTC8c2MA3vz1JHq9YuaIhBBCmFuFxgB17969xPGuXbsSHR1tUl0ajYaQkBCioqIMx/R6PVFRUbcdr9O9e3diY2PR6/WGYzExMXh6eqLRaG77Xnq9nry8PJPiu5v+vhmqqHov3t8Ce60lJ65kEnnosrnDEUIIYWYmJ0AqlYqsrKwSxzMyMm47EPlOIiIiWLRoEcuWLeP06dNMmDCBnJwcw6ywUaNGMX36dEP5CRMmkJaWxuTJk4mJiWHdunXMnj2b8PBwQ5np06ezY8cOLl68yPHjx5k+fTrbtm1j5MiRJsd3NyiKYhgDJLPAqodLAy2T+jQH4P1NZw3PWwghRP1k8rdtz549mTNnDt9//72hG0qn0zFnzhzuuecekwMYPnw4165dY+bMmSQlJdG+fXs2btxoGBgdHx+PhcVfeZqvry+bNm1iypQpBAUF4e3tzeTJk5k6daqhTEpKCqNGjSIxMRFHR0eCgoLYtGkT/fr1Mzm+uyGvUE+BrqhbRrrAqs/obv58tz+euNQcvtsXz7O9ZOVyIYSor1SKopg0IOLUqVP07NkTJycnevToAcDOnTvJzMxky5YtBAYGVkugd1NmZiaOjo5kZGTclfFA17Ly6PzO7wBcmD0QCwtVtb9nfbXyQDxTfzqOb0Mbtr10L2p51kIIUWeY8v1tchdYmzZtOHbsGMOGDSMlJYWsrCxGjRrFmTNn6kTyYw6G7i+tpSQ/1eyhYG8cbaxISLvJ9pjSVxsXQghR91Wov8XLy4vZs2dXdSz1lswAu3tsNGqGdfJh0c44lu2+xH2t3Mu+SAghRJ1jcgvQkiVL+PHHH0sc//HHH1m2bFmVBFXfZMlGqHfVv7r6oVLB9phrxKXmmDscIYQQZmByAjRnzhxcXFxKHHdzc5NWoQqSVaDvLr9GdvRu4QrAt3svmTkaIYQQ5mByAhQfH0+TJk1KHPfz8yM+Pr5KgqpvDBuhyirQd82obv4A/HAwgdx82SleCCHqG5MTIDc3N8MGqH939OhRGjVqVCVB1TfSBXb39Wruil8jW7JuFbIm+qq5wxFCCHGXmZwAjRgxgkmTJrF161Z0Oh06nY4tW7YwefJknnjiieqIsc6TVaDvPgsLFf/u6gfAst0XMXE1CCGEELWcyQnQW2+9RWhoKH369MHGxgYbGxvuv/9+7rvvPt55553qiLHOy84rHgMkLUB30+MhvlhbWXAmKYuDl26YOxwhhBB3kcnfuBqNhpUrV/L2228THR2NjY0N7dq1w8/PrzriqxdkJ3jzcLS1YkiwNysPJvD+xjOMCvOnlYc9TVzssFSb/G8DIYQQtUiFv3GbN29O8+ZFeytlZmayYMECvv76aw4ePFhlwdUXMgbIfEZ182PlwQQOXLzBgYtFrUAaSwtaezrwzsOBBHo7mjlCIYQQ1aFS/8zdunUr//73v/H09DR0jQnTZf25EGIDGQN017X1cmTByI6M6OJLh8ZO2GnU5BfqOZqQzos/HEWnl7FBQghRF5nc5HDlyhWWLl3KkiVLSE9P58aNG3z33XcMGzYMlUq2caiIv9YBkhYgcxjQzpMB7TwB0OsVLqTmMPS/f3A2OYu1R6/wSAcfM0cohBCiqpW7Beinn35i4MCBtGzZkujoaD788EOuXr2KhYUF7dq1k+SnEqQLrOawsFDRzK2BYaf4jzbHkF+oN3NUQgghqlq5E6Dhw4fToUMHEhMT+fHHHxkyZAgajaY6Y6s3sg2DoKULrKYY290flwZaEtJusvKALPAphBB1TbkToKeeeor58+fzwAMPsHDhQm7ckGnDVUW6wGoeW40lk/o0A+DTLbGyWrQQQtQx5U6AvvjiCxITE3nmmWf4/vvv8fT0ZMiQISiKgl4vXQQVpdMr5OTrAEmAaponOjfGt6EN17LyWLr7ornDEUIIUYVMmgVmY2PD6NGj2b59O8ePH6dt27a4u7vTvXt3nnzySVatWlVdcdZZ2Xl/tSw0kASoRtFYWjClbwsAFm47T0ZugZkjEkIIUVUqPA2+efPmzJ49m4SEBL799ltyc3MZMWJEVcZWLxR3f2ksLdBaqs0cjfinIe29aeHegMxbhXyx47y5wxFCCFFFKr3crYWFBYMHD+bnn38mISGhKmKqV4pngDlI60+NpLZQ8dL9LQFY8sdFkjNvmTkiIYQQVaFK1/t3c3OryurqheIusAayDUaN1a+NOx0bO3GzQMf7G8+aOxwhhBBVQDY8MrO/ZoDJFPiaSqVSMXNwWwB+OnyZownp5g1ICCFEpUkCZGayCGLt0N7XiaEdvAF489dTKIpskSGEELWZJEBmVpwASRdYzffKA62wsVJz6NIN1h69au5whBBCVEKFE6D8/HwuX75MfHy80UuY5q8WIOkCq+k8HK15rnfRFhnvbjjDzT/XbxJCCFH7mJwAnTt3jh49emBjY4Ofnx9NmjShSZMm+Pv706RJk+qIsU6TVaBrl/E9A/B2siEx45ZMixdCiFrM5G/dMWPGYGlpya+//oqnp6dsglpJxbPAZBp87WBtpWbagFY8//0RFm4/z7BOvng52Zg7LCGEECYy+Vs3OjqaQ4cO0apVq+qIp94xjAGSBKjWeDDIk2/2XOTAxRt8vDmGuY8HmzskIYQQJjK5C6xNmzakpqZWRyz1kkyDr31UKhUv9y/6B8CGE0nkF8peeEIIUduYnAC99957vPLKK2zbto3r16+TmZlp9BKmScwoWlnY2VYSoNqkk58zLg20ZOcVsi/uurnDEUIIYSKT+1369u0LQJ8+fYyOK4qCSqVCp5OZMeWVcbOAU4lFSWOHxs5mjkaYwsJCRZ9Wbqw8mEDU6RR6NHc1d0hCCCFMYHICtHXr1uqIo17aH5eGokCAix3uDtbmDkeYqG8bd1YeTGDzqWRmDW4jEwKEEKIWMTkB6tWrV3XEUS/tvVDUddK1aSMzRyIq4p5mLmgtLbiSfpOzyVm08nAwOp9fqCfih2jcHayZ8WAbM0UphBCiNBWaepSens7XX3/N6dOnAWjbti3jxo3D0dGxSoOr6/ac/zMBCpAEqDay0ajp3syFLWdSiDqdUiIBWhN9hV+PJQIwoktjmrk1MEeYQgghSmHyIOiDBw/StGlTPv74Y9LS0khLS+Ojjz6iadOmHD58uEJBzJ8/H39/f6ytrQkNDWX//v13LJ+enk54eDienp5otVpatGjB+vXrDefnzJlD586dsbe3x83NjYcffpizZ2vWLt7pufmcTioa/9M1oKGZoxEV1be1OwCbTyUbHVcUhUU7Lxh+/vnIlbsalxBCiDszOQGaMmUKDz30EBcvXmTVqlWsWrWKuLg4HnzwQV544QWTA1i5ciURERHMmjWLw4cPExwcTP/+/UlJSSm1fH5+Pv369ePixYtERkZy9uxZFi1ahLe3t6HM9u3bCQ8PZ+/evWzevJmCggLuv/9+cnJyTI6vuuz7c/xPU1c73Oxl/E9t1ae1GwBHL6eTknXLcHzb2WvEJGcbfv45+gp6vWygKoQQNYXJXWAHDx5k0aJFWFr+damlpSWvvPIKnTp1MjmAjz76iPHjxzN27FgAFi5cyLp161i8eDHTpk0rUX7x4sWkpaWxe/durKyKpo77+/sbldm4caPRz0uXLsXNzY1Dhw7Rs2dPk2OsDsXjf8Jk/E+t5u5gTZCPI8cuZ7D1TArDOzcGMGyT8e+ufqw+coXLN25yKP4Gnf2ltU8IIWoCk1uAHBwcSt30NCEhAXt7e5Pqys/P59ChQ4ap9QAWFhb07duXPXv2lHrN2rVrCQsLIzw8HHd3dwIDA5k9e/Ydp99nZGQA0LBh6V8+eXl5d309Ixn/U3f0aVXUDfb76aJWy6MJ6ey9kIalhYoJvZvyQKAHAKulG0wIIWoMkxOg4cOH89RTT7Fy5UoSEhJISEhgxYoVPP3004wYMcKkulJTU9HpdLi7uxsdd3d3JykpqdRrLly4QGRkJDqdjvXr1zNjxgw+/PBD3n777VLL6/V6XnjhBbp3705gYGCpZebMmYOjo6Ph5evra9J9mOpGTj5nkrIASYDqgr5tirrBdp67xq0CHV/uKBr781CwF15ONjzSoah7dt2xRPIKZZ0sIYSoCUzuAvvggw9QqVSMGjWKwsKifaysrKyYMGEC7777bpUH+E96vR43Nze+/PJL1Go1ISEhXLlyhblz5zJr1qwS5cPDwzlx4gS7du26bZ3Tp08nIiLC8HNmZma1JkHFKwc3d2uASwNttb2PuDvaeDrg5WjN1YxbrNgfz4YTRTO/nukVABQlue4OWpIz89h29hr923qYM1whhBBUoAVIo9HwySefcOPGDaKjo4mOjiYtLY2PP/4Yrda0L3MXFxfUajXJycYzaJKTk/HwKP1LwtPTkxYtWqBWqw3HWrduTVJSEvn5+UZlJ06cyK+//srWrVvx8fG5bRxarRYHBwejV3XaeyENkPE/dYVKpaLPn7PBZq8/g16BXi1cDdPi1RYqhrQvagWS2WBCCFEzmJwAFbO1taVdu3a0a9cOW1vbCtWh0WgICQkhKirKcEyv1xMVFUVYWFip13Tv3p3Y2Fj0+r82oIyJicHT0xONRgMUTUGeOHEiq1evZsuWLTRp0qRC8VUXGf9T9xTPBsvXFf29fLZngNH54m6wqNMpZNwsuLvBCSGEKKFcXWBDhw5l6dKlODg4MHTo0DuWXbVqlUkBREREMHr0aDp16kSXLl2YN28eOTk5hllho0aNwtvbmzlz5gAwYcIEPv/8cyZPnszzzz/PuXPnmD17NpMmTTLUGR4eznfffceaNWuwt7c3jCdydHTExsbGpPiq2vXsPM4mF43/CW0iM4LqirCmjbDTqMnJ1xHo7VCida+1pwOtPOw5k5TFhuOJPNGlsZkiFUIIAeVMgBwdHQ37HDk4OFTpnkfDhw/n2rVrzJw5k6SkJNq3b8/GjRsNA6Pj4+OxsPirocrX15dNmzYxZcoUgoKC8Pb2ZvLkyUydOtVQZsGCBQD07t3b6L2WLFnCmDFjqiz2itgXV9T91dLdnkYy/qfO0FqqGRTkyQ8HLzPpvualfkYe7uDNuxvOsPrIFUmAhBDCzFSKosjqbP+QmZmJo6MjGRkZVT4eaOaaE3yz5xJjuvnz+kNtq7RuYV63CnQkZ97Cr5Fdqeevpt+k+3tbUBTYNfVefJzL33Ws1ytcy86TTXOFEOIOTPn+NnkM0H333Ud6enqpb3rfffeZWl29I+N/6i5rK/Vtkx8ALycbujYp+r0/8eVeXl97km1nU7hVcOep8YqiEP7dYUJnR7H7fGqVxiyEEPWVyQnQtm3bSsy2Arh16xY7d+6skqDqqtTsPM6lZKNSyfif+mp8zyZoLC24fOMmS3dfZMySAwS/8RuTvj9CTl5hqdesOJDAhhNF49h+OJBwN8MVQog6q9zrAB07dszw51OnThktVKjT6di4caPRflyipOLtL1p5OOBspzFzNMIc7mvlzuEZ/fgjNpVtZ6+x7WwKiRm3WHv0Khk3C/hqdCes1H/9u+Riag5v/XrK8HPU6RTyCnVoLdWlVS+EEKKcyp0AtW/fHpVKhUqlKrWry8bGhs8++6xKg6trnG019G3tRmvP6l1nSNRsDbSW9G/rQf+2HiiKwp7z1xm37ADbY67x6qrjvP9YECqVikKdnik/RJObr6NrQEMuXMshJSuP3bHXubeVm7lvQwgharVyJ0BxcXEoikJAQAD79+/H1dXVcE6j0eDm5ma0OKEoqXszF7o3czF3GKIGUalUdGvmwvwnOzL+m4P8eOgyno7WRNzfkv9uO8+R+HTsrS35cFh7Fm47z//2XmLDiURJgIQQopLKnQD5+fkBGC1AKISoGn1au/POI+2Yvuo4n26JJTtPx7I9FwF4a0gg3k42DAj04H97L7H5VDKFOj2W6gqvYyqEEPWeyXuBFTt16hTx8fElBkQ/9NBDlQ5KiPpoRJfGJGbc4tOocyz+Iw6AQUGeDGnvBUCXJg1xtrXiRm4B++PS6CatiUIIUWEmJ0AXLlzgkUce4fjx46hUKoqXESpe+E2nk92uhaioKX2bk5Rxkx8OXsbDwZp3Hg40fLYs1Rbc38aDlQeLZoVJAiSEEBVnchv65MmTadKkCSkpKdja2nLy5El27NhBp06d2LZtWzWEKET9oVKpmP1IOz4d0YHICWE42RrPFnwgsGiT4E0nk9DrZQ1TIYSoKJMToD179vDmm2/i4uKChYUFFhYW3HPPPcyZM8doPy4hRMVYqi14KNir1JWiuzVrhL3WkpSsPA7H3zBDdEIIUTeYnADpdDrs7e0BcHFx4erVq0DRIOmzZ89WbXRCCCNaS7Vh5/nixRGFEEKYzuQEKDAwkKNHjwIQGhrK+++/zx9//MGbb75JQEBAlQcohDD2QKAnABtPJPH3rfxuFeg4eDGNQp3M1BRCiLKYPAj6//7v/8jJyQHgzTff5MEHH6RHjx40atSIlStXVnmAQghjvVq4YmOl5kr6TY5fyaCFuz0rDyQwf2ssKVl5PNszgOkDW5s7TCGEqNGqZDf4tLQ0nJ2dDbNVarvq3A1eiKrw3PJDrD+eRFhAIy5ezyEx45bhnL3Wkn2v9cFWU+FVLoQQolaq1t3gS9OwYcM6k/wIURsUd4PtuXCdxIxbeDhY89bDgfg3siUrr5Bfjl41c4RCCFGzleufiEOHDi13hatWrapwMEKI8unTyo0mLnbk5hfyXO9mDO/si7WVmpv5hcxef4Zv98YzvHNjc4cphBA1VrkSIEdHR8OfFUVh9erVODo60qlTJwAOHTpEenq6SYmSEKLi7LSWbHmxV4mW18dCfPngtxiOX8ngaEI6wb5O5glQCCFquHIlQEuWLDH8eerUqQwbNoyFCxcaNj/V6XQ899xzMl5GiLuotG7nhnYaBrXzZPWRKyzfd0kSICGEuA2TxwAtXryYl156yWjnd7VaTUREBIsXL67S4IQQphsZWtT1tfboVTJyC8wcjRBC1EwmJ0CFhYWcOXOmxPEzZ87ITvFC1AAhfs608rDnVoGeVUcumzscIYSokUyeJzt27Fieeuopzp8/T5cuXQDYt28f7777LmPHjq3yAIUQplGpVIwMbcyMNSdZvi+eMd38ZZamEEL8g8kJ0AcffICHhwcffvghiYmJAHh6evLyyy/z4osvVnmAQgjTPdzBmzkbzhCbks3eC2mENW1kOFeo02OprpIVMIQQotaq1EKImZmZAHVu8LMshCjqgldXH+e7ffHc29KV/m09OBKfzuH4G8Rey+bfXf14c0iguUMUQogqZcr3d5WsBF3XSAIk6oKTVzMY9OmuUs9p1BYc+L++ONpY3eWohBCi+pjy/V2uLrCOHTsSFRWFs7MzHTp0uON4gsOHD5sWrRCiWrT1cuTBIE+2n71GoLcjHRo70bGxM+9tPMO5lGw2nkiUxRKFEPVWuRKgIUOGoNVqAXj44YerMx4hRBX6/MmOJY6dTc5i7qazrIm+KgmQEKLeki6wUkgXmKjLEtJy6fH+VlQq2DOtDx6O1uYOSQghqsRd3wxVCFF7+Da0pZOfM4qCbJoqhKi3ytUF5uzsXO51RNLS0ioVkBCi+g3p4M3BSzdYc/QK43sGmDscIYS468qVAM2bN6+awxBC3E2D2nnyxtqTnLiSSWxKNs3cGpg7JCGEuKvKlQCNHj26uuMQQtxFDe009GzhypYzKayJvsKL97c0d0hCCHFXVWoM0K1bt8jMzDR6CSFqhyHtvQBYE30VmQshhKhvTE6AcnJymDhxIm5ubtjZ2eHs7Gz0MtX8+fPx9/fH2tqa0NBQ9u/ff8fy6enphIeH4+npiVarpUWLFqxfv95wfseOHQwePBgvLy9UKhU///yzyTEJUR/0a+OOrUZNfFouRxLSzR2OEELcVSYnQK+88gpbtmxhwYIFaLVavvrqK9544w28vLz45ptvTKpr5cqVREREMGvWLA4fPkxwcDD9+/cnJSWl1PL5+fn069ePixcvEhkZydmzZ1m0aBHe3t6GMjk5OQQHBzN//nxTb02IesVWY8n9bdwBWHPkipmjEUKIu8vkdYAaN27MN998Q+/evXFwcODw4cM0a9aM//3vf3z//fdGrTFlCQ0NpXPnznz++ecA6PV6fH19ef7555k2bVqJ8gsXLmTu3LmcOXMGK6uyl/BXqVSsXr3a5MUbZR0gUV9sPZvC2CUHaGSnYe+rfbCSTVKFELVYta4DlJaWRkBA0bRZBwcHw7T3e+65hx07dpS7nvz8fA4dOkTfvn3/CsbCgr59+7Jnz55Sr1m7di1hYWGEh4fj7u5OYGAgs2fPRqfTmXobQgigRzMXGtlpuJ6TT9icLfzrq3289espfjiYQGLGTXOHJ4QQ1cbkBCggIIC4uDgAWrVqxQ8//ADAL7/8gpOTU7nrSU1NRafT4e7ubnTc3d2dpKSkUq+5cOECkZGR6HQ61q9fz4wZM/jwww95++23Tb0NI3l5eTKYW9RLlmoLnukZgEoFqdl57IpN5etdcbwSeYwhn/9BgU5v7hCFEKJalGsa/N+NHTuWo0eP0qtXL6ZNm8bgwYP5/PPPKSgo4KOPPqqOGA30ej1ubm58+eWXqNVqQkJCuHLlCnPnzmXWrFkVrnfOnDm88cYbVRipELXHs72a8q+ufsQkZ3E2KYszSVn8dOgyKVl57LuQxj3NXcwdohBCVLlyJ0AvvfQSTz/9NFOmTDEc69u3L2fOnOHQoUM0a9aMoKCgcr+xi4sLarWa5ORko+PJycl4eHiUeo2npydWVlao1WrDsdatW5OUlER+fj4ajabc7/9306dPJyIiwvBzZmYmvr6+FapLiNrITmtJh8bOdGhcNJPzZr6OlQcT+O1UkiRAQog6qdxdYGvWrKFt27Z069aNxYsXk5OTA4Cfnx9Dhw41KfkB0Gg0hISEEBUVZTim1+uJiooiLCys1Gu6d+9ObGwsev1fzfIxMTF4enpWOPkB0Gq1ODg4GL2EqM/6BxZ1Tf92Mhm9XtYIEkLUPeVOgM6dO8fWrVtp0aIFkydPxsPDg3HjxrF79+4Kv3lERASLFi1i2bJlnD59mgkTJpCTk8PYsWMBGDVqFNOnTzeUnzBhAmlpaUyePJmYmBjWrVvH7NmzCQ8PN5TJzs4mOjqa6OhoAOLi4oiOjiY+Pr7CcQpR33Rr6oKdRk1S5i2OX8kwdzhCCFHlTBoE3bNnT5YuXUpSUhKffPIJ586d45577qF169Z88MEHJbqzyjJ8+HA++OADZs6cSfv27YmOjmbjxo2GgdHx8fEkJiYayvv6+rJp0yYOHDhAUFAQkyZNYvLkyUZT5g8ePEiHDh3o0KEDUJRkdejQgZkzZ5oUmxD1mbWVmt4t3QDYdLL0SQlCCFGbmbwO0D/FxsayZMkSFi5cSHZ2Nnl5eVUVm9nIOkBCwJroK0xeEU1TVzuiXuxt7nCEEKJM1boO0N/l5OSwc+dOtm/fzo0bNwzrAwkhar97W7lhpVZx/loOsSnZ5g5HCCGqVIUSoF27djFu3Dg8PT2ZNGkSLVq0YOfOnZw+fbqq4xNCmImDtRVhTYtmgP12SrrBhBB1S7kToMTERN59911atWpFz549OXPmDB999BGJiYksXryY7t27V2ecQggz6N/2r9lgQghRl5R7HSBfX18aNWrEv//9b5566ilat25dnXEJIWqAfq3d+b+fTxCdkE5Sxi08HK3NHZIQQlSJcidAP/zwAw899BCWliYvHi2EqKXcHKzp4OvE4fh0Np9K4t9h/uYOSQghqkS5u8CGDh0qyY8Q9VD/tkUrs/92SrrBhBB1R6VmgQkh6r77/0yA9py/TkZuAdez89h2NoX5W2P5aucFdHdYKfpWgY4TspCiEKIGkiYdIcQdNXGxo4V7A2KSs+k5dysZNwuMzidn3uK1QW1KXJebX8iTi/YRnZDOB48H81iIz90KWQghyiQtQEKIMg1q5wVAxs0CVCoIcLWjb+uiGWKLdsbx7d5LRuULdHomfHuY6IR0AOZuOkNufuFdjVkIIe6k0i1AmZmZbNmyhZYtW8rMMCHqqP/0DiDA1Q43ey1tvBywt7YC4LOoc3y4OYZZa0/i29CWXi1c0esVXok8xvaYa9hYqXGwsSQ5M4/Fu+KYeF9zM9+JEEIUMbkFaNiwYXz++ecA3Lx5k06dOjFs2DCCgoL46aefqjxAIYT5aS3VDA72IjSgkSH5AZh4XzMe7eiDTq8QvvwwZ5Iymb3+NKuPXEFtoeK//+rIqwOL/mG0cPsFrmfX/q1yhBB1g8kJ0I4dO+jRowcAq1evRlEU0tPT+fTTT3n77berPEAhRM2lUqmYM7QdoU0akp1XyGML9vDVrjgA3n80iHtbujE4yIt23o5k5xXy2ZZYM0cshBBFTE6AMjIyaNiwIQAbN27k0UcfxdbWlkGDBnHu3LkqD1AIUbNpLC344t8hBLjYkZ1XNM7n1YGtePTPQc8WFiqmD2gFwLd7L3ExNcdssQohRDGTEyBfX1/27NlDTk4OGzdu5P777wfgxo0bWFvLKrFC1EdOthoWj+lM92aNmPpAK57p2dTofLdmLvRu6UqhXmHuprNmilIIIf5icgL0wgsvMHLkSHx8fPDy8qJ3795AUddYu3btqjo+IUQt4e9ix/KnuzKhd9NSz08b0AqVCtYdT+RI/I27HJ0QQhgzOQF67rnn2LNnD4sXL2bXrl1YWBRVERAQIGOAhBC31crDgcc6FnWLvfXrKQp1ejNHJISoz1SKotx+Gddy0Ol0HD9+HD8/P5ydnasqLrPKzMzE0dGRjIwMHBwczB2OEHVGYsZN7vtgOzcLdPyra2PeGhKISqUyd1hCiDrClO/vCnWBff3110BR8tOrVy86duyIr68v27Ztq1DAQoj6wdPRhnlPtEelgm/3xvP1nzPGhBDibjM5AYqMjCQ4OBiAX375hbi4OM6cOcOUKVN47bXXqjxAIUTd0r+tB6/9uTbQO+tP89vJJDNHJISoj0xOgFJTU/HwKNoccf369Tz++OO0aNGCcePGcfz48SoPUAhR9zx1TxNGhjZGUWDyimiOX5YNU4UQd5fJCZC7uzunTp1Cp9OxceNG+vXrB0Bubi5qtbrKAxRC1D0qlYo3HmpLzxau3CzQ8dSyA1xNv2nusIQQ9YjJCdDYsWMZNmwYgYFFgxf79u0LwL59+2jVqlWVByiEqJss1RbMf7IDLd3tScnKY9Ti/aTl5Jda9kr6TcK/O8zao1fvcpRCiLrK5ATo9ddf56uvvuKZZ57hjz/+QKvVAqBWq5k2bVqVByiEqLvsra1YPLYzno7WxKZkM3bJfsNq0sViU7J5bMFu1h1L5M1fTqLTV2riqhBCAFUwDb4ukmnwQtxdsSlZPL5wDzdyC+jerBGLx3RGa6nm2OV0xiw5YNQytOKZrnQNaGTGaIUQNVW1ToMH2L59O4MHD6ZZs2Y0a9aMhx56iJ07d1YoWCGEaOZmz9KxXbDTqPkj9jqTv49m17lURny5l7ScfIJ8HOnXxh2AjSdk1pgQovJMToC+/fZb+vbti62tLZMmTWLSpEnY2NjQp08fvvvuu+qIUQhRDwT7OvHlqE5o1BZsPJnEv77eR06+jrCARnw3vitPdPYFYMOJRPTSDSaEqCSTu8Bat27NM888w5QpU4yOf/TRRyxatIjTp09XaYDmIF1gQpjPxhNJPLf8EHoF+rVx57MRHbC2UpNXqCPkrd/JzivkpwndCPGrGyvPCyGqTrV2gV24cIHBgweXOP7QQw8RFyerugohKueBQA/+91Qobw5py4KRHbG2KlpeQ2uppk9rNwA2HE80Z4hCiDrA5ATI19eXqKioEsd///13fH19qyQoIUT91r2ZC6PC/LFUG/8vakCgJwAbTiQh8zeEEJVhaeoFL774IpMmTSI6Oppu3boB8Mcff7B06VI++eSTKg9QCCGK9Wrhio2VmivpNzl+JYMgHydzhySEqKVMToAmTJiAh4cHH374IT/88ANQNC5o5cqVDBkypMoDFEKIYjYaNfe1cmPd8UQ2nEiSBEgIUWEmJUCFhYXMnj2bcePGsWvXruqKSQghbuuBQI+iBOh4Iq/0b4lKpbpj+Zv5Omw0sk2PEMKYSWOALC0tef/99yksLCy7sBBCVIN7W7mhtbTg4vVcziRl3bacoijM+z2GtrM2EvFDNLcKdHcxSiFETWfyIOg+ffqwffv2Kg1i/vz5+Pv7Y21tTWhoKPv3779j+fT0dMLDw/H09ESr1dKiRQvWr19fqTqFELVDA60lPVu4ArefDaYoCh9tjmHe7+fQK7Dq8BWeXLSXa1l5dzNUIUQNZvIYoAEDBjBt2jSOHz9OSEgIdnZ2Rucfeughk+pbuXIlERERLFy4kNDQUObNm0f//v05e/Ysbm5uJcrn5+fTr18/3NzciIyMxNvbm0uXLuHk5FThOoUQtcvAdh5sPpXM+hNJRNzf0uicoijM3XSW/247D8C/u/qxJvoKh+PTeXj+H3w1uhOtPWV9LyHqO5MXQrSwuH2jkUqlQqczrZk5NDSUzp078/nnnwOg1+vx9fXl+eefL3Vz1YULFzJ37lzOnDmDlZVVldT5T7IQohA1W8bNAjq9vZkCncK0Aa3o1cKVlu72qFTw3sazLNxelPzMfLAN4+5pwoVr2Ty17CBxqTnYadTMHtqOsIBGuNpryxxDJISoPUz5/jbrZqj5+fnY2toSGRnJww8/bDg+evRo0tPTWbNmTYlrBg4cSMOGDbG1tWXNmjW4urry5JNPMnXqVNRqdYXq/CdJgISo+Z5edoDfT6cYfnawtiTAtQHRCekAvD64DWO6NzGcT8/N57nlh9l9/rrhmLWVBb7Otvg1smV8jwBCZZNVIWq1at8Mtaqkpqai0+lwd3c3Ou7u7k5SUukbHl64cIHIyEh0Oh3r169nxowZfPjhh7z99tsVrjMvL4/MzEyjlxCiZpszNIiX+7ekZwtX7DRqMm8VGpKfN4e0NUp+AJxsNSwb14Vnewbg7WSDhQpuFeg5l5LN76dTeGrZQVIyb5nhToQQ5lDuMUBbtmxh4sSJ7N27t0RWlZGRQbdu3ViwYAE9e/as8iD/Tq/X4+bmxpdffolarSYkJIQrV64wd+5cZs2aVaE658yZwxtvvFHFkQohqpOrvZbwe5sRfi8U6vScvJrJgYtp+DWyM+wc/09WagumD2zN9IGtyS/UczX9JvFpuczddJbjVzJ4Z/1pPnmiw12+EyGEOZS7BWjevHmMHz++1CYlR0dHnn32WT7++GOT3tzFxQW1Wk1ycrLR8eTkZDw8PEq9xtPTkxYtWqBW/7WuR+vWrUlKSiI/P79CdU6fPp2MjAzDKyEhwaT7EEKYl6XagmBfJ57uEXDb5OefNJYW+LvY0bOFK+88EohKBWuir7L7fGo1RyuEqAnKnQAdPXqUBx544Lbn77//fg4dOmTSm2s0GkJCQoz2FtPr9URFRREWFlbqNd27dyc2Nha9Xm84FhMTg6enJxqNpkJ1arVaHBwcjF5CiPojyMeJkaGNAZi55iT5hfoyrhBC1HblToCSk5NvO+sKihZJvHbtmskBREREsGjRIpYtW8bp06eZMGECOTk5jB07FoBRo0Yxffp0Q/kJEyaQlpbG5MmTiYmJYd26dcyePZvw8PBy1ymEEP/08v2taGSnITYlm8V/xJk7HCFENSv3GCBvb29OnDhBs2bNSj1/7NgxPD09TQ5g+PDhXLt2jZkzZ5KUlET79u3ZuHGjYRBzfHy80dR7X19fNm3axJQpUwgKCsLb25vJkyczderUctcphBD/5GhrxbQBrXg58hifRp3joWAvvJxszB2WEKKalHsa/PPPP8+2bds4cOAA1tbWRudu3rxJly5duPfee/n000+rJdC7SabBC1E/6fUKw77Yw8FLN+jf1p2n7gngwrVszl/LJi41BzcHa0aF+dHKo/T/LyiKIusKCWFG1bIOUHJyMh07dkStVjNx4kRatixaffXMmTPMnz8fnU7H4cOH60QriyRAQtRfpxMzefCzXej0t/9fY/dmjXjqnib0buFGVl4hu86lsu1sCttjrqFSQeR/uuHb0PYuRi2EgGpcCPHSpUtMmDCBTZs2UXyZSqWif//+zJ8/nyZNmpRRQ+0gCZAQ9dvHm2P4fGssno7WBLg2oKmrHf6N7Ngfl8aGE4kU50buDlpSs/NLJEs9mrvwzbgu0hokxF1W7StB37hxg9jYWBRFoXnz5jg7O1c42JpIEiAhxO26sy7fyGXZ7ous2J9AVl4hAE1d7ejd0o0gH0dejjxGfqGeDx4P5rEQn7sdthD1Wq3ZCqOmkgRICFGW7LxCDlxMo5lrA6PurgXbzvPexjM42lixOaInbvbWd6hFCFGVas1WGEIIUVs10Fpyb0u3EmN9xvdoQqC3Axk3C3h97UkzRSeEKIskQEIIUYUs1Ra892gQagsV648nsfFEorlDEkKUQhIgIYSoYm29HPlPrwAAZqw5SUZugZkjEkL8kyRAQghRDZ6/rzkBrnZcy8rjtZ+Po7/DtPryOJuUxa5zsk+ZEFVFEiAhhKgG1lZq3v+zK+zXY4m88ctJKjLnRKdXmL81loGf7uRfX+9j44mkaohWiPpHEiAhhKgmnfwb8sHjQQAs23OJD3+LMen6pIxb/OurfczddNaw1tBbv57iZr6uymMVor6RBEgIIarRIx18eOvhQAA+3xrLgm3ny3Vd1OlkBnyygz0XrmOrUfPOI4F4O9lwJf0mC7bFVmfIQtQL5d4MVQghRMX8u6sfOXmFvLvhDO9tPIOtRs1DwV6G8woQl5rDkfgbHIlP53D8DRIzbgHQ1suBT0d0oKlrAxraapiw/DALd1zg0RAf/BrZmemOhKj9ZCHEUshCiEKI6jB30xnmby1fC5DaQsWYbv688kBLtJZqoGh16lGL97PzXCr3tXJj8ZjO1RmuELWOKd/f0gIkhBB3yUv3t0SvwFc7L1CgM/63ZyM7DR0aO9GhsTMdGzsT5OOIndb4f9EqlYrXH2rLA/N2sOVMCr+fSqZvm9q/AbUQ5iAtQKWQFiAhRHUqbUq8hUX5N06ds+E0X2y/gG9DGzZP6YW1lboqwxOi1pKtMIQQogazsFCVeJli0n3N8XCwJiHtJgu3l69LTQhhTBIgIYSoZey0lrw2qDUA/912nrjUHDNHJETtIwmQEELUQg8GedKjuQv5hXpm/HyiQossClGfSQIkhBC1kEql4q0hgWgsLdgVm8rao1fNHZIQtYokQEIIUUv5u9jx/L3NgKIVomXTVSHKTxIgIYSoxZ7pFUBTVztSs/N5b9MZc4cjRK0hCZAQQtRiWks17zzSDoDv9sVz6NINM0ckRO0gCZAQQtRyXQMa8ViIDwCvrT5OgU5v5oiEqPkkARJCiDrg1YGtcba14kxSFu9ukK4wIcoiCZAQQtQBDe00vP1wUVfY17vi+HbvpXJdp9crfBZ1jonfHSY1O686QxSiRpEESAgh6ohBQZ682K8FALPWnmR7zLU7ls8r1DF5ZTQfbo7h12OJPPHlXlIyb92NUIUwO0mAhBCiDpl4XzMe7eiDTq8QvvwwZ5IySy2XnVfIU0sP8svRq1haqHBpoCU2JZthX+zhavrNuxy1EHefJEBCCFGHqFQq5gxtR2iThoYkJyXLuFXnWlYeT3y5h12xqdhq1Cwe05nVz3XDx9mGi9dzGfbFHhLScs10B0LcHbIbfClkN3ghRG2XnpvP0P/u5kJqDg20lrjaa3GwscLRxorzKdlcSb9JIzsNS8Z2JsjHCYAr6TcZuWgvF6/n4uVozf+eDqWpawPz3ogQJjDl+1sSoFJIAiSEqAsupuYw/Ms9JGeWHNzs29CGb8aF0sTFzuh4cuYtnly0l/PXcrBSqxje2Zfwe5vh6Whzt8IWosIkAaokSYCEEHXFrQIdF6/nkJFbQMbNopdOr9C/rQfOdppSr0nNzmPKymh2nksFQKO2YEQXX567txnuDtZ3M3whTCIJUCVJAiSEELDvwnU+2hzDvrg0ALSWFnzweDCDg71KLf/7qWTmRcUwqqs/wzr73s1QhQBM+/6WQdBCCCFKFRrQiBXPdOW7p0MJ8XMmr1DPpBVHWHkgvkTZnw5d5tlvD3HiSiav/HSM7/aVLCNETVIjEqD58+fj7++PtbU1oaGh7N+//7Zlly5dikqlMnpZWxs3ySYnJzNmzBi8vLywtbXlgQce4Ny5c9V9G0IIUeeoVCq6NXPhx2fDeDK0MYoCU386zuJdcYYyX++K48Ufj6LTK7RwLxo0/erq46UmSkLUFGZPgFauXElERASzZs3i8OHDBAcH079/f1JSUm57jYODA4mJiYbXpUt/rXiqKAoPP/wwFy5cYM2aNRw5cgQ/Pz/69u1LTk7O3bglIYSocywsVLzzcCDjezQB4M1fT/FZ1Dk+/O0sb/16CoCn72nCxsk9GdvdH4Bpq47z48EEc4UsxB2ZfQxQaGgonTt35vPPPwdAr9fj6+vL888/z7Rp00qUX7p0KS+88ALp6eml1hcTE0PLli05ceIEbdu2NdTp4eHB7Nmzefrpp8uMScYACSFE6RRF4dOoWD7+Pcbo+Mv9W/Jc76aoVCoURWHW2pN8s+cSKhV8+HgwQzv6mCliUZ/UmjFA+fn5HDp0iL59+xqOWVhY0LdvX/bs2XPb67Kzs/Hz88PX15chQ4Zw8uRJw7m8vKLpnn/vFrOwsECr1bJr165quAshhKg/VCoVk/s25/8Gtf7zZ3j74UDC722GSqUylHnjobaM/LPL7MUfj/LJ7+fQ62XOjag5LM355qmpqeh0Otzd3Y2Ou7u7c+ZM6bsZt2zZksWLFxMUFERGRgYffPAB3bp14+TJk/j4+NCqVSsaN27M9OnT+eKLL7Czs+Pjjz/m8uXLJCYmllpnXl6eIXGCogxSCCHE7T3dI4B23o5YWVrQsbFzifMqlYq3hgSitlDxzZ5LfPx7DEcSbvDxsPa3nX4vxN1k9jFApgoLC2PUqFG0b9+eXr16sWrVKlxdXfniiy8AsLKyYtWqVcTExNCwYUNsbW3ZunUrAwYMwMKi9NudM2cOjo6Ohpevr0zfFEKIsoQGNCo1+SlmYaHizSGBvP9YEFpLC7advcaDn+3i2OX0uxekELdh1gTIxcUFtVpNcnKy0fHk5GQ8PDzKVYeVlRUdOnQgNjbWcCwkJITo6GjS09NJTExk48aNXL9+nYCAgFLrmD59OhkZGYZXQoIM2hNCiKoyrJMvq57rhl8jW66k3+SxBXv4Yvt5bhXozB2aqMfMmgBpNBpCQkKIiooyHNPr9URFRREWFlauOnQ6HcePH8fT07PEOUdHR1xdXTl37hwHDx5kyJAhpdah1WpxcHAwegkhhKg6bb0cWTvxHvq1cSdfp2fOhjPc98E2fjiQQKFOb+7wRD1k9llgK1euZPTo0XzxxRd06dKFefPm8cMPP3DmzBnc3d0ZNWoU3t7ezJkzB4A333yTrl270qxZM9LT05k7dy4///wzhw4dok2bNgD8+OOPuLq60rhxY44fP87kyZMJCQnhp59+KldMMgtMCCGqh6Io/HjwMh//HkNiRtEu9U1d7Zh4XzM8HIz3G2vqaofbHbbeuJaVx5X0mwT7OBoGYIv6zZTvb7MOggYYPnw4165dY+bMmSQlJdG+fXs2btxoGBgdHx9vNHbnxo0bjB8/nqSkJJydnQkJCWH37t2G5AcgMTGRiIgIkpOT8fT0ZNSoUcyYMeOu35sQQghjKpWKYZ19eai9F//bc4n522I5fy2HKSuPlijrbGvF7xG9aNRAW+LcrQIdQxf8QULaTQYEevD2w4GllhPidszeAlQTSQuQEELcHZm3CvhqxwV+O5WM7m/T5FOy8si4WcCToY2Z/Ui7Etd9GnWOjzb/tRaRSwMNc4YG0a+Ne4myov6QzVArSRIgIYQwr/1xaQz7Yg8qFfz6/D209XI0nEvKuMW9H2zjZoGOyX2as+FEIjHJ2QA8FuLD4yE+5BbouJmvIzdfR4FOj7OtFS4NtLg00NKogYYGWkvpNquDJAGqJEmAhBDC/CZ+d5hfjyXSxb8hK5/takhYpqyMZvWRK3Tyc+bH/4SRV6jn480xfLnzAuX9RgvycWThv0LwcrIp9fzh+BucuprJgEAP6VqrRSQBqiRJgIQQwvyupt/kvg+3catAz2cjOjA42IvD8TcY+t/dAKyd2J0gHydD+YMX05iz4Qw3cvOx1aixtbLERqPG0kJFWm4+qdl5XM/OJze/aPq9p6M134zrQnN3e0MdiqLw1c445mw4jV4BK7WK+9t68GSXxoQFNMLCQlqNajJJgCpJEiAhhKgZPvn9HB//HoOXozW/v9iLJxftIzohncdCfPjg8eAK1ZmQlsvoJfu5cC0HRxsrFo/pRIhfQ3LzC5n603F+OXoVAB9nGy7fuGm4rnFDW14d2IoHAksuuyJqBkmAKkkSICGEqBluFejo8+F2rqTfpENjJ47Ep2OnUbP1pd53nCJflhs5+YxbdoAj8eloLS2Y8WAbvt17iTNJWVhaqJjxYBtGhflx8momKw7Es+bIVbLyCtGoLfjl+Xto6WFf9puIu04SoEqSBEgIIWqO9ccTeW75YcPPL/dvSfi9zSpdb25+IRO/O8KWMymGYy4NtPx3ZEe6NGlYomz48sNsPXuNtl4OrH6uOxrLWrebVJ1Xa3aDF0IIIcoyINCD0D8TEt+GNjx1T5MqqddWY8kX/w7hsRAfANr7OvHr8/eUSH6Ky773WBDOtlacvJrJZ1vOVUkMwnykBagU0gIkhBA1S/z1XN7beIZx9zQhxO/2G7BWhKIoXLyei6+zDZbqO7cLFLdGWaggckK3O24GK+4+aQESQghRpzRuZMv8kR2rPPmBotWpm7jYlZn8AAxs58nD7b3QK/DiD0e5mS8butZWkgAJIYQQJnjjoUA8HKyJS83h3Q2nzR2OqCBJgIQQQggTONpaMffxIACW7bnE76eS71j+WlYeer2MNqlpJAESQgghTNSjuSujw/wAmLTiCMcvZ5QooygKH/52ls7v/E7vD7bx5Y7zpOfm3+1QxW3IIOhSyCBoIYQQZckv1DNu6QF2xabiaq9l9XPd8HG2BYqSn9nrT7NoZ5zRNVpLCx4K9mJ0N38CvR1Lq1ZUgqwDVEmSAAkhhCiPzFsFDFu4hzNJWTR3a0DkhG7Yay15/ZeTfLPnEgD/N6g19taWLNt9iVOJmYZru/g3ZNw9TejXxh21bLFRJSQBqiRJgIQQQpTX1fSbPPLfP0jOzCMsoBF+jWxZcSABlQpmP9KOEV0aA0WtQofjb/DNnkusO5ZI4Z/jgho3tGVMN3/CmjbCVqPGRqPGTmOJjZVa9h4zkSRAlSQJkBBCCFOcvJrBsIV7yPlzWryFCuY+Fsyjfy6y+E/Jmbf4Zs9Flu+LJz23oNQyDbSWTH2gJf/q6odKJYlQeUgCVEmSAAkhhDDV9phrjFt6AIB5w9szONirzGtu5uv46fBlVhyIJykjj9z8Qm4W6Pj7N/NjIT68/XAg1lZqo2tPJ2ay6WQSj3b0wbehbZXeS20lCVAlSQIkhBCiIs4kZWKhUtHCveKbpSqKwq0CPf/be5F3N5xBr0CQjyML/hWCt5MNxy6n89mWWDb/Of2+Q2MnVk3oJq1ESAJUaZIACSGEqAn+iE1l4neHuZFbQEM7DW29HNh5LhUAlQrUKhWFeoVl47rQq4WrmaM1P9kKQwghhKgDujdz4Zfn76GtlwNpOfnsPJeK2kLF0I7ebJ7SizHd/AGY93sMFW3P0OkVXok8yrSfjtWrBRstzR2AEEIIIW7Px9mWnyZ046PNMeQV6Bh3TxP8GtkB8EyvAL7dd4kj8ensPJdKzwq0Ai3eFccPBy8DENa0EUPae1dp/DWVtAAJIYQQNZy1lZpXB7bmjSGBhuQHwM3empGhRStSV6QVKC41hw9+O2v4+YPfzpJfqK+aoGs4SYCEEEKIWuzZXgFoLS04HJ/OrtjUcl+n1ytMjTxGXqGergENcbXXkpB2k+/2XarGaGsOSYCEEEKIWsy4FeicoRVIURQ2HE9kyOe7mBp5rMQ+ZP/be4n9F9Ow1aiZ+1gwL/RtDsCnW2LJulX62kR1iSRAQgghRC33nz9bgQ5dusGu2FQOXbrBYwv3MGH5YY5ezmDlwQT6fbyD304mAZCQlst7G88AMG1AK3wb2jKsky8BLnak5eSzaMcFc97OXSHT4Esh0+CFEELUNm/8cpIlf1zE0caKjJtFLTg2Vmr+1bUxW86kcP5aDgCDg724lnWLvRfS6NKkISvGdzVsubHheCITlh/GxkrN9ld642Zvbbb7qQiZBi+EEELUMxN6NUVraUHGzQIsVDC8ky/bXu7Na4PasG5SDyb0boqFCn45epW9F9KwtrLg/UeDjPYbeyDQg/a+Ttws0PFp1DnD8fxCPdEJ6UQnpJvhzqqHtACVQlqAhBBC1EZrj15lz/lUxnRrQkuPkqtRH01I5+XIo8QkZ/P64DaM6d6kRJm9F67zxJd7UVuo+HdXP45fyeD4lQzD7LAv/h1C/7Ye1X4vFSErQVeSJEBCCCHqqgKdnsT0WzRudPv9w8YtPcCWMylGx7SWFuQV6nGz17I5oheONlbVHarJTPn+loUQhRBCiHrESm1xx+QH4I2H2qK2UOHuoKVjY2c6NHbG09GagZ/s5EJqDnPWn+bdR4PuUsTVQ1qASiEtQEIIIURJ++PSGPbFHgCWPx1K92YuRudv5OSzL+46XQMa4WSruevxySBoIYQQQlS5Lk0a8u+uRWsOTV91nNz8QsO5zaeS6ffxdv7z7WG6vBPFc8sPseVMMoW6mrmytLQAlUJagIQQQojSZd0qoP/HO7iacYun72nCpL7NefOXU0QeKtpPzF5rSVbeX4mRq72W4Z18Gd8zoNrHDdW6FqD58+fj7++PtbU1oaGh7N+//7Zlly5dikqlMnpZWxuvU5Cdnc3EiRPx8fHBxsaGNm3asHDhwuq+DSGEEKLOs7e24p1H2gGw+I847v9oB5GHLqNSwbM9Azjwf31ZN+kexnVvQkM7Ddey8vh8ayy9525l8a64GrPXmNkToJUrVxIREcGsWbM4fPgwwcHB9O/fn5SUlNte4+DgQGJiouF16ZLxviURERFs3LiRb7/9ltOnT/PCCy8wceJE1q5dW923I4QQQtR597Zy45EO3ugVSMq8ReOGtvzwbBjTB7bG2kpNWy9HZg5uw97pffjvyI40c2vAjdwC3vz1FP0+3s66Y4kmb9xa1czeBRYaGkrnzp35/PPPAdDr9fj6+vL8888zbdq0EuWXLl3KCy+8QHp6+m3rDAwMZPjw4cyYMcNwLCQkhAEDBvD222+XGZN0gQkhhBB3diMnn5cjj+HXyJaIfi2w095+YnmhTs8PBy/z0eYYUrPzAOjR3IVvxnVBpVLd9jpT1ZousPz8fA4dOkTfvn0NxywsLOjbty979uy57XXZ2dn4+fnh6+vLkCFDOHnypNH5bt26sXbtWq5cuYKiKGzdupWYmBjuv//+arsXIYQQoj5xttPw1ehOzHiwzR2THwBLtQVPhjZm+8u9mdynOTZWaroGNKrS5MdUZl0HKDU1FZ1Oh7u7u9Fxd3d3zpw5U+o1LVu2ZPHixQQFBZGRkcEHH3xAt27dOHnyJD4+PgB89tlnPPPMM/j4+GBpaYmFhQWLFi2iZ8+epdaZl5dHXl6e4efMzMwqukMhhBBCFLPTWjKlXwtGhjbG3tq8CynWuoUQw8LCCAsLM/zcrVs3WrduzRdffMFbb70FFCVAe/fuZe3atfj5+bFjxw7Cw8Px8vIyam0qNmfOHN544427dg9CCCFEfebmYP5NVs2aALm4uKBWq0lOTjY6npycjIdH+fYZsbKyokOHDsTGxgJw8+ZNXn31VVavXs2gQYMACAoKIjo6mg8++KDUBGj69OlEREQYfs7MzMTX17eityWEEEKIGs6sY4A0Gg0hISFERUUZjun1eqKiooxaee5Ep9Nx/PhxPD09ASgoKKCgoAALC+NbU6vV6PWlT73TarU4ODgYvYQQQghRd5m9CywiIoLRo0fTqVMnunTpwrx588jJyWHs2LEAjBo1Cm9vb+bMmQPAm2++SdeuXWnWrBnp6enMnTuXS5cu8fTTTwNFU+R79erFyy+/jI2NDX5+fmzfvp1vvvmGjz76yGz3KYQQQoiaw+wJ0PDhw7l27RozZ84kKSmJ9u3bs3HjRsPA6Pj4eKPWnBs3bjB+/HiSkpJwdnYmJCSE3bt306ZNG0OZFStWMH36dEaOHElaWhp+fn688847/Oc//7nr9yeEEEKImsfs6wDVRLIOkBBCCFH71Jp1gIQQQgghzEESICGEEELUO5IACSGEEKLekQRICCGEEPWOJEBCCCGEqHckARJCCCFEvSMJkBBCCCHqHUmAhBBCCFHvmH0l6JqoeG3IzMxMM0cihBBCiPIq/t4uzxrPkgCVIisrC0B2hBdCCCFqoaysLBwdHe9YRrbCKIVer+fq1avY29ujUqkqXE9mZia+vr4kJCRU+ZYaUrfULXVL3VK31C11G1MUhaysLLy8vIz2ES2NtACVwsLCAh8fnyqrz8HBodr2FJO6pW6pW+qWuqVuqfsvZbX8FJNB0EIIIYSodyQBEkIIIUS9IwlQNdJqtcyaNQutVit1S91St9QtdUvdUrcZ6r4dGQQthBBCiHpHWoCEEEIIUe9IAiSEEEKIekcSICGEEELUO5IACSGEEKLekQSoGs2fPx9/f3+sra0JDQ1l//79la7z9ddfR6VSGb1atWpVobp27NjB4MGD8fLyQqVS8fPPPxudVxSFmTNn4unpiY2NDX379uXcuXNVUveYMWNK3McDDzxQZr1z5syhc+fO2Nvb4+bmxsMPP8zZs2eNyty6dYvw8HAaNWpEgwYNePTRR0lOTq6Sunv37l0i7v/85z9l1r1gwQKCgoIMi3yFhYWxYcOGSsdcnrorGnNp3n33XVQqFS+88EKVxF5W3RWNvazPSWViLqvuyj7vK1eu8K9//YtGjRphY2NDu3btOHjwoOF8ZT6XZdVd0c8lgL+/f4lrVSoV4eHhQOWeeVl1V/SZ63Q6ZsyYQZMmTbCxsaFp06a89dZbRvtIVfR5l6fuyjzvrKwsXnjhBfz8/LCxsaFbt24cOHCg0nGXp25T4q6K75m0tDRGjhyJg4MDTk5OPPXUU2RnZ5frXu5IEdVixYoVikajURYvXqycPHlSGT9+vOLk5KQkJydXqt5Zs2Ypbdu2VRITEw2va9euVaiu9evXK6+99pqyatUqBVBWr15tdP7dd99VHB0dlZ9//lk5evSo8tBDDylNmjRRbt68Wem6R48erTzwwANG95GWllZmvf3791eWLFminDhxQomOjlYGDhyoNG7cWMnOzjaU+c9//qP4+voqUVFRysGDB5WuXbsq3bp1q5K6e/XqpYwfP94o7oyMjDLrXrt2rbJu3TolJiZGOXv2rPLqq68qVlZWyokTJyoVc3nqrmjM/7R//37F399fCQoKUiZPnmw4XpnYy6q7orGX9TmpTMxl1V2Z552Wlqb4+fkpY8aMUfbt26dcuHBB2bRpkxIbG2soU9HPZXnqrujnUlEUJSUlxei6zZs3K4CydetWRVEq98zLqruiz/ydd95RGjVqpPz6669KXFyc8uOPPyoNGjRQPvnkE0OZij7v8tRdmec9bNgwpU2bNsr27duVc+fOKbNmzVIcHByUy5cvVyru8tRtStxV8T3zwAMPKMHBwcrevXuVnTt3Ks2aNVNGjBhRrud0J5IAVZMuXboo4eHhhp91Op3i5eWlzJkzp1L1zpo1SwkODq5kdCX98y+mXq9XPDw8lLlz5xqOpaenK1qtVvn+++8rVbeiFH2AhgwZUomIi6SkpCiAsn37dkOMVlZWyo8//mgoc/r0aQVQ9uzZU6m6FaXof7R//4KuDGdnZ+Wrr76q0pj/WbeiVE3MWVlZSvPmzZXNmzcb1VcVsd+u7srEfqfPSWVjLuszWJnnPXXqVOWee+657fnKfC7LqltRqu5zqSiKMnnyZKVp06aKXq+v8r/jf69bUSr+zAcNGqSMGzfO6NjQoUOVkSNHKopSueddVt2KUvHnnZubq6jVauXXX381Ot6xY0fltddeq1TcZdVdmbgr8j1z6tQpBVAOHDhgKLNhwwZFpVIpV65cMTmGv5MusGqQn5/PoUOH6Nu3r+GYhYUFffv2Zc+ePZWu/9y5c3h5eREQEMDIkSOJj4+vdJ3/FBcXR1JSktE9ODo6EhoaWiX3ALBt2zbc3Nxo2bIlEyZM4Pr16ybXkZGRAUDDhg0BOHToEAUFBUZxt2rVisaNG5sc9z/rLrZ8+XJcXFwIDAxk+vTp5ObmmlSvTqdjxYoV5OTkEBYWVqUx/7Puqoo5PDycQYMGGcUIVfO8b1d3ZWO/3eekKmIu6zNY0ZjXrl1Lp06dePzxx3Fzc6NDhw4sWrTIcL4yn8uy6i5WFZ/L/Px8vv32W8aNG4dKparSv+P/rLtYRZ55t27diIqKIiYmBoCjR4+ya9cuBgwYAFTueZdVd7GKPO/CwkJ0Oh3W1tZGx21sbNi1a1el4i6r7srE/U/liXPPnj04OTnRqVMnQ5m+fftiYWHBvn37TH7Pv5PNUKtBamoqOp0Od3d3o+Pu7u6cOXOmUnWHhoaydOlSWrZsSWJiIm+88QY9evTgxIkT2NvbV6ruv0tKSgIo9R6Kz1XGAw88wNChQ2nSpAnnz5/n1VdfZcCAAezZswe1Wl2uOvR6PS+88ALdu3cnMDDQELdGo8HJyalScZdWN8CTTz6Jn58fXl5eHDt2jKlTp3L27FlWrVpVZp3Hjx8nLCyMW7du0aBBA1avXk2bNm2Ijo6udMy3q7uyMQOsWLGCw4cPG40BKFbZ532nuisT+50+J5WNuazPYGWe94ULF1iwYAERERG8+uqrHDhwgEmTJqHRaBg9enSlPpdl1Q1V87kE+Pnnn0lPT2fMmDFA1X0uS6sbKv73ZNq0aWRmZtKqVSvUajU6nY533nmHkSNHGuIujtPUuMuqGyr+vO3t7QkLC+Ott96idevWuLu78/3337Nnzx6aNWtWqbjLqrsycf9TeeJMSkrCzc3N6LylpSUNGzas9HeRJEC1zN//9RAUFERoaCh+fn788MMPPPXUU2aMzDRPPPGE4c/t2rUjKCiIpk2bsm3bNvr06VOuOsLDwzlx4oTRv0qqyu3qfuaZZwx/bteuHZ6envTp04fz58/TtGnTO9bZsmVLoqOjycjIIDIyktGjR7N9+/Yqifd2dbdp06ZSMSckJDB58mQ2b95c4l+ElVWeuisa+50+JzY2NpWKu6zPYGWet16vp1OnTsyePRuADh06cOLECRYuXGhIUiqqPHVXxecS4Ouvv2bAgAF4eXlVKuby1l3RZ/7DDz+wfPlyvvvuO9q2bUt0dDQvvPACXl5elX7e5am7Ms/7f//7H+PGjcPb2xu1Wk3Hjh0ZMWIEhw4dqlTc5am7qv6emJt0gVUDFxcX1Gp1iRkOycnJeHh4VOl7OTk50aJFC2JjY6u03uI478Y9AAQEBODi4lLu+5g4cSK//vorW7duxcfHx3Dcw8OD/Px80tPTjcqbEvft6i5NaGgoQLni1mg0NGvWjJCQEObMmUNwcDCffPJJlcR8u7orG/OhQ4dISUmhY8eOWFpaYmlpyfbt2/n000+xtLTE3d29wrGXVbdOp6tU7H/3989JVTzv29VdGlNi9vT0NLTcFWvdurWhi60yn8uy6i6NqZ9LgEuXLvH777/z9NNPG45V1TMvre7SlPeZv/zyy0ybNo0nnniCdu3a8e9//5spU6YwZ84cQ9zFcZoad1l1l8aU5920aVO2b99OdnY2CQkJ7N+/n4KCAgICAir9/+871V3ZuP+uPHF6eHiQkpJidL6wsJC0tLRKfxdJAlQNNBoNISEhREVFGY7p9XqioqKMxmVUhezsbM6fP4+np2eV1tukSRM8PDyM7iEzM5N9+/ZV+T0AXL58mevXr5d5H4qiMHHiRFavXs2WLVto0qSJ0fmQkBCsrKyM4j579izx8fFlxl1W3aWJjo4GqNDz1+v15OXlVSrmsuqubMx9+vTh+PHjREdHG16dOnVi5MiRhj9XNPay6i6tKb2iz/vvn5Oqft5lfQZNibl79+4lll6IiYnBz88PqNznsqy6S1Pez+XfLVmyBDc3NwYNGmQ4VlXPvLS6S1PeZ56bm4uFhfHXoFqtRq/XA5V73mXVXZqKPG87Ozs8PT25ceMGmzZtYsiQIVX2/+/S6q6quKF8zzcsLIz09HSjlq0tW7ag1+sNiW6FVWoItbitFStWKFqtVlm6dKly6tQp5ZlnnlGcnJyUpKSkStX74osvKtu2bVPi4uKUP/74Q+nbt6/i4uKipKSkmFxXVlaWcuTIEeXIkSMKoHz00UfKkSNHlEuXLimKUjQ90cnJSVmzZo1y7NgxZciQIeWeRnmnurOyspSXXnpJ2bNnjxIXF6f8/vvvSseOHZXmzZsrt27dumO9EyZMUBwdHZVt27YZTcHMzc01lPnPf/6jNG7cWNmyZYty8OBBJSwsTAkLCysz5rLqjo2NVd58803l4MGDSlxcnLJmzRolICBA6dmzZ5l1T5s2Tdm+fbsSFxenHDt2TJk2bZqiUqmU3377rVIxl1V3ZWK+nX/OuKlM7HequzKxl/U5qUzMd6q7ss97//79iqWlpfLOO+8o586dU5YvX67Y2toq3377raFMRT+XZdVdmc9lMZ1OpzRu3FiZOnVqiXOV/Xtyu7or88xHjx6teHt7G6aqr1q1SnFxcVFeeeUVQ5mKPu+y6q7s8964caOyYcMG5cKFC8pvv/2mBAcHK6GhoUp+fn6l4i6rblPjrorvmQceeEDp0KGDsm/fPmXXrl1K8+bNZRp8TffZZ58pjRs3VjQajdKlSxdl7969la5z+PDhiqenp6LRaBRvb29l+PDhRut4mGLr1q0KUOI1evRoRVGKpijOmDFDcXd3V7RardKnTx/l7Nmzla47NzdXuf/++xVXV1fFyspK8fPzU8aPH1+u5LC0OgFlyZIlhjI3b95UnnvuOcXZ2VmxtbVVHnnkESUxMbHSdcfHxys9e/ZUGjZsqGi1WqVZs2bKyy+/XK71RsaNG6f4+fkpGo1GcXV1Vfr06WNIfioTc1l1Vybm2/lnAlSZ2O9Ud2ViL+tzUpmY71R3VTzvX375RQkMDFS0Wq3SqlUr5csvvzQ6X5nP5Z3qrsznstimTZsUoNR4Kvv35HZ1V+aZZ2ZmKpMnT1YaN26sWFtbKwEBAcprr72m5OXlGcpU9HmXVXdln/fKlSuVgIAARaPRKB4eHkp4eLiSnp5e6bjLqtvUuKvie+b69evKiBEjlAYNGigODg7K2LFjlaysrHLdy52oFOVvy1IKIYQQQtQDMgZICCGEEPWOJEBCCCGEqHckARJCCCFEvSMJkBBCCCHqHUmAhBBCCFHvSAIkhBBCiHpHEiAhhBBC1DuSAAkhqs3FixdRqVSGrQlKs23bNlQqVYl9okzVu3dvXnjhBZOuef3112nfvn2l3re6VdXzEUIYkwRIiDouKSmJ559/noCAALRaLb6+vgwePNho/52qMGbMGB5++GGjY76+viQmJhIYGFil71VTDB48mAceeKDUczt37kSlUnHs2LFKvUe3bt1ITEzE0dGxUvUIIYxZmjsAIUT1uXjxIt27d8fJyYm5c+fSrl07CgoK2LRpE+Hh4Zw5c6Za31+tVld6x+aa7KmnnuLRRx/l8uXL+Pj4GJ1bsmQJnTp1Iuj/27v/mKjrPw7gz8PdnQcfyNC8DrrM7gTR8aO2MnLkyhyuWPyRw9lQmLelIuq0Ibra+kFmxcRFo7W0O1KDkJ3p3CyV/IWwoJGnqQeHxzHnYLkum0Kkjnt+/2B+vn1E+fH12yru9dg+f3ze79fn/X7f57Mdr/F+3T4pKfc0h8FgGNP3UIi/i/wHSIgxrKCgADqdDs3NzXj55ZeRkJCAmTNnYt26dfj+++/VuLKyMiQnJyMqKgpWqxUFBQXo6elR+ysrKzFhwgQcPHgQSUlJUBQF8+fPR3d3N4CBraQvvvgC+/btg06ng06nw7Fjx+64BXbgwAEkJCTAZDLh2WefRWdnp2bNwWAQixYtQnx8PCIjI5GcnIzq6mpNTG9vL5YsWQJFUWCxWLBly5YR3Y/3338fZrMZ0dHRcDgc+OOPPwbFbN++HUlJSRg/fjymT5+OTz755K7jZWVl4YEHHkBlZaWmvaenB7W1tXA4HACAkydPIiMjAyaTCVarFatXr0Zvb68af/36dRQXF8NqtcJoNMJut+Pzzz8HMHgLbLhnAQChUAjvvPMOHnroIRiNRqSlpeHbb79V+2/cuIHCwkJYLBaMHz8eU6ZMwebNm0d0D4UYM+75bWJCiH+kYDBInU7H9957b9jYrVu38siRIwwEAvzuu++YmJjIFStWqP0ul4t6vZ7PP/88f/jhB7a0tDApKYmvvPIKyYE3Pufk5HD+/Pns7u5md3c3r1+/zkAgQAA8deoUyYEXVxqNRq5bt46tra3ctWsXzWYzAfDKlSskyUuXLrG0tJSnTp2i3+9neXk5x40bx6amJnU9K1as4MMPP8y6ujqeOXOGWVlZjI6O1ryk9XY1NTU0Go3cvn07W1tb+frrrzM6OpqpqalqzK5du2ixWOh2u9nR0UG3283Y2FhWVlbeddyioiLabDaGQiG1zel00mQy8bfffuOFCxcYFRXFrVu30ufzsaGhgY899hjz8/PV+JycHFqtVu7Zs4d+v591dXX86quvSP73ZZK37s9wz4Iky8rKGBMTw+rqara2tnL9+vXU6/X0+XwkydLSUlqtVp44cYKdnZ2sr69nVVXVXT+jEGORJEBCjFFNTU0EwD179oz62traWk6cOFE9d7lcBKB5o3pFRQXNZrN6npeXx+zsbM04tydAGzdu5IwZMzQxxcXFmj/wd/Liiy/ytddeIzmQbBkMBu7evVvtDwaDNJlMQyZA6enpLCgo0LTNmjVLkwDZbLZBiUBJSQnT09PvOq7X6yUAHj16VG3LyMhgbm4uSdLhcPDVV1/VXFNfX8+IiAj29fWxra2NAHj48OE7jn+nBGi4ZxEXF8dNmzZpxnniiSfUz79q1So+99xzmqRNiHAjW2BCjFEkRxxbV1eHuXPnIj4+HtHR0Vi8eDGCwSB+//13NSYyMhI2m009t1gsuHz58qjW5PV6MWvWLE1benq65ry/vx8lJSVITk5GbGwsFEXBwYMHcfHiRQCA3+/HjRs3NOPExsYiMTHxnubu7e2F3++Hw+GAoijq8e6778Lv99913OnTp+Ppp5+G0+kEAFy4cAH19fXq9tfp06dRWVmpGTMzMxOhUAiBQAAejwfjxo3DnDlzhlz/nw31LK5evYquri7Mnj1bc83s2bPh9XoBDBSsezweJCYmYvXq1Th06NCI5xZirJAESIgxatq0adDpdMMWOnd2diIrKwspKSlwu91oaWlBRUUFgIFakVv0er3mOp1ON6oka6RKS0vx0Ucfobi4GEePHoXH40FmZqZmLX+FWzVP27Ztg8fjUY+zZ89q6qXuxOFwwO1249q1a3C5XLDZbGpC09PTg2XLlmnGPH36NNrb22Gz2WAymUa91nt9Fo8//jgCgQBKSkrQ19eHnJwcLFiwYNTrEOLfTBIgIcao2NhYZGZmoqKiQlNwe8utotqWlhaEQiFs2bIFTz31FBISEtDV1TXq+QwGA/r7+4eMSUpKQnNzs6bt9uSioaEB2dnZyM3NRWpqKh599FH4fD6132azQa/Xo6mpSW27cuWKJuZuc//5mtvnNpvNiIuLQ0dHB+x2u+aYOnXqkGPn5OQgIiICVVVV2LFjB5YuXQqdTgdgINk4f/78oDHtdjsMBgOSk5MRCoVw/PjxIecYqZiYGMTFxaGhoUHT3tDQgBkzZmjiFi5ciG3btqGmpgZutxu//vrr/2UNQvwbSAIkxBhWUVGB/v5+PPnkk3C73Whvb4fX60V5ebm6/WO323Hz5k18/PHH6OjowM6dO/Hpp5+Oeq5HHnkEZ86cQVtbG3755RfcvHlzUMzy5cvR3t6OoqIitLW1oaqqatAvqKZNm4bDhw+jsbERXq8Xy5Ytw88//6z2K4oCh8OBoqIiHDlyBGfPnkV+fj4iIob+OluzZg2cTidcLhd8Ph/efPNNnDt3ThPz9ttvY/PmzSgvL4fP58NPP/0El8uFsrKyIcdWFAULFy7Exo0b0d3djfz8fLWvuLgYjY2NKCwshMfjQXt7O/bt24fCwkL1vuXl5WHp0qXYu3cvAoEAjh07ht27dw8551CKiorwwQcfoKamBm1tbdiwYQM8Hg/WrFkDYOBXf9XV1WhtbYXP50NtbS0efPBBTJgw4X+eU4h/nb+5BkkI8Rfr6uriypUrOWXKFBoMBsbHx/Oll17SFO2WlZXRYrHQZDIxMzOTO3bsGFR4e99992nG/frrr/nnr5DLly9z3rx5VBRFLQq+vQiaJPfv30+73U6j0ciMjAw6nU7NXMFgkNnZ2VQUhZMnT+Ybb7zBJUuWaAqsr127xtzcXEZGRtJsNvPDDz/knDlzhiyCJslNmzZx0qRJVBSFeXl5XL9+vaYImiS//PJLpqWl0WAw8P777+czzzwzokLyxsZGAuALL7wwqK+5uVm9N1FRUUxJSdEUKff19XHt2rW0WCw0GAy02+10Op0k71wEPdyz6O/v51tvvcX4+Hjq9Xqmpqbym2++Ufs/++wzpqWlMSoqijExMZw7dy5//PHHYT+jEGOJjvwLNvGFEEIIIf7BZAtMCCGEEGFHEiAhhBBChB1JgIQQQggRdiQBEkIIIUTYkQRICCGEEGFHEiAhhBBChB1JgIQQQggRdiQBEkIIIUTYkQRICCGEEGFHEiAhhBBChB1JgIQQQggRdiQBEkIIIUTY+Q8WoPPJWJ4g3wAAAA5lWElmTU0AKgAAAAgAAAAAAAAA0lOTAAAAAElFTkSuQmCC)"
      ]
    },
    {
      "cell_type": "markdown",
      "metadata": {
        "id": "QIsGA85yKh8A"
      },
      "source": [
        "## Optimización de Hiperparámetros"
      ]
    },
    {
      "cell_type": "markdown",
      "metadata": {
        "id": "1MUp3w1iKh8A"
      },
      "source": [
        "Buscamos optimizar hiperparámetros para llevar nuestra predicción para mejorar el piso de 0.65 obtenido sin optimización. En primer lugar, vamos a ver las distancias que admite cada algoritmo."
      ]
    },
    {
      "cell_type": "code",
      "execution_count": null,
      "metadata": {
        "id": "HVtuxaJfKh8A",
        "outputId": "bdeadc77-af01-4dce-9c91-503a1d6a2428"
      },
      "outputs": [
        {
          "name": "stdout",
          "output_type": "stream",
          "text": [
            "algoritmo: ball_tree\n",
            "['euclidean', 'l2', 'minkowski', 'p', 'manhattan', 'cityblock', 'l1', 'chebyshev', 'infinity', 'seuclidean', 'mahalanobis', 'wminkowski', 'hamming', 'canberra', 'braycurtis', 'matching', 'jaccard', 'dice', 'kulsinski', 'rogerstanimoto', 'russellrao', 'sokalmichener', 'sokalsneath', 'haversine', 'pyfunc']\n",
            "\n",
            "algoritmo: kd_tree\n",
            "['euclidean', 'l2', 'minkowski', 'p', 'manhattan', 'cityblock', 'l1', 'chebyshev', 'infinity']\n",
            "\n",
            "algoritmo: brute\n",
            "['cityblock', 'cosine', 'euclidean', 'haversine', 'l2', 'l1', 'manhattan', 'precomputed', 'nan_euclidean', 'braycurtis', 'canberra', 'chebyshev', 'correlation', 'cosine', 'dice', 'hamming', 'jaccard', 'kulsinski', 'mahalanobis', 'matching', 'minkowski', 'rogerstanimoto', 'russellrao', 'seuclidean', 'sokalmichener', 'sokalsneath', 'sqeuclidean', 'yule', 'wminkowski']\n",
            "\n"
          ]
        }
      ],
      "source": [
        "from sklearn.metrics.pairwise import PAIRWISE_DISTANCE_FUNCTIONS\n",
        "from sklearn.neighbors import BallTree\n",
        "from sklearn.neighbors import KDTree\n",
        "\n",
        "#Métricas Válidas\n",
        "VALID_METRICS = dict(\n",
        "    ball_tree=BallTree.valid_metrics,\n",
        "    kd_tree=KDTree.valid_metrics,\n",
        "    # The following list comes from the sklearn.metrics.pairwise doc string\n",
        "    brute=list(PAIRWISE_DISTANCE_FUNCTIONS.keys())\n",
        "    + [ 'braycurtis','canberra','chebyshev','correlation',\n",
        "        'cosine','dice','hamming','jaccard','kulsinski',\n",
        "        'mahalanobis','matching','minkowski','rogerstanimoto',\n",
        "        'russellrao','seuclidean','sokalmichener','sokalsneath',\n",
        "        'sqeuclidean','yule','wminkowski',\n",
        "    ],\n",
        ")\n",
        "\n",
        "#Ejemplo\n",
        "for alg in VALID_METRICS:\n",
        "    print(f'algoritmo: {alg}')\n",
        "    print(VALID_METRICS[alg])\n",
        "    print()"
      ]
    },
    {
      "cell_type": "markdown",
      "metadata": {
        "id": "8exjLy5AKh8B"
      },
      "source": [
        "### Primera iteración (3 algoritmos, 3 métricas comunes)"
      ]
    },
    {
      "cell_type": "markdown",
      "metadata": {
        "id": "B_P-BnF8Kh8B"
      },
      "source": [
        "Vamos a hacer una primera iteración de optimización de hiperparámetros, optimizando accuracy. Dejamos fijo el rango de k vecinos por el motivo anteriormente enunciado. Vamos a hacer 10 iteraciones de random search para los 3 algoritmos posibles y con 3 métricas comunes a todos ellos."
      ]
    },
    {
      "cell_type": "code",
      "execution_count": null,
      "metadata": {
        "id": "nzz6p_gnKh8B",
        "outputId": "b555845f-a163-4165-c6f0-00ad19d41bba"
      },
      "outputs": [
        {
          "data": {
            "text/plain": [
              "array([0.68916548, 0.71435965, 0.72254928, 0.65348926, 0.65334219,\n",
              "       0.72121874, 0.71405619, 0.72247072, 0.70920104, 0.70927133])"
            ]
          },
          "execution_count": 12,
          "metadata": {},
          "output_type": "execute_result"
        }
      ],
      "source": [
        "from sklearn.model_selection import RandomizedSearchCV\n",
        "\n",
        "#Grilla de Parámetros\n",
        "params_grid={ 'n_neighbors':range(5, 11), # rango para k de 5 a 10\n",
        "              'weights':['distance','uniform'],\n",
        "              'algorithm':['ball_tree', 'kd_tree', 'brute'],\n",
        "              'metric':['euclidean','manhattan','chebyshev']\n",
        "             }\n",
        "\n",
        "#Clasificador KNN\n",
        "knn=KNeighborsClassifier()\n",
        "\n",
        "#Random Search con 10 Folds y 10 iteraciones\n",
        "rand = RandomizedSearchCV(knn, params_grid, cv=10, scoring='f1', n_iter=10, random_state=5)\n",
        "\n",
        "rand.fit(x_train, y_train)\n",
        "rand.cv_results_['mean_test_score']"
      ]
    },
    {
      "cell_type": "code",
      "execution_count": null,
      "metadata": {
        "id": "KZMWgDYAKh8B",
        "outputId": "9f028476-e359-4deb-827a-ef42cc7938f5"
      },
      "outputs": [
        {
          "name": "stdout",
          "output_type": "stream",
          "text": [
            "{'weights': 'distance', 'n_neighbors': 9, 'metric': 'manhattan', 'algorithm': 'ball_tree'}\n",
            "0.7225492828275932\n"
          ]
        }
      ],
      "source": [
        "#Mejores hiperparametros\n",
        "print(rand.best_params_)\n",
        "#Mejor métrica\n",
        "print(rand.best_score_)"
      ]
    },
    {
      "cell_type": "markdown",
      "metadata": {
        "id": "QeVZw5ssKh8C"
      },
      "source": [
        "Obtuvimos un nuevo piso de 0.73 con 9 vecinos, ponderando distancias y utilizando el algoritmo de ball tree midiendo distancias con Manhattan. En particular, vemos que todas las métricas rondan 0.73. "
      ]
    },
    {
      "cell_type": "code",
      "execution_count": null,
      "metadata": {
        "id": "ylTgWioAKh8C",
        "outputId": "0484773f-fb8f-40b7-e166-28a585d74608"
      },
      "outputs": [
        {
          "data": {
            "text/plain": [
              "0.7308458515048727"
            ]
          },
          "execution_count": 14,
          "metadata": {},
          "output_type": "execute_result"
        }
      ],
      "source": [
        "#Mejor estimador\n",
        "best_knn=rand.best_estimator_\n",
        "\n",
        "#Predicción con mejor estimador\n",
        "y_pred=best_knn.predict(x_test)\n",
        "\n",
        "#Accuracy test\n",
        "accuracy_score(y_test,y_pred)"
      ]
    },
    {
      "cell_type": "code",
      "execution_count": null,
      "metadata": {
        "id": "EKWArgdlKh8C",
        "outputId": "ff64ee3a-1fae-4ae8-8ca8-48735cf25963"
      },
      "outputs": [
        {
          "name": "stdout",
          "output_type": "stream",
          "text": [
            "Accuracy: 0.7308458515048727\n",
            "Recall: 0.7372574109618255\n",
            "Precision: 0.7317176420785269\n",
            "f1 score: 0.7344770807882296\n"
          ]
        }
      ],
      "source": [
        "from sklearn.metrics import accuracy_score, recall_score, precision_score, f1_score\n",
        "\n",
        "# Obtener el mejor modelo ajustado por GridSearchCV\n",
        "best_model = rand.best_estimator_\n",
        "\n",
        "# Realizar predicciones sobre los datos de prueba\n",
        "y_pred = best_model.predict(x_test)\n",
        "\n",
        "# Calcular las métricas de evaluación\n",
        "accuracy = accuracy_score(y_test, y_pred)\n",
        "recall = recall_score(y_test, y_pred)\n",
        "precision = precision_score(y_test, y_pred)\n",
        "f1 = f1_score(y_test, y_pred)\n",
        "\n",
        "# Imprimir las métricas de evaluación\n",
        "print(\"Accuracy:\", accuracy)\n",
        "print(\"Recall:\", recall)\n",
        "print(\"Precision:\", precision)\n",
        "print(\"f1 score:\", f1)\n"
      ]
    },
    {
      "cell_type": "code",
      "execution_count": null,
      "metadata": {
        "id": "1tmfSnCPKh8D",
        "outputId": "d9fa8899-f64a-4a63-9bdf-7566b2b0de8c"
      },
      "outputs": [
        {
          "name": "stdout",
          "output_type": "stream",
          "text": [
            "              precision    recall  f1-score   support\n",
            "\n",
            "           0       0.73      0.72      0.73      9195\n",
            "           1       0.73      0.74      0.73      9378\n",
            "\n",
            "    accuracy                           0.73     18573\n",
            "   macro avg       0.73      0.73      0.73     18573\n",
            "weighted avg       0.73      0.73      0.73     18573\n",
            "\n"
          ]
        },
        {
          "data": {
            "text/plain": [
              "Text(50.722222222222214, 0.5, 'True')"
            ]
          },
          "execution_count": 16,
          "metadata": {},
          "output_type": "execute_result"
        },
        {
          "data": {
            "image/png": "[encoded data removed]",
            "text/plain": [
              "<Figure size 640x480 with 2 Axes>"
            ]
          },
          "metadata": {},
          "output_type": "display_data"
        }
      ],
      "source": [
        "from sklearn.metrics import confusion_matrix,classification_report\n",
        "\n",
        "#Reporte de Clasificación\n",
        "print(classification_report(y_test,y_pred))\n",
        "\n",
        "#Matriz de Confusión\n",
        "cm = confusion_matrix(y_test,y_pred)\n",
        "sns.heatmap(cm, cmap='Blues',annot=True,fmt='g')\n",
        "plt.xlabel('Predicted')\n",
        "plt.ylabel('True')"
      ]
    },
    {
      "cell_type": "markdown",
      "metadata": {
        "id": "4VwmCei4Kh8D"
      },
      "source": [
        "### Segunda iteración (algoritmo kd tree, 5 de sus métricas posibles)"
      ]
    },
    {
      "cell_type": "markdown",
      "metadata": {
        "id": "ykYxdSZaKh8D"
      },
      "source": [
        "Ahora vamos a probar una iteración para optimizar hiperparámetros con kd tree y algunas de sus métricas."
      ]
    },
    {
      "cell_type": "code",
      "execution_count": null,
      "metadata": {
        "id": "4tBg4U3HKh8D",
        "outputId": "f8b9f5cc-88dc-4d23-f099-6042eb15b75f"
      },
      "outputs": [
        {
          "data": {
            "text/plain": [
              "array([0.71389885, 0.71389885, 0.6465093 , 0.65822085, 0.6465093 ,\n",
              "       0.71426292, 0.6465093 , 0.71490918, 0.68945861, 0.714982  ])"
            ]
          },
          "execution_count": 17,
          "metadata": {},
          "output_type": "execute_result"
        }
      ],
      "source": [
        "from sklearn.model_selection import RandomizedSearchCV\n",
        "\n",
        "#Grilla de Parámetros\n",
        "params_grid={ 'n_neighbors':range(5, 11), # rango para k de 5 a 10\n",
        "              'weights':['distance','uniform'],\n",
        "              'algorithm':['kd_tree'],\n",
        "              'metric':['euclidean', 'l2', 'minkowski', 'p', 'manhattan']\n",
        "             }\n",
        "\n",
        "#Clasificador KNN\n",
        "knn=KNeighborsClassifier()\n",
        "\n",
        "#Random Search con 10 Folds y 10 iteraciones\n",
        "rand = RandomizedSearchCV(knn, params_grid, cv=10, scoring='f1', n_iter=10, random_state=2)\n",
        "\n",
        "rand.fit(x_train, y_train)\n",
        "rand.cv_results_['mean_test_score']"
      ]
    },
    {
      "cell_type": "code",
      "execution_count": null,
      "metadata": {
        "id": "QpbARU8HKh8D",
        "outputId": "13cf07f8-af06-4349-df23-00138bf4dff4"
      },
      "outputs": [
        {
          "name": "stdout",
          "output_type": "stream",
          "text": [
            "{'weights': 'distance', 'n_neighbors': 9, 'metric': 'minkowski', 'algorithm': 'kd_tree'}\n",
            "0.7149820022237715\n"
          ]
        }
      ],
      "source": [
        "#Mejores hiperparametros\n",
        "print(rand.best_params_)\n",
        "#Mejor métrica\n",
        "print(rand.best_score_)"
      ]
    },
    {
      "cell_type": "markdown",
      "metadata": {
        "id": "Bwevn8b4Kh8E"
      },
      "source": [
        "Obtuvimos como mejores hiperparámetros para el algoritmo kd tree la métrica cityblock y 7 vecinos cercanos. Ha empeorado la métrica respecto de la iteración anterior."
      ]
    },
    {
      "cell_type": "code",
      "execution_count": null,
      "metadata": {
        "id": "DZEj10WyKh8E",
        "outputId": "3f0acab6-6c34-4035-a5ec-a38ac2876101"
      },
      "outputs": [
        {
          "data": {
            "text/plain": [
              "0.7248155925267862"
            ]
          },
          "execution_count": 19,
          "metadata": {},
          "output_type": "execute_result"
        }
      ],
      "source": [
        "#Mejor estimador\n",
        "best_knn=rand.best_estimator_\n",
        "\n",
        "#Predicción con mejor estimador\n",
        "y_pred=best_knn.predict(x_test)\n",
        "\n",
        "#Accuracy test\n",
        "accuracy_score(y_test,y_pred)"
      ]
    },
    {
      "cell_type": "code",
      "execution_count": null,
      "metadata": {
        "id": "skOY_GuOKh8E",
        "outputId": "dec7b1bf-d5a2-4729-c7a4-fd45c9848821"
      },
      "outputs": [
        {
          "name": "stdout",
          "output_type": "stream",
          "text": [
            "Accuracy: 0.7248155925267862\n",
            "Recall: 0.7263808914480699\n",
            "Precision: 0.7280111146735064\n",
            "f1 score: 0.7271950894048572\n"
          ]
        }
      ],
      "source": [
        "from sklearn.metrics import accuracy_score, recall_score, precision_score, f1_score\n",
        "\n",
        "# Obtener el mejor modelo ajustado por GridSearchCV\n",
        "best_model = rand.best_estimator_\n",
        "\n",
        "# Realizar predicciones sobre los datos de prueba\n",
        "y_pred = best_model.predict(x_test)\n",
        "\n",
        "# Calcular las métricas de evaluación\n",
        "accuracy = accuracy_score(y_test, y_pred)\n",
        "recall = recall_score(y_test, y_pred)\n",
        "precision = precision_score(y_test, y_pred)\n",
        "f1 = f1_score(y_test, y_pred)\n",
        "\n",
        "# Imprimir las métricas de evaluación\n",
        "print(\"Accuracy:\", accuracy)\n",
        "print(\"Recall:\", recall)\n",
        "print(\"Precision:\", precision)\n",
        "print(\"f1 score:\", f1)\n"
      ]
    },
    {
      "cell_type": "code",
      "execution_count": null,
      "metadata": {
        "id": "rM4MJcjYKh8F",
        "outputId": "4dc29149-4dd6-40c4-9c27-93b1371cf4e1"
      },
      "outputs": [
        {
          "name": "stdout",
          "output_type": "stream",
          "text": [
            "              precision    recall  f1-score   support\n",
            "\n",
            "           0       0.72      0.72      0.72      9195\n",
            "           1       0.73      0.73      0.73      9378\n",
            "\n",
            "    accuracy                           0.72     18573\n",
            "   macro avg       0.72      0.72      0.72     18573\n",
            "weighted avg       0.72      0.72      0.72     18573\n",
            "\n"
          ]
        },
        {
          "data": {
            "text/plain": [
              "Text(50.722222222222214, 0.5, 'True')"
            ]
          },
          "execution_count": 21,
          "metadata": {},
          "output_type": "execute_result"
        },
        {
          "data": {
            "image/png": "[encoded data removed]",
            "text/plain": [
              "<Figure size 640x480 with 2 Axes>"
            ]
          },
          "metadata": {},
          "output_type": "display_data"
        }
      ],
      "source": [
        "from sklearn.metrics import confusion_matrix,classification_report\n",
        "\n",
        "#Reporte de Clasificación\n",
        "print(classification_report(y_test,y_pred))\n",
        "\n",
        "#Matriz de Confusión\n",
        "cm = confusion_matrix(y_test,y_pred)\n",
        "sns.heatmap(cm, cmap='Blues',annot=True,fmt='g')\n",
        "plt.xlabel('Predicted')\n",
        "plt.ylabel('True')"
      ]
    },
    {
      "cell_type": "markdown",
      "metadata": {
        "id": "ApAtDM3EKh8F"
      },
      "source": [
        "### Tercera iteración (algoritmo kd tree, 4 de sus métricas posibles)"
      ]
    },
    {
      "cell_type": "markdown",
      "metadata": {
        "id": "XJKBCQj5Kh8F"
      },
      "source": [
        "Probaremos otras métricas para kd tree."
      ]
    },
    {
      "cell_type": "code",
      "execution_count": null,
      "metadata": {
        "id": "GeJEjo00Kh8F",
        "outputId": "7381cd94-757b-4321-f491-5d763ff21c04"
      },
      "outputs": [
        {
          "data": {
            "text/plain": [
              "array([0.65353962, 0.72265064, 0.70927133, 0.72357285, 0.64507575,\n",
              "       0.64842131, 0.71018172, 0.68945861, 0.72211018, 0.72265064])"
            ]
          },
          "execution_count": 22,
          "metadata": {},
          "output_type": "execute_result"
        }
      ],
      "source": [
        "from sklearn.model_selection import RandomizedSearchCV\n",
        "\n",
        "#Grilla de Parámetros\n",
        "params_grid={ 'n_neighbors':range(5, 11), # rango para k de 5 a 10\n",
        "              'weights':['distance','uniform'],\n",
        "              'algorithm':['kd_tree'],\n",
        "              'metric':['cityblock', 'l1', 'chebyshev', 'infinity']\n",
        "             }\n",
        "\n",
        "#Clasificador KNN\n",
        "knn=KNeighborsClassifier()\n",
        "\n",
        "#Random Search con 10 Folds y 10 iteraciones\n",
        "rand = RandomizedSearchCV(knn, params_grid, cv=10, scoring='f1', n_iter=10, random_state=2)\n",
        "\n",
        "rand.fit(x_train, y_train)\n",
        "rand.cv_results_['mean_test_score']"
      ]
    },
    {
      "cell_type": "code",
      "execution_count": null,
      "metadata": {
        "id": "ZdxTszByKh8G",
        "outputId": "1f5b3bd2-72d5-4efc-918d-b12884bda833"
      },
      "outputs": [
        {
          "name": "stdout",
          "output_type": "stream",
          "text": [
            "{'weights': 'distance', 'n_neighbors': 7, 'metric': 'l1', 'algorithm': 'kd_tree'}\n",
            "0.7235728478041434\n"
          ]
        }
      ],
      "source": [
        "#Mejores hiperparametros\n",
        "print(rand.best_params_)\n",
        "#Mejor métrica\n",
        "print(rand.best_score_)"
      ]
    },
    {
      "cell_type": "markdown",
      "metadata": {
        "id": "J9D8ea82Kh8G"
      },
      "source": [
        "Logramos un porcentaje de precisión similar al de la primera iteración."
      ]
    },
    {
      "cell_type": "code",
      "execution_count": null,
      "metadata": {
        "id": "_Q7juYkMKh8G",
        "outputId": "75a59e40-0331-41a5-9819-69099a11c799"
      },
      "outputs": [
        {
          "data": {
            "text/plain": [
              "0.7308996931028913"
            ]
          },
          "execution_count": 24,
          "metadata": {},
          "output_type": "execute_result"
        }
      ],
      "source": [
        "#Mejor estimador\n",
        "best_knn=rand.best_estimator_\n",
        "\n",
        "#Predicción con mejor estimador\n",
        "y_pred=best_knn.predict(x_test)\n",
        "\n",
        "#Accuracy test\n",
        "accuracy_score(y_test,y_pred)"
      ]
    },
    {
      "cell_type": "code",
      "execution_count": null,
      "metadata": {
        "id": "Qat52sNhKh8G",
        "outputId": "6b2c6bd9-f625-4024-f983-a15813adf392"
      },
      "outputs": [
        {
          "name": "stdout",
          "output_type": "stream",
          "text": [
            "Accuracy: 0.7308996931028913\n",
            "Recall: 0.7398165920238857\n",
            "Precision: 0.7306234203875316\n",
            "f1 score: 0.7351912684115716\n"
          ]
        }
      ],
      "source": [
        "from sklearn.metrics import accuracy_score, recall_score, precision_score, f1_score\n",
        "\n",
        "# Obtener el mejor modelo ajustado por GridSearchCV\n",
        "best_model = rand.best_estimator_\n",
        "\n",
        "# Realizar predicciones sobre los datos de prueba\n",
        "y_pred = best_model.predict(x_test)\n",
        "\n",
        "# Calcular las métricas de evaluación\n",
        "accuracy = accuracy_score(y_test, y_pred)\n",
        "recall = recall_score(y_test, y_pred)\n",
        "precision = precision_score(y_test, y_pred)\n",
        "f1 = f1_score(y_test, y_pred)\n",
        "\n",
        "# Imprimir las métricas de evaluación\n",
        "print(\"Accuracy:\", accuracy)\n",
        "print(\"Recall:\", recall)\n",
        "print(\"Precision:\", precision)\n",
        "print(\"f1 score:\", f1)\n"
      ]
    },
    {
      "cell_type": "code",
      "execution_count": null,
      "metadata": {
        "id": "zdyZVJySKh8H",
        "outputId": "6ac9a45e-5f42-432f-aa90-03169f33e435"
      },
      "outputs": [
        {
          "name": "stdout",
          "output_type": "stream",
          "text": [
            "              precision    recall  f1-score   support\n",
            "\n",
            "           0       0.73      0.72      0.73      9195\n",
            "           1       0.73      0.74      0.74      9378\n",
            "\n",
            "    accuracy                           0.73     18573\n",
            "   macro avg       0.73      0.73      0.73     18573\n",
            "weighted avg       0.73      0.73      0.73     18573\n",
            "\n"
          ]
        },
        {
          "data": {
            "text/plain": [
              "Text(50.722222222222214, 0.5, 'True')"
            ]
          },
          "execution_count": 26,
          "metadata": {},
          "output_type": "execute_result"
        },
        {
          "data": {
            "image/png": "[encoded data removed]",
            "text/plain": [
              "<Figure size 640x480 with 2 Axes>"
            ]
          },
          "metadata": {},
          "output_type": "display_data"
        }
      ],
      "source": [
        "from sklearn.metrics import confusion_matrix,classification_report\n",
        "\n",
        "#Reporte de Clasificación\n",
        "print(classification_report(y_test,y_pred))\n",
        "\n",
        "#Matriz de Confusión\n",
        "cm = confusion_matrix(y_test,y_pred)\n",
        "sns.heatmap(cm, cmap='Blues',annot=True,fmt='g')\n",
        "plt.xlabel('Predicted')\n",
        "plt.ylabel('True')"
      ]
    },
    {
      "cell_type": "markdown",
      "metadata": {
        "id": "62dBOhu5Kh8H"
      },
      "source": [
        "### Cuarta iteración (algoritmo ball tree, 7 de sus métricas posibles)"
      ]
    },
    {
      "cell_type": "markdown",
      "metadata": {
        "id": "-rNfsLShKh8H"
      },
      "source": [
        "Ahora vamos a hacer otras iteraciones para optimizar hiperparámetros, esta vez con ball tree y 7 de sus métricas posibles."
      ]
    },
    {
      "cell_type": "code",
      "execution_count": null,
      "metadata": {
        "id": "R1smg8dQKh8H",
        "outputId": "2b9b9a58-13d3-4e50-efd9-227252b4c393"
      },
      "outputs": [
        {
          "data": {
            "text/plain": [
              "array([0.64659074, 0.71390196, 0.6695554 , 0.71496422, 0.70925882,\n",
              "       0.65348926, 0.71339727, 0.67371556, 0.64825007, 0.72216862])"
            ]
          },
          "execution_count": 27,
          "metadata": {},
          "output_type": "execute_result"
        }
      ],
      "source": [
        "from sklearn.model_selection import RandomizedSearchCV\n",
        "\n",
        "#Grilla de Parámetros\n",
        "params_grid={ 'n_neighbors':range(5, 11), # rango para k de 5 a 10\n",
        "              'weights':['distance','uniform'],\n",
        "              'algorithm':['ball_tree'],\n",
        "              'metric':['euclidean', 'minkowski', 'p', 'manhattan', 'cityblock', 'l1', 'infinity']\n",
        "             }\n",
        "\n",
        "#Clasificador KNN\n",
        "knn=KNeighborsClassifier()\n",
        "\n",
        "#Random Search con 10 Folds y 10 iteraciones\n",
        "rand = RandomizedSearchCV(knn, params_grid, cv=10, scoring='f1', n_iter=10, random_state=2)\n",
        "\n",
        "rand.fit(x_train, y_train)\n",
        "rand.cv_results_['mean_test_score']"
      ]
    },
    {
      "cell_type": "code",
      "execution_count": null,
      "metadata": {
        "id": "fXin4LgpKh8H",
        "outputId": "6796c815-ef29-44a1-b560-e1726601202e"
      },
      "outputs": [
        {
          "name": "stdout",
          "output_type": "stream",
          "text": [
            "{'weights': 'distance', 'n_neighbors': 6, 'metric': 'l1', 'algorithm': 'ball_tree'}\n",
            "0.7221686199905626\n"
          ]
        }
      ],
      "source": [
        "#Mejores hiperparametros\n",
        "print(rand.best_params_)\n",
        "#Mejor métrica\n",
        "print(rand.best_score_)"
      ]
    },
    {
      "cell_type": "markdown",
      "metadata": {
        "id": "dOiUOhCsKh8I"
      },
      "source": [
        "La precisión sigue siendo similar al de iteraciones anteriores, 73%."
      ]
    },
    {
      "cell_type": "code",
      "execution_count": null,
      "metadata": {
        "id": "jkN25AzdKh8I",
        "outputId": "dc4a3350-4e18-45c3-baac-305b1e765170"
      },
      "outputs": [
        {
          "data": {
            "text/plain": [
              "0.730792009906854"
            ]
          },
          "execution_count": 29,
          "metadata": {},
          "output_type": "execute_result"
        }
      ],
      "source": [
        "#Mejor estimador\n",
        "best_knn=rand.best_estimator_\n",
        "\n",
        "#Predicción con mejor estimador\n",
        "y_pred=best_knn.predict(x_test)\n",
        "\n",
        "#Accuracy test\n",
        "accuracy_score(y_test,y_pred)"
      ]
    },
    {
      "cell_type": "code",
      "execution_count": null,
      "metadata": {
        "id": "tWWhO4t1Kh8I",
        "outputId": "866be920-f13b-4c42-c447-b9082a386906"
      },
      "outputs": [
        {
          "name": "stdout",
          "output_type": "stream",
          "text": [
            "Accuracy: 0.730792009906854\n",
            "Recall: 0.7413094476434208\n",
            "Precision: 0.7297921478060047\n",
            "f1 score: 0.7355057130765976\n"
          ]
        }
      ],
      "source": [
        "from sklearn.metrics import accuracy_score, recall_score, precision_score, f1_score\n",
        "\n",
        "# Obtener el mejor modelo ajustado por GridSearchCV\n",
        "best_model = rand.best_estimator_\n",
        "\n",
        "# Realizar predicciones sobre los datos de prueba\n",
        "y_pred = best_model.predict(x_test)\n",
        "\n",
        "# Calcular las métricas de evaluación\n",
        "accuracy = accuracy_score(y_test, y_pred)\n",
        "recall = recall_score(y_test, y_pred)\n",
        "precision = precision_score(y_test, y_pred)\n",
        "f1 = f1_score(y_test, y_pred)\n",
        "\n",
        "# Imprimir las métricas de evaluación\n",
        "print(\"Accuracy:\", accuracy)\n",
        "print(\"Recall:\", recall)\n",
        "print(\"Precision:\", precision)\n",
        "print(\"f1 score:\", f1)\n"
      ]
    },
    {
      "cell_type": "code",
      "execution_count": null,
      "metadata": {
        "id": "PQX5gegPKh8I",
        "outputId": "077b31f2-a011-4cb1-bfb3-9466ea533f0c"
      },
      "outputs": [
        {
          "name": "stdout",
          "output_type": "stream",
          "text": [
            "              precision    recall  f1-score   support\n",
            "\n",
            "           0       0.73      0.72      0.73      9195\n",
            "           1       0.73      0.74      0.74      9378\n",
            "\n",
            "    accuracy                           0.73     18573\n",
            "   macro avg       0.73      0.73      0.73     18573\n",
            "weighted avg       0.73      0.73      0.73     18573\n",
            "\n"
          ]
        },
        {
          "data": {
            "text/plain": [
              "Text(50.722222222222214, 0.5, 'True')"
            ]
          },
          "execution_count": 31,
          "metadata": {},
          "output_type": "execute_result"
        },
        {
          "data": {
            "image/png": "[encoded data removed]",
            "text/plain": [
              "<Figure size 640x480 with 2 Axes>"
            ]
          },
          "metadata": {},
          "output_type": "display_data"
        }
      ],
      "source": [
        "from sklearn.metrics import confusion_matrix,classification_report\n",
        "\n",
        "#Reporte de Clasificación\n",
        "print(classification_report(y_test,y_pred))\n",
        "\n",
        "#Matriz de Confusión\n",
        "cm = confusion_matrix(y_test,y_pred)\n",
        "sns.heatmap(cm, cmap='Blues',annot=True,fmt='g')\n",
        "plt.xlabel('Predicted')\n",
        "plt.ylabel('True')"
      ]
    },
    {
      "cell_type": "markdown",
      "metadata": {
        "id": "AJGEV477Kh8I"
      },
      "source": [
        "### Quinta iteración (algoritmo ball tree, 4 de sus métricas posibles)"
      ]
    },
    {
      "cell_type": "markdown",
      "metadata": {
        "id": "TYUkQrFzKh8J"
      },
      "source": [
        "Probaremos optimizar otras métricas para el algoritmo ball tree."
      ]
    },
    {
      "cell_type": "code",
      "execution_count": null,
      "metadata": {
        "id": "gbdB3fP3Kh8J"
      },
      "outputs": [],
      "source": [
        "# from sklearn.model_selection import RandomizedSearchCV\n",
        "\n",
        "# #Grilla de Parámetros\n",
        "# params_grid={ 'n_neighbors':range(5, 11), # rango para k de 5 a 10\n",
        "#               'weights':['distance','uniform'],\n",
        "#               'algorithm':['ball_tree'],\n",
        "#               'metric':['hamming', 'jaccard', 'chebyshev', 'l1']\n",
        "#              }\n",
        "\n",
        "# #Clasificador KNN\n",
        "# knn=KNeighborsClassifier()\n",
        "\n",
        "# #Random Search con 10 Folds y 10 iteraciones\n",
        "# rand = RandomizedSearchCV(knn, params_grid, cv=10, scoring='f1', n_iter=10, random_state=2)\n",
        "\n",
        "# rand.fit(x_train, y_train)\n",
        "# rand.cv_results_['mean_test_score']"
      ]
    },
    {
      "cell_type": "code",
      "execution_count": null,
      "metadata": {
        "id": "YGc1oKNXKh8J",
        "outputId": "6a009295-4ea3-4650-8c73-59bdeaeccfbd"
      },
      "outputs": [
        {
          "name": "stdout",
          "output_type": "stream",
          "text": [
            "{'weights': 'distance', 'n_neighbors': 5, 'metric': 'hamming', 'algorithm': 'ball_tree'}\n",
            "0.7929459769269663\n"
          ]
        }
      ],
      "source": [
        "# #Mejores hiperparametros\n",
        "# print(rand.best_params_)\n",
        "# #Mejor métrica\n",
        "# print(rand.best_score_)"
      ]
    },
    {
      "cell_type": "code",
      "execution_count": null,
      "metadata": {
        "id": "Yb7xDRTGKh8J"
      },
      "outputs": [],
      "source": [
        "#Mejor estimador\n",
        "best_knn=rand.best_estimator_\n",
        "\n",
        "#Predicción con mejor estimador\n",
        "y_pred=best_knn.predict(x_test)\n",
        "\n",
        "#Accuracy test\n",
        "accuracy_score(y_test,y_pred)"
      ]
    },
    {
      "cell_type": "code",
      "execution_count": null,
      "metadata": {
        "id": "HFCsegzZKh8J",
        "outputId": "e5dd9383-04ae-4b4c-838f-8f69b1ff6857"
      },
      "outputs": [
        {
          "name": "stdout",
          "output_type": "stream",
          "text": [
            "Accuracy: 0.7308996931028913\n",
            "Recall: 0.7398165920238857\n",
            "Precision: 0.7306234203875316\n",
            "f1 score: 0.7351912684115716\n"
          ]
        }
      ],
      "source": [
        "# from sklearn.metrics import accuracy_score, recall_score, precision_score, f1_score\n",
        "\n",
        "# # Obtener el mejor modelo ajustado por GridSearchCV\n",
        "# best_model = rand.best_estimator_\n",
        "\n",
        "# # Realizar predicciones sobre los datos de prueba\n",
        "# y_pred = best_model.predict(x_test)\n",
        "\n",
        "# # Calcular las métricas de evaluación\n",
        "# accuracy = accuracy_score(y_test, y_pred)\n",
        "# recall = recall_score(y_test, y_pred)\n",
        "# precision = precision_score(y_test, y_pred)\n",
        "# f1 = f1_score(y_test, y_pred)\n",
        "\n",
        "# # Imprimir las métricas de evaluación\n",
        "# print(\"Accuracy:\", accuracy)\n",
        "# print(\"Recall:\", recall)\n",
        "# print(\"Precision:\", precision)\n",
        "# print(\"f1 score:\", f1)\n"
      ]
    },
    {
      "cell_type": "code",
      "execution_count": null,
      "metadata": {
        "id": "l3UGVTrZKh8K",
        "outputId": "05265a21-2ee4-4d76-edde-e8b0e084fe06"
      },
      "outputs": [
        {
          "name": "stdout",
          "output_type": "stream",
          "text": [
            "              precision    recall  f1-score   support\n",
            "\n",
            "           0       0.73      0.72      0.73      9195\n",
            "           1       0.73      0.74      0.74      9378\n",
            "\n",
            "    accuracy                           0.73     18573\n",
            "   macro avg       0.73      0.73      0.73     18573\n",
            "weighted avg       0.73      0.73      0.73     18573\n",
            "\n"
          ]
        },
        {
          "data": {
            "text/plain": [
              "Text(50.722222222222214, 0.5, 'True')"
            ]
          },
          "metadata": {},
          "output_type": "display_data"
        },
        {
          "data": {
            "image/png": "[encoded data removed]",
            "text/plain": [
              "<Figure size 640x480 with 2 Axes>"
            ]
          },
          "metadata": {},
          "output_type": "display_data"
        }
      ],
      "source": [
        "# from sklearn.metrics import confusion_matrix,classification_report\n",
        "\n",
        "# #Reporte de Clasificación\n",
        "# print(classification_report(y_test,y_pred))\n",
        "\n",
        "# #Matriz de Confusión\n",
        "# cm = confusion_matrix(y_test,y_pred)\n",
        "# sns.heatmap(cm, cmap='Blues',annot=True,fmt='g')\n",
        "# plt.xlabel('Predicted')\n",
        "# plt.ylabel('True')"
      ]
    },
    {
      "cell_type": "markdown",
      "metadata": {
        "id": "8r2OUU5aKh8K"
      },
      "source": [
        "Nota: esta quinta iteración tardó cerca de 40min en ejecutarse, por este motivo vamos a dejar comentado el random search y vamos a generar el clasificador y mostrar las métricas con los hiperparámetros optimizados. Obtuvimos, como mejores hiperparámetros, distancias ponderadas, 5 vecinos cercanos, métrica de hamming y algoritmo de ball tree. Logramos un 79% de precisión."
      ]
    },
    {
      "cell_type": "code",
      "execution_count": null,
      "metadata": {
        "id": "6ZWz2cNHKh8K",
        "outputId": "cb025b49-7f3d-4ac1-adc4-c49c858881b2"
      },
      "outputs": [
        {
          "name": "stdout",
          "output_type": "stream",
          "text": [
            "correctas:  14821\n",
            "total:  18573\n"
          ]
        },
        {
          "data": {
            "text/plain": [
              "0.7979863242341033"
            ]
          },
          "metadata": {},
          "output_type": "display_data"
        }
      ],
      "source": [
        "knn=KNeighborsClassifier(weights=\"distance\", n_neighbors=5, metric=\"hamming\", algorithm=\"ball_tree\")\n",
        "knn.get_params()\n",
        "knn.fit(x_train, y_train)\n",
        "y_pred = knn.predict(x_test)\n",
        "#Cantidad de aciertos\n",
        "print('correctas: ', np.sum(y_test == y_pred))\n",
        "print('total: ', len(y_test))\n",
        "accuracy_score(y_test,y_pred)\n"
      ]
    },
    {
      "cell_type": "code",
      "execution_count": null,
      "metadata": {
        "id": "MjzVZtiNKh8K",
        "outputId": "bea4d8f1-87e2-4b2c-c8f5-0c00178cf7da"
      },
      "outputs": [
        {
          "name": "stdout",
          "output_type": "stream",
          "text": [
            "Accuracy: 0.7979863242341033\n",
            "Recall: 0.8037961185753892\n",
            "Precision: 0.7976719576719576\n",
            "f1 score: 0.800722328446994\n"
          ]
        }
      ],
      "source": [
        "# Calcular las métricas de evaluación\n",
        "accuracy = accuracy_score(y_test, y_pred)\n",
        "recall = recall_score(y_test, y_pred)\n",
        "precision = precision_score(y_test, y_pred)\n",
        "f1 = f1_score(y_test, y_pred)\n",
        "\n",
        "# Imprimir las métricas de evaluación\n",
        "print(\"Accuracy:\", accuracy)\n",
        "print(\"Recall:\", recall)\n",
        "print(\"Precision:\", precision)\n",
        "print(\"f1 score:\", f1)"
      ]
    },
    {
      "cell_type": "code",
      "execution_count": null,
      "metadata": {
        "id": "btGHnm8tKh8L",
        "outputId": "02138653-c0ba-4a15-9ffe-335c13438e42"
      },
      "outputs": [
        {
          "name": "stdout",
          "output_type": "stream",
          "text": [
            "              precision    recall  f1-score   support\n",
            "\n",
            "           0       0.80      0.79      0.80      9195\n",
            "           1       0.80      0.80      0.80      9378\n",
            "\n",
            "    accuracy                           0.80     18573\n",
            "   macro avg       0.80      0.80      0.80     18573\n",
            "weighted avg       0.80      0.80      0.80     18573\n",
            "\n"
          ]
        },
        {
          "data": {
            "text/plain": [
              "Text(50.722222222222214, 0.5, 'True')"
            ]
          },
          "metadata": {},
          "output_type": "display_data"
        },
        {
          "data": {
            "image/png": "[encoded data removed]",
            "text/plain": [
              "<Figure size 640x480 with 2 Axes>"
            ]
          },
          "metadata": {},
          "output_type": "display_data"
        }
      ],
      "source": [
        "from sklearn.metrics import confusion_matrix,classification_report\n",
        "\n",
        "#Reporte de Clasificación\n",
        "print(classification_report(y_test,y_pred))\n",
        "\n",
        "#Matriz de Confusión\n",
        "cm = confusion_matrix(y_test,y_pred)\n",
        "sns.heatmap(cm, cmap='Blues',annot=True,fmt='g')\n",
        "plt.xlabel('Predicted')\n",
        "plt.ylabel('True')"
      ]
    },
    {
      "cell_type": "markdown",
      "metadata": {
        "id": "VzeQUYIzKh8L"
      },
      "source": [
        "### Sexta iteración (algoritmo brute)"
      ]
    },
    {
      "cell_type": "markdown",
      "metadata": {
        "id": "Rtv_5-2wKh8L"
      },
      "source": [
        "En esta iteración, probaremos el algoritmo brute con métricas 'cosine', 'haversine', 'canberra', 'chebyshev', 'correlation' para optimizar hiperparámetros."
      ]
    },
    {
      "cell_type": "code",
      "execution_count": null,
      "metadata": {
        "id": "zFHKPDHhKh8L",
        "outputId": "5b985d99-2f17-419e-8c37-9a783d6c6dcb"
      },
      "outputs": [
        {
          "data": {
            "text/plain": [
              "array([0.70917244, 0.52027756, 0.64466751, 0.43588733,        nan,\n",
              "       0.71013009, 0.78295954, 0.80511304, 0.50744157, 0.80860509])"
            ]
          },
          "execution_count": 32,
          "metadata": {},
          "output_type": "execute_result"
        }
      ],
      "source": [
        "from sklearn.model_selection import RandomizedSearchCV\n",
        "\n",
        "#Grilla de Parámetros\n",
        "params_grid={ 'n_neighbors':range(5, 11), # rango para k de 5 a 10\n",
        "              'weights':['distance','uniform'],\n",
        "              'algorithm':['brute'],\n",
        "              'metric':['cosine', 'haversine', 'canberra', 'chebyshev', 'correlation']\n",
        "             }\n",
        "\n",
        "#Clasificador KNN\n",
        "knn=KNeighborsClassifier()\n",
        "\n",
        "#Random Search con 10 Folds y 10 iteraciones\n",
        "rand = RandomizedSearchCV(knn, params_grid, cv=10, scoring='f1', n_iter=10, random_state=2)\n",
        "\n",
        "rand.fit(x_train, y_train)\n",
        "rand.cv_results_['mean_test_score']"
      ]
    },
    {
      "cell_type": "code",
      "execution_count": null,
      "metadata": {
        "id": "jX8nfqXgKh8M",
        "outputId": "eb1ceb36-c61d-4e0f-cc55-a3eab6f3162c"
      },
      "outputs": [
        {
          "name": "stdout",
          "output_type": "stream",
          "text": [
            "{'weights': 'distance', 'n_neighbors': 9, 'metric': 'canberra', 'algorithm': 'brute'}\n",
            "0.8086050881447246\n"
          ]
        }
      ],
      "source": [
        "#Mejores hiperparametros\n",
        "print(rand.best_params_)\n",
        "#Mejor métrica\n",
        "print(rand.best_score_)"
      ]
    },
    {
      "cell_type": "markdown",
      "metadata": {
        "id": "yec1cHjNKh8M"
      },
      "source": [
        "Obtuvimos como mejores hiperparámetros con brute la métrica canberra y 9 vecinos cercanos. Obtuvimos un 81% de precisión, siendo esta la mejor obtenida hasta el momento con KNN."
      ]
    },
    {
      "cell_type": "code",
      "execution_count": null,
      "metadata": {
        "id": "otUUmp35Kh8M",
        "outputId": "45e8d511-11fd-4f93-8073-1887e14dd6e1"
      },
      "outputs": [
        {
          "data": {
            "text/plain": [
              "0.8157540515802509"
            ]
          },
          "execution_count": 34,
          "metadata": {},
          "output_type": "execute_result"
        }
      ],
      "source": [
        "#Mejor estimador\n",
        "best_knn=rand.best_estimator_\n",
        "\n",
        "#Predicción con mejor estimador\n",
        "y_pred=best_knn.predict(x_test)\n",
        "\n",
        "#Accuracy test\n",
        "accuracy_score(y_test,y_pred)"
      ]
    },
    {
      "cell_type": "code",
      "execution_count": null,
      "metadata": {
        "id": "J82PBWMoKh8M",
        "outputId": "fc0369fe-0ed0-48e6-83f1-965b9caffd3f"
      },
      "outputs": [
        {
          "name": "stdout",
          "output_type": "stream",
          "text": [
            "Accuracy: 0.8157540515802509\n",
            "Recall: 0.807954787801237\n",
            "Precision: 0.8237660360948033\n",
            "f1 score: 0.8157838070628768\n"
          ]
        }
      ],
      "source": [
        "from sklearn.metrics import accuracy_score, recall_score, precision_score, f1_score\n",
        "\n",
        "# Obtener el mejor modelo ajustado por GridSearchCV\n",
        "best_model = rand.best_estimator_\n",
        "\n",
        "# Realizar predicciones sobre los datos de prueba\n",
        "y_pred = best_model.predict(x_test)\n",
        "\n",
        "# Calcular las métricas de evaluación\n",
        "accuracy = accuracy_score(y_test, y_pred)\n",
        "recall = recall_score(y_test, y_pred)\n",
        "precision = precision_score(y_test, y_pred)\n",
        "f1 = f1_score(y_test, y_pred)\n",
        "\n",
        "# Imprimir las métricas de evaluación\n",
        "print(\"Accuracy:\", accuracy)\n",
        "print(\"Recall:\", recall)\n",
        "print(\"Precision:\", precision)\n",
        "print(\"f1 score:\", f1)\n"
      ]
    },
    {
      "cell_type": "code",
      "execution_count": null,
      "metadata": {
        "id": "Cigt4joiKh8N",
        "outputId": "8111a5fb-89b8-4527-cc07-6d5d00d041f3"
      },
      "outputs": [
        {
          "name": "stdout",
          "output_type": "stream",
          "text": [
            "              precision    recall  f1-score   support\n",
            "\n",
            "           0       0.81      0.82      0.82      9195\n",
            "           1       0.82      0.81      0.82      9378\n",
            "\n",
            "    accuracy                           0.82     18573\n",
            "   macro avg       0.82      0.82      0.82     18573\n",
            "weighted avg       0.82      0.82      0.82     18573\n",
            "\n"
          ]
        },
        {
          "data": {
            "text/plain": [
              "Text(50.722222222222214, 0.5, 'True')"
            ]
          },
          "execution_count": 36,
          "metadata": {},
          "output_type": "execute_result"
        },
        {
          "data": {
            "image/png": "[encoded data removed]",
            "text/plain": [
              "<Figure size 640x480 with 2 Axes>"
            ]
          },
          "metadata": {},
          "output_type": "display_data"
        }
      ],
      "source": [
        "from sklearn.metrics import confusion_matrix,classification_report\n",
        "\n",
        "#Reporte de Clasificación\n",
        "print(classification_report(y_test,y_pred))\n",
        "\n",
        "#Matriz de Confusión\n",
        "cm = confusion_matrix(y_test,y_pred)\n",
        "sns.heatmap(cm, cmap='Blues',annot=True,fmt='g')\n",
        "plt.xlabel('Predicted')\n",
        "plt.ylabel('True')"
      ]
    },
    {
      "cell_type": "markdown",
      "metadata": {
        "id": "wTvayV8IKh8N"
      },
      "source": [
        "## Análisis de las métricas de los mejores hiperparámetros hallados y generación del modelo para KNN"
      ]
    },
    {
      "cell_type": "markdown",
      "metadata": {
        "id": "Fnx1fP78Kh8N"
      },
      "source": [
        "Dadas las iteraciones mostradas anteriormente, nos quedaremos con la sexta ya que tiene las mejores métricas. A continuación, mostraremos las mismas y su matriz de confusión para hacer un análisis de nuestro clasificador KNN."
      ]
    },
    {
      "cell_type": "code",
      "execution_count": 17,
      "metadata": {
        "colab": {
          "base_uri": "https://localhost:8080/"
        },
        "id": "gqGaZ35bKh8N",
        "outputId": "423a063e-2e3d-4ab6-d14a-a99bbd341b5d"
      },
      "outputs": [
        {
          "name": "stdout",
          "output_type": "stream",
          "text": [
            "correctas: 18492\n",
            "total: 18573\n",
            "Accuracy: 0.9956388305604911\n",
            "Recall: 0.9920025591810621\n",
            "Precision: 0.9993554624556881\n",
            "f1 score: 0.9956654358645047\n"
          ]
        }
      ],
      "source": [
        "from sklearn.metrics import accuracy_score, recall_score, precision_score, f1_score\n",
        "\n",
        "best_knn=KNeighborsClassifier(weights=\"distance\", n_neighbors=9, metric=\"canberra\", algorithm=\"brute\")\n",
        "best_knn.get_params()\n",
        "best_knn.fit(x_train, y_train)\n",
        "y_pred = best_knn.predict(x_test)\n",
        "#Cantidad de aciertos\n",
        "print('correctas:', np.sum(y_test == y_pred))\n",
        "print('total:', len(y_test))\n",
        "# accuracy_score(y_test,y_pred)\n",
        "\n",
        "\n",
        "# Calcular las métricas de evaluación\n",
        "accuracy = accuracy_score(y_test, y_pred)\n",
        "recall = recall_score(y_test, y_pred)\n",
        "precision = precision_score(y_test, y_pred)\n",
        "f1 = f1_score(y_test, y_pred)\n",
        "\n",
        "# Imprimir las métricas de evaluación\n",
        "print(\"Accuracy:\", accuracy)\n",
        "print(\"Recall:\", recall)\n",
        "print(\"Precision:\", precision)\n",
        "print(\"f1 score:\", f1)"
      ]
    },
    {
      "cell_type": "code",
      "execution_count": 29,
      "metadata": {
        "colab": {
          "base_uri": "https://localhost:8080/",
          "height": 623
        },
        "id": "eJlLkNgJKh8N",
        "outputId": "bc36741f-b570-4bb0-b281-6e4dc82df263"
      },
      "outputs": [
        {
          "name": "stdout",
          "output_type": "stream",
          "text": [
            "              precision    recall  f1-score   support\n",
            "\n",
            "           0       0.99      1.00      1.00      9195\n",
            "           1       1.00      0.99      1.00      9378\n",
            "\n",
            "    accuracy                           1.00     18573\n",
            "   macro avg       1.00      1.00      1.00     18573\n",
            "weighted avg       1.00      1.00      1.00     18573\n",
            "\n"
          ]
        },
        {
          "data": {
            "text/plain": [
              "Text(50.722222222222214, 0.5, 'True')"
            ]
          },
          "execution_count": 29,
          "metadata": {},
          "output_type": "execute_result"
        },
        {
          "data": {
            "image/png": "[encoded data removed]",
            "text/plain": [
              "<Figure size 640x480 with 2 Axes>"
            ]
          },
          "metadata": {},
          "output_type": "display_data"
        }
      ],
      "source": [
        "from sklearn.metrics import confusion_matrix,classification_report\n",
        "\n",
        "#Reporte de Clasificación\n",
        "print(classification_report(y_test,y_pred))\n",
        "\n",
        "#Matriz de Confusión\n",
        "cm = confusion_matrix(y_test,y_pred)\n",
        "sns.heatmap(cm, cmap='Blues',annot=True,fmt='g')\n",
        "plt.xlabel('Predicted')\n",
        "plt.ylabel('True')"
      ]
    },
    {
      "cell_type": "markdown",
      "metadata": {
        "id": "yFhewLC7Kh8O"
      },
      "source": [
        "El modelo ha predicho correctamente la cancelación o no-cancelación de la reserva en un 81,57%, dada su accuracy. Además, según el recall obtenido, el modelo identifica correctamente el 80,80% de todas las cancelaciones de reservas en el conjunto de datos. El precision del modelo es del 82,38%, lo que significa que, de todas las predicciones que hizo el modelo de que la reserva sería cancelada, el 82,38% de ellas son realmente cancelaciones. Finalmente, el valor de f1-score es del 81,58%."
      ]
    },
    {
      "cell_type": "markdown",
      "metadata": {
        "id": "b9EKeq3aKh8O"
      },
      "source": [
        "Exportamos el modelo en formato pickle."
      ]
    },
    {
      "cell_type": "code",
      "execution_count": null,
      "metadata": {
        "id": "VI1lwzb2Kh8O"
      },
      "outputs": [],
      "source": [
        "import pickle\n",
        "\n",
        "with open('models/knn/knn_model.pickle', 'wb') as archivo:\n",
        "    pickle.dump(best_knn, archivo)"
      ]
    },
    {
      "cell_type": "markdown",
      "metadata": {
        "id": "zLQnnL4MLyoZ"
      },
      "source": [
        "# Modelo SVM"
      ]
    },
    {
      "cell_type": "markdown",
      "metadata": {
        "id": "TTUP_jh0NSC5"
      },
      "source": [
        "Vamos a normalizar los datos para obtener un conjunto con desviación estándar unitaria para cada característica y obtener una buena predicción"
      ]
    },
    {
      "cell_type": "code",
      "execution_count": 6,
      "metadata": {
        "id": "Fx2Cc-_yL7dR"
      },
      "outputs": [],
      "source": [
        "#Creo un dataset con los features que voy a usar para clasificar\n",
        "ds_trabajo_x=ds_trabajo_encoded.drop(['is_canceled'], axis='columns')\n",
        "\n",
        "#Creo un dataset con la variable target\n",
        "ds_trabajo_y = ds_trabajo_encoded['is_canceled'].copy()\n",
        "\n",
        "#Genero los conjuntos de train y de test\n",
        "x_train, x_test, y_train, y_test = train_test_split(ds_trabajo_x,\n",
        "                                                    ds_trabajo_y, \n",
        "                                                    test_size=0.3,  #proporcion 70/30\n",
        "                                                    random_state=2) #semilla\n",
        "\n",
        "#Armo una version escalada con minmax (media=0 , var=1  )\n",
        "min_max_scaler = preprocessing.MinMaxScaler()\n",
        "x_train_minmax = min_max_scaler.fit_transform(x_train) \n",
        "x_test_minmax  = min_max_scaler.transform(x_test) \n",
        "\n",
        "#Armo una version estandarizada\n",
        "stand_scaler = preprocessing.StandardScaler()\n",
        "x_train_norm = stand_scaler.fit_transform(x_train)\n",
        "x_test_norm=stand_scaler.transform(x_test)"
      ]
    },
    {
      "cell_type": "markdown",
      "metadata": {
        "id": "Y3QXE1NtTyQp"
      },
      "source": [
        "Vamos a probar entrenar un modelo SVM con los datos escalados con normalización y con minmax, y veremos cuál tiene mejores métricas para trabajar con eso."
      ]
    },
    {
      "cell_type": "code",
      "execution_count": 7,
      "metadata": {
        "id": "kOvFf1JCN-K4"
      },
      "outputs": [],
      "source": [
        "#Construyo un modelo SVM  \n",
        "svm_norm= SVC()\n",
        "\n",
        "#Lo entreno con los datos escalados con normalizacion\n",
        "svm_norm.fit(x_train_norm, y_train)\n",
        "\n",
        "#Hago la prediccion y calculo las métricas\n",
        "y_pred_norm=svm_norm.predict(x_test_norm)"
      ]
    },
    {
      "cell_type": "code",
      "execution_count": 8,
      "metadata": {
        "colab": {
          "base_uri": "https://localhost:8080/",
          "height": 692
        },
        "id": "Yl_RvcyhOIoc",
        "outputId": "cee5fb55-fc4e-457c-ca48-fe0ad62595fa"
      },
      "outputs": [
        {
          "name": "stdout",
          "output_type": "stream",
          "text": [
            "              precision    recall  f1-score   support\n",
            "\n",
            "           0       0.77      0.85      0.81      9195\n",
            "           1       0.84      0.76      0.80      9378\n",
            "\n",
            "    accuracy                           0.80     18573\n",
            "   macro avg       0.81      0.80      0.80     18573\n",
            "weighted avg       0.81      0.80      0.80     18573\n",
            "\n",
            "Accuracy: 0.8040704248102084\n",
            "Recall: 0.7570910641927916\n",
            "Precision: 0.8391443091833116\n",
            "f1 score: 0.7960087448848029\n"
          ]
        },
        {
          "data": {
            "text/plain": [
              "Text(50.722222222222214, 0.5, 'True')"
            ]
          },
          "execution_count": 8,
          "metadata": {},
          "output_type": "execute_result"
        },
        {
          "data": {
            "image/png": "[encoded data removed]",
            "text/plain": [
              "<Figure size 640x480 with 2 Axes>"
            ]
          },
          "metadata": {},
          "output_type": "display_data"
        }
      ],
      "source": [
        "print(classification_report(y_test,y_pred_norm))\n",
        "\n",
        "# Calcular las métricas de evaluación\n",
        "accuracy = accuracy_score(y_test, y_pred_norm)\n",
        "recall = recall_score(y_test, y_pred_norm)\n",
        "precision = precision_score(y_test, y_pred_norm)\n",
        "f1 = f1_score(y_test, y_pred_norm)\n",
        "\n",
        "# Imprimir las métricas de evaluación\n",
        "print(\"Accuracy:\", accuracy)\n",
        "print(\"Recall:\", recall)\n",
        "print(\"Precision:\", precision)\n",
        "print(\"f1 score:\", f1)\n",
        "\n",
        "cm = confusion_matrix(y_test,y_pred_norm)\n",
        "sns.heatmap(cm, cmap='Blues',annot=True,fmt='g')\n",
        "plt.xlabel('Predicted')\n",
        "plt.ylabel('True')"
      ]
    },
    {
      "cell_type": "code",
      "execution_count": 9,
      "metadata": {
        "id": "D_7JRIybS1gc"
      },
      "outputs": [],
      "source": [
        "# #Construyo un modelo SVM  \n",
        "# svm_minmax= SVC()\n",
        "\n",
        "# #Lo entreno con los datos escalados con min max\n",
        "# svm_minmax.fit(x_train_minmax, y_train)\n",
        "\n",
        "# #Hago la prediccion y calculo las métricas\n",
        "# y_pred_minmax=svm_minmax.predict(x_test_minmax)"
      ]
    },
    {
      "cell_type": "code",
      "execution_count": 10,
      "metadata": {
        "colab": {
          "base_uri": "https://localhost:8080/",
          "height": 675
        },
        "id": "PVs9yOK6S7bs",
        "outputId": "27546bcb-3601-41c5-b2b5-adc755d7648f"
      },
      "outputs": [
        {
          "name": "stdout",
          "output_type": "stream",
          "text": [
            "              precision    recall  f1-score   support\n",
            "\n",
            "           0       0.74      0.85      0.79      9195\n",
            "           1       0.82      0.71      0.76      9378\n",
            "\n",
            "    accuracy                           0.78     18573\n",
            "   macro avg       0.78      0.78      0.78     18573\n",
            "weighted avg       0.78      0.78      0.78     18573\n",
            "\n",
            "Accuracy: 0.7761804770365585\n",
            "Recall: 0.7070804009383664\n",
            "Precision: 0.8246486755378685\n",
            "f1 score: 0.7613525460703829\n"
          ]
        },
        {
          "data": {
            "image/png": "[encoded data removed]",
            "text/plain": [
              "<Figure size 640x480 with 2 Axes>"
            ]
          },
          "metadata": {},
          "output_type": "display_data"
        }
      ],
      "source": [
        "# mostrar_metricas(y_test, y_pred_minmax)"
      ]
    },
    {
      "cell_type": "markdown",
      "metadata": {
        "id": "BzXNygNOUHLa"
      },
      "source": [
        "La predicción con el escalado normalizado fue mejor que con el minmax, vamos a utilizar entonces los datos normalizados para optimizar hiperparámetros.:"
      ]
    },
    {
      "cell_type": "markdown",
      "metadata": {
        "id": "-TswhwKsUcig"
      },
      "source": [
        "Ahora vamos a aplicar PCA para reducir la dimensionalidad de nuestro problema. "
      ]
    },
    {
      "cell_type": "code",
      "execution_count": 7,
      "metadata": {
        "colab": {
          "base_uri": "https://localhost:8080/",
          "height": 450
        },
        "id": "Chv7Z4aDUrf8",
        "outputId": "816a20a8-9a28-4b7d-9e86-01376272d9c7"
      },
      "outputs": [
        {
          "data": {
            "image/png": "[encoded data removed]",
            "text/plain": [
              "<Figure size 640x480 with 1 Axes>"
            ]
          },
          "metadata": {},
          "output_type": "display_data"
        }
      ],
      "source": [
        "from sklearn.preprocessing import StandardScaler\n",
        "from sklearn.decomposition import PCA\n",
        "\n",
        "# PCA sobre los datos escalados\n",
        "pca = PCA(n_components = None)\n",
        "pca.fit(x_train_norm)\n",
        "\n",
        "#Cantidad de Componentes\n",
        "componentes = len(pca.explained_variance_ratio_) \n",
        "\n",
        "#Grafico la Varianza Explicada \n",
        "plt.plot(range(1,componentes+1), np.cumsum(pca.explained_variance_ratio_ * 100))\n",
        "plt.xlabel(\"Número de componentes\")\n",
        "plt.xticks(range(0,36,2))\n",
        "plt.yticks(range(0,101,10))\n",
        "plt.ylabel(\"Varianza Explicada (%)\")\n",
        "# Agregar una grilla al gráfico\n",
        "plt.grid()\n",
        "plt.show()"
      ]
    },
    {
      "cell_type": "markdown",
      "metadata": {
        "id": "s9OagWFWVsPh"
      },
      "source": [
        "En el gráfico vemos que con los primeros 20 componentes principales se explica casi el 90% de la variabilidad de los datos."
      ]
    },
    {
      "cell_type": "markdown",
      "metadata": {
        "id": "fpZ7XlxgVyxi"
      },
      "source": [
        "Probaremos entrenar una SVM tomando sólo esas primeras 20 componentes."
      ]
    },
    {
      "cell_type": "code",
      "execution_count": 8,
      "metadata": {
        "colab": {
          "base_uri": "https://localhost:8080/",
          "height": 675
        },
        "id": "yXbjjww2V5y_",
        "outputId": "67b1d073-aee0-467b-ad20-59df28976967"
      },
      "outputs": [
        {
          "name": "stdout",
          "output_type": "stream",
          "text": [
            "              precision    recall  f1-score   support\n",
            "\n",
            "           0       0.85      0.76      0.80     10159\n",
            "           1       0.75      0.83      0.79      8414\n",
            "\n",
            "    accuracy                           0.79     18573\n",
            "   macro avg       0.80      0.80      0.79     18573\n",
            "weighted avg       0.80      0.79      0.80     18573\n",
            "\n",
            "Accuracy: 0.7946481451569483\n",
            "Recall: 0.8306394105062991\n",
            "Precision: 0.7452548517807634\n",
            "f1 score: 0.7856339928057553\n"
          ]
        },
        {
          "data": {
            "image/png": "[encoded data removed]",
            "text/plain": [
              "<Figure size 640x480 with 2 Axes>"
            ]
          },
          "metadata": {},
          "output_type": "display_data"
        }
      ],
      "source": [
        "from sklearn.pipeline import Pipeline\n",
        "\n",
        "#Defino el tipo de escalado, la transformacion PCA y el modelo\n",
        "_sc = StandardScaler()\n",
        "_pca = PCA(n_components = 20)\n",
        "_model = SVC()\n",
        "\n",
        "#Creo un pipeline\n",
        "svm_model = Pipeline([\n",
        "    ('std_scaler', _sc),\n",
        "    ('pca', _pca),\n",
        "    ('svm', _model)\n",
        "])\n",
        "\n",
        "#Entreno sobre los datos que serán previamente escalados y transformados\n",
        "svm_model.fit(x_train,y_train)\n",
        "\n",
        "#Hago la predicción y calculo las métricas\n",
        "y_pred_pca=svm_model.predict(x_test)\n",
        "mostrar_metricas(y_pred_pca,y_test)"
      ]
    },
    {
      "cell_type": "markdown",
      "metadata": {
        "id": "y_FB9qJbbJJ_"
      },
      "source": [
        "## SVM con Kernel Lineal"
      ]
    },
    {
      "cell_type": "code",
      "execution_count": 9,
      "metadata": {
        "id": "18nrMCHpmsaQ"
      },
      "outputs": [
        {
          "name": "stdout",
          "output_type": "stream",
          "text": [
            "              precision    recall  f1-score   support\n",
            "\n",
            "           0       0.75      0.74      0.74      9215\n",
            "           1       0.75      0.75      0.75      9358\n",
            "\n",
            "    accuracy                           0.75     18573\n",
            "   macro avg       0.75      0.75      0.75     18573\n",
            "weighted avg       0.75      0.75      0.75     18573\n",
            "\n",
            "Accuracy: 0.7471598557045173\n",
            "Recall: 0.7501602906603975\n",
            "Precision: 0.7485604606525912\n",
            "f1 score: 0.7493595217762595\n"
          ]
        },
        {
          "data": {
            "image/png": "[encoded data removed]",
            "text/plain": [
              "<Figure size 640x480 with 2 Axes>"
            ]
          },
          "metadata": {},
          "output_type": "display_data"
        }
      ],
      "source": [
        "from sklearn.pipeline import Pipeline\n",
        "from sklearn.preprocessing import StandardScaler, MinMaxScaler\n",
        "from sklearn.decomposition import PCA\n",
        "from sklearn.svm import SVC\n",
        "\n",
        "#Defino el tipo de escalado y la transformacion PCA\n",
        "_sc = StandardScaler()\n",
        "_pca = PCA(n_components = 20)\n",
        "\n",
        "#Creo un pipeline con escalado y reducción de dimensionalidad\n",
        "pca_pipe = Pipeline([\n",
        "    ('std_scaler', _sc),\n",
        "    ('pca', _pca)\n",
        "])\n",
        "\n",
        "#Aplico el pipeline a los datos de entrenamiento\n",
        "x_train_pca = pca_pipe.fit_transform(x_train_norm)\n",
        "\n",
        "#Creo un clasificador con kernel lineal y lo entreno sobre los datos escalados min-max\n",
        "clf = SVC(kernel='linear', C=8)\n",
        "\n",
        "#Entreno el clasificador con los datos de entrenamiento reducidos de dimensionalidad\n",
        "clf.fit(x_train_pca, y_train)\n",
        "\n",
        "#Aplico el pipeline a los datos de prueba\n",
        "x_test_pca = pca_pipe.transform(x_test_norm)\n",
        "\n",
        "#Hago la predicción y calculo las métricas\n",
        "y_pred_lin_pca = clf.predict(x_test_pca)\n",
        "mostrar_metricas(y_pred_lin_pca, y_test)\n"
      ]
    },
    {
      "cell_type": "markdown",
      "metadata": {},
      "source": [
        "## SVM con Kernel Radial"
      ]
    },
    {
      "cell_type": "code",
      "execution_count": 10,
      "metadata": {},
      "outputs": [
        {
          "name": "stdout",
          "output_type": "stream",
          "text": [
            "              precision    recall  f1-score   support\n",
            "\n",
            "           0       0.88      0.73      0.80     11139\n",
            "           1       0.68      0.85      0.76      7434\n",
            "\n",
            "    accuracy                           0.78     18573\n",
            "   macro avg       0.78      0.79      0.78     18573\n",
            "weighted avg       0.80      0.78      0.78     18573\n",
            "\n",
            "Accuracy: 0.778280299359285\n",
            "Recall: 0.8537799300511165\n",
            "Precision: 0.6767967583706547\n",
            "f1 score: 0.7550559124434928\n"
          ]
        },
        {
          "data": {
            "image/png": "[encoded data removed]",
            "text/plain": [
              "<Figure size 640x480 with 2 Axes>"
            ]
          },
          "metadata": {},
          "output_type": "display_data"
        }
      ],
      "source": [
        "from sklearn.pipeline import Pipeline\n",
        "from sklearn.preprocessing import StandardScaler, MinMaxScaler\n",
        "from sklearn.decomposition import PCA\n",
        "from sklearn.svm import SVC\n",
        "\n",
        "#Defino el tipo de escalado y la transformacion PCA\n",
        "_sc = StandardScaler()\n",
        "_pca = PCA(n_components = 20)\n",
        "\n",
        "#Creo un pipeline con escalado y reducción de dimensionalidad\n",
        "pca_pipe = Pipeline([\n",
        "    ('std_scaler', _sc),\n",
        "    ('pca', _pca)\n",
        "])\n",
        "\n",
        "#Aplico el pipeline a los datos de entrenamiento\n",
        "x_train_pca = pca_pipe.fit_transform(x_train_norm)\n",
        "\n",
        "clf = SVC(kernel='rbf', C=7, gamma=10)\n",
        "\n",
        "#Entreno el clasificador con los datos de entrenamiento reducidos de dimensionalidad\n",
        "clf.fit(x_train_pca, y_train)\n",
        "\n",
        "#Aplico el pipeline a los datos de prueba\n",
        "x_test_pca = pca_pipe.transform(x_test_norm)\n",
        "\n",
        "#Hago la predicción y calculo las métricas\n",
        "y_pred_lin_pca = clf.predict(x_test_pca)\n",
        "mostrar_metricas(y_pred_lin_pca, y_test)\n"
      ]
    },
    {
      "cell_type": "code",
      "execution_count": null,
      "metadata": {},
      "outputs": [],
      "source": [
        "from sklearn.pipeline import Pipeline\n",
        "from sklearn.preprocessing import StandardScaler, MinMaxScaler\n",
        "from sklearn.decomposition import PCA\n",
        "from sklearn.svm import SVC\n",
        "\n",
        "#Defino el tipo de escalado y la transformacion PCA\n",
        "_sc = StandardScaler()\n",
        "_pca = PCA(n_components = 20)\n",
        "\n",
        "#Creo un pipeline con escalado y reducción de dimensionalidad\n",
        "pca_pipe = Pipeline([\n",
        "    ('std_scaler', _sc),\n",
        "    ('pca', _pca)\n",
        "])\n",
        "\n",
        "#Aplico el pipeline a los datos de entrenamiento\n",
        "x_train_pca = pca_pipe.fit_transform(x_train_norm)\n",
        "\n",
        "clf = SVC(kernel='rbf', C=8, gamma=16)\n",
        "\n",
        "#Entreno el clasificador con los datos de entrenamiento reducidos de dimensionalidad\n",
        "clf.fit(x_train_pca, y_train)\n",
        "\n",
        "#Aplico el pipeline a los datos de prueba\n",
        "x_test_pca = pca_pipe.transform(x_test_norm)\n",
        "\n",
        "#Hago la predicción y calculo las métricas\n",
        "y_pred_lin_pca = clf.predict(x_test_pca)\n",
        "mostrar_metricas(y_pred_lin_pca, y_test)\n"
      ]
    },
    {
      "cell_type": "markdown",
      "metadata": {},
      "source": [
        "# Modelo RF"
      ]
    },
    {
      "cell_type": "markdown",
      "metadata": {},
      "source": [
        "Nota CB: creeria que esta de mas hacer la separacion train test en cada apartado de modelos, no me rompe porque corro de a uno... lo pruebo en otro momento"
      ]
    },
    {
      "cell_type": "markdown",
      "metadata": {},
      "source": [
        "Nota 2 CB: lo estuve corriendo en colab todo el día, por una cuestión de tiempos subo esto a git sin correr para que tengan los últimos cambios. Igualmente las métricas logradas están por encima de 80% para todas ellas, los mejores hiperparámetros que fui consiguiendo los tengo separados para generar el modelo si no llego a conseguir mejores."
      ]
    },
    {
      "cell_type": "code",
      "execution_count": null,
      "metadata": {},
      "outputs": [],
      "source": [
        "#Creo un dataset con los features que voy a usar para clasificar\n",
        "ds_trabajo_x=ds_trabajo_encoded.drop(['is_canceled'], axis='columns')\n",
        "\n",
        "#Creo un dataset con la variable target\n",
        "ds_trabajo_y = ds_trabajo_encoded['is_canceled'].copy()\n",
        "\n",
        "#Genero los conjuntos de train y de test\n",
        "x_train, x_test, y_train, y_test = train_test_split(ds_trabajo_x,\n",
        "                                                    ds_trabajo_y, \n",
        "                                                    test_size=0.3,  #proporcion 70/30\n",
        "                                                    random_state=2) #semilla"
      ]
    },
    {
      "cell_type": "markdown",
      "metadata": {},
      "source": [
        "Hacemos una primera predicción con la implementación default de RandomForest para establecer un piso de métricas"
      ]
    },
    {
      "cell_type": "code",
      "execution_count": null,
      "metadata": {},
      "outputs": [],
      "source": [
        "rfc = RandomForestClassifier()\n",
        "#Entrenamos el modelo\n",
        "model = rfc.fit(X = x_train, y = y_train)\n",
        "#Predicción sobre test\n",
        "y_pred = rfc.predict(x_test)"
      ]
    },
    {
      "cell_type": "markdown",
      "metadata": {},
      "source": [
        "mostrar_metricas(y_test, y_pred)"
      ]
    },
    {
      "cell_type": "markdown",
      "metadata": {},
      "source": [
        "Obtenemos unas buenas métricas con RF por default. Observando la importancia de características, vemos que el modelo considera importantes `lead_time`, `arrival_date` y `adr` principalmente."
      ]
    },
    {
      "cell_type": "code",
      "execution_count": null,
      "metadata": {},
      "outputs": [],
      "source": [
        "sorted(list(zip(ds_trabajo_x.columns.to_list(), model.feature_importances_)), key=lambda x: -x[1])"
      ]
    },
    {
      "cell_type": "markdown",
      "metadata": {},
      "source": [
        "Ahora vamos a optimizar hiperparámetros intentando mejorar el F1 score."
      ]
    },
    {
      "cell_type": "code",
      "execution_count": null,
      "metadata": {},
      "outputs": [],
      "source": [
        "rf_cv = RandomForestClassifier(max_features='auto', oob_score=True, random_state=1, n_jobs=-1)\n",
        "\n",
        "param_grid = { \"criterion\" : [\"gini\", \"entropy\"], \n",
        "               \"min_samples_leaf\" : range(1,15,2), \n",
        "               \"min_samples_split\" : range(2,21,2), \n",
        "               \"n_estimators\": [10,20,50,80] }\n",
        "\n",
        "#Probamos entrenando sólo con 1 métrica\n",
        "gs = GridSearchCV(estimator=rf_cv, param_grid=param_grid, scoring=\"f1\", cv=5, n_jobs=-1)\n",
        "gs_fit = gs.fit(X = x_train, y = y_train)\n",
        "\n",
        "gs_fit.best_params_"
      ]
    },
    {
      "cell_type": "code",
      "execution_count": null,
      "metadata": {},
      "outputs": [],
      "source": [
        "#Obtenemos el mejor modelo\n",
        "rf_cv_best=gs_fit.best_estimator_\n",
        "\n",
        "#Predicción\n",
        "y_pred = rf_cv_best.predict(x_test)"
      ]
    },
    {
      "cell_type": "markdown",
      "metadata": {},
      "source": [
        "Analizamos las métricas"
      ]
    },
    {
      "cell_type": "code",
      "execution_count": null,
      "metadata": {},
      "outputs": [],
      "source": [
        "mostrar_metricas(y_test, y_pred)"
      ]
    },
    {
      "cell_type": "markdown",
      "metadata": {},
      "source": [
        "Probamos optimización multi métrica"
      ]
    },
    {
      "cell_type": "code",
      "execution_count": null,
      "metadata": {},
      "outputs": [],
      "source": [
        "rf_cv = RandomForestClassifier(max_features='auto', oob_score=True, random_state=1, n_jobs=-1)\n",
        "\n",
        "param_grid = { \"criterion\" : [\"gini\", \"entropy\"], \n",
        "               \"min_samples_leaf\" : [1, 5, 10], \n",
        "               \"min_samples_split\" : [2, 4, 10, 12, 16], \n",
        "               \"n_estimators\": [10,20, 50, 80] }\n",
        "\n",
        "#Probamos entrenando con varias métricas\n",
        "\n",
        "metricas=['accuracy','f1','roc_auc'] #'recall','precision'\n",
        "\n",
        "gs_multimetrica = GridSearchCV(estimator=rf_cv, \n",
        "                               param_grid=param_grid, \n",
        "                               scoring=metricas, \n",
        "                               refit=False, \n",
        "                               cv=5, \n",
        "                               n_jobs=-1)\n",
        "#Entrenamiento\n",
        "gs_multimetrica_fit = gs_multimetrica.fit(X = x_train, y = y_train)"
      ]
    },
    {
      "cell_type": "markdown",
      "metadata": {},
      "source": [
        "Y graficamos los resultados"
      ]
    },
    {
      "cell_type": "code",
      "execution_count": null,
      "metadata": {},
      "outputs": [],
      "source": [
        "labels=[ key for key in gs_multimetrica_fit.cv_results_.keys() if(\"mean_test\" in key)]\n",
        "\n",
        "for k in labels:\n",
        "    plt.plot(gs_multimetrica_fit.cv_results_[k],linestyle='--' , linewidth=0.8,marker='o',markersize=2)     \n",
        "    x_linea=np.argmax(gs_multimetrica_fit.cv_results_[k])\n",
        "    plt.axvline(x_linea,linestyle='--' ,linewidth=0.8,color='grey')\n",
        "        \n",
        "plt.xlabel(\"modelo\", fontsize=10)\n",
        "plt.ylabel(\"métrica\", fontsize=10)\n",
        "plt.legend(labels)\n",
        "plt.show()"
      ]
    },
    {
      "cell_type": "markdown",
      "metadata": {},
      "source": [
        "Realizamos una predicción"
      ]
    },
    {
      "cell_type": "code",
      "execution_count": null,
      "metadata": {},
      "outputs": [],
      "source": [
        "params_elegidos=gs_multimetrica_fit.cv_results_['params'][np.argmax(gs_multimetrica_fit.cv_results_['mean_test_f1'])]\n",
        "params_elegidos"
      ]
    },
    {
      "cell_type": "code",
      "execution_count": null,
      "metadata": {},
      "outputs": [],
      "source": [
        "#Creamos un clasificador RF\n",
        "rfc_multimetrica = RandomForestClassifier(criterion= params_elegidos['criterion'], \n",
        "                                          min_samples_leaf= params_elegidos['min_samples_leaf'], \n",
        "                                          min_samples_split= params_elegidos['min_samples_split'], \n",
        "                                          n_estimators=params_elegidos['n_estimators'], \n",
        "                                          oob_score=True, random_state=2, n_jobs=-1)\n",
        "#Entrenamos un modelo\n",
        "model_rfc_multimetrica = rfc_multimetrica.fit(X = x_train, y = y_train)\n",
        "\n",
        "#Hacemos una predicción\n",
        "y_pred = model_rfc_multimetrica.predict(x_test)"
      ]
    },
    {
      "cell_type": "code",
      "execution_count": null,
      "metadata": {},
      "outputs": [],
      "source": [
        "mostrar_metricas(y_test, y_pred)"
      ]
    }
  ],
  "metadata": {
    "colab": {
      "collapsed_sections": [
        "0s9eLJBbf72f",
        "c7-Szk27huMD",
        "siQJrbD9LkuD",
        "gtnWJjMbj8l7",
        "QIsGA85yKh8A",
        "8exjLy5AKh8B",
        "4VwmCei4Kh8D",
        "ApAtDM3EKh8F",
        "wTvayV8IKh8N"
      ],
      "provenance": []
    },
    "kernelspec": {
      "display_name": "Python 3.11.2 64-bit",
      "language": "python",
      "name": "python3"
    },
    "language_info": {
      "codemirror_mode": {
        "name": "ipython",
        "version": 3
      },
      "file_extension": ".py",
      "mimetype": "text/x-python",
      "name": "python",
      "nbconvert_exporter": "python",
      "pygments_lexer": "ipython3",
      "version": "3.11.2"
    },
    "vscode": {
      "interpreter": {
        "hash": "ae0944a860fa16acdf75a2e2acdd114c1b5055b7640fecd42984d96b9abbeafd"
      }
    }
  },
  "nbformat": 4,
  "nbformat_minor": 0
}
